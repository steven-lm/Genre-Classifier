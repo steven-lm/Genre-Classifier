{
 "cells": [
  {
   "cell_type": "code",
   "execution_count": 1,
   "metadata": {},
   "outputs": [],
   "source": [
    "import pandas as pd\n",
    "import re as re\n",
    "import numpy as np\n",
    "\n",
    "df = pd.read_csv('data/booksummaries.txt',sep='\\t', names = [\"Wiki ID\", \"Freebase ID\", \"Title\", \"Author\", \"Publication Date\", \"Genres\", \"Summary\" ])"
   ]
  },
  {
   "cell_type": "code",
   "execution_count": 2,
   "metadata": {},
   "outputs": [
    {
     "data": {
      "text/html": [
       "<div>\n",
       "<style scoped>\n",
       "    .dataframe tbody tr th:only-of-type {\n",
       "        vertical-align: middle;\n",
       "    }\n",
       "\n",
       "    .dataframe tbody tr th {\n",
       "        vertical-align: top;\n",
       "    }\n",
       "\n",
       "    .dataframe thead th {\n",
       "        text-align: right;\n",
       "    }\n",
       "</style>\n",
       "<table border=\"1\" class=\"dataframe\">\n",
       "  <thead>\n",
       "    <tr style=\"text-align: right;\">\n",
       "      <th></th>\n",
       "      <th>Wiki ID</th>\n",
       "      <th>Freebase ID</th>\n",
       "      <th>Title</th>\n",
       "      <th>Author</th>\n",
       "      <th>Publication Date</th>\n",
       "      <th>Genres</th>\n",
       "      <th>Summary</th>\n",
       "    </tr>\n",
       "  </thead>\n",
       "  <tbody>\n",
       "    <tr>\n",
       "      <th>0</th>\n",
       "      <td>620</td>\n",
       "      <td>/m/0hhy</td>\n",
       "      <td>Animal Farm</td>\n",
       "      <td>George Orwell</td>\n",
       "      <td>1945-08-17</td>\n",
       "      <td>{\"/m/016lj8\": \"Roman \\u00e0 clef\", \"/m/06nbt\":...</td>\n",
       "      <td>Old Major, the old boar on the Manor Farm, ca...</td>\n",
       "    </tr>\n",
       "    <tr>\n",
       "      <th>1</th>\n",
       "      <td>843</td>\n",
       "      <td>/m/0k36</td>\n",
       "      <td>A Clockwork Orange</td>\n",
       "      <td>Anthony Burgess</td>\n",
       "      <td>1962</td>\n",
       "      <td>{\"/m/06n90\": \"Science Fiction\", \"/m/0l67h\": \"N...</td>\n",
       "      <td>Alex, a teenager living in near-future Englan...</td>\n",
       "    </tr>\n",
       "    <tr>\n",
       "      <th>2</th>\n",
       "      <td>986</td>\n",
       "      <td>/m/0ldx</td>\n",
       "      <td>The Plague</td>\n",
       "      <td>Albert Camus</td>\n",
       "      <td>1947</td>\n",
       "      <td>{\"/m/02m4t\": \"Existentialism\", \"/m/02xlf\": \"Fi...</td>\n",
       "      <td>The text of The Plague is divided into five p...</td>\n",
       "    </tr>\n",
       "    <tr>\n",
       "      <th>3</th>\n",
       "      <td>1756</td>\n",
       "      <td>/m/0sww</td>\n",
       "      <td>An Enquiry Concerning Human Understanding</td>\n",
       "      <td>David Hume</td>\n",
       "      <td>NaN</td>\n",
       "      <td>NaN</td>\n",
       "      <td>The argument of the Enquiry proceeds by a ser...</td>\n",
       "    </tr>\n",
       "    <tr>\n",
       "      <th>4</th>\n",
       "      <td>2080</td>\n",
       "      <td>/m/0wkt</td>\n",
       "      <td>A Fire Upon the Deep</td>\n",
       "      <td>Vernor Vinge</td>\n",
       "      <td>NaN</td>\n",
       "      <td>{\"/m/03lrw\": \"Hard science fiction\", \"/m/06n90...</td>\n",
       "      <td>The novel posits that space around the Milky ...</td>\n",
       "    </tr>\n",
       "  </tbody>\n",
       "</table>\n",
       "</div>"
      ],
      "text/plain": [
       "   Wiki ID Freebase ID                                      Title  \\\n",
       "0      620     /m/0hhy                                Animal Farm   \n",
       "1      843     /m/0k36                         A Clockwork Orange   \n",
       "2      986     /m/0ldx                                 The Plague   \n",
       "3     1756     /m/0sww  An Enquiry Concerning Human Understanding   \n",
       "4     2080     /m/0wkt                       A Fire Upon the Deep   \n",
       "\n",
       "            Author Publication Date  \\\n",
       "0    George Orwell       1945-08-17   \n",
       "1  Anthony Burgess             1962   \n",
       "2     Albert Camus             1947   \n",
       "3       David Hume              NaN   \n",
       "4     Vernor Vinge              NaN   \n",
       "\n",
       "                                              Genres  \\\n",
       "0  {\"/m/016lj8\": \"Roman \\u00e0 clef\", \"/m/06nbt\":...   \n",
       "1  {\"/m/06n90\": \"Science Fiction\", \"/m/0l67h\": \"N...   \n",
       "2  {\"/m/02m4t\": \"Existentialism\", \"/m/02xlf\": \"Fi...   \n",
       "3                                                NaN   \n",
       "4  {\"/m/03lrw\": \"Hard science fiction\", \"/m/06n90...   \n",
       "\n",
       "                                             Summary  \n",
       "0   Old Major, the old boar on the Manor Farm, ca...  \n",
       "1   Alex, a teenager living in near-future Englan...  \n",
       "2   The text of The Plague is divided into five p...  \n",
       "3   The argument of the Enquiry proceeds by a ser...  \n",
       "4   The novel posits that space around the Milky ...  "
      ]
     },
     "execution_count": 2,
     "metadata": {},
     "output_type": "execute_result"
    }
   ],
   "source": [
    "df.head()"
   ]
  },
  {
   "cell_type": "code",
   "execution_count": 3,
   "metadata": {},
   "outputs": [],
   "source": [
    "df = df[['Title', 'Genres', 'Summary']]"
   ]
  },
  {
   "cell_type": "code",
   "execution_count": 4,
   "metadata": {
    "scrolled": true
   },
   "outputs": [
    {
     "data": {
      "text/plain": [
       "Title         0\n",
       "Genres     3718\n",
       "Summary       0\n",
       "dtype: int64"
      ]
     },
     "execution_count": 4,
     "metadata": {},
     "output_type": "execute_result"
    }
   ],
   "source": [
    "df.isnull().sum()"
   ]
  },
  {
   "cell_type": "code",
   "execution_count": 5,
   "metadata": {},
   "outputs": [],
   "source": [
    "df.dropna(subset=['Genres'], inplace=True)"
   ]
  },
  {
   "cell_type": "code",
   "execution_count": 6,
   "metadata": {},
   "outputs": [
    {
     "data": {
      "text/plain": [
       "Title      0\n",
       "Genres     0\n",
       "Summary    0\n",
       "dtype: int64"
      ]
     },
     "execution_count": 6,
     "metadata": {},
     "output_type": "execute_result"
    }
   ],
   "source": [
    "df.isnull().sum()"
   ]
  },
  {
   "cell_type": "code",
   "execution_count": 7,
   "metadata": {},
   "outputs": [
    {
     "data": {
      "text/plain": [
       "(12841, 3)"
      ]
     },
     "execution_count": 7,
     "metadata": {},
     "output_type": "execute_result"
    }
   ],
   "source": [
    "df.shape"
   ]
  },
  {
   "cell_type": "code",
   "execution_count": 8,
   "metadata": {},
   "outputs": [
    {
     "name": "stdout",
     "output_type": "stream",
     "text": [
      "         Title                                             Genres  \\\n",
      "0  Animal Farm  {\"/m/016lj8\": \"Roman \\u00e0 clef\", \"/m/06nbt\":...   \n",
      "\n",
      "                                             Summary  \n",
      "0   Old Major, the old boar on the Manor Farm, ca...  \n"
     ]
    }
   ],
   "source": [
    "print(df.loc[[0]])"
   ]
  },
  {
   "cell_type": "code",
   "execution_count": 9,
   "metadata": {},
   "outputs": [
    {
     "data": {
      "text/plain": [
       "'{\"/m/016lj8\": \"Roman \\\\u00e0 clef\", \"/m/06nbt\": \"Satire\", \"/m/0dwly\": \"Children\\'s literature\", \"/m/014dfn\": \"Speculative fiction\", \"/m/02xlf\": \"Fiction\"}'"
      ]
     },
     "execution_count": 9,
     "metadata": {},
     "output_type": "execute_result"
    }
   ],
   "source": [
    "df.Genres[0]"
   ]
  },
  {
   "cell_type": "code",
   "execution_count": 10,
   "metadata": {},
   "outputs": [
    {
     "data": {
      "text/plain": [
       "str"
      ]
     },
     "execution_count": 10,
     "metadata": {},
     "output_type": "execute_result"
    }
   ],
   "source": [
    "type(df.Genres[0])"
   ]
  },
  {
   "cell_type": "code",
   "execution_count": 11,
   "metadata": {},
   "outputs": [
    {
     "data": {
      "text/plain": [
       "dict"
      ]
     },
     "execution_count": 11,
     "metadata": {},
     "output_type": "execute_result"
    }
   ],
   "source": [
    "import json\n",
    "type(json.loads(df['Genres'][0]))"
   ]
  },
  {
   "cell_type": "code",
   "execution_count": 12,
   "metadata": {},
   "outputs": [
    {
     "data": {
      "text/plain": [
       "dict_values(['Roman à clef', 'Satire', \"Children's literature\", 'Speculative fiction', 'Fiction'])"
      ]
     },
     "execution_count": 12,
     "metadata": {},
     "output_type": "execute_result"
    }
   ],
   "source": [
    "json.loads(df['Genres'][0]).values()"
   ]
  },
  {
   "cell_type": "code",
   "execution_count": 13,
   "metadata": {},
   "outputs": [],
   "source": [
    "# Create new list for genres\n",
    "genres = []\n",
    "\n",
    "# Extract genres\n",
    "for i in df['Genres']: \n",
    "  genres.append(list(json.loads(i).values())) \n",
    "\n",
    "# Add to 'genres' dataframe  \n",
    "df['Genres'] = genres"
   ]
  },
  {
   "cell_type": "code",
   "execution_count": 14,
   "metadata": {},
   "outputs": [
    {
     "data": {
      "text/plain": [
       "227"
      ]
     },
     "execution_count": 14,
     "metadata": {},
     "output_type": "execute_result"
    }
   ],
   "source": [
    "# get all genre tags in a list\n",
    "all_genres = sum(genres,[])\n",
    "len(set(all_genres))"
   ]
  },
  {
   "cell_type": "code",
   "execution_count": 15,
   "metadata": {},
   "outputs": [],
   "source": [
    "import nltk\n",
    "all_genres = nltk.FreqDist(all_genres) \n",
    "\n",
    "# create dataframe\n",
    "all_genres_df = pd.DataFrame({'Genre': list(all_genres.keys()), \n",
    "                              'Count': list(all_genres.values())})"
   ]
  },
  {
   "cell_type": "code",
   "execution_count": 16,
   "metadata": {},
   "outputs": [
    {
     "data": {
      "text/html": [
       "<div>\n",
       "<style scoped>\n",
       "    .dataframe tbody tr th:only-of-type {\n",
       "        vertical-align: middle;\n",
       "    }\n",
       "\n",
       "    .dataframe tbody tr th {\n",
       "        vertical-align: top;\n",
       "    }\n",
       "\n",
       "    .dataframe thead th {\n",
       "        text-align: right;\n",
       "    }\n",
       "</style>\n",
       "<table border=\"1\" class=\"dataframe\">\n",
       "  <thead>\n",
       "    <tr style=\"text-align: right;\">\n",
       "      <th></th>\n",
       "      <th>Genre</th>\n",
       "      <th>Count</th>\n",
       "    </tr>\n",
       "  </thead>\n",
       "  <tbody>\n",
       "    <tr>\n",
       "      <th>0</th>\n",
       "      <td>Roman à clef</td>\n",
       "      <td>29</td>\n",
       "    </tr>\n",
       "    <tr>\n",
       "      <th>1</th>\n",
       "      <td>Satire</td>\n",
       "      <td>123</td>\n",
       "    </tr>\n",
       "    <tr>\n",
       "      <th>2</th>\n",
       "      <td>Children's literature</td>\n",
       "      <td>2122</td>\n",
       "    </tr>\n",
       "    <tr>\n",
       "      <th>3</th>\n",
       "      <td>Speculative fiction</td>\n",
       "      <td>4314</td>\n",
       "    </tr>\n",
       "    <tr>\n",
       "      <th>4</th>\n",
       "      <td>Fiction</td>\n",
       "      <td>4747</td>\n",
       "    </tr>\n",
       "  </tbody>\n",
       "</table>\n",
       "</div>"
      ],
      "text/plain": [
       "                   Genre  Count\n",
       "0           Roman à clef     29\n",
       "1                 Satire    123\n",
       "2  Children's literature   2122\n",
       "3    Speculative fiction   4314\n",
       "4                Fiction   4747"
      ]
     },
     "execution_count": 16,
     "metadata": {},
     "output_type": "execute_result"
    }
   ],
   "source": [
    "all_genres_df.head()"
   ]
  },
  {
   "cell_type": "code",
   "execution_count": 17,
   "metadata": {
    "scrolled": true
   },
   "outputs": [
    {
     "data": {
      "text/html": [
       "<div>\n",
       "<style scoped>\n",
       "    .dataframe tbody tr th:only-of-type {\n",
       "        vertical-align: middle;\n",
       "    }\n",
       "\n",
       "    .dataframe tbody tr th {\n",
       "        vertical-align: top;\n",
       "    }\n",
       "\n",
       "    .dataframe thead th {\n",
       "        text-align: right;\n",
       "    }\n",
       "</style>\n",
       "<table border=\"1\" class=\"dataframe\">\n",
       "  <thead>\n",
       "    <tr style=\"text-align: right;\">\n",
       "      <th></th>\n",
       "      <th>Genre</th>\n",
       "      <th>Count</th>\n",
       "    </tr>\n",
       "  </thead>\n",
       "  <tbody>\n",
       "    <tr>\n",
       "      <th>4</th>\n",
       "      <td>Fiction</td>\n",
       "      <td>4747</td>\n",
       "    </tr>\n",
       "    <tr>\n",
       "      <th>3</th>\n",
       "      <td>Speculative fiction</td>\n",
       "      <td>4314</td>\n",
       "    </tr>\n",
       "    <tr>\n",
       "      <th>5</th>\n",
       "      <td>Science Fiction</td>\n",
       "      <td>2870</td>\n",
       "    </tr>\n",
       "    <tr>\n",
       "      <th>10</th>\n",
       "      <td>Novel</td>\n",
       "      <td>2463</td>\n",
       "    </tr>\n",
       "    <tr>\n",
       "      <th>12</th>\n",
       "      <td>Fantasy</td>\n",
       "      <td>2413</td>\n",
       "    </tr>\n",
       "    <tr>\n",
       "      <th>...</th>\n",
       "      <td>...</td>\n",
       "      <td>...</td>\n",
       "    </tr>\n",
       "    <tr>\n",
       "      <th>187</th>\n",
       "      <td>Fable</td>\n",
       "      <td>1</td>\n",
       "    </tr>\n",
       "    <tr>\n",
       "      <th>188</th>\n",
       "      <td>Bangsian fantasy</td>\n",
       "      <td>1</td>\n",
       "    </tr>\n",
       "    <tr>\n",
       "      <th>189</th>\n",
       "      <td>Space western</td>\n",
       "      <td>1</td>\n",
       "    </tr>\n",
       "    <tr>\n",
       "      <th>194</th>\n",
       "      <td>Fantastique</td>\n",
       "      <td>1</td>\n",
       "    </tr>\n",
       "    <tr>\n",
       "      <th>226</th>\n",
       "      <td>Pastiche</td>\n",
       "      <td>1</td>\n",
       "    </tr>\n",
       "  </tbody>\n",
       "</table>\n",
       "<p>227 rows × 2 columns</p>\n",
       "</div>"
      ],
      "text/plain": [
       "                   Genre  Count\n",
       "4                Fiction   4747\n",
       "3    Speculative fiction   4314\n",
       "5        Science Fiction   2870\n",
       "10                 Novel   2463\n",
       "12               Fantasy   2413\n",
       "..                   ...    ...\n",
       "187                Fable      1\n",
       "188     Bangsian fantasy      1\n",
       "189        Space western      1\n",
       "194          Fantastique      1\n",
       "226             Pastiche      1\n",
       "\n",
       "[227 rows x 2 columns]"
      ]
     },
     "execution_count": 17,
     "metadata": {},
     "output_type": "execute_result"
    }
   ],
   "source": [
    "all_genres_df.sort_values(by='Count', ascending = False)"
   ]
  },
  {
   "cell_type": "code",
   "execution_count": 18,
   "metadata": {},
   "outputs": [
    {
     "name": "stdout",
     "output_type": "stream",
     "text": [
      "Roman à clef\n"
     ]
    }
   ],
   "source": [
    "print(all_genres_df['Genre'][0])"
   ]
  },
  {
   "cell_type": "code",
   "execution_count": 19,
   "metadata": {
    "scrolled": true
   },
   "outputs": [
    {
     "data": {
      "image/png": "[encoded data removed]",
      "text/plain": [
       "<Figure size 432x288 with 1 Axes>"
      ]
     },
     "metadata": {
      "needs_background": "light"
     },
     "output_type": "display_data"
    }
   ],
   "source": [
    "import matplotlib.pyplot as plt \n",
    "import seaborn as sns\n",
    "\n",
    "g = all_genres_df.nlargest(columns=\"Count\", n = 15) \n",
    "plt.figure() \n",
    "ax = sns.barplot(data=g, x= \"Count\", y = \"Genre\") \n",
    "ax.set(ylabel = 'Genre') \n",
    "plt.show()"
   ]
  },
  {
   "cell_type": "code",
   "execution_count": 20,
   "metadata": {},
   "outputs": [],
   "source": [
    "all_genres_df = all_genres_df.to_dict()"
   ]
  },
  {
   "cell_type": "code",
   "execution_count": 21,
   "metadata": {},
   "outputs": [],
   "source": [
    "low_freq = []\n",
    "for i in range(len(all_genres_df['Count'])):\n",
    "    if all_genres_df['Count'][i] <= 50:\n",
    "        low_freq.append(all_genres_df['Genre'][i])\n"
   ]
  },
  {
   "cell_type": "code",
   "execution_count": 22,
   "metadata": {},
   "outputs": [
    {
     "data": {
      "text/plain": [
       "189"
      ]
     },
     "execution_count": 22,
     "metadata": {},
     "output_type": "execute_result"
    }
   ],
   "source": [
    "len(low_freq)"
   ]
  },
  {
   "cell_type": "code",
   "execution_count": 23,
   "metadata": {},
   "outputs": [],
   "source": [
    "df = df.reset_index(drop=True)"
   ]
  },
  {
   "cell_type": "code",
   "execution_count": 24,
   "metadata": {
    "scrolled": true
   },
   "outputs": [
    {
     "data": {
      "text/html": [
       "<div>\n",
       "<style scoped>\n",
       "    .dataframe tbody tr th:only-of-type {\n",
       "        vertical-align: middle;\n",
       "    }\n",
       "\n",
       "    .dataframe tbody tr th {\n",
       "        vertical-align: top;\n",
       "    }\n",
       "\n",
       "    .dataframe thead th {\n",
       "        text-align: right;\n",
       "    }\n",
       "</style>\n",
       "<table border=\"1\" class=\"dataframe\">\n",
       "  <thead>\n",
       "    <tr style=\"text-align: right;\">\n",
       "      <th></th>\n",
       "      <th>Title</th>\n",
       "      <th>Genres</th>\n",
       "      <th>Summary</th>\n",
       "    </tr>\n",
       "  </thead>\n",
       "  <tbody>\n",
       "    <tr>\n",
       "      <th>0</th>\n",
       "      <td>Animal Farm</td>\n",
       "      <td>[Roman à clef, Satire, Children's literature, ...</td>\n",
       "      <td>Old Major, the old boar on the Manor Farm, ca...</td>\n",
       "    </tr>\n",
       "    <tr>\n",
       "      <th>1</th>\n",
       "      <td>A Clockwork Orange</td>\n",
       "      <td>[Science Fiction, Novella, Speculative fiction...</td>\n",
       "      <td>Alex, a teenager living in near-future Englan...</td>\n",
       "    </tr>\n",
       "    <tr>\n",
       "      <th>2</th>\n",
       "      <td>The Plague</td>\n",
       "      <td>[Existentialism, Fiction, Absurdist fiction, N...</td>\n",
       "      <td>The text of The Plague is divided into five p...</td>\n",
       "    </tr>\n",
       "    <tr>\n",
       "      <th>3</th>\n",
       "      <td>A Fire Upon the Deep</td>\n",
       "      <td>[Hard science fiction, Science Fiction, Specul...</td>\n",
       "      <td>The novel posits that space around the Milky ...</td>\n",
       "    </tr>\n",
       "    <tr>\n",
       "      <th>4</th>\n",
       "      <td>All Quiet on the Western Front</td>\n",
       "      <td>[War novel, Roman à clef]</td>\n",
       "      <td>The book tells the story of Paul Bäumer, a Ge...</td>\n",
       "    </tr>\n",
       "  </tbody>\n",
       "</table>\n",
       "</div>"
      ],
      "text/plain": [
       "                            Title  \\\n",
       "0                     Animal Farm   \n",
       "1              A Clockwork Orange   \n",
       "2                      The Plague   \n",
       "3            A Fire Upon the Deep   \n",
       "4  All Quiet on the Western Front   \n",
       "\n",
       "                                              Genres  \\\n",
       "0  [Roman à clef, Satire, Children's literature, ...   \n",
       "1  [Science Fiction, Novella, Speculative fiction...   \n",
       "2  [Existentialism, Fiction, Absurdist fiction, N...   \n",
       "3  [Hard science fiction, Science Fiction, Specul...   \n",
       "4                          [War novel, Roman à clef]   \n",
       "\n",
       "                                             Summary  \n",
       "0   Old Major, the old boar on the Manor Farm, ca...  \n",
       "1   Alex, a teenager living in near-future Englan...  \n",
       "2   The text of The Plague is divided into five p...  \n",
       "3   The novel posits that space around the Milky ...  \n",
       "4   The book tells the story of Paul Bäumer, a Ge...  "
      ]
     },
     "execution_count": 24,
     "metadata": {},
     "output_type": "execute_result"
    }
   ],
   "source": [
    "df.head()"
   ]
  },
  {
   "cell_type": "code",
   "execution_count": 25,
   "metadata": {},
   "outputs": [],
   "source": [
    "index_delete = []\n",
    "for word in low_freq:\n",
    "    for i in range(len(df.Genres)):\n",
    "        if word in df.Genres[i]:\n",
    "            if i not in index_delete:\n",
    "                index_delete.append(i)        "
   ]
  },
  {
   "cell_type": "code",
   "execution_count": 26,
   "metadata": {},
   "outputs": [],
   "source": [
    "df.drop(index_delete , inplace=True)"
   ]
  },
  {
   "cell_type": "code",
   "execution_count": 27,
   "metadata": {},
   "outputs": [
    {
     "data": {
      "text/plain": [
       "(11283, 3)"
      ]
     },
     "execution_count": 27,
     "metadata": {},
     "output_type": "execute_result"
    }
   ],
   "source": [
    "df.shape"
   ]
  },
  {
   "cell_type": "code",
   "execution_count": 28,
   "metadata": {
    "scrolled": false
   },
   "outputs": [
    {
     "data": {
      "text/html": [
       "<div>\n",
       "<style scoped>\n",
       "    .dataframe tbody tr th:only-of-type {\n",
       "        vertical-align: middle;\n",
       "    }\n",
       "\n",
       "    .dataframe tbody tr th {\n",
       "        vertical-align: top;\n",
       "    }\n",
       "\n",
       "    .dataframe thead th {\n",
       "        text-align: right;\n",
       "    }\n",
       "</style>\n",
       "<table border=\"1\" class=\"dataframe\">\n",
       "  <thead>\n",
       "    <tr style=\"text-align: right;\">\n",
       "      <th></th>\n",
       "      <th>Title</th>\n",
       "      <th>Genres</th>\n",
       "      <th>Summary</th>\n",
       "    </tr>\n",
       "  </thead>\n",
       "  <tbody>\n",
       "    <tr>\n",
       "      <th>1</th>\n",
       "      <td>A Clockwork Orange</td>\n",
       "      <td>[Science Fiction, Novella, Speculative fiction...</td>\n",
       "      <td>Alex, a teenager living in near-future Englan...</td>\n",
       "    </tr>\n",
       "    <tr>\n",
       "      <th>6</th>\n",
       "      <td>Blade Runner 3: Replicant Night</td>\n",
       "      <td>[Science Fiction, Speculative fiction]</td>\n",
       "      <td>Living on Mars, Deckard is acting as a consul...</td>\n",
       "    </tr>\n",
       "    <tr>\n",
       "      <th>7</th>\n",
       "      <td>Blade Runner 2: The Edge of Human</td>\n",
       "      <td>[Science Fiction, Speculative fiction]</td>\n",
       "      <td>Beginning several months after the events in ...</td>\n",
       "    </tr>\n",
       "    <tr>\n",
       "      <th>9</th>\n",
       "      <td>Crash</td>\n",
       "      <td>[Speculative fiction, Fiction, Novel]</td>\n",
       "      <td>The story is told through the eyes of narrato...</td>\n",
       "    </tr>\n",
       "    <tr>\n",
       "      <th>10</th>\n",
       "      <td>Children of Dune</td>\n",
       "      <td>[Science Fiction, Speculative fiction, Childre...</td>\n",
       "      <td>Nine years after Emperor Paul Muad'dib walked...</td>\n",
       "    </tr>\n",
       "  </tbody>\n",
       "</table>\n",
       "</div>"
      ],
      "text/plain": [
       "                                Title  \\\n",
       "1                  A Clockwork Orange   \n",
       "6     Blade Runner 3: Replicant Night   \n",
       "7   Blade Runner 2: The Edge of Human   \n",
       "9                               Crash   \n",
       "10                   Children of Dune   \n",
       "\n",
       "                                               Genres  \\\n",
       "1   [Science Fiction, Novella, Speculative fiction...   \n",
       "6              [Science Fiction, Speculative fiction]   \n",
       "7              [Science Fiction, Speculative fiction]   \n",
       "9               [Speculative fiction, Fiction, Novel]   \n",
       "10  [Science Fiction, Speculative fiction, Childre...   \n",
       "\n",
       "                                              Summary  \n",
       "1    Alex, a teenager living in near-future Englan...  \n",
       "6    Living on Mars, Deckard is acting as a consul...  \n",
       "7    Beginning several months after the events in ...  \n",
       "9    The story is told through the eyes of narrato...  \n",
       "10   Nine years after Emperor Paul Muad'dib walked...  "
      ]
     },
     "execution_count": 28,
     "metadata": {},
     "output_type": "execute_result"
    }
   ],
   "source": [
    "df.head()"
   ]
  },
  {
   "cell_type": "code",
   "execution_count": 29,
   "metadata": {},
   "outputs": [],
   "source": [
    "df = df.reset_index(drop=True)"
   ]
  },
  {
   "cell_type": "code",
   "execution_count": 30,
   "metadata": {},
   "outputs": [],
   "source": [
    "# Create new list for genres\n",
    "genres = []\n",
    "\n",
    "# extract genres\n",
    "for i in range(len(df['Genres'])): \n",
    "  genres.append(df['Genres'][i]) "
   ]
  },
  {
   "cell_type": "code",
   "execution_count": 31,
   "metadata": {},
   "outputs": [
    {
     "data": {
      "text/plain": [
       "38"
      ]
     },
     "execution_count": 31,
     "metadata": {},
     "output_type": "execute_result"
    }
   ],
   "source": [
    "# get all genre tags in a list\n",
    "\n",
    "all_genres = sum(genres,[])\n",
    "len(set(all_genres))"
   ]
  },
  {
   "cell_type": "code",
   "execution_count": 32,
   "metadata": {
    "scrolled": true
   },
   "outputs": [
    {
     "name": "stdout",
     "output_type": "stream",
     "text": [
      "{'Humour', 'Autobiography', 'Comic novel', 'Satire', 'Gothic fiction', \"Children's literature\", 'Spy fiction', 'Memoir', 'Fiction', 'Speculative fiction', 'Alternate history', 'History', 'War novel', 'Short story', 'Non-fiction', 'Historical fiction', 'Horror', 'Young adult literature', 'Apocalyptic and post-apocalyptic fiction', 'Science Fiction', 'Novella', 'Thriller', 'Mystery', 'Adventure novel', 'Utopian and dystopian fiction', 'Detective fiction', 'Crime Fiction', 'High fantasy', 'Techno-thriller', 'Fantasy', 'Romance novel', 'Dystopia', 'Autobiographical novel', 'Biography', 'Comedy', 'Novel', 'Historical novel', 'Suspense'}\n"
     ]
    }
   ],
   "source": [
    "print(set(all_genres))"
   ]
  },
  {
   "cell_type": "code",
   "execution_count": 33,
   "metadata": {},
   "outputs": [
    {
     "data": {
      "text/plain": [
       "6"
      ]
     },
     "execution_count": 33,
     "metadata": {},
     "output_type": "execute_result"
    }
   ],
   "source": [
    "fiction_sub = ['Spy fiction', 'Gothic fiction', 'Historical fiction', 'Detective fiction', 'Utopian and dystopian fiction', 'Speculative fiction']\n",
    "len(fiction_sub)"
   ]
  },
  {
   "cell_type": "code",
   "execution_count": 34,
   "metadata": {},
   "outputs": [],
   "source": [
    "def clean_fiction(Genres):\n",
    "    for i in Genres:\n",
    "        if i in fiction_sub:\n",
    "            if 'Fantasy' not in Genres:\n",
    "                Genres.append('Fantasy')\n",
    "                Genres.remove(i)\n",
    "            else:\n",
    "                Genres.remove(i)\n",
    "    return Genres\n",
    "    "
   ]
  },
  {
   "cell_type": "code",
   "execution_count": 35,
   "metadata": {},
   "outputs": [],
   "source": [
    "df['Genres'] = df['Genres'].apply(lambda x: clean_fiction(x))\n",
    "df['Genres'] = df['Genres'].apply(lambda x: clean_fiction(x))"
   ]
  },
  {
   "cell_type": "code",
   "execution_count": 36,
   "metadata": {},
   "outputs": [
    {
     "data": {
      "text/plain": [
       "['Fantasy']"
      ]
     },
     "execution_count": 36,
     "metadata": {},
     "output_type": "execute_result"
    }
   ],
   "source": [
    "df.Genres[6]"
   ]
  },
  {
   "cell_type": "code",
   "execution_count": 37,
   "metadata": {},
   "outputs": [
    {
     "data": {
      "text/plain": [
       "0        [Science Fiction, Novella, Satire, Fiction, Fa...\n",
       "1                               [Science Fiction, Fantasy]\n",
       "2                               [Science Fiction, Fantasy]\n",
       "3                                [Fiction, Novel, Fantasy]\n",
       "4        [Science Fiction, Children's literature, Ficti...\n",
       "                               ...                        \n",
       "11278                    [Young adult literature, Fantasy]\n",
       "11279                                    [Science Fiction]\n",
       "11280                        [Thriller, Fiction, Suspense]\n",
       "11281                                  [Thriller, Fiction]\n",
       "11282                                      [Autobiography]\n",
       "Name: Genres, Length: 11283, dtype: object"
      ]
     },
     "execution_count": 37,
     "metadata": {},
     "output_type": "execute_result"
    }
   ],
   "source": [
    "df.Genres"
   ]
  },
  {
   "cell_type": "code",
   "execution_count": 38,
   "metadata": {},
   "outputs": [],
   "source": [
    "import nltk\n",
    "all_genres = nltk.FreqDist(all_genres) \n",
    "\n",
    "# create dataframe\n",
    "all_genres_df = pd.DataFrame({'Genre': list(all_genres.keys()), \n",
    "                              'Count': list(all_genres.values())})"
   ]
  },
  {
   "cell_type": "code",
   "execution_count": 39,
   "metadata": {},
   "outputs": [
    {
     "data": {
      "text/html": [
       "<div>\n",
       "<style scoped>\n",
       "    .dataframe tbody tr th:only-of-type {\n",
       "        vertical-align: middle;\n",
       "    }\n",
       "\n",
       "    .dataframe tbody tr th {\n",
       "        vertical-align: top;\n",
       "    }\n",
       "\n",
       "    .dataframe thead th {\n",
       "        text-align: right;\n",
       "    }\n",
       "</style>\n",
       "<table border=\"1\" class=\"dataframe\">\n",
       "  <thead>\n",
       "    <tr style=\"text-align: right;\">\n",
       "      <th></th>\n",
       "      <th>Genre</th>\n",
       "      <th>Count</th>\n",
       "    </tr>\n",
       "  </thead>\n",
       "  <tbody>\n",
       "    <tr>\n",
       "      <th>0</th>\n",
       "      <td>Science Fiction</td>\n",
       "      <td>2615</td>\n",
       "    </tr>\n",
       "    <tr>\n",
       "      <th>1</th>\n",
       "      <td>Novella</td>\n",
       "      <td>73</td>\n",
       "    </tr>\n",
       "    <tr>\n",
       "      <th>2</th>\n",
       "      <td>Speculative fiction</td>\n",
       "      <td>3893</td>\n",
       "    </tr>\n",
       "    <tr>\n",
       "      <th>3</th>\n",
       "      <td>Utopian and dystopian fiction</td>\n",
       "      <td>52</td>\n",
       "    </tr>\n",
       "    <tr>\n",
       "      <th>4</th>\n",
       "      <td>Satire</td>\n",
       "      <td>82</td>\n",
       "    </tr>\n",
       "  </tbody>\n",
       "</table>\n",
       "</div>"
      ],
      "text/plain": [
       "                           Genre  Count\n",
       "0                Science Fiction   2615\n",
       "1                        Novella     73\n",
       "2            Speculative fiction   3893\n",
       "3  Utopian and dystopian fiction     52\n",
       "4                         Satire     82"
      ]
     },
     "execution_count": 39,
     "metadata": {},
     "output_type": "execute_result"
    }
   ],
   "source": [
    "all_genres_df.head()"
   ]
  },
  {
   "cell_type": "code",
   "execution_count": 40,
   "metadata": {
    "scrolled": true
   },
   "outputs": [
    {
     "data": {
      "text/html": [
       "<div>\n",
       "<style scoped>\n",
       "    .dataframe tbody tr th:only-of-type {\n",
       "        vertical-align: middle;\n",
       "    }\n",
       "\n",
       "    .dataframe tbody tr th {\n",
       "        vertical-align: top;\n",
       "    }\n",
       "\n",
       "    .dataframe thead th {\n",
       "        text-align: right;\n",
       "    }\n",
       "</style>\n",
       "<table border=\"1\" class=\"dataframe\">\n",
       "  <thead>\n",
       "    <tr style=\"text-align: right;\">\n",
       "      <th></th>\n",
       "      <th>Genre</th>\n",
       "      <th>Count</th>\n",
       "    </tr>\n",
       "  </thead>\n",
       "  <tbody>\n",
       "    <tr>\n",
       "      <th>0</th>\n",
       "      <td>Fiction</td>\n",
       "      <td>4191</td>\n",
       "    </tr>\n",
       "    <tr>\n",
       "      <th>1</th>\n",
       "      <td>Speculative fiction</td>\n",
       "      <td>3893</td>\n",
       "    </tr>\n",
       "    <tr>\n",
       "      <th>2</th>\n",
       "      <td>Science Fiction</td>\n",
       "      <td>2615</td>\n",
       "    </tr>\n",
       "    <tr>\n",
       "      <th>3</th>\n",
       "      <td>Novel</td>\n",
       "      <td>2263</td>\n",
       "    </tr>\n",
       "    <tr>\n",
       "      <th>4</th>\n",
       "      <td>Fantasy</td>\n",
       "      <td>2176</td>\n",
       "    </tr>\n",
       "  </tbody>\n",
       "</table>\n",
       "</div>"
      ],
      "text/plain": [
       "                 Genre  Count\n",
       "0              Fiction   4191\n",
       "1  Speculative fiction   3893\n",
       "2      Science Fiction   2615\n",
       "3                Novel   2263\n",
       "4              Fantasy   2176"
      ]
     },
     "execution_count": 40,
     "metadata": {},
     "output_type": "execute_result"
    }
   ],
   "source": [
    "all_genres_df = all_genres_df.sort_values(by='Count', ascending = False)\n",
    "all_genres_df = all_genres_df.reset_index(drop=True)\n",
    "all_genres_df.head()"
   ]
  },
  {
   "cell_type": "code",
   "execution_count": 41,
   "metadata": {},
   "outputs": [
    {
     "data": {
      "text/plain": [
       "' Alex, a teenager living in near-future England, leads his gang on nightly orgies of opportunistic, random \"ultra-violence.\" Alex\\'s friends (\"droogs\" in the novel\\'s Anglo-Russian slang, Nadsat) are: Dim, a slow-witted bruiser who is the gang\\'s muscle; Georgie, an ambitious second-in-command; and Pet'"
      ]
     },
     "execution_count": 41,
     "metadata": {},
     "output_type": "execute_result"
    }
   ],
   "source": [
    "df.Summary[0][:300]"
   ]
  },
  {
   "cell_type": "code",
   "execution_count": 42,
   "metadata": {},
   "outputs": [],
   "source": [
    "from nltk.corpus import stopwords\n",
    "def clean_text(text):\n",
    "    \n",
    "    # change all letters to lower case\n",
    "    text = text.lower()\n",
    "    \n",
    "    # remove all numbers from text\n",
    "    text = re.sub(r'\\d+', '', text)\n",
    "    \n",
    "    # remove all white spaces from text\n",
    "    text = text.strip()\n",
    "    \n",
    "    # remove all punctuation from text\n",
    "    text = text.translate(str.maketrans('', '', string.punctuation))\n",
    "    \n",
    "    return text"
   ]
  },
  {
   "cell_type": "code",
   "execution_count": 43,
   "metadata": {
    "scrolled": true
   },
   "outputs": [],
   "source": [
    "import string\n",
    "df['Summary'] = df['Summary'].apply(lambda x: clean_text(x))"
   ]
  },
  {
   "cell_type": "code",
   "execution_count": 44,
   "metadata": {},
   "outputs": [
    {
     "data": {
      "text/plain": [
       "'alex a teenager living in nearfuture england leads his gang on nightly orgies of opportunistic random ultraviolence alexs friends droogs in the novels anglorussian slang nadsat are dim a slowwitted bruiser who is the gangs muscle georgie an ambitious secondincommand and pete who mostly plays along a'"
      ]
     },
     "execution_count": 44,
     "metadata": {},
     "output_type": "execute_result"
    }
   ],
   "source": [
    "df.Summary[0][:300]"
   ]
  },
  {
   "cell_type": "code",
   "execution_count": 45,
   "metadata": {
    "scrolled": true
   },
   "outputs": [],
   "source": [
    "word_freq = df.Summary.str.split(expand=True).stack().value_counts().rename_axis('Word').reset_index(name='Frequency')"
   ]
  },
  {
   "cell_type": "code",
   "execution_count": 46,
   "metadata": {},
   "outputs": [
    {
     "data": {
      "text/html": [
       "<div>\n",
       "<style scoped>\n",
       "    .dataframe tbody tr th:only-of-type {\n",
       "        vertical-align: middle;\n",
       "    }\n",
       "\n",
       "    .dataframe tbody tr th {\n",
       "        vertical-align: top;\n",
       "    }\n",
       "\n",
       "    .dataframe thead th {\n",
       "        text-align: right;\n",
       "    }\n",
       "</style>\n",
       "<table border=\"1\" class=\"dataframe\">\n",
       "  <thead>\n",
       "    <tr style=\"text-align: right;\">\n",
       "      <th></th>\n",
       "      <th>Word</th>\n",
       "      <th>Frequency</th>\n",
       "    </tr>\n",
       "  </thead>\n",
       "  <tbody>\n",
       "    <tr>\n",
       "      <th>0</th>\n",
       "      <td>the</td>\n",
       "      <td>341480</td>\n",
       "    </tr>\n",
       "    <tr>\n",
       "      <th>1</th>\n",
       "      <td>to</td>\n",
       "      <td>173240</td>\n",
       "    </tr>\n",
       "    <tr>\n",
       "      <th>2</th>\n",
       "      <td>and</td>\n",
       "      <td>165964</td>\n",
       "    </tr>\n",
       "    <tr>\n",
       "      <th>3</th>\n",
       "      <td>of</td>\n",
       "      <td>133069</td>\n",
       "    </tr>\n",
       "    <tr>\n",
       "      <th>4</th>\n",
       "      <td>a</td>\n",
       "      <td>127906</td>\n",
       "    </tr>\n",
       "  </tbody>\n",
       "</table>\n",
       "</div>"
      ],
      "text/plain": [
       "  Word  Frequency\n",
       "0  the     341480\n",
       "1   to     173240\n",
       "2  and     165964\n",
       "3   of     133069\n",
       "4    a     127906"
      ]
     },
     "execution_count": 46,
     "metadata": {},
     "output_type": "execute_result"
    }
   ],
   "source": [
    "word_freq.head()"
   ]
  },
  {
   "cell_type": "code",
   "execution_count": 47,
   "metadata": {},
   "outputs": [
    {
     "data": {
      "image/png": "[encoded data removed]",
      "text/plain": [
       "<Figure size 432x288 with 1 Axes>"
      ]
     },
     "metadata": {
      "needs_background": "light"
     },
     "output_type": "display_data"
    }
   ],
   "source": [
    "g = word_freq.nlargest(columns=\"Frequency\", n = 15) \n",
    "plt.figure() \n",
    "ax = sns.barplot(data=g, x= \"Frequency\", y = \"Word\") \n",
    "ax.set(ylabel = 'Word') \n",
    "plt.show()"
   ]
  },
  {
   "cell_type": "code",
   "execution_count": 48,
   "metadata": {},
   "outputs": [],
   "source": [
    "from nltk.tokenize import word_tokenize\n",
    "\n",
    "def remove_stopwords(text):\n",
    "    # cache stopwords to run faster\n",
    "    cachedStopWords = stopwords.words(\"english\")   \n",
    "    \n",
    "    text_tokens = word_tokenize(text)\n",
    "    \n",
    "    # remove all stopwords\n",
    "    text = [word for word in text_tokens if word not in cachedStopWords]\n",
    "    \n",
    "    # remove words with less than 3 characters\n",
    "    text = [word for word in text if len(word) >= 3]\n",
    "    text = ' '.join(text)\n",
    "    \n",
    "    return text\n",
    "\n",
    "df['Summary'] = df['Summary'].apply(lambda x: remove_stopwords(x))"
   ]
  },
  {
   "cell_type": "code",
   "execution_count": 49,
   "metadata": {},
   "outputs": [
    {
     "data": {
      "text/plain": [
       "'alex teenager living nearfuture england leads gang nightly orgies opportunistic random ultraviolence alexs friends droogs novels anglorussian slang nadsat dim slowwitted bruiser gangs muscle georgie ambitious secondincommand pete mostly plays along droogs indulge taste ultraviolence characterized so'"
      ]
     },
     "execution_count": 49,
     "metadata": {},
     "output_type": "execute_result"
    }
   ],
   "source": [
    "df.Summary[0][:300]"
   ]
  },
  {
   "cell_type": "code",
   "execution_count": 50,
   "metadata": {
    "scrolled": true
   },
   "outputs": [],
   "source": [
    "new_word_freq = df.Summary.str.split(expand=True).stack().value_counts().rename_axis('Word').reset_index(name='Frequency')"
   ]
  },
  {
   "cell_type": "code",
   "execution_count": 51,
   "metadata": {},
   "outputs": [
    {
     "data": {
      "image/png": "[encoded data removed]",
      "text/plain": [
       "<Figure size 432x288 with 1 Axes>"
      ]
     },
     "metadata": {
      "needs_background": "light"
     },
     "output_type": "display_data"
    }
   ],
   "source": [
    "g = new_word_freq.nlargest(columns=\"Frequency\", n = 15) \n",
    "plt.figure() \n",
    "ax = sns.barplot(data=g, x= \"Frequency\", y = \"Word\") \n",
    "ax.set(ylabel = 'Word') \n",
    "plt.show()"
   ]
  },
  {
   "cell_type": "code",
   "execution_count": 52,
   "metadata": {},
   "outputs": [],
   "source": [
    "df.to_csv('data/clean_data.csv', index = False)"
   ]
  },
  {
   "cell_type": "code",
   "execution_count": 53,
   "metadata": {},
   "outputs": [
    {
     "data": {
      "text/plain": [
       "(119882, 2)"
      ]
     },
     "execution_count": 53,
     "metadata": {},
     "output_type": "execute_result"
    }
   ],
   "source": [
    "new_word_freq.shape"
   ]
  },
  {
   "cell_type": "code",
   "execution_count": 54,
   "metadata": {},
   "outputs": [],
   "source": [
    "from sklearn.preprocessing import MultiLabelBinarizer\n",
    "\n",
    "multilabel_binarizer = MultiLabelBinarizer()\n",
    "multilabel_binarizer.fit(df['Genres'])\n",
    "\n",
    "# transform target variable\n",
    "y = multilabel_binarizer.transform(df['Genres'])"
   ]
  },
  {
   "cell_type": "code",
   "execution_count": 55,
   "metadata": {},
   "outputs": [
    {
     "data": {
      "text/plain": [
       "array([0, 0, 0, 0, 0, 0, 0, 0, 0, 0, 0, 1, 1, 0, 0, 0, 0, 0, 0, 0, 0, 0,\n",
       "       1, 0, 1, 1, 0, 0, 0, 0, 0, 0])"
      ]
     },
     "execution_count": 55,
     "metadata": {},
     "output_type": "execute_result"
    }
   ],
   "source": [
    "y[0]"
   ]
  },
  {
   "cell_type": "code",
   "execution_count": 56,
   "metadata": {},
   "outputs": [
    {
     "data": {
      "text/plain": [
       "0.3714437649561287"
      ]
     },
     "execution_count": 56,
     "metadata": {},
     "output_type": "execute_result"
    }
   ],
   "source": [
    "all_genres_df['Count'][0]/len(df.Genres) # No. Fiction books / All books"
   ]
  },
  {
   "cell_type": "code",
   "execution_count": 57,
   "metadata": {},
   "outputs": [],
   "source": [
    "from sklearn.model_selection import train_test_split\n",
    "\n",
    "# split data in train and test set:\n",
    "x_train, x_test, y_train, y_test = train_test_split(df['Summary'], y, test_size=0.2, random_state=1)"
   ]
  },
  {
   "cell_type": "code",
   "execution_count": 58,
   "metadata": {},
   "outputs": [],
   "source": [
    "from sklearn.feature_extraction.text import TfidfVectorizer\n",
    "tfidf_vectorizer = TfidfVectorizer(max_df=0.8, max_features=10000)\n",
    "\n",
    "# create TF-IDF features\n",
    "\n",
    "x_train_vec = tfidf_vectorizer.fit_transform(x_train).astype('float32')\n",
    "x_test_vec = tfidf_vectorizer.transform(x_test).astype('float32')"
   ]
  },
  {
   "cell_type": "code",
   "execution_count": 59,
   "metadata": {},
   "outputs": [
    {
     "name": "stdout",
     "output_type": "stream",
     "text": [
      "f1 score (RD):  0.3942111058675476\n"
     ]
    }
   ],
   "source": [
    "from sklearn.multiclass import OneVsRestClassifier\n",
    "from sklearn.metrics import f1_score\n",
    "\n",
    "from sklearn.ensemble import RandomForestClassifier\n",
    "rd = RandomForestClassifier()\n",
    "clf = OneVsRestClassifier(rd)\n",
    "\n",
    "# fit model on train data\n",
    "\n",
    "clf.fit(x_train_vec, y_train)\n",
    "\n",
    "# make predictions for validation set\n",
    "y_pred = clf.predict(x_test_vec)\n",
    "\n",
    "print('f1 score (RD): ', f1_score(y_test, y_pred, average=\"micro\"))"
   ]
  },
  {
   "cell_type": "code",
   "execution_count": 60,
   "metadata": {},
   "outputs": [
    {
     "name": "stdout",
     "output_type": "stream",
     "text": [
      "f1 score (LR):  0.4353906962602615\n"
     ]
    }
   ],
   "source": [
    "from sklearn.linear_model import LogisticRegression\n",
    "\n",
    "lr = LogisticRegression()\n",
    "clf = OneVsRestClassifier(lr)\n",
    "\n",
    "# fit model on train data\n",
    "\n",
    "clf.fit(x_train_vec, y_train)\n",
    "\n",
    "# make predictions for validation set\n",
    "y_pred = clf.predict(x_test_vec)\n",
    "\n",
    "print('f1 score (LR): ',f1_score(y_test, y_pred, average = 'micro'))"
   ]
  },
  {
   "cell_type": "code",
   "execution_count": 61,
   "metadata": {},
   "outputs": [
    {
     "data": {
      "text/plain": [
       "('Fantasy', 'Fiction', 'Novella', 'Satire', 'Science Fiction')"
      ]
     },
     "execution_count": 61,
     "metadata": {},
     "output_type": "execute_result"
    }
   ],
   "source": [
    "multilabel_binarizer.inverse_transform(y)[0]"
   ]
  },
  {
   "cell_type": "code",
   "execution_count": 62,
   "metadata": {},
   "outputs": [
    {
     "name": "stderr",
     "output_type": "stream",
     "text": [
      "Using TensorFlow backend.\n"
     ]
    }
   ],
   "source": [
    "from keras.preprocessing.text import Tokenizer\n",
    "\n",
    "tk = Tokenizer(num_words=None, filters='!\"#$%&()*+,-./:;<=>?@[\\\\]^_`{|}~\\t\\n', lower=True, split=\" \")\n",
    "tk.fit_on_texts(x_train)\n",
    "\n",
    "x_train_new = tk.texts_to_sequences(x_train)\n",
    "x_test_new = tk.texts_to_sequences(x_test)"
   ]
  },
  {
   "cell_type": "code",
   "execution_count": 63,
   "metadata": {},
   "outputs": [
    {
     "data": {
      "text/plain": [
       "(9026,)"
      ]
     },
     "execution_count": 63,
     "metadata": {},
     "output_type": "execute_result"
    }
   ],
   "source": [
    "x_train.shape"
   ]
  },
  {
   "cell_type": "code",
   "execution_count": 64,
   "metadata": {},
   "outputs": [],
   "source": [
    "from keras.preprocessing import sequence\n",
    "x_train_new = sequence.pad_sequences(x_train_new, maxlen= 500, padding='pre')\n",
    "x_test_new = sequence.pad_sequences(x_test_new, maxlen= 500, padding='pre')"
   ]
  },
  {
   "cell_type": "code",
   "execution_count": 65,
   "metadata": {},
   "outputs": [],
   "source": [
    "max_features = len(tk.word_index) + 1"
   ]
  },
  {
   "cell_type": "code",
   "execution_count": 66,
   "metadata": {},
   "outputs": [],
   "source": [
    "from sklearn.model_selection import GridSearchCV\n",
    "from keras.wrappers.scikit_learn import KerasClassifier\n",
    "from keras.models import Sequential\n",
    "from keras.layers import Dense\n",
    "from keras.layers.embeddings import Embedding\n",
    "from keras.layers import Flatten\n",
    "from keras.layers import Dropout\n",
    "from keras.layers import LSTM"
   ]
  },
  {
   "cell_type": "code",
   "execution_count": 67,
   "metadata": {},
   "outputs": [],
   "source": [
    "def build_model():\n",
    "    embedding_vector_length = 32\n",
    "    model = Sequential()\n",
    "    model.add(Embedding(max_features, embedding_vector_length, input_length=500))\n",
    "    model.add(Flatten())\n",
    "    model.add(Dense(60, activation='relu'))\n",
    "    model.add(Dense(32, activation='sigmoid'))\n",
    "    model.compile(loss='binary_crossentropy',optimizer='adam', metrics=['accuracy'])\n",
    "    print(model.summary())\n",
    "    return model"
   ]
  },
  {
   "cell_type": "code",
   "execution_count": 68,
   "metadata": {},
   "outputs": [
    {
     "name": "stdout",
     "output_type": "stream",
     "text": [
      "Model: \"sequential_1\"\n",
      "_________________________________________________________________\n",
      "Layer (type)                 Output Shape              Param #   \n",
      "=================================================================\n",
      "embedding_1 (Embedding)      (None, 500, 32)           3374624   \n",
      "_________________________________________________________________\n",
      "flatten_1 (Flatten)          (None, 16000)             0         \n",
      "_________________________________________________________________\n",
      "dense_1 (Dense)              (None, 60)                960060    \n",
      "_________________________________________________________________\n",
      "dense_2 (Dense)              (None, 32)                1952      \n",
      "=================================================================\n",
      "Total params: 4,336,636\n",
      "Trainable params: 4,336,636\n",
      "Non-trainable params: 0\n",
      "_________________________________________________________________\n",
      "None\n"
     ]
    }
   ],
   "source": [
    "model = build_model()"
   ]
  },
  {
   "cell_type": "markdown",
   "metadata": {},
   "source": [
    "/// GRIDSEARCH for tuning neural network (specifically for finding optimal batch size and epoch count). I only used 4000 samples for this with 2 cross validation folds because my computer is unable to process more. ///"
   ]
  },
  {
   "cell_type": "code",
   "execution_count": null,
   "metadata": {},
   "outputs": [],
   "source": [
    "x_train_g = x_train_new[:4000]\n",
    "y_train_g = y_train[:4000]\n",
    "\n",
    "model2 = KerasClassifier(build_fn=build_model, verbose=0)\n",
    "batch_size = [25, 30, 50]\n",
    "epochs = [2, 3, 4, 6, 8]\n",
    "param_grid = dict(batch_size=batch_size, epochs=epochs)\n",
    "grid = GridSearchCV(estimator=model2, param_grid=param_grid, n_jobs=-1, cv=2)\n",
    "grid_result = grid.fit(x_train_g[:3200], y_train_g[:3200], validation_data=(x_train_g[3200:], y_train_g[3200:]))\n",
    "\n",
    "# summarize results\n",
    "print(\"Best: %f using %s\" % (grid_result.best_score_, grid_result.best_params_))\n",
    "\n",
    "means = grid_result.cv_results_['mean_test_score']\n",
    "stds = grid_result.cv_results_['std_test_score']\n",
    "params = grid_result.cv_results_['params']\n",
    "for mean, stdev, param in zip(means, stds, params):\n",
    "    print(\"%f (%f) with: %r\" % (mean, stdev, param))"
   ]
  },
  {
   "cell_type": "code",
   "execution_count": 70,
   "metadata": {
    "scrolled": true
   },
   "outputs": [
    {
     "name": "stdout",
     "output_type": "stream",
     "text": [
      "Train on 9026 samples, validate on 2257 samples\n",
      "Epoch 1/2\n",
      "9026/9026 [==============================] - 12s 1ms/step - loss: 0.0878 - accuracy: 0.9705 - val_loss: 0.1542 - val_accuracy: 0.9442\n",
      "Epoch 2/2\n",
      "9026/9026 [==============================] - 11s 1ms/step - loss: 0.0440 - accuracy: 0.9866 - val_loss: 0.1822 - val_accuracy: 0.9454\n"
     ]
    }
   ],
   "source": [
    "final_model = model.fit(x_train_new, y_train, validation_data=(x_test_new, y_test), epochs=2, batch_size= 25)"
   ]
  },
  {
   "cell_type": "code",
   "execution_count": 71,
   "metadata": {
    "scrolled": true
   },
   "outputs": [
    {
     "data": {
      "text/plain": [
       "[]"
      ]
     },
     "execution_count": 71,
     "metadata": {},
     "output_type": "execute_result"
    },
    {
     "data": {
      "image/png": "[encoded data removed]",
      "text/plain": [
       "<Figure size 432x288 with 1 Axes>"
      ]
     },
     "metadata": {},
     "output_type": "display_data"
    }
   ],
   "source": [
    "import seaborn as sns\n",
    "import matplotlib.pyplot as plt\n",
    "\n",
    "sns.set()\n",
    "acc = final_model.history['accuracy']\n",
    "val = final_model.history['val_accuracy']\n",
    "epochs = range(1, len(acc) + 1)\n",
    "\n",
    "plt.plot(epochs, acc, '-', label='Training accuracy')\n",
    "plt.plot(epochs, val, ':', label='Validation accuracy')\n",
    "plt.title('Training and Validation Accuracy')\n",
    "plt.xlabel('Epoch')\n",
    "plt.ylabel('Accuracy')\n",
    "plt.legend(loc='upper left')\n",
    "plt.plot()"
   ]
  },
  {
   "cell_type": "code",
   "execution_count": 72,
   "metadata": {},
   "outputs": [],
   "source": [
    "out = model.predict(x_test_new)"
   ]
  },
  {
   "cell_type": "code",
   "execution_count": 73,
   "metadata": {},
   "outputs": [
    {
     "data": {
      "text/plain": [
       "(2257, 32)"
      ]
     },
     "execution_count": 73,
     "metadata": {},
     "output_type": "execute_result"
    }
   ],
   "source": [
    "out.shape"
   ]
  },
  {
   "cell_type": "code",
   "execution_count": 74,
   "metadata": {},
   "outputs": [
    {
     "data": {
      "text/plain": [
       "array([6.6161156e-03, 8.8011026e-03, 3.5962462e-03, 7.9510346e-06,\n",
       "       9.6495728e-07, 3.6013932e-07, 2.6253283e-02, 1.1045635e-03,\n",
       "       3.3766817e-05, 2.6186895e-06, 6.4314604e-03, 9.9997509e-01,\n",
       "       1.2156874e-02, 6.5764785e-04, 1.6653538e-04, 5.6084424e-05,\n",
       "       2.1644980e-02, 4.7323716e-05, 4.3508908e-06, 3.2857060e-04,\n",
       "       2.5395917e-05, 7.5964928e-03, 2.4575982e-05, 8.6125830e-05,\n",
       "       3.0202867e-05, 9.5535588e-01, 1.2042095e-04, 3.9047191e-05,\n",
       "       1.9904971e-04, 1.3718307e-03, 8.9159665e-05, 2.5942326e-03],\n",
       "      dtype=float32)"
      ]
     },
     "execution_count": 74,
     "metadata": {},
     "output_type": "execute_result"
    }
   ],
   "source": [
    "out[0]"
   ]
  },
  {
   "cell_type": "code",
   "execution_count": 75,
   "metadata": {},
   "outputs": [],
   "source": [
    "out = np.array(out)\n",
    "y_pred = np.zeros(out.shape)\n",
    "y_pred[out>0.2]=1\n",
    "y_pred = np.array(y_pred)"
   ]
  },
  {
   "cell_type": "code",
   "execution_count": 76,
   "metadata": {},
   "outputs": [],
   "source": [
    "from sklearn.metrics import classification_report"
   ]
  },
  {
   "cell_type": "code",
   "execution_count": 77,
   "metadata": {
    "scrolled": true
   },
   "outputs": [
    {
     "name": "stdout",
     "output_type": "stream",
     "text": [
      "f1 score (NN):  0.5110336817653891\n"
     ]
    }
   ],
   "source": [
    "print(\"f1 score (NN): \", f1_score(y_pred,y_test, average = 'micro'))"
   ]
  },
  {
   "cell_type": "code",
   "execution_count": 78,
   "metadata": {},
   "outputs": [
    {
     "name": "stdout",
     "output_type": "stream",
     "text": [
      "Accuracy (NN): 94.54%\n"
     ]
    }
   ],
   "source": [
    "scores = model.evaluate(x_test_new, y_test, verbose=0)\n",
    "print(\"Accuracy (NN): %.2f%%\" % (scores[1] * 100))"
   ]
  },
  {
   "cell_type": "code",
   "execution_count": 79,
   "metadata": {},
   "outputs": [
    {
     "data": {
      "text/plain": [
       "('Crime Fiction', 'Mystery', 'Thriller')"
      ]
     },
     "execution_count": 79,
     "metadata": {},
     "output_type": "execute_result"
    }
   ],
   "source": [
    "multilabel_binarizer.inverse_transform(y_pred)[10]"
   ]
  },
  {
   "cell_type": "code",
   "execution_count": 80,
   "metadata": {},
   "outputs": [
    {
     "data": {
      "text/plain": [
       "('Crime Fiction', 'Fantasy', 'Mystery', 'Suspense')"
      ]
     },
     "execution_count": 80,
     "metadata": {},
     "output_type": "execute_result"
    }
   ],
   "source": [
    "multilabel_binarizer.inverse_transform(y_test)[10]"
   ]
  },
  {
   "cell_type": "code",
   "execution_count": 81,
   "metadata": {},
   "outputs": [],
   "source": [
    "title_list = df.Title.to_list()"
   ]
  },
  {
   "cell_type": "code",
   "execution_count": 82,
   "metadata": {},
   "outputs": [
    {
     "name": "stdout",
     "output_type": "stream",
     "text": [
      "['A Clockwork Orange', 'Blade Runner 3: Replicant Night', 'Blade Runner 2: The Edge of Human', 'Crash', 'Children of Dune', 'Chapterhouse Dune', 'Carmilla', 'The Cider House Rules', 'Dune Messiah', 'Death of a Hero', 'Fahrenheit 451', 'Farmer Giles of Ham', 'Gaudy Night', 'God Emperor of Dune', 'Gone with the Wind', 'Heretics of Dune', 'Adventures of Huckleberry Finn', 'Ivanhoe', 'Johnny Got His Gun', 'Icehenge', 'Moonfleet', 'Cryptonomicon', 'The Three Stigmata of Palmer Eldritch', 'Time out of Joint', 'Radio Free Albemuth', 'Pride and Prejudice', 'Pale Fire', 'Ringworld', 'Sense and Sensibility', 'Speaker for the Dead', 'Starship Troopers', 'Stuart Little', 'The Shockwave Rider', 'The Shining', 'Mort', 'The Hound of the Baskervilles', 'The Pit and the Pendulum', 'The Hunt for Red October', 'The Cardinal of the Kremlin', 'Debt of Honor', 'Tunnel in the Sky', 'The Picture of Dorian Gray', 'The Sentinel', 'The Fountains of Paradise', 'Lord of the Flies', 'Through the Looking-Glass', 'The Wanderer', '2010: Odyssey Two', 'Brave New World', 'Keep the Aspidistra Flying', 'The Eye of the World', 'The Great Hunt', 'A Crown of Swords', \"Winter's Heart\", 'Around the World in Eighty Days', 'The Grapes of Wrath', \"Gulliver's Travels\", \"A Midsummer Night's Dream\", 'The English Patient', 'The Forge of God', 'Blood Music', 'Mutiny on the Bounty', 'The Memory of Earth', 'Sixth Column', 'The Puppet Masters', 'The Wind in the Willows', 'The Hunting of the Snark', 'The Man in the High Castle', 'Rocket Ship Galileo', 'Space Cadet', 'Between Planets', 'Starman Jones', 'Podkayne of Mars', 'The Star Beast', 'Dr. No', 'The Andromeda Strain', \"Harry Potter and the Philosopher's Stone\", 'Down and Out in Paris and London', 'The Transmigration of Timothy Archer', \"Dirk Gently's Holistic Detective Agency\", 'Dragonflight', 'The Hunchback of Notre Dame', 'Now Wait for Last Year', \"The Magician's Nephew\", 'The Patchwork Girl of Oz', 'To Sail Beyond the Sunset', 'Double Star', 'Time for the Stars', 'Citizen of the Galaxy', 'Stranger in a Strange Land', 'Glory Road', 'The Moon Is a Harsh Mistress', 'I Will Fear No Evil', 'The Cat Who Walks Through Walls', \"Methuselah's Children\", 'The Wonderful Wizard of Oz', 'Wuthering Heights', 'Robinson Crusoe', 'Clear and Present Danger', 'Castle Rackrent', 'Charlie and the Chocolate Factory', 'Anne of Green Gables', 'The Wasp Factory', 'Espedair Street', 'The Crow Road', 'Consider Phlebas', 'Inversions', \"Ender's Game\", 'Measure for Measure', 'Flow My Tears, The Policeman Said', 'Job: A Comedy of Justice', 'Farmer in the Sky', 'Friday', 'Have Space Suit-Will Travel', 'Red Planet', 'The Number of the Beast', \"Foundation's Edge\", 'The Caves of Steel', 'Prelude to Foundation', 'Foundation and Earth', 'Time Enough for Love', 'The Rolling Stones', 'The Door into Summer', \"Farnham's Freehold\", 'Funeral in Berlin', 'Billion-Dollar Brain', 'Whit', 'Native Son', 'A Farewell to Arms', 'Imitation of Life', 'The Last Command', 'The Way of All Flesh', 'Alice Adams', 'Les Misérables', 'Dodsworth', 'The Red Badge of Courage', 'Of Mice and Men', 'Ishmael', 'The Two Towers', 'The Return of the King', 'On Writing: A Memoir of the Craft', 'The Body', 'Wizard and Glass', 'The Waste Lands', 'The Eyes of the Dragon', 'Dolores Claiborne', \"Gerald's Game\", 'The Girl Who Loved Tom Gordon: A Novel', 'The Green Mile', 'The Long Walk', 'The Day of the Triffids', 'Love and Mr Lewisham', 'The Stardroppers', 'Watership Down', 'Harriet the Spy', 'The State of the Art', 'The Player of Games', 'Excession', 'Look to Windward', 'Use of Weapons', 'A Friend of the Earth', 'In Search of Lost Time', 'Liza of Lambeth', 'The Weirdstone of Brisingamen', 'The Human Stain', 'Picnic at Hanging Rock', 'I, the Jury', 'Thinks ...', 'The Adventures of Pinocchio', 'Smith of Wootton Major', 'England, England', 'Feersum Endjinn', 'Against a Dark Background', 'Just Like That', \"Uncle Tom's Cabin\", 'The Beach', 'Murder Must Advertise', 'To Kill a Mockingbird', 'About a Boy', 'Miss Lulu Bett', 'Sick Puppy', 'The Prisoner of Zenda', 'The Great Gatsby', 'For Whom the Bell Tolls', 'From Russia with Love', 'Good Omens', 'Coraline', 'Tartarin de Tarascon', 'SS-GB', 'Finnegans Wake', 'The Virgin Suicides', 'What Makes Sammy Run?', \"The Razor's Edge\", 'Babel-17', 'The Languages of Pao', 'The Count of Monte Cristo', \"Cat's Cradle\", 'Excellent Women', 'The Scarlet Pimpernel', 'The Robe', 'The Legend of Sleepy Hollow', 'The Thirty-nine Steps', 'Dead Air', 'The Exorcist', 'A Severed Head', 'Coming Up for Air', 'Shadow Puppets', 'The Road to Mars', 'Regeneration', 'Restoree', 'Mister Roberts', 'Elmer Gantry', 'Level 7', 'Sounder', 'Nemesis', 'Island of the Sequined Love Nun', 'Quartet in Autumn', 'Some Tame Gazelle', 'Guns, Germs, and Steel', 'A Passage to India', 'Sister Carrie', 'The Accidental Tourist', 'The Remains of the Day', 'Crime and Punishment', 'The Railway Children', 'Imperial Earth', 'The Masque of the Red Death', 'The Ghost Road', \"Rosemary's Baby\", 'This Perfect Day', 'The Boys from Brazil', 'A Descent into the Maelstrom', 'Sliver', 'The Purloined Letter', 'The Tale of Genji', 'Master and Commander', 'The Devil and Daniel Webster', 'The Newcomes', 'Little Dorrit', 'A Man Called Horse', 'Where Angels Fear to Tread', 'Shame', \"Trent's Last Case\", 'Waverley', 'The Vampire Lestat', 'Memnoch the Devil', 'The Further Adventures of Robinson Crusoe', 'War and Peace', 'On the Beach', 'Son Excellence Eugène Rougon', 'La Curée', \"L'Argent\", 'The Crying of Lot 49', 'Jack of Shadows', 'Whose Body?', 'Clouds of Witness', 'Unnatural Death', 'The Unpleasantness at the Bellona Club', 'Strong Poison', 'Five Red Herrings', 'The Nine Tailors', \"Busman's Honeymoon\", 'Thrones, Dominations', 'Light in August', 'Harry Potter and the Order of the Phoenix', 'Romance of the Three Kingdoms', 'The Dragon in the Sea', 'Destination: Void', 'Whipping Star', 'The Dosadi Experiment', 'The Poisoned Chocolates Case', 'Vurt', 'Fast Food Nation: The Dark Side of the All-American Meal', 'The Dice Man', 'The Search for the Dice Man', 'Anna Karenina', 'Adventures of Wim', 'High Fidelity', 'The Red House Mystery', 'Hans Brinker, or The Silver Skates', 'Dreamcatcher', 'Long Voyage Back', \"Foucault's Pendulum\", 'Chitty Chitty Bang Bang', 'East of Eden', 'The Children of Men', 'The Spy Who Came in from the Cold', 'The Heart Is a Lonely Hunter', 'The Postman', 'The Phantom of the Opera', 'Murder on the Orient Express', 'Harry Potter and the Chamber of Secrets', 'American Psycho', 'Kalimantaan', 'Creatures of Light and Darkness', 'My Left Foot', 'The Pearl', 'Barchester Towers', 'Our Man in Havana', 'East Wind: West Wind', 'Seven Brothers', 'Goldfinger', 'Ironweed', 'Girl, Interrupted', 'Small Gods', 'Jingo', 'The Pursuit of Love', 'Moonraker', \"Sophie's Choice\", 'Season of the Jew', 'The White Plague', \"The Pilgrim's Progress\", 'The Santaroga Barrier', 'Red Storm Rising', 'The History of Tom Jones, a Foundling', 'The Man Who Fell to Earth', 'The Phantom Tollbooth', 'The Hundred and One Dalmatians', 'A Philosophical Investigation', 'The Tortilla Curtain', 'Love in a Cold Climate', 'The Fountainhead', 'The Last Continent', 'Laura Blundy', 'Contact', 'American Gods', 'Stardust', 'World on Fire: How Exporting Free Market Democracy Breeds Ethnic Hatred and Global Instability', 'The Sword in the Stone', 'Children of the Mind', 'The Silver Chalice', 'The Member of the Wedding', 'Magnificent Obsession', 'V.', 'Shogun: A Novel of Japan', 'Goodnight Moon', 'The Adventures of Captain Underpants', 'The Rowan', 'Niourk', 'Andromeda', 'Ecotopia', 'The Bad Seed', 'Pebble in the Sky', 'Dred: A Tale of the Great Dismal Swamp', 'Raintree County', \"Ender's Shadow\", 'Cards on the Table', 'The Gambler', 'Democracy in America', 'A Solitary Grief', 'Xenocide', 'Sourcery', \"It Can't Happen Here\", 'Fanny Hill', 'The Rebel Angels', 'Macrolife', 'Heidi', 'That Hideous Strength', 'The Heart of the Matter', 'The Legacy of Heorot', 'VALIS', 'The Man Who Awoke', 'The Genesis Quest', 'The Velveteen Rabbit', 'Executive Orders', 'Tell England', 'The Woman Who Did', 'Au Bonheur des Dames', 'Brideshead Revisited', 'The Collector', \"King Solomon's Carpet\", 'Uncle Cleans Up', 'Planet of the Apes', 'The Small House at Allington', 'Framley Parsonage', 'The Three Musketeers', 'The Strange Case of Dr Jekyll and Mr Hyde', 'The Prime of Miss Jean Brodie', 'Death in the Clouds', 'Sweep', 'The Invincible', 'Mrs Dalloway', 'Battle Royale', 'Crooked House', 'A Study in Scarlet', 'Cranford', 'Travels with My Aunt', 'Ann Veronica', 'Little Lord Fauntleroy', 'The Lover', 'Lorna Doone', 'The Sound and the Fury', 'Daniel Deronda', 'Nine Princes in Amber', 'The Guns of Avalon', 'Sign of the Unicorn', 'The Hand of Oberon', 'The Courts of Chaos', 'Roadmarks', 'Lord of Light', 'The BFG', 'The Tommyknockers', 'Journey to the West', '253', 'The Eustace Diamonds', 'Anna of the Five Towns', 'Laughing Gas', 'We', 'Without Remorse', 'Cujo', 'More Joy in Heaven', 'Lonesome Dove', 'Warring States', 'The Practice Effect', 'The British Museum Is Falling Down', 'The History Man', 'The Turn of the Screw', \"The French Lieutenant's Woman\", 'Shadow of the Hegemon', 'Fantastic Beasts and Where to Find Them', 'Prince Caspian', 'The Lion, the Witch and the Wardrobe', 'Primary Colors', 'The Murder of Roger Ackroyd', 'The A.B.C. Murders', 'The Futurological Congress', \"Angela's Ashes\", 'Oscar and Lucinda', 'Underworld', 'Ethan of Athos', 'The Blind Assassin', 'Red Harvest', 'Who Moved My Cheese? An Amazing Way to Deal with Change in Your Work and in Your Life', 'Lord Edgware Dies', \"Captain Corelli's Mandolin\", 'The Hotel New Hampshire', 'The Bridge', 'Dhalgren', 'Harry Potter and the Prisoner of Azkaban', 'Cold Comfort Farm', \"Hatter's Castle\", 'Effi Briest', 'Article 23', 'The Day of the Jackal', 'Harry Potter and the Goblet of Fire', 'A Presumption of Death', 'A Tenured Professor', 'Trumps of Doom', 'Dream of the Red Chamber', 'We Wish to Inform You That Tomorrow We Will Be Killed with Our Families: Stories from Rwanda', 'The Haunted Mask', 'Naked Lunch', 'Pattern Recognition', 'Desperation', 'A Gift Upon the Shore', 'The Chrysalids', 'Who Goes There?', 'Blood of Amber', 'Sign of Chaos', 'Porno', 'Prince of Chaos', 'The Love of the Last Tycoon', 'Save Me the Waltz', 'It', 'The Amazing Maurice and His Educated Rodents', 'Quidditch Through the Ages', 'The Wee Free Men', 'Strata', 'The Dark Side of the Sun', 'Bluebeard', 'Thunderball', 'The G-String Murders', 'Mrs Craddock', 'Hideous Kinky', 'Myra Breckinridge', 'Operation Shylock: A Confession', 'Virginia', 'You Only Live Twice', 'The Stand', 'The Man with the Golden Gun', 'Who Censored Roger Rabbit?', 'The Magic School Bus Lost in the Solar System', 'The Ugly Duckling', 'Things My Girlfriend and I Have Argued About', 'Ring for Jeeves', 'The Lazarus Effect', 'Oblomov', \"Schild's Ladder\", 'Murder on the Links', 'The Years of Rice and Salt', 'The Fourth Protocol', 'Artemis Fowl: The Eternity Code', 'The Gods Themselves', \"Charlotte's Web\", \"Howl's Moving Castle\", 'Joy', 'Breakfast of Champions', 'Mother Night', 'Freedom Evolves', 'Rainbow Six', 'Jasmine', 'Far from the Madding Crowd', 'Vineland', \"Hallowe'en Party\", 'Empire of the Sun', 'Lies and the Lying Liars Who Tell Them', 'Three Comrades', 'The Forever War', 'Bambi, A Life in the Woods', 'Robots and Empire', 'Foundation', 'Second Foundation', 'The Vicomte de Bragelonne', 'Twenty Years After', \"Logan's Run\", 'Girlfriend in a Coma', 'The Sparrow', 'Red Rabbit', 'Family Matters', 'Sartoris', 'Babbitt', 'Amerika', 'The Quiet American', 'Noli Me Tangere', 'Feet of Clay', 'The Cask of Amontillado', 'Thursbitch', \"Ripley's Game\", 'An American Tragedy', 'Christine', 'Nova Express', 'Katar', 'Fiasco', 'The God of Small Things', 'Quicksilver', 'The Other Wind', 'The Colour of Magic', 'The Light Fantastic', 'Children of the Atom', 'True Names', 'The Postman Always Rings Twice', 'Siddhartha', 'Foundation and Empire', 'Equal Rites', 'Guards! Guards!', 'Pyramids', \"The Monkey's Paw\", 'Disgrace', 'Out of the Silent Planet', 'Eric', 'Mila 18', 'Freaky Friday', 'How Few Remain', 'Perelandra', 'Teranesia', 'Vernon God Little', 'The Last Hero', 'Vile Bodies', 'Gilgamesh the King', 'Roma Eterna', 'The Emerald City of Oz', 'A Door Into Ocean', 'The Robber Bride', 'The Day of the Locust', \"On Her Majesty's Secret Service\", \"The Mote in God's Eye\", 'Persuasion', 'Stand on Zanzibar', 'Rubyfruit Jungle', 'Fallen Dragon', 'Maus', 'The Sea-Wolf', 'Tehanu', 'The Missionary Position', 'The Plague Dogs', 'Moll Flanders', 'Diary of an Ordinary Woman', 'The Road to Oz', 'The Last Battle', 'After the Funeral', 'Burmese Days', \"A Clergyman's Daughter\", 'Player Piano', 'The Loved One', 'A Town Like Alice', 'We the Living', 'When Harlie Was One', 'The Soft Machine', 'Caddie Woodlawn', 'Germinal', 'The First Circle', 'Death Be Not Proud', 'Singularity Sky', 'The Marvelous Land of Oz', 'Ozma of Oz', 'Prey', 'The Tin Woodman of Oz', \"Rocannon's World\", 'Always Coming Home', 'The Last of the Mohicans', 'Dorothy and the Wizard in Oz', 'Forward the Foundation', 'Ramona', 'Tik-Tok of Oz', 'The Truce at Bakura', 'The Scarecrow of Oz', 'The Genius and the Goddess', 'Balance Point', 'The Old Capital', \"Destiny's Way\", 'The Neverending Story', 'The Chosen', 'The Campus Murders', 'Rinkitink in Oz', 'Arrowsmith', 'The Lost Princess of Oz', 'Evolution', 'Black Beauty', 'A Visit from St. Nicholas', 'Vector Prime', 'The Thorn Birds', 'The Magic of Oz', 'Charlie and the Great Glass Elevator', 'Moving Pictures', 'Glinda of Oz', 'Walk Two Moons', 'God Bless You, Mr. Rosewater', 'The Unknown Soldier', 'Main Street', 'Misery', 'The Monk', 'Star by Star', 'American Tabloid', 'The Wonderful Adventures of Nils', 'The Cold Six Thousand', 'Fifth Business', 'The City and the Pillar', 'Tai-Pan: A Novel of Hong Kong', 'Horton Hears a Who!', \"’Salem's Lot\", 'One Day in the Life of Ivan Denisovich', 'The Black Dahlia', 'The Bourne Identity', 'The Gripping Hand', 'Redwall', 'Forever Peace', 'Alaska', 'The Mill on the Floss', 'Lullaby', 'Lucky Jim', 'For Us, The Living: A Comedy of Customs', 'Broken Angels', 'Coronation, or the Last of the Romanovs', 'The Good Earth', 'The Secret Garden', 'The Sea, the Sea', 'Trinity', 'The Discovery of Heaven', 'A Prayer for Owen Meany', 'Get Shorty', 'Autobiography of a Brown Buffalo', 'The Naked Sun', 'The Man Who Was Thursday', 'A Simple Plan', 'The Once and Future King', 'Relic', 'The Mayor of Casterbridge: The Life and Death of a Man of Character', 'Life of Pi', 'The Robots of Dawn', 'Peril at End House', 'The Subtle Knife', 'The Horse and His Boy', 'The Story of the Stone', 'The Mists of Avalon', 'The Book of Merlyn', 'The Iron Heel', 'The Valley of the Moon', 'At Swim-Two-Birds', 'Startide Rising', 'Rilla of Ingleside', 'The Pickwick Papers', 'Rama II', 'Planet of Exile', 'Fortress Besieged', 'The Voyage of the Dawn Treader', 'The Silver Chair', 'Geek Love', 'City of Illusions', 'Malafrena', 'Under the Net', 'Moneyball: The Art of Winning an Unfair Game', 'Billy Budd', 'Bleak House', 'Bridge to Terabithia', 'Uncle Dynamite', 'Tourist Season', 'Tigana', 'The Red and the Black', 'Pincher Martin', 'Chocky', 'Civilization and its Discontents', 'The Stepford Wives', 'The Fifth Child', 'Anti-Ice', 'Shadow of the Giant', 'Encounter With Tiber', 'Night of the Aurochs', 'The Swiss Family Robinson', 'Slow Learner', 'The Sky So Big and Black', 'The Master of Go', 'The Legend of Luke', 'To a God Unknown', 'Mystic River', 'The Monkey Wrench Gang', 'Death from a Top Hat', 'The Autumn of the Patriarch', 'The Eyre Affair', 'I Am a Cat', 'Swag', 'Say It With Poison', 'Camp Concentration', 'The Whole Man', 'Timescoop', 'Silverlock', 'Matilda', 'The Positronic Man', 'No Highway', 'Rich Dad, Poor Dad: What the Rich Teach Their Kids About Money - That the Poor and the Middle Class Do Not!', 'The Currents of Space', \"Foundation's Fear\", 'Foundation and Chaos', \"Foundation's Triumph\", \"Isaac Asimov's Caliban\", \"Isaac Asimov's Inferno\", \"Isaac Asimov's Utopia\", 'The Feast of the Goat', 'Lost in a Good Book', 'Pan', 'The Eye of Argon', 'The Glass Bead Game', 'Seven Days in New Crete', 'Galactic Pot-Healer', 'Jennifer Government', 'American Pastoral', 'Down to a Sunless Sea', 'The Mystery of the Yellow Room', 'Galilee', 'The Spy Who Loved Me', 'Assomoir', 'Trilby', 'Metropolitan', 'The Hellbound Heart', 'Five Children and It', 'Valley of the Dolls', 'Scaramouche: A Romance of the French Revolution', 'K-PAX', 'Them', '2061: Odyssey Three', '3001: The Final Odyssey', 'Rama Revealed', 'Maskerade', 'Footfall', \"Shade's Children\", 'The Bonfire of the Vanities', 'On My Way to Paradise', 'Ice Station Zebra', 'Inferno', 'The Bridge of San Luis Rey', 'The Owl Service', 'Maya the Bee', 'Baudolino', 'The Ugly Little Boy', 'The Man-eaters of Tsavo', 'Ponniyin Selvan', 'A Walk in the Woods: Rediscovering America on the Appalachian Trail', 'In the Country of Last Things', 'Shikasta', 'Down and Out in the Magic Kingdom', 'National Velvet', 'I Never Promised You a Rose Garden', 'The Sum of All Fears', 'He, She and It', 'Something Fresh', 'The Integral Trees', 'The Age of Innocence', 'With Fire and Sword', 'Sabriel', 'The Amber Spyglass', 'Summer Lightning', 'Riddley Walker', 'The Case of Charles Dexter Ward', '334', 'N or M?', 'The Mist', 'The Seven Dials Mystery', \"Ronia the Robber's Daughter\", 'Pet Sematary', 'Firestarter', 'Rage', 'The Regulators', 'The Two Georges', 'Oryx and Crake', 'Temple', 'The Four Feathers', 'Ice Station', 'The Bridge on the Drina', 'The Castle', 'Invisible Monsters', 'Speak', 'Ripley Under Water', 'The Secret of Chimneys', 'The Pelican Brief', 'The Fall of the House of Usher', 'Unweaving the Rainbow: Science, Delusion and the Appetite for Wonder', 'In the Skin of a Lion', 'The World of Null-A', 'The Black Arrow: A Tale of the Two Roses', 'Interesting Times', 'The Present and the Past', 'The Dragon Reborn', 'The Fires of Heaven', 'The Shadow Rising', '1876', 'Last of the Curlews', 'Reaper Man', 'Men at Arms', 'Hogfather', 'Thief of Time', 'Code of the Lifemaker', 'Free Culture: How Big Media Uses Technology and the Law to Lock Down Culture and Control Creativity', 'Killing Mr. Griffin', 'A Wrinkle in Time', 'Lord of Chaos', 'The Outsiders', 'The Power and the Glory', 'The End of the Affair', 'The Idiot', 'Telempath', 'Tell Me Your Dreams', 'The Doomsday Conspiracy', 'Death on the Nile', 'Dot and the Kangaroo', 'The Seven-Per-Cent Solution', 'David Boring', 'The Shipping News', 'A Time for Judas', 'Waldo', 'The Fifth Elephant', 'The Confusion', 'The Science of Discworld II: The Globe', 'Independent People', 'Bridge of Birds', 'A Child Called \"It\"', \"Are You There, God? It's Me, Margaret\", 'The Science of Discworld', 'Villette', 'William Does His Bit', 'Windmills of the Gods', 'Flat Stanley', 'Greenmantle', 'The Castle of Otranto', 'Bill, the Galactic Hero', 'The Metamorphosis of Prime Intellect', 'Observation on the Spot', 'Decline and Fall', 'Ethan Frome', 'Macroscope', 'Earthsearch', 'Lanark: A Life in Four Books', 'Team Yankee', 'The Stars My Destination', 'Titan', 'The City and the Stars', 'Beyond the Rocks', 'The Portrait of a Lady', 'Max the Mighty', 'Devdas', 'Eragon', 'Dark Tide: Onslaught', 'Dark Tide: Ruin', 'The Edible Woman', 'The Brothers Karamazov', \"Agents of Chaos: Hero's Trial\", 'Agents of Chaos: Jedi Eclipse', 'Looking Backward', 'Witches Abroad', 'Lords and Ladies', 'Nostromo', 'The Well of Lost Plots', 'Recovery', 'Edge of Victory: Conquest', 'Edge of Victory: Rebirth', 'Old Yeller', 'The Last Book in the Universe', 'Eight Skilled Gentlemen', 'The Songs of Distant Earth', 'Slapstick', 'Captain Blood: His Odyssey', 'Earthborn', 'Flicker', 'The Müller-Fokker Effect', 'Earthfall', 'God Bless You, Dr. Kevorkian', 'Elidor', 'Freak the Mighty', 'Darkness at Noon', 'The Mystery of Edwin Drood', 'A Time to Kill', 'A Handful of Dust', 'The Mauritius Command', 'The Confessions of St. Augustine', 'A Hat Full of Sky', 'According to Mary Magdalene', 'Insomnia', 'The Two Deaths of Quincas Wateryell', 'Carpe Jugulum', 'Dead Souls', 'The Voyage of the Space Beagle', 'Fallen Angels', 'The Music of Chance', 'Johnny and the Bomb', 'Misspent Youth', 'The Bone People', 'Animal World', 'The Truth Machine', 'The Witches', 'The Algebraist', 'Walking on Glass', 'Tinker, Tailor, Soldier, Spy', 'The Nutmeg of Consolation', 'The Bellmaker', 'The Tin Drum', 'Crossroads of Twilight', 'The Last Starship from Earth', 'Restoring the Lost Constitution', 'Momo', 'The Most Dangerous Game', 'Many Waters', 'Froth on the daydream', 'The Drifters', 'World of Wonders', 'The Cay', 'This Side of Paradise', 'Memoirs of Hadrian', 'A Calculus of Angels', \"Newton's Cannon\", 'The Path of Daggers', 'Franny and Zooey', 'One Hundred Years of Solitude', 'The Wanting Seed', 'HMS Surprise', 'Post Captain', 'Desolation Island', 'The Ionian Mission', 'The Far Side of the World', \"Treason's Harbour\", 'The Reverse of the Medal', 'The Letter of Marque', 'Blue at the Mizzen', 'The Hundred Days', 'The Yellow Admiral', 'The Commodore', 'The Wine-Dark Sea', 'Clarissa Oakes', 'The Book of Skulls', 'The Road to Wellville', 'The Unifying Force', 'Earthlight', 'Our Mutual Friend', 'Chronicle of a Death Foretold', 'Earth', 'The Borrowers', 'The Neon Bible', 'In Dubious Battle', 'The Twelve Chairs', 'The Little Golden Calf', 'The Moon Is Down', 'A Good School', 'Dark Journey', 'Enemy Lines: Rebel Dream', 'The Eagle Has Landed', 'The Absolute at Large', 'War with the Newts', 'Night Watch', 'Nightfall', 'Less Than Zero', 'That Was Then, This Is Now', 'From a Buick 8', 'Three Men in a Boat', 'Galápagos', 'The Jesus Incident', 'Soldier X', 'Iacocca: An Autobiography', 'Red Alert', \"Wizard's First Rule\", 'Billy Bathgate', 'The Joy Luck Club', 'Fried Green Tomatoes', 'Cradle', 'The Scary Sleepover', 'White Fang', 'Where Late the Sweet Birds Sang', 'Anglo-Saxon Attitudes', 'Eldest', 'Forever Free', 'Going Postal', 'Another Roadside Attraction', 'Of the City of the Saved...', 'A Game of Thrones', 'A Clash of Kings', 'A Storm of Swords', 'The Notebook', 'A History of the World in 10½ Chapters', 'Enemy Lines: Rebel Stand', 'Traitor', 'Force Heretic: Remnant', 'Force Heretic: Refugee', 'Force Heretic: Reunion', 'The Final Prophecy', 'Millennium', 'Women in Love', 'The Ragwitch', 'Sundiver', 'The Betrothed', 'The Redemption of Althalus', 'The Indian in the Cupboard', 'The Wealth of Nations', 'Area 7', \"Callahan's Crosstime Saloon\", 'The Witches of Eastwick', 'Syrup', 'The Midwich Cuckoos', 'Akhenaten, Dweller in Truth', 'Faerie Tale', 'Lirael', 'Abhorsen', 'The Girl Who Owned a City', 'Right Ho, Jeeves', 'Green Darkness', 'Stig of the Dump', 'The High Crusade', 'Tempest-Tost', 'Leaven of Malice', 'Noble House: The Epic Novel of Modern Hong Kong', 'Red Star', 'Hawaii', '1632', 'New Spring', 'The Heroic Legend of Arslan', 'Giles Goat-Boy', 'The Intuitionist', 'The English Teacher', 'Fanshawe', 'Rob Roy', 'The House at Pooh Corner', 'Queen of Angels', 'The House Without a Key', 'Behind That Curtain', 'The Black Camel', 'Charlie Chan Carries On', 'Keeper of the Keys', 'The Street Lawyer', 'The Runaway Jury', 'Jesus on Mars', 'Polgara the Sorceress', 'Ilium', 'Distress', 'Miss Lonelyhearts', 'Once Were Warriors', 'Eye of the Needle', 'Raptor Red', 'Martin Chuzzlewit', 'Perdido Street Station', 'The Fall of Hyperion', 'The Pet Goat', 'Hornet Flight', 'Skinny Dip', 'Dragonsong', 'Postcards from the Edge', 'The Chronoliths', 'High Rise', \"Smiley's People\", 'Harry Potter and the Deathly Hallows', 'Alphabet of Thorn', 'And the Ass Saw the Angel', 'Super-Cannes', 'Music for Chameleons', 'Zuleika Dobson', 'To the Lighthouse', 'Henderson the Rain King', 'Appointment in Samarra', 'Friday the Rabbi Slept Late', 'Chasing Vermeer', 'A Feast for Crows', 'Abarat', \"Sophie's World\", 'You Shall Know Our Velocity', 'The Sword of Shannara', 'Summer of Night', 'The Elfstones of Shannara', 'The Last Chronicle of Barset', 'Emperor of America', 'Nana', 'The Happy Return', 'The Wishsong of Shannara', 'First King of Shannara', 'Time Stops for No Mouse', 'Barnaby Rudge', 'The Old Curiosity Shop', 'Ancient Shores', 'The Big Four', 'The Worm Ouroboros', 'Rising Sun', 'Norby, the Mixed-Up Robot', 'Glory Season', 'The Killer Angels: A Novel of the Civil War', 'Wishing Moon', 'The Lathe of Heaven', \"Alexander's Bridge\", 'Petersburg', 'The Life and Loves of a She-Devil', 'The King of Torts', 'Notable American Women', 'The Wings of the Dove', 'The Ambassadors', 'The Good Soldier', 'The Golden Bowl', 'Go Tell It on the Mountain', 'The Secret Agent', \"Assassin's Apprentice\", 'Royal Assassin', \"Assassin's Quest\", 'The Divine Invasion', 'Wasp', 'A Void', 'Amusing Ourselves to Death: Public Discourse in the Age of Show Business', 'The Amazing Adventures of Kavalier & Clay', 'Tik-Tok', 'Roderick', 'The Leopard', 'The Dalkey Archive', 'Wonder Boys', \"The Eagle's Conquest\", 'Brighton Rock', 'Notes from Underground', 'Now and Then', 'The Bear and the Dragon', 'The 158-Pound Marriage', 'Dilvish, the Damned', 'Red Shift', 'Herzog', 'The Business', 'Halo: The Fall of Reach', 'Halo: The Flood', 'Halo: First Strike', 'Understanding Media: The Extensions of Man', 'Into Thin Air: A Personal Account of the Mt. Everest Disaster', 'The Naked and the Dead', 'Death Comes for the Archbishop', 'A High Wind in Jamaica', 'A House for Mr Biswas', 'A Bend in the River', 'Scoop', 'The Ginger Man', 'The Magus', 'Ragtime', 'The Journey of Ibn Fattouma', 'Vril', 'The Honourable Schoolboy', 'The Canary Trainer', 'The Dark Half', 'Sandman: The Dream Hunters', 'The Chamber', 'The Reality Dysfunction', 'Cocaine Nights', 'The Crystal World', 'Concrete Island', 'A Burnt-Out Case', 'Dune: House Harkonnen', 'Dune: House Corrino', 'The Summons', 'Needful Things', 'The Stingray Shuffle', 'Portrait of Lozana: The Lusty Andalusian Woman', 'La Celestina', 'Magic, Inc.', 'Artemis Fowl', 'Artemis Fowl: The Arctic Incident', 'Papillon', 'Kate Vaiden', 'Hayduke Lives', 'When Worlds Collide', 'Love You Forever', 'Island of the Blue Dolphins', 'Kiln People', 'The Poisonwood Bible', 'Angle of Repose', 'The House of Mirth', 'Bel Ami', 'Bachelor of Arts', 'Lilith', 'The Charterhouse of Parma', 'In Search of the Castaways', 'Triggerfish Twist', 'Florida Roadkill', 'The Autobiography of Alice B. Toklas', '1982, Janine', 'Firewall', 'The Curious Incident of the Dog in the Night-time', 'Ella Enchanted', 'The Blue Flowers', 'Romance of Atlantis', 'Even Cowgirls Get the Blues', 'Den Haag', 'James and the Giant Peach', 'Sphere', 'Triton', 'Diary', 'Johnny and the Dead', 'Going After Cacciato', 'Vice Versa', 'Memoirs of a Geisha', 'Blindness', 'The Bat Man', 'The Redbreast', \"The Devil's Star\", 'The Bourne Supremacy', \"Brewster's Millions\", 'City', 'Hawksbill Station', 'The Royal Book of Oz', 'Niebla', 'The Other Side of Midnight', 'Slan', 'The Garden of Rama', 'The Night of the Triffids', 'Goodnight Mister Tom', 'The Godmakers', 'Market Forces', 'Orlando: A Biography', 'Shardik', 'Wild Swans', 'Tin Woodman', 'The Magic Goes Away', 'Gods and Generals', \"'Tis: A Memoir\", 'Patriot Games', 'Beneath the Wheel', 'No One Writes to the Colonel', 'Young Goodman Brown', 'The Life and Adventures of Nicholas Nickleby', 'The Partner', 'Skipping Christmas', 'Fevre Dream', 'The Firm', 'A Fine Balance', 'The Night Watch', 'The Cobweb', 'Interface', 'Tipping the Velvet', 'Darkover Landfall', 'Stormqueen!', 'The Leaky Establishment', 'Pnin', 'Digital Fortress', 'Slow River', 'Artemis Fowl: The Opal Deception', 'Prague: A Novel', 'Cloudstreet', 'The Hollow', 'Knife of Dreams', 'The Great Explosion', 'Over Sea, Under Stone', 'Dune: The Butlerian Jihad', 'Earth Abides', \"Lucifer's Hammer\", 'Dune: The Machine Crusade', \"Casanova's Chinese Restaurant\", 'A Time of Changes', 'Downward to the Earth', 'In Death Ground', 'The Shiva Option', 'Holes', 'The Lost City of the Jedi', \"The Alchymist's Cat\", 'The Pillars of Creation', 'Pursuit of the House-Boat', 'Pollyanna', 'Grantchester Grind', 'The Dragonbone Chair', 'Magician', 'The Cruel Sea', 'The Carpet People', 'The World Inside', 'The Uplift War', 'Children of Gebelawi', 'My Ishmael', 'Cities of the Red Night', 'Dune: The Battle of Corrin', 'Dandelion Wine', 'Generation Warriors', 'The Chocolate War', 'SilverFin', 'Titan', 'The Gemini Contenders', 'Amaya o los vascos en el siglo VIII', 'Desperate Remedies', 'A Pair of Blue Eyes', 'The Hand of Ethelberta', 'Wise Blood', 'The World of Suzie Wong', 'Dragondrums', 'Blackwood Farm', 'Evil Under the Sun', 'The Neutronium Alchemist', 'The Naked God', 'Airframe', 'Evelina', 'Sputnik Sweetheart', 'My Friend Flicka', 'A Planet Called Treason', 'The Guide', 'The Last Hurrah', 'Monstrous Regiment', 'The Plot Against America', 'Mary Poppins Opens the Door', 'Eden', \"Ringworld's Children\", 'Imajica', 'The Adventure of the Blue Carbuncle', 'Coldheart Canyon', 'The Andalite Chronicles', 'Deception Point', 'Love in the Time of Cholera', 'Gai-Jin', 'Ammonite', 'Rite of Passage', 'The Best and the Brightest', 'Fungus the Bogeyman', 'Up the Down Staircase', 'A Summons to Memphis', 'The Monster at the End of This Book: Starring Lovable, Furry Old Grover', 'Coma', 'The Spirit of St. Louis', 'Kaffir Boy', 'Farewell to Manzanar', 'Faceless Killers: A Mystery', 'He Who Whispers', 'The Crooked Hinge', 'Blood Canticle', 'Much Obliged, Jeeves', 'The Religion War', 'The Planiverse', 'Earthly Powers', 'Sanctuary', 'Hotel', 'Nightshade', 'A Man in Full', 'The Blackwater Lightship', 'Jonathan Strange & Mr Norrell', 'The Last Don', 'I Am the Cheese', 'My Name is Legion', 'Carpathian Castle', 'Count Karlstein', 'Autumn Visits', 'Two on a Tower', 'The Third Policeman', 'Under the Banner of Heaven: A Story of Violent Faith', 'West of Eden', 'On a Pale Horse', 'The Stars Shine Down', 'Dombey and Son', 'The Forty Days of Musa Dagh', 'Mrs. Frisby and the Rats of NIMH', 'Vathek', 'Requiem for a Dream', 'On The Black Hill', 'Spring Snow', 'The Sigma Protocol', 'The Keepers of the House', 'Half Past Human', \"L'Atlantide\", 'Strandloper', 'The Canary Murder Case', 'The Bishop Murder Case', 'The Kennel Murder Case', 'The Kidnap Murder Case', 'Bouvard et Pécuchet', 'Advise and Consent: A Novel of Washington Politics', 'The Last of the Really Great Whangdoodles', 'Tribes of Redwall Otters', 'The Smoke Ring', 'Stars in My Pocket Like Grains of Sand', 'Valley of the Squinting Windows', 'Stone of Tears', 'A Wind in the Door', 'The Long Patrol', 'Netherland', 'Orley Farm', 'The Big Time', 'The Last Juror', 'Harpist in the Wind', 'Gardens of the Moon', 'Schismatrix', 'The City of Ember', 'Earthworks', 'The Great American Novel', 'Heir to the Empire', 'Dark Force Rising', 'The Locked Room', 'Castaways of the Flying Dutchman', 'City of Golden Shadow', 'Thuvia, Maid of Mars', \"The Science of Discworld III: Darwin's Watch\", 'Five Little Pigs', 'Seventh Son', 'Rose Madder', 'Rupert of Hentzau', 'Tono-Bungay', 'Eaters of the Dead', 'The Lyre of Orpheus', 'The Clan of the Cave Bear', 'The Ill-Made Knight', 'Boonville', 'Song of Solomon', 'Roadside Picnic', 'White Teeth', 'My Uncle Oswald', \"Boy's Life\", 'Deepwater Black', 'The Death Ship', 'The Magic Finger', 'The Twits', \"George's Marvelous Medicine\", 'The Giraffe and the Pelly and Me', 'Esio Trot', 'The Vicar of Nibbleswicke', 'For Love of the Game', 'The Lions of Al-Rassan', 'An Unsuitable Job for a Woman', 'Scorpius', 'The Amateur Marriage', 'Crabwalk', 'Mossflower', 'Lord Brocktree', 'Martin the Warrior', 'The True Believer: Thoughts on the Nature of Mass Movements', 'Binary', 'Voyage from Yesteryear', 'Eyeless in Gaza', 'Payasos en la lavadora', 'How Far Can You Go?', 'Moonseed', \"The Horse's Mouth\", 'Odd Thomas', 'Dune: House Atreides', 'A House-Boat on the Styx', 'Hannibal Rising', 'The Teeth of the Tiger', 'Fantastic Voyage II: Destination Brain', 'Notes on a Scandal', 'Cycle of the Werewolf', 'The Kreutzer Sonata', 'Knight Templar', 'The Dream-Quest of Unknown Kadath', 'Cloak of Deception', 'Black House', 'Eye for Eye', 'Monsignor Quixote', 'The Ghost Writer', 'Politics', 'The Phoenix and the Carpet', 'The Basic Eight', 'Not This August', 'Armageddon 2419 A.D.', 'Doctor Glas', 'The General in His Labyrinth', 'Birdsong', 'A Little Princess', 'True History of the Kelly Gang', 'The Elementary Particles', 'The Man Who Japed', 'The Spire', 'Warchild', 'Lucky Wander Boy', 'The Sykaos Papers', 'Snow Country', 'Past Mortem', 'And Quiet Flows the Don', 'Six Days of the Condor', 'The Black Cauldron', 'Whirlwind', 'The Magician', 'Silas Marner', 'Not a Penny More, Not a Penny Less', 'La Cousine Bette', 'I Am Charlotte Simmons', 'Akhenaten: Son of the Sun', 'First Love', 'Hatshepsut: Daughter of Amun', 'The Natural', 'Story Time', 'A Patchwork Planet', 'The Circus of Dr. Lao', 'The Fist of God', 'Taltos', 'Naked Empire', 'The Pillars of the Earth', 'Blood of the Fold', 'Temple of the Winds', 'Soul of the Fire', 'The Professor', 'Roots: The Saga of an American Family', 'King Rat', 'King Rat', 'To Your Scattered Bodies Go', 'The Fabulous Riverboat', 'The Dark Design', 'The Winter of Our Discontent', 'Bear Island', 'Last Son of Krypton', 'Enchantment', 'Roadwork', 'La Galatea', 'Anandamath', 'Pandora', 'Lest Darkness Fall', 'The Feminine Mystique', 'The Pyramid', 'The Golden Master', 'Judas, My Brother', 'I Know Why the Caged Bird Sings', 'The Flight of the Phoenix', 'Hatchet', 'El filibusterismo', 'Armor', 'The Card', 'The Brethren', 'These Old Shades', 'Ripley Under Ground', 'Narrative of the Life of Frederick Douglass, an American Slave', 'Iron Sunrise', 'The Terminal Man', \"The Wolf's Hour\", 'Settling Accounts: Drive to the East', 'Settling Accounts: Return Engagement', 'The Weapon Shops of Isher', 'The Pioneers', 'Hocus Pocus', 'Deadeye Dick', 'The Fox', 'Dream Story', 'Zero Minus Ten', 'The Fabric of the Cosmos', 'A Million Open Doors', 'James Bond: The Authorised Biography of 007', 'Colonel Sun', 'Phantastes', 'The Unknown Shore', 'The Simultaneous Man', 'Rich Man, Poor Man', 'Dinosaur Planet', 'Coyote', 'State of Fear', 'Rushing to Paradise', 'Blood of Elves', 'Rebecca', 'Everyone Poops', 'Stone of Farewell', 'To Green Angel Tower', 'The Diamond Smugglers', 'Daisy Miller', 'Ada or Ardor: A Family Chronicle', 'Idlewild', 'Beautiful Losers', 'No Crystal Stair', 'Sula', 'Beloved', 'The Peace War', 'Marooned in Realtime', 'Ill Met by Moonlight', 'Licence Renewed', 'For Special Services', 'Icebreaker', 'Role of Honour', 'Nobody Lives For Ever', 'No Deals, Mr. Bond', 'Win, Lose or Die', 'Brokenclaw', 'The Man from Barbarossa', 'Death is Forever', 'Never Send Flowers', 'SeaFire', 'COLD', 'The Facts of Death', 'High Time to Kill', 'Doubleshot', 'Never Dream of Dying', 'The Man with the Red Tattoo', 'The Silencers', 'The Ambushers', 'Crusade in Jeans', \"Smilla's Sense of Snow\", 'Quiet as a Nun', 'The Chimes', 'The Cricket on the Hearth', 'A is for Alibi', 'Michael Strogoff', 'Kaleidoscope Century', 'Bonjour Tristesse', 'Return to Peyton Place', 'Eastern Standard Tribe', 'The Gold Bug Variations', 'Storm of Steel', 'Timeline', 'Time in Advance', 'Danse Macabre', 'Where the Red Fern Grows', 'Tortilla Flat', 'Celebrated Cases of Judge Dee', 'Racists', 'Ghostwritten', 'Endymion', 'Puerto Vallarta Squeeze', 'Triss', 'Watch Your Mouth', 'Blinded by the Right', 'Century Rain', 'The Eyes of Heisenberg', 'Popcorn', 'This Sweet Sickness', 'The Green Brain', 'Up at the Villa', 'The Taggerung', 'Marlfox', 'Mattimeo', 'A Night in the Lonesome October', 'Mao II', 'Ben-Hur: A Tale of the Christ', 'All American Girl', 'The Great and Secret Show', 'Mariel of Redwall', 'Author, Author', 'The Saint in New York', 'Balzac and the Little Chinese Seamstress', 'The Pearls of Lutra', 'The Vampyre', 'Boy in Darkness', 'Brimstone', 'Ellen Foster', 'Titus Alone', 'The Folding Star', 'The Swimming Pool Library', 'A Tree Grows In Brooklyn', 'The Mysteries of Pittsburgh', 'The Reivers', 'The Box of Delights', 'Backwards', 'Orange Crush', 'Mutation', \"Tom Clancy's Splinter Cell\", 'Saint Overboard', 'Life in the Iron Mills', 'Leo Africanus', 'La Peau de chagrin', 'The Cabinet of Curiosities', 'Collapse: How Societies Choose to Fail or Succeed', 'Ralph 124C 41+', 'Amsterdam', 'The Gilded Age: A Tale of Today', \"Fool's Errand\", 'Golden Fool', \"Shaman's Crossing\", 'Vampire$', 'The Torrents of Spring', 'Friend of My Youth', 'The Song of the Lark', 'A Kingdom of Dreams', 'The Naked Face', \"Fool's Fate\", 'Ship of Magic', 'Salamandastron', 'To Say Nothing of the Dog', 'Crown of Slaves', 'Piece of Cake', 'Muertos incómodos', 'Alice, Girl from the Future', 'Trans-Atlantyk', 'Rim of the Pit', 'The Mediterranean Caper', 'Timelike Infinity', 'The Kite Runner', 'The Sands of Time', 'Rage of Angels', 'The Matarese Circle', 'Blink: The Power of Thinking Without Thinking', 'Pharaoh', 'Arrival and Departure', 'Concluding', 'Household Gods', 'Camouflage', 'Exit to Eden', 'The Infernal Desire Machines of Doctor Hoffman', 'My Ántonia', 'Sutherlin Alliance', 'The First Man in Rome', 'Simulacron-3', 'Rakkety Tam', 'Deadhouse Gates', 'Memories of Ice', 'House of Chains', 'Midnight Tides', 'The Bonehunters', 'Toll the Hounds', 'The Poison Belt', 'Bodily Harm', 'Lady Oracle', 'The Good Shepherd', 'Brown on Resolution', 'One for the Morning Glory', 'Stations of the Tide', 'The Blank Slate: The Modern Denial of Human Nature', 'Death to the French', 'War for the Oaks', 'The Garden of Eden', 'Marabou Stork Nightmares', 'The Word for World is Forest', 'Darwinia', 'Blood and Chocolate', 'The Bourne Legacy', 'Journey to the East', 'Narcissus and Goldmund', 'The Winds of War', 'Hard-Boiled Wonderland and the End of the World', 'The Wind-Up Bird Chronicle', 'Memories of My Melancholy Whores', 'Maia', 'The Pendragon Adventure', 'Peter Simple', 'Absolute Power', 'Shatterglass', 'Abarat: Days of Magic, Nights of War', 'Kidnapped', 'True at First Light', 'Airport', 'The 12.30 from Croydon', 'The Facts in the Case of M. Valdemar', 'Against the Fall of Night', 'Jitterbug Perfume', 'Kitchen', 'Peter Camenzind', 'The High King', 'The Diary of a Young Girl', 'Gathering Blue', 'Messenger', 'Boomeritis', 'In Watermelon Sugar', 'The Kraken Wakes', 'Aristoi', 'The Prometheus Deception', 'Loamhedge', 'The Castle of Iron', 'Repent, Harlequin! Said the Ticktockman', 'Leave it to Psmith', 'Anne of Avonlea', 'Anne of the Island', \"Anne's House of Dreams\", 'Anne of Ingleside', 'The Napoleon of Notting Hill', 'Chainfire', 'The Butter Battle Book', 'The Family: The Real Story of the Bush Dynasty', 'Nova', 'The Amber Room', 'The World at the End of Time', 'Doktor Faustus', 'The Stones Are Hatching', \"Devil's Cub\", 'Secrets in the Fire', 'The Drought', 'Rough Draft', 'Interstellar Pig', 'The Green Futures of Tycho', 'Adrian Mole and the Weapons of Mass Destruction', 'Toilers of the Sea', 'The Man Who Laughs', 'Ninety-Three', 'Along Came a Spider', 'Les Enfants Terribles', 'The Alienist', 'Zami: A New Spelling of My Name', \"Giovanni's Room\", 'Ten Men', 'Man of Two Worlds', 'Tower of Glass', \"Callahan's Lady\", 'Beggars Ride', 'Age of Iron', 'The Broker', 'Mr. Midshipman Hornblower', 'Lieutenant Hornblower', 'Hornblower and the Hotspur', 'Across the River and Into the Trees', 'The Pigman', 'Death Is a Lonely Business', 'Birthright: The Book of Man', 'Westward Ho!', 'Because of Winn-Dixie', 'The Princess and the Goblin', 'Queen Zixi of Ix', 'All the Pretty Horses', 'In Desert and Wilderness', 'My Inventions: The Autobiography of Nikola Tesla', 'Child of God', 'Suttree', 'The Crossing', 'Parthiban Kanavu', 'The Garden of the Finzi-Continis', 'The Summer Tree', 'Trouble with Lichen', 'The Outward Urge', 'Absolute Beginners', 'Q-Squared', 'Cloud Atlas', 'Lottie and Lisa', 'Spartacus', 'Naomi', 'Paladin of Souls', 'Adam Bede', 'Nuns and Soldiers', 'Firewing', 'My Name Is Legion', \"Splinter of the Mind's Eye\", 'Terminal', 'Seize the Day', 'Summer Sisters', 'End Zone', \"Mike Nelson's Death Rat!\", 'The Final Unfinished Voyage of Jack Aubrey', 'Confessions of a Crap Artist', 'Join My Cult', 'Queer', 'War and Remembrance', 'Lair of the White Worm', 'Nightmare Alley', 'Damnation Alley', 'Curtain', 'Enemy Mine', 'A Widow for One Year', 'The Looking-Glass War', 'The Canterville Ghost', 'Outcast of Redwall', 'Isle of the Dead', 'The Truth', 'The Sands of Mars', 'In the Miso Soup', 'Riz noir', 'White Light', 'The House of the Scorpion', 'The Lake House', 'New Grub Street', 'The Crystal City', 'The Aleph', \"The Children's Story\", 'The Wish List', 'The Supernaturalist', 'Labyrinth of Evil', 'The Sisterhood of the Traveling Pants', 'Saturday', 'The Lost Years of Merlin', 'The Joke', 'The Oath', 'The Cement Garden', 'Bitten', 'Chicken Trek', 'Kendermore', 'Boy Meets Boy', 'The Rule of Four', 'Journey by Moonlight', 'The Fan Club', 'Archangel', 'El Túnel', 'The Ships of Earth', 'The Marrow of Tradition', 'The Grass Is Singing', 'The Sound of Waves', 'The Notting Hill Mystery', 'The Camp of the Saints', 'A Home at the End of the World', 'Kenilworth', 'The Death Dealers', \"A Treasure's Trove\", 'Anansi Boys', 'The Fallon Blood', 'The Twenty-One Balloons', 'Hell House', 'Radix', 'Are You Afraid of the Dark?', \"The Minister's Wooing\", \"Anil's Ghost\", \"Pudd'nhead Wilson\", 'Heart of a Dog', 'Scandal', 'The Holcroft Covenant', 'The Power Broker', 'A Tiger for Malgudi', 'Protector', '2001: A Space Odyssey', 'Wintersmith', 'I Shall Wear Midnight', 'The Peshawar Lancers', 'The Edge of the Cloud', 'Flambards in Summer', 'David Starr, Space Ranger', 'Lucky Starr and the Big Sun of Mercury', 'Lucky Starr and the Moons of Jupiter', 'Lucky Starr and the Oceans of Venus', 'Lucky Starr and the Rings of Saturn', 'Lucky Starr and the Pirates of the Asteroids', 'Phantoms', 'Kingdom of Fear', 'Starfighters of Adumar', 'The Great Redwall Feast', 'Firefox', 'A Swiftly Tilting Planet', 'Heir Apparent', 'The Secret History', \"Jacob's Room\", 'The Family', 'Roll of Thunder, Hear My Cry', \"Tailchaser's Song\", 'The Ascension Factor', 'Hotel du Lac', 'Bend Sinister', 'Der Richter und sein Henker', 'A Wish for Wings That Work', 'Way Station', 'Black Wind', 'Never Let Me Go', 'The Richleighs of Tantamount', 'The Testament', 'A Painted House', 'Surfacing', 'The Mad Man', 'Sons of Fortune', 'Guerrillas', 'Feed', 'Possession: A Romance', 'A Case of Conscience', 'Blind Lake', 'The King Must Die', 'A Yellow Raft in Blue Water', 'Katherine', 'The Mystery of the Blue Train', 'The Private Life of Chairman Mao', 'The Man in the Maze', 'Mortal Fear', 'Vi kallar honom Anna', 'The Angel of Darkness', 'Songmaster', 'Cabal', 'Priestess of Avalon', 'Lady of Avalon', 'The Forest House', 'The Godwhale', 'Fengshen Yanyi', 'Clotel', 'Make Room! Make Room!', 'The Ragged Trousered Philanthropists', 'Hegira', 'The Face on the Cutting-Room Floor', 'The Songs of Kings', 'The Confessions of Nat Turner', 'Gertrud', 'Another Country', 'Pigs in Heaven', 'Shatterpoint', 'Guenevere, Queen of the Summer Country', 'Dark Passage', 'Fear and Trembling', 'The Iron Man', 'Antarctica', 'Kafka on the Shore', 'A Perfect Spy', 'Dragon Prince', 'Tandia', 'The Prodigal Daughter', 'Legend', 'A Death in the Family', 'Kane and Abel', 'Contest', 'Extremely Loud and Incredibly Close', 'Our Lady of the Flowers', 'Islands in the Net', 'Z for Zachariah', 'Green Mansions', 'Blade Runner 4: Eye and Talon', 'Mr Standfast', 'Limes inferior', 'Paradyzja', 'The Commodore', 'The Thirteen-Gun Salute', 'Nectar in a Sieve', 'Last Exit to Brooklyn', 'I, Jedi', 'Runaway Horses', 'The Eleventh Commandment', 'Coalescent', 'Number the Stars', 'Cosmopolis', 'The Computer That Said Steal Me', 'The Duplicate', 'Free Air', 'Solomon Gursky Was Here', 'Scarecrow', 'Anvil of Stars', 'The Drowned World', 'Fearful Symmetries', 'Thud!', 'Turnabout', 'Rainbow Valley', 'The Artemis Fowl Files', 'The Bluest Eye', 'The Valley of Horses', 'Tiger Eyes', 'Knowledge of Angels', 'The Mammoth Hunters', 'Intermere', 'The Plains of Passage', 'The Shelters of Stone', 'Woken Furies', 'The Great Train Robbery', 'Shampoo Planet', 'The Family from One End Street', 'Cold Sassy Tree', 'The Lost Honour of Katharina Blum', 'Voyage in the Dark', 'The Story of Doctor Dolittle', 'Absolute Friends', 'Shiloh', 'We All Fall Down', 'The Glass Lake', \"Sharpe's Regiment\", 'The Voyages of Doctor Dolittle', 'Among the Hidden', 'Moon Tiger', 'Snow Falling on Cedars', 'Rocket Boys', 'A Pale View of Hills', \"Doctor Dolittle's Garden\", 'Doctor Dolittle in the Moon', 'The Beautiful and Damned', 'Better Than Life', 'Earthsearch II', \"Dragon's Eye: A Chinese Noir\", \"Nobody's Buddy\", \"Dead Man's Folly\", \"Doctor Dolittle's Return\", 'Arrows of the Queen', 'The Oaken Throne', 'High Rhulain', 'The Drowning Pool', 'The Company of Women', 'Homeward Bound', 'Hunters of Dune', 'Sandworms of Dune', 'Personal Recollections of Joan of Arc', 'Blue City', 'Archangel', 'The Insulted and Humiliated', 'The Terminal Experiment', 'Rhapsody: Child of Blood', \"Arrow's Flight\", 'Mario and the Magician', 'Blood and Gold', 'Fads and Fallacies in the Name of Science', 'Trouble Follows Me', 'The Lonely Doll', 'The Autobiography of Benjamin Franklin', 'Cry, The Beloved Country', 'Kallocain', 'The War of the Flowers', 'The Snow Queen', 'Cakes and Ale', 'The Trumpet of the Swan', 'Invitation to the Game', 'The Source of Magic', 'Castle Roogna', 'Night Mare', 'Question Quest', 'The Color of Her Panties', 'Yon Ill Wind', 'Atonement', 'The Way Some People Die', 'The Tower Treasure', 'Foreign Affairs', 'Rabbit At Rest', 'Rabbit Is Rich', 'House Made of Dawn', 'Storm Boy', 'The Scions of Shannara', 'A Maggot', 'Bag of Bones', 'The Colorado Kid', 'Bring the Jubilee', \"Divine Right's Trip\", 'Stray', 'The Bride of Lammermoor', 'Ourika', 'The Call of Earth', 'The Talisman', 'The Talisman', 'The Good Apprentice', 'The Ring of Charon', 'Faith of the Fallen', 'The Three Roads', 'Incompetence', 'The Man in the Brown Suit', 'The Village of Stepanchikovo', 'Something Rotten', 'A Thousand Acres', 'Redburn', 'Ham on Rye', 'Prisoners of Power', 'The Posthumous Memoirs of Bras Cubas', 'Drowned Ammet', 'Danny, the Champion of the World', 'The Violent Bear It Away', 'Silverthorn', 'A Darkness at Sethanon', 'The Disciples', 'It Happened to Nancy: By an Anonymous Teenager', 'The Island of the Day Before', 'The Slaves of the Mastery', 'Firesong', 'Dying Inside', 'Salammbô', 'Down by the River Where the Dead Men Go', 'The Great War: American Front', 'Paris in the 20th Century', 'Ein deutsches Requiem', 'Breathing Lessons', 'Perfect Circle', 'Marianne Dreams', \"Kushiel's Dart\", 'The Antiquary', 'The Gun Seller', 'The Eagle of the Ninth', 'The Lantern Bearers', 'American Empire: Blood and Iron', 'Dirty White Boys', 'The Far Arena', 'The Seven Storey Mountain', 'England, Their England', 'Bloom', 'The Haunting of Hill House', \"Man's Fate\", 'The Curse of Chalion', 'Journey Into Fear', 'The Inner Circle', 'The Garden of God', 'The Woods Out Back', 'The Blue Lagoon', 'Basket Case', 'Specter of the Past', 'Vision of the Future', 'The File on H', 'Bloodsucking Fiends', 'Tietam Brown', \"Donovan's Brain\", 'Death of a Red Heroine', 'The Gremlins', 'Pastwatch: The Redemption of Christopher Columbus', 'The Weight of Water', \"Flaubert's Parrot\", 'Zorba the Greek', 'Merrick', 'Our Gang', 'The World Is Flat', 'Disclosure', 'Guy Mannering', 'Thomas', \"Fleabee's Fortune\", 'The Dark Portal', 'The Crystal Prison', 'The Final Reckoning', 'Inside, Outside', 'Filth', 'The Boy Who Lost His Face', 'The Steadfast Tin Soldier', 'The Little Drummer Girl', 'Jedi Search', 'Dark Apprentice', 'Dragon Rider', \"Molly Moon's Incredible Book of Hypnotism\", 'The Deptford Mice Almanack', 'The White Company', 'The Ties That Bind', 'Warcraft: Lord of the Clans', 'Warcraft: Day of the Dragon', 'The Story of the Amulet', 'Zaynab', 'The Little Sister', 'Parineeta', \"The Time Traveler's Wife\", 'Raise the Titanic', 'Sylvie and Bruno', 'A Bright Shining Lie: John Paul Vann and America in Vietnam', \"Tom's Midnight Garden\", 'Plum Bun', 'A Stone for Danny Fisher', 'Old Mortality', 'Superfudge', 'Tales of a Fourth Grade Nothing', 'The Lost Symbol', 'The Boy Who Kicked Pigs', \"The Color of Water: A Black Man's Tribute to His White Mother\", \"Time's Eye\", 'De Magnete', 'À rebours', 'Soldier, Ask Not', \"Oh, the Places You'll Go!\", 'Gridlock', 'Sanatorium Under the Sign of the Hourglass', 'A Legend of Montrose', 'The Reader', 'Marching Through Georgia', 'Outbreak', 'Sad Cypress', 'Animal Dreams', 'The Truth About Forever', 'Complicity', 'The Secret of the Old Mill', 'The Secret Panel', 'The Phantom Freighter', 'The Secret of Skull Mountain', 'The Sign of the Crooked Arrow', 'The Secret of the Lost Tunnel', 'The Wailing Siren Mystery', 'The Secret of Wildcat Swamp', 'The Crisscross Shadow', 'The Yellow Feather Mystery', 'The Hooded Hawk Mystery', 'The Clue in the Embers', \"The Secret of Pirate's Hill\", \"The Mystery at Devil's Paw\", 'The Mystery of the Chinese Junk', 'Mystery of the Desert Giant', 'The Clue of the Screeching Owl', 'The Viking Symbol Mystery', 'The Mystery of the Aztec Warrior', 'The Haunted Fort', 'The Mystery of the Spiral Bridge', 'The Secret Agent on Flight 101', 'The Arctic Patrol Mystery', 'The Bombay Boomerang', 'Danger on Vampire Trail', 'The Masked Monkey', 'The Shattered Helmet', 'The Clue of the Hissing Serpent', 'The Mysterious Caravan', \"The Witchmaster's Key\", 'The Jungle Pyramid', 'The Firebird Rocket', 'The Sting of the Scorpion', 'Princess Daisy', 'The Book of Illusions', 'Cart and Cwidder', 'Champions of the Force', 'Pied Piper', 'The Comedians', 'The Citadel', 'Fantastic Mr. Fox', 'Twelve', 'A Ring of Endless Light', 'Elephants Can Remember', 'The Heart of Midlothian', 'The Birthday Boys', 'The Fifth Sacred Thing', \"The Gate to Women's Country\", 'The Price of Salt', \"My Father's Glory\", 'Sunstorm', 'Elmer and the Dragon', 'Phantom', 'The Arm of the Starfish', 'Redgauntlet', 'The Dragons of Blueland', 'Mao: The Unknown Story', 'To Dance with the White Dog', 'The Time Wanderers', 'The Redundancy of Courage', 'Fear on Wheels', 'The Black Cloud', 'Aliens Ate My Homework', 'A Loyal Character Dancer', 'The Minpins', 'The First Sex', 'Voyage', \"Rebecca's Tale\", 'Rascal', 'The White Feather', 'Poor Things', 'Space', 'A History Maker', 'The First Chronicles of Druss the Legend', 'The Prince', 'Porterhouse Blue', 'O Ateneu', 'Debt of Bones', 'Divine Secrets of the Ya-Ya Sisterhood', 'The Blessing Way', 'The Magical Monarch of Mo', 'The Fourth Hand', 'Fire and Hemlock', 'My Education: A Book of Dreams', 'Bliss', 'Fletch Won', 'How It Is', \"Searching for David's Heart\", 'Hammerhead Ranch Motel', 'Cadillac Beach', 'Torpedo Juice', 'Man Plus', 'House of Incest', 'The Deep Blue Good-by', 'Dragon and Phoenix', 'The War in the Air', 'The Bottle Imp', 'As Seen on TV', 'The Big Over Easy', 'The Zahir', 'In the Woods', \"Hinds' Feet on High Places\", 'The g  Factor: The Science of Mental Ability', 'Anna of Byzantium', 'The Sittaford Mystery', \"Harlot's Ghost\", '31 Songs', 'The Chancellor Manuscript', 'Spaceland', 'Saturn Rukh', \"Alice Through the Needle's Eye\", 'O Jerusalem', 'Eater', 'Lord of the Nutcracker Men', 'The Thief and the Dogs', 'Reliquary', 'The Riddle-Master of Hed', 'The Dain Curse', 'Red Prophet', 'Mr Pye', 'Fierce Invalids Home from Hot Climates', 'Appointment with Death', 'A Dance with Dragons', 'Firefox Down', 'Heartbeat', 'The Footprints of God', 'Mindstar Rising', 'Blood Fever', 'The Italian Girl', 'Set This House on Fire', 'Nothing But the Truth', 'The Deep End of the Ocean', 'Ralph S. Mouse', 'Lasher', 'America Is in the Heart', 'American Empire: The Center Cannot Hold', 'A Star Called Henry', 'The Secret Life of Bees', 'The Temple of the Golden Pavilion', 'Accelerando', 'The Third Eye', 'Nylon Angel', 'Nineteen Eighty-Five', 'The Butcher Boy', 'Breakfast on Pluto', 'Three Act Tragedy', \"Why Didn't They Ask Evans?\", 'Murder in Mesopotamia', 'Dumb Witness', \"Hercule Poirot's Christmas\", 'Kabumpo in Oz', 'Camelot 30K', 'The Woman Who Walked Into Doors', 'Thidwick the Big-Hearted Moose', 'At Swim, Two Boys', 'Annie on My Mind', 'Self', 'The Master', 'A Long Way Down', 'Murder is Easy', 'Towards Zero', 'Sparkling Cyanide', 'Parker Pyne Investigates', 'The Heather Blazing', 'The Rising', 'A Walk on the Wild Side', 'The Hot Kid', 'Death of a Train', 'Harry Potter and the Half-Blood Prince', 'Servant of the Bones', \"Kushiel's Chosen\", \"Kushiel's Avatar\", 'Vittorio the Vampire', 'The Sandcastle', 'Trustee from the Toolroom', 'The Blue Castle', 'The Enchanted Wood', 'Eye of Cat', 'Doorways in the Sand', \"Arrow's Fall\", 'Becoming Madame Mao', 'The Gruffalo', \"The Vampire's Assistant\", 'Revolutionary Road', 'Ring', 'The Covenant', 'Killshot', 'Taken at the Flood', 'They Came to Baghdad', \"Mrs McGinty's Dead\", 'Hickory Dickory Dock', 'Platform', 'The Awkward Age', 'Flowers in the Attic', 'The Matchlock Gun', \"The 35th of May, or Conrad's Ride to the South Seas\", 'The Martian Child: A Novel About A Single Father Adopting A Son', 'China Mountain Zhang', 'The West End Horror', 'The Persian Boy', 'Come Sweet Death', 'Ordeal by Innocence', 'Cat Among the Pigeons', 'The Pale Horse', 'The Clocks', 'Third Girl', 'Endless Night', 'Passenger to Frankfurt', 'Nemesis', 'Postern of Fate', 'Exultant', 'The Boat of a Million Years', 'Galaxy of Fear: Ghost of the Jedi', 'Headhunter', 'By the Pricking of My Thumbs', \"Tom Clancy's Splinter Cell: Operation Barracuda\", 'In The Garden of Iden', 'The King Beyond the Gate', 'The Conversations At Curlow Creek', 'Sweet Women Lie', 'Angel Eyes', 'The Icarus Agenda', 'Felidae', 'Lords of the Starship', 'The Mouse and the Motorcycle', 'The Face of Another', 'Inter Ice Age 4', '003½: The Adventures of James Bond Junior', 'Kalki', 'Ilse Witch', \"The Bear that Wasn't\", 'Antrax', 'Morgawr', 'Weetzie Bat', 'Oms en Série', 'I Am David', 'Cry to Heaven', 'Today We Choose Faces', 'El Corazón de Piedra Verde', 'Bellwether', 'The Buddha of Suburbia', 'Noon: 22nd Century', \"World's End\", 'An Instance of the Fingerpost', 'Escape Attempt', 'Hornblower in the West Indies', 'Sky Coyote', 'To Reign in Hell: The Exile of Khan Noonien Singh', 'Far Rainbow', 'Almost Transparent Blue', 'Mendoza in Hollywood', 'The Gates of Morning', 'Year of the Intern', 'The Graveyard Game', 'The Rose and the Yew Tree', 'Strider', 'Scandal At High Chimneys', 'How to Eat Fried Worms', 'The Life of the World to Come', 'Bomber', 'The Namesake', 'The Human Factor', 'Unfinished Portrait', 'Absent in the Spring', 'Too Many Magicians', 'Colonization: Second Contact', 'The Tale of Samuel Whiskers or, The Roly-Poly Pudding', 'Abba Abba', 'The Jagged Orbit', 'Lucky Child', 'The Burden', 'Partners in Crime', 'Hell Island', 'The Ungoverned', 'Ring', 'The Return', 'Once a Runner', 'Zahrah the Windseeker', 'Doctor Thorne', 'The Sheep Look Up', 'After Worlds Collide', 'Hard to Be a God', 'Scorpia', 'Eagle Strike', 'The Constant Gardener', 'The Kid from Hell', \"Dr. Heidenhoff's Process\", '.hack//AI buster', '.hack//Another Birth', '.hack//Zero', 'The Wave', 'Stiff Upper Lip, Jeeves', 'Avalon', 'A Certain Smile', 'Lucky You', 'The Black Dwarf', 'Ibid: A Life', 'The Beast in the Jungle', 'City of Night', 'Nightrunners of Bengal', 'Americana', 'The Last Samurai', 'The White Dragon', \"Trinity's Child\", 'Zorro', 'Killing Aurora', 'Beach Music', 'Manifold: Time', 'The Hero and the Crown', 'Black Rain', 'Romola', 'The Abbot', 'The Europeans', 'Emily of New Moon', 'Women', 'The Man Without Qualities', 'Space Mowgli', 'The Man That Corrupted Hadleyburg', 'Resident Evil: Caliban Cove', 'Resident Evil: Underworld', 'The Education of Robert Nifkin', 'Yobgorgle: Mystery Monster of Lake Ontario', 'Shalimar the Clown', \"My Sister's Keeper\", 'The Bacta War', 'Sunset Song', 'The Adventures of Roderick Random', 'True History', 'The Field of Swords', 'Neanderthal', 'Wilt', 'The Italian', 'Rabbit, Run', 'Casino Royale', 'Annie John', 'Housekeeping', 'A World Out of Time', 'The Story of B', \"Sunrunner's Fire\", 'The Star Scroll', 'Hello America', 'The Three Hostages', 'Strip Tease', 'Austerlitz', 'The Glove of Darth Vader', 'The Super Barbarians', 'To Conquer Chaos', \"Carrie's War\", 'Illywhacker', 'The Cowardly Lion of Oz', 'The Descent of Anansi', 'Grampa in Oz', 'The Lost King of Oz', 'The Hungry Tiger of Oz', 'Jack Pumpkinhead of Oz', 'Handy Mandy in Oz', 'Ozoplaning with the Wizard of Oz', 'Merry-Go-Round in Oz', 'The Hidden Valley of Oz', 'The Magical Mimics in Oz', 'The Shaggy Man of Oz', 'Lotte in Weimar: The Beloved Returns', 'Ark Angel', 'The Killing Zone', 'I, Lucifer', 'Solar Lottery', 'The Lost Girl', 'Little Fuzzy', 'Slipback', 'The Forbidden Territory', 'Heir of Sea and Fire', 'More Than Human', 'Birds of Prey', 'Phantom', 'The Club Dumas', 'The Ticket That Exploded', 'The Mummy', 'The Gift of Stones', 'Poor White', 'The Red Pony', 'Ladysmith', 'The Demon in the Freezer: A True Story', 'The Last King of Scotland', 'The Rising Force', 'The Dark Rival', 'The Hidden Past', 'The Wars', 'Message in a Bottle', \"One Flew Over the Cuckoo's Nest\", 'Cause for Alarm', 'The Trigger', 'The Mark of the Crown', 'The Defenders of the Dead', 'The Uncertain Path', 'The Captive Temple', 'The Day of Reckoning', 'The Fight for Truth', 'The Shattered Peace', 'The Deadly Hunter', 'The Evil Experiment', 'Paddle-to-the-Sea', 'The Dangerous Rescue', 'The Death of Hope', 'The Call to Vengeance', 'The Only Witness', 'The Threat Within', 'The Prestige', 'The Odessa File', 'The Prime Minister', \"Time's Arrow\", 'Tablet of Destinies', 'Flux', 'The Halloween Tree', 'Julie of the Wolves', 'The Runaway in Oz', 'Pinball, 1973', 'The Pothunters', \"Winston's War\", 'Players', 'Matilda', 'A Stranger in the Mirror', 'The Abominable Man', 'Blott on the Landscape', \"A Prefect's Uncle\", 'The Sign of the Twisted Candles', \"Pennington's Seventeenth Summer\", 'Detective', 'Five Weeks in a Balloon', \"The Widow's Broom\", 'The Hungry Tide', 'I Heard the Owl Call My Name', 'Setting Free the Bears', 'The Shattered Chain', 'To Have and to Hold', 'The Historian', 'The Shadow of the Torturer', 'The Claw of the Conciliator', 'When Knighthood Was in Flower', 'The Short-Timers', 'Heritage', 'The Fourth \"R\"', 'Rum Punch', 'The Crystal Cave', 'Colony', 'Eleven Minutes', 'By the River Piedra I Sat Down and Wept', 'The Incredible Tide', 'Heat and Dust', 'Storm Warning', 'Jarka Ruus', 'Tanequil', 'Straken', 'The Battle of Life', 'Rebecca of Sunnybrook Farm', \"Mr. Popper's Penguins\", 'A Tale of Time City', 'No Longer at Ease', 'From the Mixed-Up Files of Mrs. Basil E. Frankweiler', 'The Merchant of Death', 'Jacob Have I Loved', 'The Coming of the Quantum Cats', 'The Golden Globe', 'A Kiss Before Dying', 'Rogue Squadron', 'Beetle in the Anthill', 'A Case of Need', 'The Dark Frigate', 'Hitty, Her First Hundred Years', \"Wedge's Gamble\", 'Wraith Squadron', \"I'm Not Who You Think I Am\", 'Waterless Mountain', 'The Krytos Trap', 'Northwest Passage', 'Prison Memoirs of an Anarchist', 'The Rainmaker', 'A Maze of Death', \"The Parrot's Theorem\", 'Gladiator', 'A Dead Man in Deptford', 'Men of Iron', 'Waiting for the Barbarians', 'The Door in the Wall', \"Isard's Revenge\", 'Iron Fist', 'Solo Command', 'Palace of the White Skunks', 'Arctic Adventure', 'The Hallowed Hunt', 'Waiting for the Mahatma', 'In the Lake of the Woods', 'The Westing Game', 'Shadow of a Bull', 'The Witch of Blackbird Pond', 'Secret of the Andes', 'Mr. Palomar', 'The Sundial', 'For Love of Audrey Rose', 'The March', 'The Boggart', 'The Praxis', 'Adam Loveday', 'Ape and Essence', 'The Loveday Fortunes', 'The Loveday Trials', 'Marjorie Morningstar', 'The Home and the World', 'The Deadly Curse of Toko-rey', 'The Sky is Falling', 'Bloodline', 'If Tomorrow Comes', 'The Best Laid Plans', 'Morning, Noon and Night', 'Master of the Game', 'Passage', 'The Body Artist', 'The Tree Bride', 'Wife', 'The Loveday Scandals', \"The Tiger's Daughter\", 'The Loveday Honour', 'Tithe : A Modern Faerie Tale', 'The Hollow Hills', 'Manifold: Space', 'The Best Awful There Is', 'Light a Distant Fire', 'The Loveday Pride', 'Unnatural Causes', 'A Winter Haunting', 'Smoky the Cow Horse', 'Dobry', \"The Devil's Alternative\", 'The Russia House', 'Appointment with Venus', 'The Fourth K', 'The Brothers Lionheart', 'Prizes', 'The Silent Boy', 'Alongside Night', 'The Coffin Dancer', 'The Machine Gunners', 'Folk og røvere i Kardemomme by', 'Star Wars Republic Commando: Hard Contact', 'The Cestus Deception', 'Memories of Midnight', 'The Quiet Game', 'The Traveler', 'Behold the Man', 'The Speed of Dark', 'The Never War', 'Weapons of Choice', 'Lord Loss', 'An Equal Music: A Novel', 'Predator', 'Berenice', 'The Pushcart War', 'The Perilous Road', \"Hannibal's Children\", 'The Wheel on the School', 'Doctor Sax', 'City of Pearl', 'Tonio Kröger', 'The Joiner King', 'Dinner at the Homesick Restaurant', 'The Sicilian', 'Thornyhold', 'The Italian Secretary', 'The Unseen Queen', 'The Swarm War', \"Gerald's Party\", 'A Million Little Pieces', 'Betrayal', 'Bloodlines', 'Ashenden: Or the British Agent', 'Tutankhamun and the Daughter of Ra', 'Gilead', 'A Wild Sheep Chase', 'The Ringworld Engineers', 'The Ringworld Throne', 'Strawberry Girl', 'Baalyakaalasakhi', 'The Kingdom of the Wicked', 'The Lost City of Faar', 'Not Wanted on the Voyage', 'Tootle', 'Picture This', 'Les Mystères de Paris', 'The Far Country', 'Rowan and the Keeper of the Crystal', 'Rowan and the Zebak', 'Rowan of the Bukshah', 'Little Boy Blue', 'Mount Dragon', 'Thumbelina', 'Doctor Fischer of Geneva', 'Polar Star', 'Red Square', 'In the Presence of Mine Enemies', 'Paradise City', 'The Death Of Grass', 'Outbound Flight', 'Allegiance', 'A World of Difference', 'O Pioneers!', 'The Hammer of God', \"Survivor's Quest\", 'A Year Down Yonder', 'Night of the Big Heat', 'The Warden', 'Across the Nightingale Floor', 'Grass for His Pillow', 'Brilliance of the Moon', 'Dragoncharm', 'Deathstalker', 'Dorothy Vernon of Haddon Hall', 'Millennium People', 'The Dream Master', 'Spiral', 'Cast of Shadows', \"Beard's Roman Women\", 'The Mystery of the Fire Dragon', 'The Chequer Board', 'The Simulacra', 'HMS Ulysses', 'Tunnel Through the Deeps', 'And Having Writ…', 'Space Opera', 'In the Wet', 'Shadowmancer', 'The Homeward Bounders', 'The Stone Angel', 'The Parsifal Mosaic', 'Nor Crystal Tears', 'The Mysteries of Harris Burdick', 'The Eight Doctors', 'Double Fudge', 'Dr. Bloodmoney, or How We Got Along After the Bomb', 'Q-in-Law', 'Foley is Good: And The Real World is Faker Than Wrestling', 'April Morning', 'Flyte', 'The trials of Nikki Hill', 'Insect Dreams: The Half Life of Gregor Samsa', 'My Life As a Man', 'The White Bone', 'Black Sunday', 'The Sea', 'Tribes of Redwall Badgers', 'The Land of Crimson Clouds', 'Falling Free', 'Threshold', 'Inkspell', 'The Heaven Makers', 'Core', 'Enemies, a Love Story', 'Dying of the Light', 'The Fortunes of Nigel', 'The First Man', 'Locus Solus', 'Galatea 2.2', 'Peter Duck', 'The Ophiuchi Hotline', 'The Reality Bug', 'Sleeping Beauty: A Lew Archer Novel', 'The Code of the Woosters', 'Nicolae', 'Ten Kids, No Pets', 'The Hippopotamus', \"A Redwall Winter's Tale\", 'Adventures of Mr. Nicholas Wisdom', 'Slow Man', 'The Age of the Pussyfoot', 'Cal', 'The Silver Mistress', 'Between the Rivers', \"The Bull's Hour\", \"Razor's Edge\", 'The Tale of Despereaux', 'Stormy Weather', \"Fitzpatrick's War\", 'The Master of Ballantrae', 'Veniss Underground', 'The Named', 'Beyond Apollo', 'The Lake', 'Rocheworld', 'The Day of Creation', 'Way of the Peaceful Warrior', 'Mystery Mile', 'Who?', 'Diva: A novel', 'Cat and Mouse', 'The Crown of Dalemark', 'Rifles for Watie', 'Hawkes Harbor', 'Three Junes', 'The Magic Labyrinth', 'Secret Agent of Terra', 'The Telling', 'Daniel Martin', \"Annie's Baby\", 'Iceberg', 'The Aspern Papers', 'Magyk', 'Bee Season: A Novel', 'Designated Targets', 'The Revelation', 'Michelle Remembers', 'Colossus', 'The Great God Pan', 'Malone Dies', 'The Confidential Agent', 'Brisingr', 'Captain Underpants and the Attack of the Talking Toilets', 'Captain Underpants and the Invasion of the Incredibly Naughty Cafeteria Ladies from Outer Space', 'Captain Underpants and the Wrath of the Wicked Wedgie Woman', 'Quarantine', 'Galax-Arena', 'The Hill of Dreams', 'The History of Henry Esmond', 'The Ghosts of N-Space', 'There Shall Be No Darkness', 'Zia', 'Sobre Héroes y Tumbas', 'The Moneypenny Diaries: Guardian Angel', 'Romulus, My Father', 'The Women of Brewster Place', 'The Sheep-Pig', 'I Capture the Castle', 'Trojan Odyssey', 'Acidity', 'Bartholomew and the Oobleck', 'I Had Trouble in Getting to Solla Sollew', 'Summerland', 'The Beast Within', 'Arthur Mervyn', 'War Game', 'Call It Sleep', 'The Crime at Black Dudley', 'The Merlin Conspiracy', 'The Ambler Warning', 'The Janson Directive', 'When We Were Orphans', 'The Brightonomicon', 'Tunnels of Blood', \"Junior Jedi Knights: Lyric's World\", 'Junior Jedi Knights: Promises', 'Junior Jedi Knights: The Golden Globe', \"Junior Jedi Knights: Anakin's Quest\", \"Junior Jedi Knights: Vader's Fortress\", \"Junior Jedi Knights: Kenobi's Blade\", 'Helen with a High Hand', 'Direct Descent', 'The Aquitaine Progression', 'Richter 10', 'The Outsider', 'Malevil', 'Castles Made of Sand', 'Cowl', 'Arch of Triumph', 'The Cancer Ward', 'Molon Labe!', 'Midnight Lamp', 'Band of Gypsys', 'The Big Nowhere', \"Jarhead: A Marine's Chronicle of the Gulf War and Other Battles\", 'The Chosen', 'The Standing Dead', 'The Apprentice', 'Portrait of a Young Man Drowning', 'Stargirl', 'Invitation to a Beheading', 'Julian', 'The Man', 'A Question of Upbringing', 'Tempest', 'The Amulet of Samarkand', 'Eye in the Sky', 'A Planet for the President', 'Double Image', 'The Number Devil', \"It's Not the End of the World\", 'Gravity Dreams', 'The Life and Adventures of Santa Claus', 'The People of Sparks', 'Luna: A Novel', 'A Nation of Immigrants', 'The Secret Sharer', 'The Spellcoats', 'Crossfire', 'A Stranger Is Watching', 'The Nitrogen Fix', 'Rogue Planet', 'Tea from an Empty Cup', 'Darth Maul: Shadow Hunter', 'The Technicolor Time Machine', 'Monument', 'Higher Education', 'Varjak Paw', 'Rabbit Redux', 'High Society', 'Santorini', 'The Dark', 'The Last Ship', 'Seven Ancient Wonders', \"The Golem's Eye\", \"Ptolemy's Gate\", 'All Families Are Psychotic', 'The Scapegoat', 'No Country for Old Men', 'Trials of Death', 'Soul Harvest', 'The Indwelling', 'The Mark', 'The Remnant', 'Armageddon', 'Glorious Appearing', 'The Rising', 'The Rapture', 'Waterland', 'Dangling Man', 'With the Old Breed: At Peleliu and Okinawa', 'The Deceiver', 'The Victim', 'Young Bond Book 3', \"Evening's Empire\", 'Roseanna', 'The Enchanted Castle', 'Invasion', 'Operation Chaos', 'Monster Nation', 'The Confusions of Young Törless', 'Monster Island', 'The Children of the Company', 'Drawing Blood', 'Myron', 'Dragonfly in Amber', \"Hart's Hope\", 'Taran Wanderer', 'The Castle of Llyr', 'The Autobiography of an Ex-Colored Man', 'Hot Sleep', 'The Mysteries of Udolpho', 'The Secret People', \"L'Œuvre\", 'Beyond Civilization', 'Class Reunion', \"Hunter's Moon\", 'The Staircase', 'Black Easter', \"Darwin's Radio\", 'A Glimpse of Tiger', 'The Master Mind of Mars', 'Pushing Ice', 'Man After Man: An Anthropology of the Future', 'Time Jumper', 'The Recognitions', \"A Dark Night's Passing\", 'Deenie', 'A Dweller in Two Planets', 'A Day with Wilbur Robinson', 'The Man Who Went Up in Smoke', 'The Book of Three', 'Auriol', \"Lord Foul's Bane\", 'The Hamlet', 'What a Piece of Work I Am', 'Kydd', 'Kailashey Kelenkari', 'Innocent Blood', 'Daggerspell', 'Ligeia', 'Five Point Someone - What not to do at IIT', 'The Lady in the Morgue', 'The Tenth Man', 'A Matter of Honour', 'Flush', 'Sword at Sunset', 'The Silver Branch', 'The Rivers of Zadaa', 'Moonchild', 'The Wright 3', 'The Professor, the Banker, and the Suicide King: Inside the Richest Poker Game of All Time', 'Prince of Foxes', 'Call It Courage', 'His Family', 'Voss', 'Variable Star', 'Lord of the Shadows', 'Dirt Music', 'The Island on Bird Street', 'Cryptid Hunters', 'Drowned Wednesday', \"The Spook's Apprentice\", 'Ice', 'The Witches of Karres', 'The Boy Who Followed Ripley', 'Halfway Across the Galaxy and Turn Left', 'The Light Bearer', 'The Damnation of Theron Ware', 'Arthur & George', 'Lady Friday', 'The Man on the Balcony', 'Night Probe!', 'The Burning City', 'Dragonquest', 'All the Weyrs of Pern', 'The Travels of Jaimie McPheeters', 'Miss Wyoming', 'No Promises in the Wind', 'Burning Tower', 'Warday', 'Tool of the Trade', 'The Black Swan', 'Dark Lord: The Rise of Darth Vader', 'The Yacoubian Building', 'Prentice Alvin', 'The Assistant', 'The Berlin Stories', 'Pet Peeve', 'The Golden Notebook', \"Sharpe's Havoc\", 'Let the Circle Be Unbroken', 'Westmark', 'Gaston de Blondeville', 'The Man Who Loved Children', 'Money', 'Play It As It Lays', 'The Ant Bully', 'Prophet', 'Rally Cry', 'The Simoqin Prophecies', \"The Manticore's Secret\", 'The Dawning Light', 'Path of Destruction', 'The Final Solution', 'The Body of Jonah Boyd', 'Heavy Weather', \"W ou le souvenir d'enfance\", 'Gypsy Rizka', 'The Fifty Year Sword', 'Flight of Eagles', 'The Kestrel', 'A Breath of Snow and Ashes', 'Legacy of the Jedi', 'The Approaching Storm', 'Secrets of the Jedi', 'Boba Fett: The Fight to Survive', 'Plowing the Dark', 'Who Killed the Robins Family?', 'A Strange Manuscript Found in a Copper Cylinder', 'The Laughing Policeman', 'Autumn Term', 'The Marlows and the Traitor', \"Falconer's Lure\", 'The Dew Breaker', 'Saint Leibowitz and the Wild Horse Woman', 'End of Term', 'Transcendent', 'Closed Chambers: The Rise, Fall, and Future of the Modern Supreme Court', 'Crispin: The Cross of Lead', 'The Real Life of Sebastian Knight', 'Star Quest', 'Outside Providence', 'Into the Land of the Unicorns', 'The Hermaphrodite', 'Bernice Bobs Her Hair', 'Kipps: The Story of a Simple Soul', 'The It Girl', \"Abel's Island\", 'Tatooine Ghost', 'Cocktail Time', 'Sahara', 'The Wedding', 'Chthon', 'Vendetta for the Saint', 'Valley of the Lost', 'Maze of the Beast', 'Return to Del', 'Hunger', 'Mysteries', 'Jedi Apprentice: Deceptions', 'Roderick Hudson', 'The Year of Our War', 'Howards End', 'Molloy', 'The Changing Land', 'A Shadow on the Glass', \"Sharpe's Tiger\", \"Sharpe's Triumph\", \"Sharpe's Fortress\", \"Sharpe's Prey\", \"Sharpe's Rifles\", \"Sharpe's Trafalgar\", \"Sharpe's Eagle\", 'The Witches of Chiswick', 'Pale Horse Coming', 'Tara Road', 'Washington Square', 'Well-Schooled in Murder', 'Generals Die in Bed', 'Peter and the Starcatchers', 'Lungbarrow', 'Ramona the Pest', 'The Princess Casamassima', 'The Bostonians', 'First to Fight', 'One for the Money', 'Two For the Dough', 'Three to Get Deadly', 'The Ancestor Cell', 'Obasan', 'The Tragic Muse', 'Esperanza Rising', 'Keepers', 'The Universal Baseball Association, Inc., J. Henry Waugh, Prop.', 'The Shrouded Planet', 'The Spoils of Poynton', 'The Last Light of the Sun', 'Zotz!', 'Arabella', 'The Grand Sophy', 'The Foundling', 'Sylvester, or the Wicked Uncle', 'Bath Tangle', 'The Masqueraders', 'Powder and Patch', 'The Dante Club', 'Skinny Legs and All', 'Tintorettor Jishu', \"Destiny's Road\", 'What Maisie Knew', 'Star Trek: The Motion Picture', 'Chesapeake', 'Paradise', 'Shadow Fox', 'Ladder of Years', 'The Green Ray', 'Chander Pahar', 'Wow! City!', 'The Negotiator', 'HaJaBaRaLa', 'Spock Must Die!', 'In the Cage', 'The Feast of All Saints', 'Beyond This Place', 'Planet of Judgment', 'Gridiron', 'The Blue Sword', 'A Tale of Two Cities', 'The Magnificent Ambersons', 'Plain Truth', 'Winds of Change', 'The Sacred Fount', 'Thinner', 'Peace Breaks Out', 'Sassinak', 'Elantris', 'Al Capone Does My Shirts', 'Be More Chill', 'Linda Condon', 'Badenheim 1939', 'Creation', 'Young Bond Book 4', 'Watch and Ward', 'Confidence', 'Nothing Lasts Forever', 'Ravage', 'La Nuit des temps', 'Killobyte', 'Ceres Storm', 'At the Back of the North Wind', \"Aunts Aren't Gentlemen\", 'Mike', 'Psmith in the City', 'Psmith, Journalist', 'The Reverberator', 'The Other House', 'Dance Dance Dance', 'Clovis Dardentor', \"The Head of Kay's\", 'Love Among the Chickens', 'Conversations in Sicily', 'The Prince and Betty', 'Land Beyond the Map', 'The Outcry', 'Cycle of Nemesis', 'Teacher Man', 'Riceyman Steps', 'The Ivory Tower', 'The Sense of the Past', 'Ship of Fools', 'The Swoop', 'The Little Nugget', 'Violin', 'Mrs. Kimble', 'The Lorax', 'Meyebela, My Bengali Girlhood', 'Vulcan!', 'To Outrun Doomsday', 'Strega Nona', \"Balthasar's Odyssey\", 'The Lighthouse', 'Crocodile on the Sandbank', 'A Summer Place', 'Flashfire', 'Hangfire', \"Kingdom's Fury\", 'Lazarus Rising', 'Jedi Trial', 'Pillar of Fire', 'Golem XIV', 'The Red Tent', 'The Leap', 'Cell', \"Lisey's Story\", \"The No.1 Ladies' Detective Agency\", 'From Nine to Nine', 'The Honorary Consul', 'We Were the Mulvaneys', 'I Know This Much Is True', 'Sati', \"Then Again, Maybe I Won't\", 'Guard of Honor', \"Iceland's Bell\", 'Dragonflame', 'Dragonstorm', 'Stone and Sea', 'Stone and Sky', 'Stone and Sun', 'Black Alice', 'The Lives of Christopher Chant', 'Like Water for Chocolate: A Novel in Monthly Installments with Recipes, Romances and Home Remedies', 'Rainbows End', \"Jack's Return Home\", 'Unseen', 'Monster Island', 'Heat', 'Spike and Dru: Pretty Maids All in a Row', 'Halloween Rain', 'Night of the Living Rerun', 'How I Survived My Summer Vacation', 'Blooded', 'Sins of the Father', 'Child of the Hunt', 'Paleo', 'The Evil That Men Do', 'Doomsday Deck', 'Immortal', 'Prime Evil', 'Power of Persuasion', 'Revenant', 'Resurrecting Ravana', 'Return to Chaos', 'Visitors', 'Unnatural Selection', 'Deep Water', 'Here Be Monsters', 'The Book of Fours', 'Oz: Into the Wild', 'These Our Actors', 'Tempted Champions', 'Little Things', 'Crossings', 'Sweet Sixteen', 'Wisdom of War', 'Apocalypse Memories', 'Mortal Fear', 'Non-Stop', 'The Starlight Barking', 'The Penultimate Truth', 'Songs in Ordinary Time', 'The Heart of a Woman', \"She's Come Undone\", 'Where the Heart Is', 'Midwives', 'A Map of the World', 'Vinegar Hill', 'River, Cross My Heart', 'Mother of Pearl', \"The Pilot's Wife\", 'Jewel', 'Drowning Ruth', 'Back Roads', 'Daughter of Fortune', 'Icy Sparks', 'The Book of Ruth', 'The Witching Hour', 'Avalon High', 'The Hounds of the Morrigan', 'The King in the Window', 'Blackwater', 'The Death of Kings', 'Alamut', 'So You Want to Be a Wizard', 'A Woman of the Iron People', 'Rip Foster Rides the Gray Planet', 'All Men are Mortal', 'The Devil and Miss Prym', 'Off On A Comet', 'Uneasy Money', 'The Merry Adventures of Robin Hood', 'Stark', 'Spherical Harmonic', 'Labyrinth', 'The Deviant Strain', 'Only Human', 'Hunger of Memory: The Education of Richard Rodriguez', 'A Salty Piece of Land', 'The Octopus: A Story of California', \"Building Harlequin's Moon\", 'Power of Three', 'The Fall of Kelvin Walker: A Fable of the Sixties', 'Fugitive Pieces', 'Pubis angelical', 'Thirsty', 'Pirates of Venus', 'Wizard of Venus', \"The Stars' Tennis Balls\", 'Queen of the Slayers', 'Spark and Burn', 'Keep Me In Mind', 'The Suicide King', 'Cursed', 'Deep Wizardry', 'High Wizardry', 'McTeague', 'A Wizard Abroad', 'The Princess Bride', 'Schism', 'Skyfall', 'The Dogs of War', \"The Wizard's Dilemma\", 'A Wizard Alone', \"Wizard's Holiday\", \"Uncle Tom's Children\", \"Sharpe's Gold\", 'Mr. Monk Goes to the Firehouse', 'The Ashram', 'The Grass Harp', 'Avenger', 'Voices From The Gathering Storm: The Web of Ecological-Societal Crisis', 'Norstrilia', \"Sharpe's Battle\", \"The King's Fifth\", 'Indiscretions of Archie', 'The Swineherd', 'Tunes for Bears to Dance To', 'Somnium', 'The Gates of Rome', 'The Gods of War', 'The Scarlatti Inheritance', 'The Ill-Made Mute', 'A Fate Totally Worse than Death', 'Absolute Midnight', 'Blood and Fog', 'After Image', 'Carnival of Souls', 'Colony', 'Night Train', 'Blackout', 'The Pirates! in an Adventure with Scientists', 'The Dying Days', 'Big Trouble', 'Reading Lolita in Tehran: A Memoir in Books', 'Wizard', 'Demon', 'The Book of Ultimate Truths', 'Surrender the Pink', \"Dogs Don't Tell Jokes\", 'The Longest Night', 'A Fine Night for Dying', 'Live Flesh', 'A Fatal Inversion', 'The Sirian Experiments', 'The Marriages Between Zones Three, Four and Five', 'The Making of the Representative for Planet 8', 'The Sentimental Agents in the Volyen Empire', 'Sidetracked', 'Typhoon', 'Angélique, the Marquise of the Angels', 'From Doon With Death', 'Life & Times of Michael K', 'The Perilous Gard', 'Storm Warning', 'Children of The Dust', 'Running Wild', 'The Wild Swans', 'Alchemy', 'End in Tears', 'Mem and Zin', 'Las películas de mi vida', 'August 1914', 'The Dying Animal', 'Roxana: The Fortunate Mistress', 'Four to Score', 'High Five', 'Seven Up', 'Hot Six', 'To the Nines', 'Ten Big Ones', 'Eleven on Top', 'Radetzky March', 'One, No one and One Hundred Thousand', 'I Left My Sneakers in Dimension X', 'The Search For Snout', 'Aliens Stole My Body', \"The Devil's Arithmetic\", \"L'Esclusa\", 'This Other Eden', 'Adam and Eve and Pinch Me', 'Gateway', \"The Moon's Shadow\", 'Ascendant Sun', 'The Quantum Rose', 'Chasing Redbird', 'The View from Saturday', 'Missing May', 'The Trumpeter of Krakow', 'A Grave Talent', 'Tokyo', 'The Treatment', 'The Black Corridor', 'Meg: A Novel of Deep Terror', 'Absolutely Normal Chaos', 'Stamboul Train', 'Out of the Shelter', 'Paradise News', 'Home Truths: A Novella', 'Delusions of Grandma', 'Open House', 'The Coral Island', 'No Man Friday', 'One Night @ the Call Center', 'The Shadow of the Wind', 'Boba Fett: Crossfire', 'Adolphe', 'Mr Midshipman Easy', 'Dreamsnake', 'World of Ptavvs', 'Israel Potter', 'Socialite Evenings', 'The Worthing Chronicle', 'Freckle Juice', 'Good as Gold', 'Trollslayer', 'Engine Summer', 'Martin Dressler: The Tale of an American Dreamer', 'Bill the Conqueror', 'Sam the Sudden', 'To Serve Them All My Days', \"Sorcerer's Apprentice\", \"Dragon's Teeth\", 'Sky Burial', 'Settling Accounts: The Grapple', \"Sharpe's Company\", 'Il Turno', 'Canal Dreams', 'A Song of Stone', 'Winter Holiday', 'Damaged Goods', 'Godless', 'Summer Gone', 'Dancers in Mourning', 'Flowers for the Judge', 'A Passionate Pilgrim', 'As She Climbed Across the Table', 'The Nargun and The Stars', 'The Invention of Morel', 'Madame de Mauves', 'Them Bones', \"Shapeshifter's Quest\", 'Mister Monday', 'Thank You, Jeeves', 'A Specter is Haunting Texas', 'Phallos', 'Nights at the Circus', 'Pilgrimage to Hell', 'The Author of Beltraffio', 'Etidorhpa', 'Valiant : A Modern Tale of Faerie', 'Villa Incognito', 'Uncle Fred in the Springtime', 'Rape of the Fair Country', 'Black Creek Crossing', 'A London Life', 'Great Northern?', 'The Fifth Man', 'Oxygen', 'The Face', 'Galahad at Blandings', 'Empire Star', 'Public Enemy Number Two', \"Niels Klim's Underground Travels\", 'Battleaxe', 'The Game of Sunken Places', 'The Ashes of Eden', 'Bracebridge Hall', 'Grim Tuesday', 'Full Moon', 'Black Coffee: A Hercule Poirot Novel', 'Onion John', 'The Stars Look Down', 'Sunwing', 'Not Forgotten', 'Close to the Ground', 'Soul Trade', 'Redemption', 'Shakedown', 'Hollywood Noir', 'Avatar', 'From Here to Eternity', 'Ruled Britannia', 'The Tristan Betrayal', 'House', '.hack//AI buster 2', 'The Altar of the Dead', 'The Mating Season', 'Bruja', 'The Summoned', 'Image', 'Haunted', 'Stranger to the Sun', 'Vengeance', 'Endangered Species', 'Impressions', 'Fearless', 'Sanctuary', 'Dark Mirror', 'Solitary Man', 'Love and Death', 'Monolith', 'Nemesis', 'Book of the Dead', 'The Law and the Lady', 'Ghoul Trouble', 'The Satan Bug', 'The Defense', 'Swallowdale', 'A Time to Run', 'The House of Sixty Fathers', 'Master of the Void', 'The Praise Singer', 'Barabbas', 'The Wives of Bath', 'The Two Princesses of Bamarre', \"The Czar's Madman\", 'Here Be Dragons', 'The Nightmare Fair', \"Kushiel's Scion\", \"Kushiel's Justice\", \"The Midwife's Apprentice\", 'Prathapa Mudaliar Charithram', 'Home of the Gentry', 'Fingersmith', 'Moderato Cantabile', 'Computer Lib', 'Bec', \"Sharpe's Sword\", 'The Ear, the Eye, and the Arm', 'The Nurture Assumption: Why Children Turn Out the Way They Do', 'Providence: The Story of a 50 Year Vision Quest', 'Blonde Ambition', 'Back in Black', 'The Short Reign of Pippin IV', 'Gentlemen & Players', 'Young Bond Book 5', 'What We Do Is Secret', 'The Ice Harvest', 'Fire From Heaven', 'Qadiani Problem', 'The Sound of the Mountain', 'Loser', \"Whortle's Hope\", \"Ogmund's Gift\", 'The Haunted Bookshop', 'There Are Doors', 'Daddy-Long-Legs', 'Nadja', 'Pigs Have Wings', 'Wings', 'The Smell of Apples', 'Pigeon Post', 'The Visitation', 'Jeeves and the Feudal Spirit', 'Metal fırtına', 'Allies of the Night', 'The Courtship of Princess Leia', 'The Black Gryphon', 'Thousand Cranes', 'O-zone', \"A Buyer's Market\", 'Service With a Smile', \"My Mother's Castle\", 'Sir Thursday', 'Across The Zodiac', 'Dragonsinger', 'The People That Time Forgot', 'The Solitaire Mystery', 'The Sign of the Beaver', 'The Walking Drum', 'A Pelican at Blandings', 'Bachelors Anonymous', 'The Day My Bum Went Psycho', 'Convergence', 'Tar Baby', 'Greatheart Silver', 'The Beggar', 'The Fifth of March', 'The Sleeper Awakes', 'Prayers for the Assassin', 'The Emigrants', 'The Quillan Games', 'The Deed of Paksenarrion', \"Dragon's Kin\", 'A Spell for Chameleon', 'Centaur Aisle', 'Ogre, Ogre', 'Dragon on a Pedestal', 'Crewel Lye: A Caustic Yarn', 'Golem in the Gears', 'Vale of the Vole', 'Heaven Cent', 'Man from Mundania', 'Isle of View', \"Demons Don't Dream\", 'Harpy Thyme', 'Geis of the Gargoyle', 'Roc and a Hard Place', 'Xone of Contention', 'The Dastard', 'Swell Foop', 'Cube Route', 'Currant Events', 'Stork Naked', 'Air Apparent', 'The Island', 'The Shape of Things to Come', 'Sister of the Bride', 'Otis Spofford', 'King of Shadows', 'Crossing the Line', 'The World Before', 'Shoeless Joe', 'Day Watch', 'A Judgement In Stone', 'Make Death Love Me', 'Flush: A Biography', 'Calico Captive', 'Dissolution', 'Up a Road Slowly', 'Shriek: An Afterword', \"Texar's Revenge, or, North Against South\", 'The Holy', 'Some of Your Blood', 'Everyday Use', 'Gene', 'Swallows and Amazons', 'Confessions of a Mask', 'Murphy', 'Deep Water', 'The Lake of Souls', 'Hawksong', 'The Dragon Masters', 'Last Human', 'Yoda: Dark Rendezvous', 'The Book of Ebenezer Le Page', 'Black Blade', 'A Political Romance', 'The Legend of Huma', 'Making Money', 'The Kindness of Women', 'Planet of Twilight', 'MedStar II: Jedi Healer', 'Shock', 'The Secret of Sinharat', 'London Blues', 'Parable of the Sower', 'Parable of the Talents', 'Those Who Trespass', 'Best Friends', 'Raja Gidh', 'The White Hotel', 'People of the Talisman', 'Thr3e', 'Coot Club', 'Comet in Moominland', 'Finn Family Moomintroll', 'Moominsummer Madness', 'The Star Fraction', \"The Twins at St. Clare's\", \"The O'Sullivan Twins\", 'Epic', 'Harry Kitten and Tucker Mouse', 'Moominland Midwinter', 'White Jazz', \"Summer Term at St. Clare's\", \"The Devil's Teardrop: A Novel of the Last Night of the Century\", 'The Gathering', 'Le Phare du bout du monde', 'The Last of the Sky Pirates', 'Midnight Over Santaphrax', 'Empty World', 'Slawter', 'Girl of the Limberlost', 'Vox', 'The War of The Roses', 'Deus Irae', 'The Novice', \"The Magicians' Guild\", 'The High Lord', 'Catch Me When I Fall', 'The Dream Life of Balso Snell', 'Into a Dark Realm', 'Inside Mr. Enderby', 'Enderby Outside', \"The Clockwork Testament, or Enderby's End\", 'Heartfire', 'Alvin Journeyman', 'Darksaber', 'Children of the Jedi', 'Star Wars Republic Commando: Triple Zero', 'The New Rebellion', 'The Thief Lord', 'The Crystal Star', 'Jedi Apprentice: The Followers', 'Look to the Lady', 'Police at the Funeral', 'The Crime Wave at Blandings', 'Tribulation Force', 'The Black Book', 'Woodstock', 'Star Wars Galaxies: The Ruins of Dantooine', 'Hideaway', 'Insurrection', 'Condemnation', 'Extinction', 'Annihilation', 'Resurrection', 'The Cleric Quintet', 'Secret Water', 'The Picts And The Martyrs', 'Someone Comes to Town, Someone Leaves Town', 'The Trench', 'A Tangled Web', 'Meg: Primal Waters', \"Meg: Hell's Aquarium\", 'Heroes Die', 'Lonely Road', 'Shield of Lies', \"Tyrant's Test\", 'The Highwayman', 'The Demon Apostle', 'Mortalis', 'Ascendance', 'Immortalis', \"The Witch's Daughter\", 'The Fire Rose', 'Blade of Tyshalle', 'Amber and Iron', 'Boba Fett: Maze Of Deception', 'Boba Fett: Hunted', 'Boba Fett: A New Threat', 'Boba Fett: Pursuit', 'The Sea of Trolls', 'Operation Thunder Child', 'The Cat Who Turned On and Off', 'Imaro', 'The Story of Ab', 'The Tale of the Flopsy Bunnies', 'Youth: Scenes from Provincial Life II', 'The Quest for Cush', 'The Trail of Bohu', 'The Last Kingdom', 'The Taking', 'The Child in Time', 'Locked In Time', 'Go Ask Malice', 'Sunnydale High Yearbook', 'The Hive', 'Velocity', 'A Forest Apart', \"Fool's Bargain\", 'Mythago Wood', \"We Didn't Mean To Go To Sea\", 'Blood on the Moon', 'Lavondyss', 'Shadows in Flight', 'Midnighters 1: The Secret Hour', 'Might As Well Be Dead', 'Simon and the Witch', 'The Great War: Breakthroughs', \"Oh No It Isn't!\", 'The Silent Speaker', 'Rogue Saucer', \"Dragon's Egg\", 'Charlotte Sometimes', 'The Pilot: A Tale of the Sea', 'Birthright', 'Just War', 'Silverwing', 'The Pale Horseman', 'The Last Enchantment', 'Planet X', 'The Golden Spiders', 'Too Many Cooks', 'The Dark Room', 'The Shell Seekers', 'Dust to Dust', 'The Child of the Cavern', 'The Doorbell Rang', 'Take a Thief', 'The President Vanishes', 'Bad for Business', 'Murder in E-Minor', 'Swan Song', 'Budding Prospects', 'The Rise of Silas Lapham', 'Black Sun Rising', 'When True Night Falls', 'Wing Commander: False Colors', \"Dragons' Wrath\", 'A Northern Light', \"Acorna's People\", \"Acorna's World\", 'The Case of the Late Pig', 'The 13 Clocks', 'Bones of the Moon', \"Two Years' Vacation\", 'Tau Zero', 'Big Planet', 'A Long Way from Chicago', 'Expendable', 'The Tale of Squirrel Nutkin', 'Mr. Mixie Dough', 'Halo: Ghosts of Onyx', 'Manalive', 'Amber and Ashes', 'The Whole Family', 'The Unconsoled', 'The Face of the Waters', 'The Werewolf of Paris', 'Fire Time', 'Thank You For Smoking: A Novel', 'Snow', 'The Tale of Mr. Jeremy Fisher', 'The Tale of Mrs. Tittlemouse', 'The Tale of Ginger and Pickles', 'The Tale of Mrs. Tiggy-Winkle', 'Sister Alice', 'Brightly Burning', 'Lord Emsworth Acts for the Best', 'The Promise', 'The Tale of Jemima Puddle-Duck', 'The Tailor of Gloucester', 'The Sleeping Father', 'The Tale of Tom Kitten', 'De Re Metallica', 'Chandrakanta', 'The Tale of Mr. Tod', 'Company for Gertrude', 'The Go-getter', 'Ernesto', 'Circus of the Damned', 'Gypsy in Amber', 'The Mermaid Chair', 'If You Could See Me Now', 'The Curse of Lono', 'Ginger Pye', 'After the Bomb', 'The Glass Cafe', '1633', 'The Adventures of Super Diaper Baby', 'The Calcutta Chromosome', 'Ondskan', 'Star Wars Jedi Quest 8: The Changing of the Guard', 'Stormbreaker', 'Darkwing', 'Three for the Chair', 'The Knight of the Sacred Lake', 'The Princess of Dhagabad', 'Fade to Black', 'Half Moon Investigations', 'The Status Civilization', 'Death of a Ghost', 'The Torture Garden', 'The Gate of Time', 'Rogue in Space', 'Superior Saturday', 'Lord Sunday', 'Before Midnight', 'Morning Star', 'The Black Mountain', 'Apollyon', 'Postmortem', 'Cider with Rosie', 'The Tale of the Pie and the Patty-Pan', 'Firethorn', 'Voice of the Fire', 'An Act of Terror', 'Castle', 'Hell to Pay', 'Above the Veil', 'Aenir', 'Dead On Target', 'Evil, Inc.', 'Alta', 'Cult of Crime', 'The Broken Place', 'The Magellanic Cloud', 'Border Country', 'Losing You', 'Tales of Pirx the Pilot', \"Newton's Wake: A Space Opera\", \"Hangman's Curse\", 'Dragonology: The Complete Book of Dragons', \"A Boy's Own Story\", 'What Happened to Mr. Forster?', 'Winds of Fury', 'World Game', 'Adiamante', 'Winds of Fate', 'The Wicked Day', 'Fire on the Mountain', 'Teckla', 'The Devil Goblins from Neptune', 'The Tigers of Mompracem', 'The Pirates of Malaysia', 'City of the Beasts', 'Abduction', 'Parasite Eve', 'Excalibur', 'Festival of Death', 'A Son Called Gabriel', 'The World of Normal Boys', 'Ekaterina', 'Dream Children', 'Lord Dismiss Us', 'The Empire of Glass', 'I, Q', 'Icon', 'Yendi', 'This Earth of Mankind', 'The Roundheads', 'Child of the Dark Prophecy', 'Terre Haute', 'Eon', 'The Acceptance World', \"At Lady Molly's\", 'The Kindly Ones', 'Exile', 'Sacrifice', 'Ilsa', 'The Wandering Fire', 'The Bridge on the River Kwai', 'Doctor Zhivago', 'Return from the Stars', 'The Silence of the Lambs', 'Eye of Heaven', 'Forged in the Fire', 'The Witch Hunters', 'The Hollow Men', 'Last of the Gaderene', 'Catastrophea', 'Mission: Impractical', 'Company', 'The Inheritors', 'The Runes of the Earth', 'When Jonathan Died', 'Marrow', 'Dragons of Autumn Twilight', 'Dragons of Winter Night', 'Dragons of Spring Dawning', 'Ambush at Corellia', 'Assault at Selonia', 'Showdown at Centerpoint', 'Plainsong', 'The Voodoo Plot', 'Zeta Major', 'The Immoralist', 'Timewyrm: Genesys', 'Mission to Magnus', 'The Lifted Veil', 'The Temple of Dawn', 'Dreams of Empire', 'The Final Sanction', 'Black Water', 'Dying in the Sun', 'Cold Mountain', \"Caedmon's Song\", 'The Colony of Lies', \"Raven's Gate\", 'The Green Man', 'Mr. Tickle', 'The Riders', 'The Night of Wenceslas', 'Proteus in the Underworld', 'Harbinger', 'Georges', 'The Man from St. Petersburg', 'White Mughals', 'Avoidance', 'Fade', 'Dream Boy', 'The Decay of the Angel', 'America', 'Punk Farm', 'Point Blanc', 'The Book of the Dun Cow', 'The Possibility of an Island', 'The Matarese Countdown', 'The Last of the Jedi: The Desperate Mission', 'Path to Truth', 'Star Wars Jedi Quest 1: The Way of the Apprentice', 'The Trail of the Jedi', 'The Dangerous Games', 'The Master of Disguise', 'The Demon Awakens', 'The Shadow Trap', 'The Demon Spirit', 'The Moment of Truth', 'The False Peace', 'The Final Showdown', 'Obsessed', 'Fear', 'Nightmare Academy', 'Sunrise Alley', 'Last Seen Wearing ...', 'The Curse of the Pharaohs', 'Love Monkey', 'The Scales of Injustice', \"Armageddon's Children\", 'The Day Lasts More Than a Hundred Years', 'The Descent', \"The Tricky Part: One Boy's Fall from Trespass into Grace\", 'Last Man Running', 'Matrix', 'Petey', 'All Fall Down', 'The Lunatic Cafe', 'A Gathering of Old Men', 'The Fire Engine That Disappeared', 'Devil on My Back', 'Five Quarters of the Orange', 'Round the Bend', 'The Mummy Case', 'The Last of the Jedi: A Tangled Web', 'A Piece of Blue Sky', 'The Tattooed Potato and Other Clues', 'The Poe Shadow', 'The Broken Vase', 'Waylander', 'Rogue Moon', 'The World Jones Made', 'The Infinity Doctors', 'Waylander II: In the Realm of the Wolf', 'Ayesha', 'We Can Build You', 'The Tree of Hands', 'Our Friends from Frolix 8', 'The Hollowing', 'Bloody Bones', 'Jedi Twilight', 'The Game-Players of Titan', 'The Werewolf of Fever Swamp', 'The Unteleported Man', 'The Steep Approach to Garbadale', 'Among the Impostors', 'Not Quite Dead Enough', 'Preserver', 'Portal Through Time', 'Night Frost', 'Clans of the Alphane Moon', 'The Houses of Iszm', 'Small Steps', 'The Other', 'The Stone Carvers', \"The Bishop's Mantle\", 'Hornblower and the Crisis', \"Spindle's End\", 'March', 'We All Fall Down', 'A Gift From Earth', 'The Fireclown', 'Allan Stein', 'We Need to Talk About Kevin', 'Everyman', \"Gobbolino, the Witch's Cat\", 'The Whipping Boy', 'The Last of the Jedi: Dark Warning', 'The Last of the Jedi: Underworld', 'The Last of the Jedi: Death on Naboo', 'Star Surgeon', 'Star Healer', 'Code Blue - Emergency', 'The Genocidal Healer', 'The Galactic Gourmet', 'Final Diagnosis', 'Mind Changer', 'Time to Depart', 'Counter-Clock World', 'The Killing Dance', 'The Ghost at Skeleton Rock', 'The Flying Sorcerers', 'Oath of Fealty', 'Out from Boneville', 'The Teutonic Knights', 'The Harsh Cry of the Heron', \"Heaven's Net Is Wide\", 'Youngblood Hawke', 'Mr. Blandings Builds His Dream House', 'Hornblower and the Atropos', 'Three Hands in the Fountain', 'Henry and Ribsy', \"King David's Spaceship\", 'Step by Wicked Step', 'The African Queen', 'Night Without End', 'Gregor the Overlander', 'Billy', 'The New Republic', 'Death of a Whaler', 'The Ship', 'Stronghold', 'Bumageddon: The Final Pongflict', 'The Mandalorian Armor', 'The Book of the Dead', 'Lovelock', 'Fripp', 'Heechee Rendezvous', 'Amnesia Moon', 'The Iron Hand of Mars', 'The Silver Pigs', 'Ali and Nino: A Love Story', 'The Great Cow Race', 'Eyes of the Storm', 'The Dragonslayer', 'Rock Jaw: Master of the Eastern Border', \"Old Man's Cave\", 'Ghost Circles', 'Crown of Horns', 'A Ship of the Line', 'Dealing with Dragons', 'The Clock Winder', 'Andersonville', 'The River', 'The Unlimited Dream Company', 'Patterns of Force', 'Facing the Future', 'Total War: 2006', 'The Lords of the North', \"Sharpe's Fury\", 'Galaxy of Fear: Eaten Alive', 'Galaxy of Fear: The Nightmare Machine', 'Galaxy of Fear: Army of Terror', 'Galaxy of Fear: The Brain Spiders', 'Galaxy of Fear: The Doomsday Ship', 'Galaxy of Fear: The Hunger', 'The Vision', 'The Face of Fear', 'Whispers', 'The Mask', 'The Eyes of Darkness', 'The House of Thunder', 'Darkfall', 'Twilight Eyes', 'Strangers', 'Watchers', 'Shadow Fires', 'The Servants of Twilight', 'Lightning', 'The Bad Place', 'Mr. Murder', 'Dragon Tears', 'Winter Moon', 'Dark Rivers of the Heart', 'Intensity', \"Zorba the Hutt's Revenge\", 'Mission from Mount Yoda', 'Queen of the Empire', 'Prophets of the Dark Side', 'Second Chance', 'The Ruling Class', 'The Crack in Space', 'Tyrannosaur Canyon', 'Dance of Death', 'Air', 'Flying Colours', 'Sole Survivor', 'Fear Nothing', 'False Memory', 'One Door Away from Heaven', 'From the Corner of His Eye', 'By the Light of the Moon', 'The Husband', 'Sheep', 'Dead Calm', 'The Eiger Sanction', \"Marley & Me: Life and Love with the World's Worst Dog\", 'Dr. Futurity', \"Brian's Winter\", 'Voyage of the Shadowmoon', 'A Rather English Marriage', 'Enigma', 'The Eternal Champion', 'The Tale of Johnny Town-Mouse', 'An Age', \"Don't Stop the Carnival\", 'Green for Danger', 'Bloody Jack', 'Mistress of Spices', 'The Lost Language of Cranes', 'Wolfbane', 'The Space Merchants', 'The Princess Diaries, Volume II: Princess in the Spotlight', 'The Rag and Bone Shop', \"Solomon's Stone\", 'Miracles on Maple Hill', 'Fail-Safe', 'The Vampire Prince', 'The Well-Mannered War', 'The Sands of Time', 'Hunters of the Dusk', 'Killers of the Dawn', 'Koyasan', 'Ruined City', 'Changeling', 'Madwand', \"Barney's Version\", 'The House with a Clock in Its Walls', 'The Viceroy of Ouidah', \"Brian's Hunt\", 'Xavras Wyżryn', 'Flashman', 'Lost City', 'Hunter', 'The Dragon Society', 'The Day of the Scorpion', 'Royal Flash', 'Flash for Freedom!', 'Flashman at the Charge', 'Flashman in the Great Game', \"Flashman's Lady\", 'Flashman and the Redskins', 'Flashman and the Dragon', 'Flashman and the Mountain of Light', 'Flashman and the Angel of the Lord', 'Flashman and the Tiger', 'Flashman on the March', 'Mr American', '33 Snowfish', 'Heaven Knows, Mr. Allison', 'Fire in the Abyss', 'Mountains Beyond Mountains', 'Donnerjack', 'The House on the Borderland', 'The Hundred Dresses', 'A Dying Light in Corduba', 'Where Rainbows End', 'The Champion Maker', \"Archer's Goon\", 'Lion in the Valley', 'Double Whammy', 'Call for the Dead', 'In Custody', 'A Murder of Quality', \"Iggie's House\", 'Otherwise Known as Sheila the Great', 'Forever', 'The Return', 'More Die of Heartbreak', 'Nastanirh', 'A Good Scent from a Strange Mountain', 'Definitely Maybe', 'Exiles to Glory', 'Jumping the Scratch', 'Vector', \"Ratman's Notebooks\", \"D'entre les morts\", \"The Madman's Tale\", 'Birds Without Wings', 'Tetrarch', \"The Rotters' Club\", 'The Wild Boy', 'A Cry in the Night', 'The Rainbird Pattern', 'The Fury', 'Topaz', 'Ashes and Diamonds', 'The Lab', 'Edinburgh: A Novel', 'The Coming Storm', 'A Short History of Tractors in Ukrainian', 'The Manchurian Candidate', 'Starring Sally J. Freedman as Herself', 'Wifey', 'Smart Women', 'Fudge-a-Mania', 'Trace', \"Here's to You, Rachel Robinson\", 'Star King', 'Burnt Offerings', 'Islands in the Stream', 'Shuttle Down', 'The Face', 'The Killing Machine', 'Room at the Top', 'Death in Holy Orders', 'The Skull Beneath the Skin', 'Original Sin', 'The Interruption of Everything', 'Sweet Danger', 'Tuck Everlasting', 'Sideways', 'The Big Six', 'Missee Lee', 'Nemesis', 'Bloodhype', 'Orphan Star', 'The End of the Matter', 'Flinx in Flux', 'For Love of Mother-Not', 'Mid-Flinx', 'Reunion', 'A Cavern of Black Ice', 'A Small Town in Germany', 'The Poseidon Adventure', \"Flinx's Folly\", 'Sliding Scales', 'Running from the Deity', 'Patrimony', 'Spellsinger', 'The Hour of the Gate', 'The Day of the Dissonance', 'The Moment of the Magician', 'Atlantis Found', 'The Paths of the Perambulator', 'Blue Moon', '9tail Fox', 'Bloomability', 'Chinese Cinderella', 'The Time of the Transference', 'Son of Spellsinger', 'Chorus Skating', 'Settling Accounts: In at the Death', 'Battledragon', 'The Dragon Token', 'Skybowl', 'Doña Bárbara', 'Catriona', 'Curse of the Mistwraith', 'Miss Hickory', \"Harm's Way\", 'Ender in Exile: Ganges', 'All-Consuming Fire', 'Terminator Gene', 'Endymion Spring: Open the Book that Unlocks the Secret', 'The Life Lottery', \"It's Like This, Cat\", 'Stormed Fortress', 'How late it was, how late', 'Killing Ground', 'Alexander and the Terrible, Horrible, No Good, Very Bad Day', 'Obsidian Butterfly', 'Two women', 'Dragon Ultimate', \"A Dragon at Worlds' End\", \"A Fan's Notes\", 'Wild Magic', 'Primary Inversion', 'A Great and Terrible Beauty', 'Toxin', '1634: The Galileo Affair', '1635: The Cannon Law', 'Rider at the Gate', \"Cloud's Rider\", 'The Fatal Equilibrium', 'The Palace of Love', 'King Dork', 'The Casino Murder Case', \"Kissing the Gunner's Daughter\", 'Checkers', 'Owlflight', 'The Harmony Silk Factory', 'Cotillion', 'Arc Light', 'Verdigris', 'A Fortress of Grey Ice', 'The Quiet Gentleman', 'The Toll-Gate', 'April Lady', 'Dreadnought', 'Narcissus in Chains', 'Hannibal', 'The Siege of Krishnapur', \"Midshipman's Hope\", \"Challenger's Hope\", 'Reality Dust', 'Firstborn', \"Vulcan's Hammer\", 'The Lover', 'Midworld', 'One of Ours', 'Cachalot', 'Voyage to the City of the Dead', 'Sentenced to Prism', 'The Howling Stones', 'Drowning World', 'In a Free State', 'Evil Star', 'The Hunter', 'Phoenix in Obsidian', 'Bad Bargain', 'Blast from the Past', 'The City in the Autumn Stars', 'Taking Lives', 'If Beale Street Could Talk', 'Time and Again', 'Cerulean Sins', 'Zabibah and the King', 'Blood Harvest', 'A Demon in My View', 'Athyra', 'If I Had One Wish', 'Noisy Nora', 'Doing It', 'The Family Trade', 'The Probability Broach', 'The Military Philosophers', 'The House of Stairs', 'Snakecharm', 'Falcondance', 'Thirteen Steps Down', 'Deep Secret', \"The Water's Lovely\", 'Le Complexe de Di', 'The Keys to the Street', 'A Fine Dark Line', 'Simisola', 'The Crocodile Bird', 'Phylogenesis', 'Dirge', 'Shadows in Bronze', \"Poseidon's Gold\", 'Last Act in Palmyra', \"Diurnity's Dawn\", 'Going Wrong', 'The Bridesmaid', 'The Veiled One', 'Talking to Strange Men', 'Heartstones', 'Woman on the Edge of Time', 'An Unkindness of Ravens', 'Forbidden', 'Deeds of the Disturber', 'The Jewel in the Crown', 'The Towers of Silence', 'A Division of the Spoils', 'Vortex', 'The Winter King', 'Enemy of God', 'Glory Lane', 'Created By', 'The Killing Doll', 'The Speaker of Mandarin', 'Pig Island', 'Excalibur: A Novel of Arthur', 'Fires of Azeroth', 'Gate of Ivrel', 'Well of Shiuan', \"Exile's Gate\", 'Ordinary Jack', 'Eight Days of Luke', 'Specimen Days', 'After the Hole', 'Hostage', 'The Cat Ate My Gymsuit', 'To Catch a Thief', 'Master of the Moor', 'Put on By Cunning', 'The Lake of Darkness', 'A Sleeping Life', 'The Torments of the Traitor', 'The Last Camel Died at Noon', 'Atom Bomb Blues', 'The Thin Man', 'Fear Itself', \"City at World's End\", 'Running Out of Time', 'Incubus Dreams', 'Truth and Bright Water', 'Shake Hands Forever', 'The Face of Trespass', 'Some Lie And Some Die', 'Murder Being Once Done', 'No More Dying Then', 'One Across, Two Down', 'A Guilty Thing Surprised', 'The Best Man to Die', 'The Secret House of Death', 'A New Lease of Death', 'Wolf to the Slaughter', 'Vanity Dies Hard', 'To Fear A Painted Devil', 'The Godfather Returns', \"The Godfather's Revenge\", 'Summer of the Monkeys', \"Lion's Blood\", 'The Ape Who Guards the Balance', \"Dante's Equation\", 'Family Secrets', 'The Minotaur', 'The Blood Doctor', 'Grasshopper', \"The Chimney-sweeper's Boy\", 'Red Dragon', 'Corpse Marker', \"The Dragon Can't Dance\", 'Tomb of Valdemar', 'Grave Matter', 'The Door', 'Island of Death', 'Ancestors of Avalon', 'Heart of TARDIS', 'Prime Time', 'Half-Broken Things', 'Bullet Time', 'The Shadow in the Glass', 'Drift', 'The True Story of the Three Little Pigs', 'The Algebra of Ice', 'Synthespians™', 'The Eleventh Tiger', 'Empire of Death', 'The Osterman Weekend', 'The Pledge: Requiem for the Detective Novel', 'Independence Day', 'The King of Terror', 'As the Crow Flies', 'Last Orders', 'The Quantum Archangel', 'Bunker Soldiers', 'Rags', 'M*A*S*H Goes to Maine', 'Jurassic Park', 'Byzantium!', 'The Hawk Eternal', 'Fear of the Dark', 'Warmonger', 'Amorality Tale', 'Among the Barons', 'The Butterfly Tattoo', 'Arashi no Yoru Ni', 'The Front Runner', 'In Search of a Distant Voice', 'Gonna Roll the Bones', 'The Loveday Loyalty', 'My Brother Sam Is Dead', 'Micah', 'Shadowslayers', 'The Old New Land', 'Petals on the Wind', 'If There Be Thorns', 'Seeds of Yesterday', 'The Three Evangelists', 'Garden of Shadows', 'Have Mercy on Us All', 'The Black Book', \"There's a Boy in the Girls' Bathroom\", 'Man on Fire', 'Web of Dreams', 'Dawn', 'Secrets of the Morning', \"Twilight's Child\", 'Midnight Whispers', 'Ruby', 'To Live Again', 'The Sleep of Reason', 'Psycho', 'Strangers on a Train', 'Halflife', 'Emotional Chemistry', 'Timeless', 'Reckless Engineering', 'Time Zero', 'History 101', 'The Crooked World', 'Hope', 'The Scapegoat', 'Hide and Seek', 'Tooth and Nail', 'Strip Jack', 'The Stranger', 'Mortal Causes', 'Let it Bleed', 'Involuntary Witness', 'Black and Blue', 'The Hanging Garden', 'Dead Souls', 'Set in Darkness: An Inspector Rebus Novel', 'Resurrection Men', 'A Question of Blood: An Inspector Rebus Novel', 'Mad Dogs and Englishmen', 'The Falls', 'Fleshmarket Close', 'The Naming of the Dead', 'The Hiding Place', 'The Ultimate Evil', 'Peveril of the Peak', 'The Fair Maid of Perth', 'Anne of Geierstein', 'Weir of Hermiston', 'Witch Hunt', 'Bleeding Hearts', 'Blood Hunt', 'Before the Fact', 'The Talented Mr. Ripley', 'Timewyrm: Exodus', 'Timewyrm: Apocalypse', 'Timewyrm: Revelation', 'Darkfall', 'Drift House: The First Voyage', 'The Professor of Desire', 'The Last Hero', 'Winner Takes All', 'Cold Fusion', 'System Shock', 'The Eye of the Giant', 'The Plotters', 'Forty Thousand in Gehenna', 'The Also People', 'Space Station Seventh Grade', \"The Begum's Millions\", 'The Prophet of Yonwood', \"Old Man's War\", 'Snobs', \"Cat's Cradle: Time's Crucible\", \"Cat's Cradle: Warhead\", 'Nightshade', 'Love and War', 'Transit', 'White Darkness', 'Blood Heat', 'Conundrum', 'No Future', 'Tragedy Day', 'Legacy', 'Theatre of War', 'To Reign in Hell', 'Warlock', 'Sky Pirates!', 'Zamper', 'Toy Soldiers', 'Head Games', 'Warchild', 'SLEEPY', 'GodEngine', 'So Vile a Sin', 'Twilight of the Gods', 'Artemis Fowl: The Seventh Dwarf', 'The Lost Weekend', 'The Bodysnatchers', 'Genocide', 'War of the Daleks', 'Alien Bodies', 'The Innocent Man: Murder and Injustice in a Small Town', 'Escape Velocity', 'The Burning', 'Legacy of the Daleks', 'Placebo Effect', 'Someday Angeline', 'The Face-Eater', 'Revolution Man', 'Unnatural History', 'The Tinder Box', 'She Was a Lady', 'The Bronze God of Rhodes', 'The Black Moth', 'To Play the Fool', 'With Child', 'The Art of Detection', 'A Monstrous Regiment of Women', 'A Letter of Mary', 'Absolute Zero', 'Getaway', 'Tempest', 'The Sword of Forever', 'Another Girl, Another Planet', 'Where Angels Fear', 'Tears of the Oracle', 'Presumed Innocent', \"Serpent's Reach\", 'An Elephant for Aristotle', 'Billiards at Half-past Nine', 'Seven Little Australians', 'Around the Moon', \"Thieves' Picnic\", 'The Saint in Miami', 'The Saint Steps In', 'Hex', 'The Regime', 'Desecration', 'Rimrunners', \"Merchanter's Luck\", 'Tripoint', \"Finity's End\", 'The Friends of Eddie Coyle', \"Enrique's Journey\", 'Kira-Kira', 'A Feast Unknown', 'Eternity', 'The Two of Them', 'The Saint and the Fiction Makers', 'The Saint in Pursuit', 'The Dragon of the Ishtar Gate', 'Lord of the Trees', 'Never End', 'The Saint and the People Importers', 'The Saint and the Hapsburg Necklace', 'Locked Rooms', 'Lost', 'Exquisite Corpse', 'The Saint and the Templar Treasure', 'When the People Fell', 'Half-Life', \"Hell's Kitchen\", 'Freckles', 'The Winthrop Woman', 'The Darkest Road', 'Moondyne', 'The Flanders Panel', 'The Secret World of Og', 'The Fourth Bear', 'The Ordeal of Gilbert Pinfold', 'Letter to a Christian Nation', 'The Right to Arm Bears', 'The Snake, the Crocodile, and the Dog', 'The Charnel Prince', 'The Sweetest Fig', 'Sabre-Tooth', 'A Taste for Death', 'The Impossible Virgin', 'Last Day in Limbo', \"Dragon's Claw\", 'The Xanadu Talisman', 'The Night of Morningstar', \"Dead Man's Handle\", 'Inside Outside', 'Who Killed Kennedy', 'The Gospel According to Adam', 'The Wild Geese', 'After the First Death', 'Un Lun Dun', 'The Green Odyssey', \"Mutineers' Moon\", 'The Keeper of the Isis Light', 'Echoes of the great song', 'Conundrum', \"Cuckoo's Egg\", 'The Lioness', 'Dark Thane', 'Vampirates: Demons of the Ocean', 'Spin', 'Mosquitoes', 'Fear is the Key', \"Borkmann's Point\", \"Dr. Franklin's Island\", 'Memoirs of a Survivor', 'The Twenty-Seventh City', \"Anno Domini 2000 - A Woman's Destiny\", 'The Bancroft Strategy', 'Parallelities', 'The Hippopotamus Pool', \"Now It's My Turn\", 'The Peacekeepers', 'Survivors', 'Strike Zone', 'Stalking the Unicorn', 'Charlotte Gray', 'Betsey Brown', 'Or Die Trying', 'Q and A', 'The Night Listener', 'Lord Tyger', 'The Golden Wind', 'The Arrangement', 'The Book of Abraham', 'The Art of Dreaming', 'The Last Unicorn', 'The Outpost', 'Diplomatic Immunity', 'Gregor and the Curse of the Warmbloods', 'Gregor and the Marks of Secret', 'The Abyssinian', 'The Tenth Insight: Holding the Vision', 'The Guardian of Isis', 'The Isis Pedlar', 'The Howling', 'Sten', 'Seeing a Large Cat', 'The Parched Sea', 'Face of the Enemy', 'My Uncle Napoleon', 'Beasts of No Nation', 'Unknown man No. 89', 'Facing the Flag', 'Beyond the Black Stump', 'The War Machine', 'Riders in the Chariot', 'When the Wind Blows', 'Blades of the Tiger', 'The Riddle', 'The Mocking Program', 'The Infinitive of Go', 'Inca Gold', \"The One Percent Doctrine: Deep Inside America's Pursuit of Its Enemies Since 9/11\", 'War of the Worlds: New Millennium', 'Generation \"П\"', 'Wild Energy', 'Stolen', 'Dime Store Magic', 'Industrial Magic', 'Operation Hell Gate', 'Haunted', 'Chaotic', 'Broken', 'Such Is My Beloved', 'The Great War: Walk in Hell', 'American Empire: The Victorious Opposition', \"I'd Tell You I Love You, But Then I'd Have to Kill You\", 'The Third World War: The Untold Story', 'Carbonel: the King of the Cats', \"Conrad's Fate\", 'Spadework', 'Sweet Silver Blues', 'Bitter Gold Hearts', 'Cold Copper Tears', 'Old Tin Sorrows', 'Dread Brass Shadows', 'Red Iron Nights', 'Deadly Quicksilver Lies', 'Petty Pewter Gods', 'Faded Steel Heat', 'Angry Lead Skies', 'Whispering Nickel Idols', 'Pendragon Book 8', 'The Magician', 'Tex', 'Coots in the North', 'Black Sheep', 'Inconstant Star', 'Boogiepop Returns: VS Imaginator Part 1', 'The Flying Classroom', 'Twilight Watch', 'The New Centurions', 'Consent to Kill', 'Faery in Shadow', 'Trail of the Black Wyrm', 'Brothers of Earth', 'Hunter of Worlds', 'Two Weeks with the Queen', 'Tactics of Mistake', \"Gil's All Fright Diner\", 'After Dachau', 'Hestia', 'I, Lucifer', 'The Falcon at the Portal', 'He Shall Thunder in the Sky', 'The Paladin', 'The Curse of the Gloamglozer', 'Alanna: The First Adventure', 'In the Hand of the Goddess', 'The Woman Who Rides Like a Man', 'Lioness Rampant', 'Someone Like You', 'Fletch', 'Sherlock Holmes ~ The Way of All Flesh', 'Bump in the Night', 'The Cosmic Puppets', 'Wolf-Speaker', 'Emperor Mage', 'The Realms of the Gods', 'Shadows on the Stars', 'The Removers', 'Amongst Women', 'Matter', \"Devlin's Luck\", 'The Secret Pilgrim', 'Danse Macabre', 'The Cutting Edge', 'Ten Little Wizards', 'A Study in Sorcery', 'Learning the World', 'Operation Luna', 'Bernard the Brave', 'Worldwar: In the Balance', 'Bel Canto', 'Sarah', 'The Singer of All Songs', 'Iracema', 'The Waterless Sea', 'The Ruins of Gorlan', 'The Burning Bridge', 'Freddy Goes to Florida', 'The Last of the Wine', 'The Tenth Power', 'Worldwar: Tilting the Balance', 'Lord of the Silent', 'The Golden One', 'Children of the Storm', 'Guardian of the Horizon', 'The Serpent on the Crown', 'Tomb of the Golden Bird', 'Mitch and Amy', 'Ramona the Brave', 'The Caine Mutiny', 'The Assassin King', 'Olympos', 'The Thirteen Problems', 'Ramona and Her Father', 'Ramona and Her Mother', 'Ellen Tebbits', 'The First Casualty', 'The Watsons', 'The Akhenaten Adventure', 'In the Night Kitchen', 'The Strange World of Planet X', 'The Sum of All Men', 'Brotherhood of the Wolf', 'The Conqueror Worms', 'Aelita', 'Wizardborn', 'The Lair of Bones', 'Worldwar: Upsetting the Balance', 'Worldwar: Striking the Balance', \"At the Earth's Core\", 'Life During Wartime', 'Among the Brave', 'The Stone Rose', 'Jumper', 'Rant: The Oral Biography of Buster Casey', 'Fool on the Hill', 'Question and Answer', 'Among the Enemy', 'Among the Free', 'Girls in Pants: The Third Summer of the Sisterhood', 'A Stroke of Midnight', 'Seduced by Moonlight', 'A Caress of Twilight', 'A Kiss of Shadows', \"Mistral's Kiss\", 'Monster Planet', 'Freddy Goes to the North Pole', 'My Cousin Rachel', 'Revolt on Alpha C', 'The Outcasts of 19 Schuyler Place', 'The Book of Dave', 'Out', 'Adverbs', 'The Gift of Asher Lev', 'The Bride Price', 'Weapon', '4th of July', 'Second Sight', 'Dubrovsky', 'The Baron in the Trees', 'Gather Yourselves Together', 'Voices From the Street', \"The Professor's House\", 'Mary and the Giant', 'A Time for George Stavros', \"The Well at the World's End\", 'The Broken Bubble', 'The Octagonal Raven', 'Puttering About in a Small Land', 'Nicholas and the Higs', 'The Clockwise Man', 'Edenborn', 'The Blue Djinn of Babylon', \"Dicey's Song\", \"A Gathering of Days: A New England Girl's Journal\", 'I, Juan de Pareja', '...And Now Miguel', 'Amos Fortune, Free Man', 'King of the Wind', 'Rabbit Hill', 'Adam of the Road', 'Roller Skates', 'Invincible Louisa', 'Young Fu of the Upper Yangtze', 'Gay Neck, the Story of a Pigeon', 'The Snarkout Boys and the Avocado of Death', 'Bearing an Hourglass', 'Wielding a Red Sword', 'Being a Green Mother', 'For Love of Evil', 'And Eternity', 'Lives of the Saints', 'Whale Song', 'The Monsters Inside', 'The Last Hawk', 'The Stealers of Dreams', 'Leaf Storm', 'An Old Captivity', 'A Problem from Hell: America and the Age of Genocide', 'The Feast of the Drowned', 'The Resurrection Casket', 'I am a Dalek', 'The War in 2020', 'Gösta Berlings Saga', 'Benjamin Button', 'How I Live Now', 'Dragon Venom', 'Taronga', 'Cover Her Face', 'The Brothers', 'Wizard of the Pigeons', 'Bright Lights, Big City', 'The Sinner', 'The Bourne Betrayal', 'Freedomland', 'Green Rider', \"Sandry's Book\", 'The Maracot Deep', 'Flesh and Blood', 'Justinian', 'The Blunderer', 'The Purple Land', \"Tris's Book\", 'If Only It Were True', 'David and the Phoenix', 'Other Songs', 'Jim Button and Luke the Engine Driver', 'An Acceptable Time', 'Ramona Quimby, Age 8', 'Catalyst', 'René', 'The Quincunx of Time', 'East', 'Premonitions', \"Magic's Pawn\", 'Taming The Star Runner', \"Magic's Promise\", \"Magic's Price\", 'The Wheels of Chance', 'The Arrows of Hercules', 'Berlin Game', 'Late Victorian Holocausts', \"First Rider's Call\", 'Elusive Isabel', 'Ramona Forever', 'Forest Mage', 'Die Dame im Chinchilla', 'Jessica', 'Lautlos wie sein Schatten', 'Der perfekte Mord', \"The Spook's Curse\", \"The Spook's Secret\", \"The Albino's Dancer\", 'The Cabinet of Light', 'Last Of The Breed', 'Collaborator', 'The Winning Side', 'Shell Shock', 'Heavy Weather', 'First Amoung Sequels', 'Runaway', 'Down a Dark Hall', 'Gallows Hill', 'The Keep', 'Reborn', 'Nightworld', 'Boogiepop Returns: VS Imaginator Part 2', 'The Keep', 'Red Thunder', 'Blow Your House Down', 'Peculiar Lives', 'Wieland', 'Upland Outlaws', 'Another Day in Paradise', 'Why the Whales Came', 'Foreign Devils', 'The Silver Wolf', 'The Inheritance', 'Against the Day', \"Molly Moon's Hypnotic Time-Travel Adventure\", 'Golem100', 'The Monastery', 'Last Full Measure', 'Who He?', 'The Computer Connection', 'Tender Loving Rage', 'Molly Moon Stops the World', 'The Living and the Dead', \"An Arrow's Flight\", 'The Watsons Go to Birmingham - 1963', 'Fury', \"The Bears' Famous Invasion of Sicily\", 'Lunch Money', 'The Magicians of Caprona', 'The Cricket in Times Square', 'The Second Confession', 'Back to Life', \"What You Won't Do For Love\", 'And Be a Villain', 'ATLA - A Story of the Lost Island', 'The Fallen', 'The 25th Hour', 'Secret Servant: The Moneypenny Diaries', 'The Kobayashi Maru', 'The Gift', 'Winkie', 'Staying Fat For Sarah Byrnes', \"His Majesty's Dragon\", 'The Goblin Mirror', 'Monster Blood Tattoo Book One: Foundling', 'Tarzan the Untamed', 'The Golden Age', 'The Lightning Thief', 'Invisible', 'The Heart Is Deceitful Above All Things: Stories', 'Twelve Sharp', 'Language of Goldfish', 'My Friend Leonard', 'Gettysburg: A Novel of the Civil War', 'Grant Comes East', 'The Face in the Frost', \"Beowulf's Children\", 'Absurdistan', 'Circus', 'Layer Cake', 'Forgive us our Sins', 'Rejuvenile: Kickball, Cartoons, Cupcakes, and the Reinvention of the American Grown-up', 'Dragon Keeper', 'Bag Limit', 'Alma Cogan', 'Past Master', 'The Book of Dreams', 'Dragon Fire', 'Divine Hammer', 'The Dargonesti', 'They Thirst', 'The Word', 'Leroy And The Old Man', 'The Lies of Locke Lamora', 'Runaway Ralph', 'A Spectacle of Corruption', 'A Conspiracy of Paper: A Novel', 'A Flame in Hali', \"Murderers' Row\", 'Darkness and Light', 'The Afghan', 'The Cossacks', 'Ida B.', 'Hadji Murat', 'Lulu Dark Can See Through Walls', 'Mexico Set', 'London Match', 'Spy Hook', 'Spy Line', 'Spy Sinker', 'Winter', 'Olivia Joules and The Overactive Imagination', 'There Should Have Been Castles', 'The Second Angel', 'The Story of the Phantom: The Ghost Who Walks', 'Cel mai iubit dintre pământeni', 'After Dark', 'Mistborn: The Final Empire', 'The Ruins', 'The Honorable Barbarian', 'The Goblin Tower', 'Glory', 'Troy: Shield of Thunder', 'Three Hearts and Three Lions', 'The Clocks of Iraz', 'The Bladerunner', 'Bloodtide', 'The Third Eye', 'La chamade', 'The Friendship', 'The Education of Little Tree', 'Kaleidoscope', 'Letting Go', 'Dogsbody', 'Dance Hall of the Dead', 'Chosen of the Gods', 'Bard: The Odyssey Of the Irish', 'The Hoboken Chicken Emergency', 'Bones of the Earth', 'The Growing Pains of Adrian Mole', 'Adrian Mole: The Cappuccino Years', 'Land of Unreason', 'The Boats of the \"Glen Carrig\"', 'Kingdom Come', 'All She Was Worth', 'The Zenith Angle', 'See Jane Run', 'The Carnelian Cube', 'This Lullaby', 'Joey Pigza Swallowed the Key', 'Brothers Majere', 'The Piano Tuner', 'Blood Beast', 'Demon Apocalypse', 'Father of Frankenstein', \"Nerilka's Story\", 'The Ruby in the Smoke', 'Reading in the Dark', 'Uglies', 'Are You My Mother?', 'The Jewel In The Skull', 'Skeleton Key', 'The Judas Pair', \"Joe Gould's Secret\", 'The Heralds', 'Magic Moon', 'The Will of the Empress', \"Briar's Book\", 'Riverwind the Plainsman', 'Shock Wave', 'Zorachus', 'Was', 'Tears Of The Giraffe', 'Morality for Beautiful Girls', 'The Outstretched Shadow', 'Anne Frank and Me', 'Laughter in the Dark', 'The Illearth War', 'Loose Ends', 'Redwall Map & Riddler', 'The Power that Preserves', \"Olive's Ocean\", 'Redwall Friend & Foe', 'Black Light', 'Time to Hunt', \"The Mad God's Amulet\", 'Peter and the Shadow Thieves', 'Vixen 03', 'The Vesuvius Club', 'The Adolescence of P-1', 'Aiding and Abetting', 'Listening Woman', 'The Masterharper of Pern', 'The Shadowers', 'The Ravagers', 'The Devastators', 'The Betrayers', 'The Menacers', 'The Interlopers', 'The Poisoners', 'The Intriguers', 'The Intimidators', 'The Terminators', 'The Retaliators', 'The Terrorizers', 'The Revengers', 'The Annihilators', 'The Infiltrators', 'The Detonators', 'The Vanishers', 'The Demolishers', 'The Frighteners', 'The Threateners', 'The Damagers', 'Flash', 'Ignorance', \"Second Form at St. Clare's\", \"Dragon's Fire\", 'Dead White', 'Inferno', 'Final Impact', 'Cousin Henry', 'Murder on the Leviathan', 'Showboat World', 'Night of the Werewolf', 'Mystery of the Samurai Sword', 'César Cascabel', 'The Dissolution of Nicholas Dee', 'Dragonsblood', 'The Skies of Pern', 'A Book of Common Prayer', 'The Dolphins of Pern', 'King, Queen, Knave', \"Sharpe's Devil\", 'The Abolition of Britain: From Winston Churchill to Princess Diana', 'The Alteration', 'Emil and the Detectives', 'The Ninja', 'The Highway Men', 'The Pentagon Spy', \"The Apeman's Secret\", 'The Mummy Case', 'Mystery of Smugglers Cove', 'The Stone Idol', 'The Vanishing Thieves', \"The Outlaw's Silver\", 'Submarine Caper', 'The Broken Commandment', 'Glory in Death', 'Nymphomation', 'The Doll People', 'The Oracle, by Catherine Fisher', 'The Winter Queen', 'Skinwalkers', 'The Icarus Hunt', 'The Penderwicks: A Summer Tale of Four Sisters, Two Rabbits, and a Very Interesting Boy', 'Prayers to Broken Stones', 'Rules of Engagement', 'Web', 'Spectrum', 'The Cave', 'If I Die in a Combat Zone: Box Me Up and Ship Me Home', 'Mary, Mary', 'Judge and Jury', 'One, Two, Buckle My Shoe', 'Jubilee Trail', 'Witch Week', 'Castle in the Air', 'The Infinity Clue', 'The Four-Headed Dragon', 'Track of the Zombie', 'The Billion Dollar Ransom', 'Tic-Tac-Terror', 'Trapped At Sea', 'Game Plan for Disaster', 'The Crimson Flame', 'The Thief', 'Cyborg', \"Reaper's Gale\", 'Kazohinia', 'Summon the Thunder', 'Amelia', \"The Captain's Daughter\", 'Dragon Sword and Wind Child', 'The Meaning of Night', 'Jubilee', 'Five on a Treasure Island', 'The Haunted Man', \"The Girl at the Lion D'or\", 'After Doomsday', 'Babyji', 'Dead Girls', 'The Grass Crown', 'London Bridges', \"Sorcerer's Son\", 'Black Oceans', 'Any Human Heart', 'The Crystal Palace', 'The Worst Band In The Universe', 'The Class', 'The Bedroom Secrets of the Master Chefs', 'The Skystone', 'The Conservationist', 'Strands of Starlight', \"F.P.1 Doesn't Respond\", 'The Story of Lucy Gault', 'Owls in the Family', 'The Money Dragon', 'Treasure Hunters', 'Maze of Moonlight', 'Shroud of Shadow', 'Strands of Sunlight', 'In the Best Families', 'Raptor', 'M/F', 'Mike Mulligan and His Steam Shovel', 'The Man with the Golden Arm', 'God Game', 'The Magic City', \"Agent Arthur's Desert Challenge\", 'Killdozer', 'Inferno', 'The Pedestrian', 'Sir Nigel', 'When Eight Bells Toll', 'The Sword Of The Dawn', 'Over the Wine Dark Sea', 'Emergence', 'The Thirteen and a Half Lives of Captain Bluebear', 'Young Bloods', 'Acts of War', 'Still Life with Crows', 'Conquistador', 'Elegy for a Lost Star', \"The Thief Queen's Daughter\", 'Cat and Mouse', 'Things as They Are or The Adventures of Caleb Williams', 'First Test', 'The Sands of Time', 'No Time Like Show Time', 'What Is To Be Done?', 'Death Match: A Novel', 'Throne of Jade', 'The Brothers K', 'The Glory That Was', 'Page', 'Diamonds Are Forever', 'Street Magic', 'The Turkish Gambit', '3rd Degree', 'The Dons of Necropolis', 'Legion', 'Wolf Brother', 'El árbol de la ciencia', 'Dead Boys', 'Seemanto-heera', 'Genus Homo', 'The Island of Sheep', 'Some Buried Caesar', 'Palace Walk', 'You Suck: A Love Story', 'Less than Angels', 'Down in the Bottomlands', 'Death In Winter', 'The Black Unicorn', 'Magic Kingdom for Sale -- Sold!', 'The Talismans of Shannara', 'The Elf Queen of Shannara', 'The Druid of Shannara', 'Angel Fire East', 'Soldados de Salamina', 'Fossil Hunter', 'Sunshine', 'A Glass of Blessings', 'Champagne for One', 'Touch Not the Cat', 'Special Topics in Calamity Physics', 'The Invasion', 'Wizard at Large', 'Both Sides of Time', 'Prisoner of Time', 'For All Time', \"The Protector's War\", 'The Fox and the Hound', 'Figgs & Phantoms', 'The Visitor', 'The Season of the Witch', 'The Encounter', 'The Android', 'Cold Fire', 'The Life and Times of the Thunderbolt Kid: A Memoir', 'The Clan Corporate', 'Imperium: A Novel of Ancient Rome', 'The Athenian Murders', 'The Power of the Dog', 'Curse of the Viking Grave', 'Storming Heaven', 'Squire by Tamora Pierce', 'Koko', 'A Suitable Boy', 'Count Robert of Paris', 'Castle Dangerous', 'Genius Loci', 'Der Tunnel', 'How to Be Popular', 'A Land Remembered', 'The Answer', 'The Sunlight Dialogues', 'Teen Idol', 'The Tiger Rising', 'Calling on Dragons', 'Talking to Dragons', 'The Councillor of State', 'Vampirates: Tide of Terror', 'The Quest of the Missing Map', 'The Clue in the Jewel Box', 'The Clue in the Crumbling Wall', 'The Mystery of the Tolling Bell', 'The Clue in the Old Album', 'The Ghost of Blackwood Hall', 'The Clue of the Black Keys', 'The Mystery at the Ski Jump', \"The Ringmaster's Secret\", 'The Witch Tree Symbol', 'The Clue of the Whistling Bagpipes', 'The Invisible Intruder', 'The Mysterious Mannequin', 'The Crooked Banister', 'Blood Done Sign My Name', \"Yesterday's Son\", 'Time for Yesterday', 'A Spot of Bother', 'The Last Theorem', 'Mystery of the Glowing Eye', 'The Secret of the Forgotten City', 'The Sky Phantom', 'The Incorporated Knight', 'The Pixilated Peeress', 'A Pocket for Corduroy', 'Nightrise', 'Romanov prophecy', 'Deep Six', 'Treasure', 'Pacific Vortex!', 'The Lost Prince', 'Sebastian', 'Hills End', 'The Hallo-Wiener', 'Comfort Food', 'Dolphin Island', 'The Death of Achilles', \"Breakfast at Tiffany's\", 'Hadon of Ancient Opar', 'The Message', 'First Blood', \"The Sea Devil's Eye\", 'Journeys and Adventures of Captain Hatteras', 'Next', 'Frritt-Flacc', 'Black Powder War', 'The Ultimate Solution', \"The Bone Doll's Twin\", 'The Sorrow of Belgium', 'Psycho House', 'Bunny Lake Is Missing', 'The Predator', 'The Capture', 'Hope and Other Dangerous Pursuits', 'Toward the End of Time', 'Young Men and Fire', 'A Kid for Two Farthings', 'Knight Life', 'Hidden Warrior', 'The Lady of the Sorrows', '1945', 'War Trash', 'The Sound of His Horn', 'Godaan', 'King and Emperor', \"Marco's millions\", 'Celestial Matters', 'Deryni Rising', 'Deryni Checkmate', 'The Stranger', 'Men Like Gods', 'The Genocides', 'The Goblin Wood', 'Forging the Sword', 'Navohar', 'Time of the Twins', 'Fathom Five', 'Meet the Austins', 'Duma Key', 'The White People', 'Sixth Grade Secrets', 'The Great Gilly Hopkins', 'Brightness Reef', 'High Deryni', 'Live and Let Die', 'I Loved Tiberius', 'Magic Steps', 'Bikini Planet', 'For One More Day', 'Ticktock', 'The Alien', 'The Changeling', 'The Horn of Mortal Danger', 'Song in the Silence', 'The Children of Húrin', 'The Black Prince', 'The Reluctant King', 'Moth Smoke', 'The Child Garden', 'Camber of Culdi', 'The Secret River', 'Island in the Sea of Time', 'Flight to Opar', \"The Brothers' War\", 'Hardboiled & Hard Luck', \"Oracle's Queen\", \"Daja's Book\", 'The Secret', 'Visser', 'Wizards at War', 'Saint Camber', 'I Put A Spell On You', 'Resurrection Day', 'Pretties', 'The Penguins of Doom', 'Specials', 'Mimi and Toutou Go Forth. The Bizarre Battle for Lake Tanganyika', 'Blood and Guts in High School', 'Tarzan and the Ant Men', 'The Mask of Apollo', 'Victory', 'Green Thumb', 'Salt', 'The Forests of Silence', 'The Lake of Tears', 'A Body in the Bath House', 'Enchanted Boy', 'Caps for Sale', 'The Fallible Fiend', 'The Damnation Game', 'Gradisil', 'Kill the Messenger', 'The Carved Lions', '26 Fairmount Avenue', 'The Pirate', 'Father of Lies', 'Capable of Honor', 'English Passengers', 'Preserve and Protect', 'The Transall Saga', 'Camber the Heretic', \"Fortune's Favourites\", 'Peony', \"The Bishop's Heir\", 'The Toyminator', 'In the Line of Fire: A Memoir', 'Loser Takes All', 'Bridge of Souls', \"Myrren's Gift\", 'The Runestaff', \"Traitor's Purse\", 'Ishmael', 'The Sherwood Ring', 'The Wonderful Flight to the Mushroom Planet', 'Stowaway to the Mushroom Planet', 'Furies of Calderon', 'When Darkness Falls', \"The King's Justice\", 'Amaryllis Night and Day', 'A Woman of Substance', 'Let It Come Down', 'The Stones of Summer', 'Whittington', 'Scorpions by Walter Dean Myers', 'A Very Private Life', 'Vinland', 'Eucalyptus', 'Conviction', 'The Bull from the Sea', 'Rise of a Hero', 'The Wizard Test', 'Tremor of Intent: An Eschatological Spy Novel', 'Love Medicine', 'How Much for Just the Planet?', 'Sender Unknown', 'The Rise of David Levinsky', 'Journey to the River Sea', 'Checkpoint: A Novel', 'Electric Brae', 'Fledgling', 'Until the Final Hour', 'Magic', 'Draconian Measures', \"The Machine's Child\", 'Wolves Eat Dogs', 'The Phoenix', 'Things Not Seen', 'The Landry News', 'Janissaries', 'Shadowplay', 'Private Peaceful', 'The Lottie Project', 'Only Forward', 'Red Seas Under Red Skies', 'Children of Orpheus', 'Stormrider', 'The Shadow in the North', 'The Tiger in the Well', 'The Tin Princess', 'The Cone Gatherers', 'Phoenix', 'Taltos', 'Orca', 'Dragon', 'Issola', 'Wringer', 'A Corner of the Universe', 'The Wolf Worlds', 'The Court of a Thousand Suns', 'Fleet of the Damned', 'The Quest for Saint Camber', 'A Thief of Time', 'Darkwitch Rising', 'The Magic Christian', 'Over My Dead Body', \"The Queen's Fool\", 'Hope Was Here', 'Earthquake Terror', 'Fer-de-Lance', 'Infidel', 'San Andreas', \"Wolf's Head, Wolf's Heart\", 'The Harrowing of Gwynedd', 'Peter Pan in Scarlet', 'Just Ella', 'That Summer', 'Getting It', 'Thirteen Bullets', 'The Puppy Sister', 'Man in the Holocene', 'To Light a Candle', 'The Return of John MacNab', 'Danny Dunn, Invisible Boy', 'When They Lay Bare', 'In Another Light', 'The Wish Giver: Three Tales of Coven Tree', 'Sinner', 'Pilgrim', 'RedRobe', \"King Javan's Year\", 'The Years', 'Crusader', 'Cythera', 'The Sculptress', 'P.S. Longer Letter Later', 'Snail Mail No More', 'Eleven Kids, One Summer', 'Yours Turly, Shirley', 'Here Today', 'The Meanest Doll in the World', \"A Dog's Life: The Autobiography of a Stray\", 'Killer on the Road', 'The Boleyn Inheritance', 'The Bastard Prince', 'Fly Away Peter', 'Those Who Walk In Darkness', \"King Kelson's Bride\", 'Clade', 'Kaaterskill Falls', 'Angel Rock', 'Kleinzeit', 'Star-Begotten', 'Tides of War', 'The Inheritance of Loss', 'The Valley of Bones', 'Eloise at Christmastime', 'The Skinner', 'Wolfskin', 'John Macnab', 'The Village By The Sea', \"Prisoner's Base\", 'Restoration', 'The Moth Diaries', \"In the King's Service\", 'Le lion', 'Childe Morgan', 'The Voyage of QV66', \"The Soldier's Art\", 'Inferno', 'Books Do Furnish a Room', 'A Christmas Memory', 'Temporary Kings', 'The World Next Door', 'The Brief History of the Dead', 'Dark Wraith of Shannara', 'The Illustrated Mum', 'Wolfcry', 'Hearing Secret Harmonies', 'The Man-Eater of Malgudi', 'The Anomalies', 'The White Castle', 'Nothing But Blue Skies', 'Sweetblood', 'A Bad Case of Stripes', 'Venus in Copper', 'Monday Mourning', 'Castles of Steel: Britain, Germany, and the Winning of the Great War at Sea', 'Gambit', 'Glasshouse', 'Under the Skin', 'Gila Monsters Meet you at the Airport', 'Wives and Concubines', \"Hades' Daughter\", 'Sing to the Dawn', 'The Third Twin', \"The Andalite's Gift\", 'In the Time of Dinosaurs', 'Icerigger', 'Body of Evidence', 'All That Remains', 'Cruel and Unusual', 'The Body Farm', \"From Potter's Field\", 'Cause of Death', \"Hornet's Nest\", 'Unnatural Exposure', 'Unwiederbringlich', 'The Soulforge', 'The Betrothed', \"The Titan's Curse\", 'The Great Fetish', 'Mr. Tall', 'Joshua Then and Now', 'Doppelganger', \"Jovah's Angel\", \"The Truth-Teller's Tale\", 'The Alleluia Files', 'Angel-Seeker', \"The Yiddish Policemen's Union: A Novel\", 'The Oxford Murders', 'Force 10 From Navarone', 'The Pit: A Story of Chicago', 'Danny and the Dinosaur', 'Space Viking', 'The Wounded Land', 'The One Tree', 'Water', 'iWoz: Computer Geek to Cult Icon - How I Invented the Personal Computer, Co-Founded Apple, and Had Fun Doing It', 'Earth Hive', 'Mad White Giant', 'None But Lucifer', 'Zündels Abgang', 'John Henry Days', 'Déjà Dead', 'Death du Jour', 'Treasure of Khan', 'Thumbsucker', 'Thirst for Love', 'Expecting Someone Taller', 'Harold and the Purple Crayon', 'A House Like a Lotus', 'Nightjohn', 'Treasure Box', 'Take A Girl Like You', 'Slowness', 'Here Comes the Sun', 'Dragons of the Dwarven Depths', 'Lord Kalvan of Otherwhen', 'The Big Hunt', 'Time of our Darkness', 'The City of Ravens', 'The Last of the Jedi: Return of the Dark Side', 'Brain', 'Endymion', \"Sharpe's Escape\", 'A Girl Named Disaster', 'The Egypt Game', 'Thunder Oak', 'Saturnalia', 'War of the Twins', 'Haters', 'On Beauty', 'The Stars are Ours!', 'Jeremy Thatcher, Dragon Hatcher', 'Yavana Rani', 'Fever 1793', 'Sid!', 'Ghost Story', 'A Far Sunset', 'Darkly Dreaming Dexter', 'One Hand Clapping', 'Through Violet Eyes', 'With Red Hands', 'In Golden Blood', 'From Black Rooms', 'I Am a Barbarian', 'Firebird', 'Fusion Fire', 'The Blind Side: Evolution of a Game', 'Katrina', 'Pegasus in Space', 'The Pinhoe Egg', 'Tea with the Black Dragon', 'The Fabulous Clipjoint', 'The Cry of the Wolf', 'Give A Boy A Gun', 'The Little White Horse', 'The Phantom Blooper', 'Prince of Ayodhya', 'The Deerslayer', 'Does My Head Look Big In This?', 'Ten Things I Hate About Me', 'The Evil of the Day', 'Eight Hundred Leagues on the Amazon', \"In Winter's Shadow\", 'Red Army', 'The Abortion: An Historical Romance 1966', 'The Fashion in Shrouds', 'Space Apprentice', 'The Borgia Bride', 'The Haunted Bridge', 'Gideon the Cutpurse', 'Thirteen Moons', 'The Year of the Quiet Sun', 'Fatal Passage: The Story of John Rae, the Arctic Hero Time Forgot', 'Icefire', 'Jack & Jill', 'Awake and Dreaming', 'The Atom Station', 'The Cobra Event', 'Middle Passage', 'The Tin Flute', 'Benny and Omar', 'Peeps', 'The Collectors', 'The Cellar', 'My Louisiana Sky', 'Vital Signs', 'Dead Famous', 'Gossamer', \"What my Mother Doesn't Know\", 'Fury', 'Anastasia At Your Service', 'Anastasia, Ask Your Analyst', 'Anastasia on her Own', 'Anastasia at this Address', 'Fatal Cure', 'Acceptable Risk', 'All About Sam', 'Attaboy Sam!', 'Zooman Sam', 'The Report Card', 'The Courts of the Morning', 'Lizzie Bright and the Buckminster Boy', 'In the Heat of the Night', 'Frostbite', 'Hammered', 'The Secret of the League', 'The Kalahari Typing School for Men', 'Terrier', 'The Elves of Cintra', 'So Much To Tell You', 'Kingdom of the golden dragon', 'Prester John', 'Icefire', 'The Gap in the Curtain', 'The Killing Joke', 'The Sea of Monsters', 'Gooney Bird Greene', 'High Stakes', 'Reunion', 'Moreta: Dragonlady of Pern', 'Dragonsdawn', \"The Memory Keeper's Daughter\", 'Brother in the Land', 'The Farming of Bones', 'Wormwood', 'The Final Key', 'A Barrel of Laughs, a Vale of Tears', 'My Side of the Mountain', 'Beyond The Chocolate War', 'La Joie de vivre', 'City of the Chasch', 'Servants of the Wankh', 'The Dirdir', 'The Pnume', 'Stopping at Slowyear', 'The Search for the Snow Leopard', 'Falling Man', 'Almanac of the Dead', 'Autumn Street', 'Imre: A Memorandum', \"Burger's Daughter\", 'The Summer Garden', 'The Kouga Ninja Scrolls', 'Brown Girl, Brownstones', 'NP', 'Curse of the Blue Tattoo', 'The Sorrows of Satan', 'The Witch Hunter', 'A Midsummer Tempest', 'The Doctor is Sick', 'Le Bleu du ciel', \"You Can't Go Home Again\", 'The October Horse', 'Two for the Lions', 'The Emigrants', 'Unto a Good Land', 'The Settlers', 'The Last Letter Home', 'The Moon by Night', 'The Lay of the Land', 'A Pattern of Roses', 'The Chinese Agent', 'The Young Unicorns', 'This Town Will Never Let Us Go', 'People Might Hear You', 'Talk Talk', 'The Man on the Moor', 'The Antipope', 'The Straw Men', 'Pop Goes the Weasel', 'Digging to America', 'A Practical Man', 'Strange Piece of Paradise', \"Sharpe's Revenge\", 'Eldorado', 'A Sound Like Someone Trying Not to Make a Sound', 'Buck Rogers: A Life in the Future', 'Warlords of Utopia', 'Foxmask', 'The Man Who Never Missed', 'Swastika Night', '1812: The Rivers of War', 'Sacred Clowns', 'Some Like It Hot', \"The Optimist's Daughter\", 'Chase', 'The Night of Kadar', 'The Coma', 'Fourth Mansions', 'Alan Mendelsohn, the Boy from Mars', 'Wren to the Rescue', 'First Person Plural: My Life As a Multiple', 'Bloodthirst', 'Wonder of the Worlds', 'Netochka Nezvanova', 'The Warriors', 'Birth of the Firebringer Trilogy', 'The Sea Fairies', 'Forever in Blue: The Fourth Summer of the Sisterhood', 'Sons of the Oak', 'Jaws', 'Roses are Red', 'Half a Life', 'The Book of Evidence', 'Sky Island', 'Operation Nuke', 'High Crystal', 'Cyborg IV', 'The Ganymede Takeover', 'The Stoic', 'The Animals of Farthing Wood', 'The Enchanted Island of Yew', '3 NBs of Julian Drew', 'Original Stories from Real Life', 'Empire', 'Amazons', 'Gone-Away Lake', 'Batman: The Ultimate Evil', 'Finding Cassie Crazy', 'Physik', 'Cop Killer', 'The Terrorists', 'Murder at the Savoy', 'Courtship Rite', 'Clash Of The Sky Galleons', 'Tangerine', 'Thunder Cave', 'The Butterfly Kid', 'The Radiant Seas', 'The Sledding Hill', 'Still Forms on Foxfield', 'Funeral Games', 'Wheelers', 'Bloodring', 'Northworld', 'The Smoky God', 'The Legend That Was Earth', 'My Sweet Audrina', 'An Assembly Such as This', 'The Amateur Gentleman', 'Ascending', 'Violets are Blue', 'The Haunting of Alaizabel Cray', 'The White Boy Shuffle', 'Hot House Flowers', 'USS Seawolf', 'Watchman', 'Final Watch', 'The Sorcerer in the North', 'The Thieves of Ostia', 'Pulp', 'Romanitas', 'The Painted Veil', 'The Boy Who Reversed Himself', \"The Kaiser's Last Kiss\", \"The King of Elfland's Daughter\", \"The Charwoman's Shadow\", 'The Ice People', 'Beyond Black', \"Une Page d'amour\", 'The Ballad of Peckham Rye', 'Dragon Raja', 'The Detective', 'The Body', 'The Urth of the New Sun', \"Mam'zelle Guillotine\", 'Honey for the Bears', 'Damia', 'The Secrets of Jin-Shei', 'See Delphi and Die', 'The House in Paris', 'So Yesterday', 'The Hunters', 'Go', \"The Falcon's Malteser\", 'Whale Talk', 'Four Blind Mice', 'The Second Invasion from Mars', 'A Charmed Life', 'Mission to Moulokin', 'The First Team', 'Erasing Sherlock', 'The Alien Sea', 'Survivor', 'Snap!', 'A Touch of Frost', 'I Will Repay', 'Sir Percy Leads the Band', 'Between the Acts', \"Lord Tony's Wife\", 'The Elusive Pimpernel', 'First Love: A Gothic Tale', 'Frost at Christmas', 'The Insidious Dr Fu Manchu', \"Enderby's Dark Lady, or No End of Enderby\", 'Dead and Alive', 'The Tritonian Ring', 'Eclipse', 'Remnant Population', 'The Moomins and the Great Flood', 'The Exploits of Moominpappa', 'The Last of the Jedi: Secret Weapon', 'The Godwulf Manuscript', 'Dearly Devoted Dexter', 'The Big Bad Wolf', 'Knights of Forty Islands', 'Nuclear Dream', 'Crank', 'The Custom of the Country', 'The Rhinemann Exchange', 'Only the Heart', 'The Guns of Navarone', 'The Triple Hoax', 'Dragonseye', 'Leven Thumps and the Gateway to Foo', 'The Briar King', 'Dragon Wing', 'Elven Star', 'Fire Sea', 'Serpent Mage', 'The Hand of Chaos', 'Into the Labyrinth', 'The Seventh Gate', 'Crystal Mask', 'The Forgotten', 'The Reaction', 'The Black Swan: The Impact of the Highly Improbable', 'Le Rêve', 'Shadow Moon', 'Blart II: The Boy Who was Wanted Dead or Alive - Or Both', 'Dawn Undercover', 'A Golden Age', 'Hunted', 'The Change', 'The Unknown', 'The Escape', 'The Warning', 'The Decision', 'The Departure', 'The Discovery', 'The Phoenix Guards', 'Five Hundred Years After', 'The Viscount of Adrilankha', 'An Open Swimmer', 'The Threat', 'The Solution', 'The Pretender', 'The Suspicion', 'The Extreme', 'The Attack', 'The Exposed', 'The Experiment', 'The Sickness', 'The Reunion', 'The Conspiracy', 'Eulalia', 'Little Women', 'Silk', 'Storm Front', 'Out of Time’s Abyss', 'Blaze', 'The Wreck of the Zephyr', \"The Serpent's Shadow\", 'Sand Monkeys', 'The Castle in the Forest', 'Man of Nazareth', 'Deliverance', \"July's People\", 'Sir Percy Hits Back', 'Operation: Red Jericho', 'Echo', 'Wayside School is Falling Down', 'The Laughing Cavalier', 'Wayside School Gets A Little Stranger', 'The Act of Roger Murgatroyd', 'Our Lady of the Assassins', \"Damia's Children\", 'The Ballad of Beta-2', 'What Is the What: The Autobiography of Valentino Achak Deng', 'The Devil in Amber', \"The Russian Debutante's Handbook\", 'Babylon 5: Dark Genesis - The Birth of the Psi Corps', 'The Nightmare of Black Island', 'When the Eagle Hunts', 'The Great Santini', 'Mass Effect: Revelation', 'Rash', 'Azure Bonds', 'Green Angel', 'The Way of the Scarlet Pimpernel', 'The Art of Destruction', 'Past Continuous', 'The Price of Paradise', 'Feeling Sorry for Celia', 'The First Sir Percy', 'The Triumph of the Scarlet Pimpernel', 'The Chinese Bell Murders', 'The Chinese Gold Murders', 'The Big Orange Splot', 'The Chinese Lake Murders', 'The Chinese Maze Murders', 'The Haunted Monastery', 'The Stones of Nomuru', \"The Emperor's Pearl\", 'The Lacquer Screen', 'The Red Pavilion', 'The Monkey and the Tiger', 'Dragons in the Waters', 'Michaelmas', 'The Willow Pattern', 'Murder in Canton', 'The Phantom of the Temple', 'Necklace and Calabash', 'Poets and Murder', 'The Doomed City', 'The Sweet Far Thing', 'Mathematicians in Love', 'A Fairly Honourable Defeat', 'Memoirs of Emma Courtney', 'GoodKnyght!', 'Artemis Fowl: The Time Paradox', 'Sexy', 'The Convenient Marriage', 'An Infamous Army', 'The Spanish Bride', \"Faro's Daughter\", 'The Reluctant Widow', 'Venetia', 'The moon riders', 'Song Quest', 'December 6', 'Cross', 'Coal Run', 'Sister Mine', 'The Tale of Benjamin Bunny', 'Lyddie', 'Cousin Kate', 'False Colours', 'A Civil Contract', 'The Story of the Glittering Plain', 'Frederica', 'My Lord John', 'The Conqueror', 'Royal Escape', \"Gould's Book of Fish\", 'Bumface', 'Christy', 'The Entropy Effect', 'Mockingbird', 'Majo no Takkyūbin', 'South by Java Head', 'Step on a Crack', 'Bimbos of the Death Sun', 'Ladies Whose Bright Eyes', 'Software', 'Bone Sharps, Cowboys, and Thunder Lizards', 'Black Order', 'Vince and Joy', 'Under a War-Torn Sky', 'Angel and Apostle', 'Saint', 'Troy: Fall of Kings', \"Ramona's World\", 'The Mission Song', 'Dark Quetzal', 'Slave Girl', 'Car Trouble', 'Wetware', 'The Beggar Queen', 'On Wings of Song', 'Trapped', 'Clockers', 'The Great Time Machine Hoax', 'Vampire Plagues:London 1850', 'Caesar', 'Lullabies for Little Criminals', \"Zak's Lunch\", 'And Chaos Died', 'Deadly Perfume', 'CHERUB: The Recruit', 'CHERUB: Class A', 'Pax Britannia: El Sombra', 'Zastrozzi', 'Funny Boy', 'When the Bough Breaks', 'Shattered', 'The Flesh in the Furnace', 'Mr. Monk and the Blue Flu', 'CHERUB: Maximum Security', 'Is Underground', 'The Thirteenth Tale', 'The Pinballs', 'Empire Falls', 'Black Book', 'The Gospel According to Jesus Christ', 'The Serpent', 'The Secret of Platform 13', 'The Queen of Attolia', 'The Feasting Dead', 'Unleavened Bread', 'The Jupiter Myth', \"Shannon's Way\", 'Star Wars Republic Commando: True Colors', 'The Perfect Thing', 'Hex: Ghosts', \"The Wyvern's Spur\", 'Invaders from the Dark', 'Company K', 'CHERUB: The Killing', 'The Rise of the Black Wolf', 'Forbidden Knowledge', 'A Dark and Hungry God Arises', 'Chaos and Order', 'Sun of Suns', 'The Real Story', 'The Horror from the Hills', 'Test of the Twins', 'Only human', 'Starquake', 'The Second Generation', 'The Long Winter', \"Mind's Eye\", 'The Mind Parasites', 'Last Man Standing', 'Cry of Morning', 'The Kindly Ones', 'The Secrets of Vesuvius', 'Lammas Night', 'The Dark', 'The Cage', 'In Times Like These', 'The Far Hills', 'Off for the Sweet Hereafter', 'Beneath the Moors', 'Born to Exile', 'Vigilant', 'The Sentinel', 'The Deluge Drivers', 'The Unbeheaded King', 'Necropolis', 'The Third Grave', 'Kai Lung Unrolls His Mat', 'Why Paint Cats', 'Sacred Games', 'The Brimstone Wedding', 'No Night is Too Long', \"Asta's Book\", 'Gallowglass', 'A Dark-Adapted Eye', 'The Darkling', \"The Centurion's Empire\", 'Glass Dragons', 'The Miocene Arrow', 'Eyes of the Calculor', 'From Time to Time', 'Make Love! The Bruce Campbell Way', 'The House of the Wolf', 'Who Made Stevie Crye?', \"Lovecraft's Book\", 'Lafcadio: The Lion Who Shot Back', 'The Good Guy', 'A Solitary Blue', 'CHERUB: Man Vs. Beast', 'The Innocent', 'The Holy Sinner', 'Special Assignments: The Further Adventures of Erast Fandorin', 'The Higher Power of Lucky', 'So Far from the Bamboo Grove', 'Flight of the Old Dog', 'The Falling Torch', 'Across Five Aprils', 'Man of Earth', 'Dragonfly', 'The Immortals', 'The Long Tomorrow', 'Down There on a Visit', 'The Cleansing', 'The Babylon Game', 'The Amazon Temple Quest', 'The Mausoleum Murder', 'The Olympic Conspiracy', 'Spellfall', 'The Jane Austen Book Club', 'Time Cat: The Remarkable Journeys of Jason And Gareth', 'A Struggle for Rome', 'Judith', 'The Separation', 'Rewind', 'House of Sand and Fog', 'The Cat Who Could Read Backwards', 'The Cat Who Ate Danish Modern', 'The Catalogue of the Universe', 'The Man Within', 'The Princess Diaries Volume III: Princess in Love', 'Stormblade', 'Beasts', 'Darkest Hour', 'Reading Like a Writer', 'The Beasts of Tarzan', 'The Son of Tarzan', 'Tarzan and the Jewels of Opar', 'Jungle Tales of Tarzan', 'Tarzan the Terrible', 'Tarzan and the Golden Lion', 'Tarzan, Lord of the Jungle', 'Tarzan and the Lost Empire', \"Tarzan at the Earth's Core\", 'Tarzan the Invincible', 'Tarzan Triumphant', 'Tarzan and the City of Gold', 'Tarzan and the Lion Man', 'Tarzan and the Leopard Men', \"Tarzan's Quest\", 'Tarzan and the Forbidden City', 'Tarzan the Magnificent', 'Tarzan and the Foreign Legion', 'Tarzan and the Madman', 'The Ice House', 'Messiah', 'The Tiger Who Came To Tea', 'When Hitler Stole Pink Rabbit', 'Ribsy', 'Fatherland', 'The Story of the Little Mole Who Went In Search Of Whodunit', 'Cut', 'The Witches and the Grinnygog', \"World's End\", 'Tread Softly in this Place', \"The Scold's Bridle\", 'The Echo', 'The Tinder Box', 'The Shape of Snakes', 'Disordered Minds', \"The Devil's Feather\", 'Chickenfeed', 'The Dragon and The George', 'The Dragon Knight', 'The 6th Target', 'I Know What You Did Last Wednesday', 'A Escrava Isaura', 'The Paper Bag Princess', 'Afternoon Men', 'The Fairy Godmother', 'Affinity', \"Coroner's Pidgin\", 'The Tiger in the Smoke', 'The Eye of Night', 'The Beckoning Lady', 'The Astonishing Life of Octavian Nothing, Volume 1: The Pox Party', 'The Night Watch', 'Savage Night', 'Grotesque', 'The King of Attolia', 'Sons', 'A House Divided', 'Elizabeth and After', 'Fall from Grace', 'Keeper', \"Mr. Fairlie's Final Journey\", 'Tamar', 'The Divine Folly', 'The Avalon Collection', 'Fairest', \"Sharra's Exile\", 'A Theft', 'Zuckerman Unbound', 'Beezus and Ramona', 'The Anatomy Lesson', 'Moominpappa at Sea', 'Moominvalley in November', 'The Miraculous Journey of Edward Tulane', 'Gallows Thief', 'In the Grip of Winter', 'An Acquaintance with Darkness', 'Cast Two Shadows', 'A Ride into Morning', 'Hurricane Punch', 'The Tale of Two Bad Mice', 'The Story of Miss Moppet', 'Cold Tom', 'The Constant Princess', 'Peter and the Secret of Rundoon', 'The Fur', 'A Taste for Death', 'In Evil Hour', 'Surviving the Applewhites', 'North Amerikkkan Blues', 'A Cage of Butterflies', 'The Girl Next Door', \"Don't Go Near the Water\", 'Ratking', 'A Long Finish: An Aurelio Zen Mystery', 'Blood Rain', 'And Then You Die', 'Medusa', 'Back to Bologna', 'The Tale of Timmy Tiptoes', 'Mr. Tinker in Oz', 'Up from Jericho Tel', 'The Royal Mess', 'The Royal Treatment', 'Milkweed', 'The God Beneath the Sea', 'Year of Wonders', 'The Story of A Fierce Bad Rabbit', 'Beasts', 'If Rock And Roll Were a Machine', 'Break No Bones', 'The Betrayal of Bindy Mackenzie', 'Lola Rose', 'The Last September', \"Appley Dapply's Nursery Rhymes\", \"Cecily Parsley's Nursery Rhymes\", 'The Suitcase Kid', 'The Bed And Breakfast Star', 'Double Act', 'Vicky Angel', 'Clean Break', 'The Magic School Bus In the Time of the Dinosaurs', 'Extras', \"Cathy's book\", 'Elsewhere', 'The Six Sacred Stones', 'Indulekha', '1824: The Arkansas War', 'The Pirates of Pompeii', 'Garden of the Purple Dragon', 'A Breed of Heroes', 'City on Fire', 'Tarzan: the Lost Adventure', 'Tarzan and the Tarzan Twins', 'World of Warcraft: Tides of Darkness', 'Who Put That Hair in My Toothbrush?', 'River of Gods', 'Empty Cities of the Full Moon', 'Op-Center', 'Duty and Desire', \"Sharpe's Honour\", 'Floodland', 'The Wolf Leader', 'Enemy Coast Ahead', 'Hothouse', 'Shabanu: Daughter of the Wind', 'The Counterlife', 'Murder in the Cassava Patch', 'Op Center: Mirror Image', 'Lost City Radio', 'The Looking-Glass', 'Summer Crossing', 'A Good Clean Fight', 'The Cronnex', 'The Turbulent Term of Tyke Tiler', '1634: The Bavarian Crisis', 'The Black Corsair', \"Fortune's Rocks: A Novel\", 'Wyvernhail', 'Sea Glass', 'Sleeping in Flame', 'An Unsuitable Attachment', 'Swords of Mars', 'HellBent', \"The Hunter's Moon\", 'The Kachina Doll Mystery', 'The Case of the Rising Stars', 'Lean Mean Thirteen', 'The Digging Leviathan', 'Hazed', 'A Long Fatal Love Chase', 'A Marriage Contract', 'The Freedom Writers Diary', 'A Melon for Ecstasy', 'No place like home', 'One Virgin Too Many', 'Ode to a Banker', 'The Accusers', 'Scandal Takes a Holiday', 'The World in the Evening', 'Dark Carnival', 'A Talent for War', 'Pride of Carthage', \"Gabriel's Story\", 'Walk Through Darkness', 'Sarah', 'Triage', 'Acacia: The War With The Mein', 'The School Story', 'The Rats', 'The Fire Within', 'Halting State', 'The House of Pendragon I: The Firebrand', 'Planeswalker', 'e', 'Troubles', 'The Tokaido Road', 'Jane of Lantern Hill', 'Killing Floor', 'In His Image', 'Die Trying', 'Birth of an Age', 'Acts of God', \"Caesar's Women\", 'Dexter in the Dark', \"Bambi's Children\", 'Dark Congress', 'Havana Bay', 'Fool Moon', 'Running Blind', 'Echo Burning', 'Without Fail', 'Persuader', 'The Bug Wars', 'The Enemy', 'One Shot', 'Bad Luck and Trouble', 'Tripwire', 'Patience and Sarah', 'Subspace Encounter', 'Starry Nights', 'The Village Schoolmaster', 'The Prefect', 'World without End', 'Pot-Bouille', 'Between Two Worlds', 'Lady Knight', 'Dingo', 'The Tokyo Zodiac Murders', 'The Swarm', 'End time', 'Mr. Sampath - The Printer of Malgudi', 'My Son the Fanatic', 'The League of Frightened Men', 'The Rubber Band', 'The Red Box', \"Where There's a Will\", 'Black Orchids', 'The Late Mattia Pascal', 'Too Many Women', 'Trouble in Triplicate', 'Midnight at the Well of Souls', 'Dark Prince', 'And Both Were Young', 'Camilla Dickinson', 'Confessor', 'The Ghosts', 'Exiles at the Well of Souls', 'Quest for the Well of Souls', 'Second Chance', 'Pimpernel and Rosemary', 'The House on the Strand', 'The Well of Stars', 'The Ugly Swans', 'Middle Age: A Romance', 'The Tower of Zanid', 'Seventeenth Summer', 'To the Devil — a Diva!', 'Cults of Unreason', \"The Emperor's Candlesticks\", 'The Nest of the Sparrowhawk', 'The Bronze Eagle', 'The Broken Sword', 'Fiasco: The American Military Adventure in Iraq', 'Religion Inc.', 'Omon Ra', 'These Three Remain', 'Pollyanna Grows Up', 'I Am the Messenger', 'Woodsong', 'The Song of Kahunsha', 'Made of Steel', 'Cry Of The Newborn', 'The Black Tattoo', 'The Falling Woman', 'Murder by the Book', 'The Continent Makers', 'The Scorpion God', 'Free Fall', 'A City In Winter', \"Wren's War\", \"Wren's Quest\", 'Fly by Night', 'The Trick is to Keep Breathing', 'Proud Helios', 'Beyond the Deepwoods', \"Mallory's Oracle\", 'The Heart of the Warrior', 'Mercenary From Tomorrow', 'In the Country of Men', 'The Metal Monster', 'CHERUB: Divine Madness', 'The Mysterious Benedict Society', 'The Fatal Eggs', 'The Painter of Signs', 'Radiant', 'Leven Thumps and the Whispered Secret', 'Leven Thumps and the Eyes of The Want', 'Talkative Man', 'Wooden Heart', 'Pearl in the Mist', 'Spring Fever', 'Children of Tomorrow', 'David Golder', 'The Game', 'Ttyl', 'On the Eve', 'The Rules of Survival', 'The Mezzanine: A Novel', 'Here Lies Arthur', \"Drunkard's Walk\", 'Beau Brocade', 'Room 13', 'What Would Joey Do?', 'The World of Nagaraj', 'The Poet', 'Daisy Fay and the Miracle Man', 'Sting of the Zygons', 'The Last Dodo', 'Armadale', 'Saturnalia', 'The Harlequin', 'Three Witnesses', 'My Summer Of Love', 'The Rose of Tibet', 'A Long Way to Shiloh', 'Kolymsky Heights', 'Master of the Five Magics', 'The Interpretation of Murder', 'Aggressor Six', 'The Sun Chemist', 'The Chelsea Murders', 'Labour', 'The Dice Spelled Murder', 'Revelation', 'If Death Ever Slept', 'And Four to Go', 'Emphyrio', 'Second Thoughts', 'Midaq Alley', 'Never Call Retreat: Lee and Grant: The Final Victory', 'Here Be Monsters!', 'Sometimes a Great Notion', \"The King's Last Song\", 'Restless', 'The Serpent Mage', 'Needle', 'The Extraordinary Adventures of Alfred Kropp', 'The Ghost Brigades', 'The Prairie: A Tale', 'Unburnable', 'The Journal of Julius Rodman', 'Requiem for the Conqueror', 'The Door in the Lake', 'Rules', 'CHERUB: The Fall', 'Golden Buddha', 'The Golden Goblet', 'Empire of Ivory', 'The Astronauts', 'The Moneypenny Diaries: Final Fling', 'Under the Hawthorn Tree', 'Heart-Shaped Box: A Novel', 'And Kill Once More', 'Moribito: Guardian of the Spirit', 'The Master Butchers Singing Club', 'Plot It Yourself', 'Halloween', 'Too Many Clients', 'Better Angels', 'The Labyrinth Key', 'Neverwhere', 'Paula', \"The Janitor's Boy\", 'Room One', 'Things Hoped For', 'A Week in the Woods', 'Men Against the Sea', 'The Scarlet Gang of Asakusa', 'Earth Made of Glass', 'Confessions of a Teenage Drama Queen', 'Reckless', 'Unforgettable', 'Keeping Faith', 'Oakleaf Bearers', 'The Princess Diaries', \"Exile's Honor\", 'Come Back for More', 'Jeffrey and Sloth', 'The Alexandria Link', 'Terrarium', 'The Fur Country', 'Veracity', 'Seeker', 'Birth of Fire', \"Under the Mat: Inside Wrestling's Greatest Family\", 'The Comfort of Strangers', 'The Last Precinct', 'Enduring Love', 'The Assassins of Rome', 'Five Go Adventuring Again', 'Five Run Away Together', \"Five Go To Smuggler's Top\", 'Five Go Off In A Caravan', 'The Just and the Unjust', 'The Town', 'Transformers: Ghosts of Yesterday', \"Stalin's Ghost: An Arkady Renko Novel\", 'Stone', 'The Third Secret', 'The Cat Who Went Underground', 'Dry', 'A Boy at War', \"The Gravedigger's Daughter\", 'The Crow', 'The Man Who Loved Cat Dancing', 'The Cat Who Saw Red', 'Acts of Faith,1985', 'The Tale of Pigling Bland', 'Démolir Nisard', 'Shadow Game', 'The Treasure in the Royal Tower', 'Leaving Poppy', 'The Woven Path', 'Cue for Treason', 'The Singapore Grip', 'Mr. Norris Changes Trains', 'Chéri', 'The Fighting Ground', 'REM World', 'Bye-Bye', 'Candle', 'The Last Day of Creation', 'White Death', 'Love Lessons', 'Downsiders', 'The Treasure of Alpheus Winterborn', 'The Dark Secret of Weatherend', 'Ratha’s Creature', 'Running on Empty', 'Dark Desire', 'The Naughtiest Girl is a Monitor', 'Gallows View', 'Water for Elephants', 'Chart Throb', 'Built for Trouble', 'Molly Moon, Micky Minus and the Mind Machine', 'Shadows on the Rock', 'Nimitz Class', 'A Thousand Splendid Suns', 'Daemon', 'John Dough and the Cherub', \"The Spook's Battle\", 'A Song for Summer', 'Without Seeing the Dawn', 'Lee and the Consul Mutants', 'Lee Goes For Gold', \"Lee's Holiday Showdown\", 'In the Sargasso Sea', \"God's Spy\", 'Muddle Earth', 'The House of the Sleeping Beauties', 'Niagara Falls, or Does it?', 'Dragon Moon', 'The Spell', 'The Armies of Memory', \"The Dame's the Game\", 'Pennterra', 'Lair of the Lion', 'The Hosts of Rebecca', 'Behind Enemy Lines', 'Flint the King', 'The Day of the Djinn Warrior', 'Tanis, the Shadow Years', 'I Got a \"D\" in Salami', 'Lucy', 'Dinosaur Summer', 'King Coal', 'Grave Peril', 'The Magic of Krynn', 'Kender, Gully Dwarves, and Gnomes', 'The Grotesque', 'Boxy an Star', 'A Woman in Amber', 'The Swish of the Curtain', 'She and Allan', 'The A-List', 'Every Inch a King', 'Music on the Bamboo Radio', 'The Gray Prince', \"Hrolf Kraki's Saga\", 'To Sir, with Love', 'The Ascent of Rum Doodle', 'Curious George Flies a Kite', 'The Queen of Air and Darkness', 'Dreamside', 'The Armageddon Rag', 'Nineteen Minutes', 'The Cat Who Played Brahms', 'Wolf Moon', 'No Name', 'Marazan', 'Orlovi Rano Lete', 'So Disdained', 'The Throwback', 'The Great Pursuit', 'Nappily Ever After', 'The Island of the Mighty', 'Aquamarine', 'The Hope', 'Prime Directive', 'The Cat Who Dropped a Bombshell', 'Phantom Lady', 'Diary of a Bad Year', 'Betrayal', \"Babylon 5: Clark's Law\", 'The Star of Kazan', \"Maximum Ride: School's Out Forever\", 'Maximum Ride: Saving the World and Other Extreme Sports', 'CHERUB: Mad Dogs', 'The Extremes', 'The Affirmation', 'A Dream of Wessex', 'Dark Gold', 'Dark Magic', 'How the Dead Live', 'Fame is the Spur', 'Flashforward', 'Prince of Annwn', 'The Children of Llyr', 'El juguete rabioso', '.hack//CELL', 'To Live Forever', 'Far-Seer', 'Mystery of Banshee Towers', 'Peace Like a River', 'Matriarch', 'The Pit: A Group Encounter Defiled', 'Babylon 5: Legions of Fire - The Long Night of Centauri Prime', 'Babylon 5: Legions of Fire - Armies of Light and Dark', 'Babylon 5: The Passing of the Techno-Mages - Casting Shadows', 'Babylon 5: The Passing of the Techno-Mages - Invoking Darkness', 'Borgel', 'Aura', 'The Spanish Gardener', 'In Other Worlds', 'Race Against Time', 'The Song of Rhiannon', \"Mr. Bass's Planetoid\", 'A Mystery for Mr. Bass', 'Time and Mr. Bass', 'The Princess Diaries, Volume V: Princess in Pink', 'Black Money', 'The IHOP Papers', 'Duluth', 'Blow Fly', 'Homecoming', 'Russian Amerika', 'The Snow', 'The Statement', 'Freeglader', 'The Vanished Diamond', 'Into the Wild', 'Fire and Ice', 'Forest of Secrets', 'Rising Storm', 'A Dangerous Path', 'The Darkest Hour', 'Midnight', 'Moonrise', 'Dawn', 'Starlight', 'Twilight', 'Sunset', 'The Sight', 'The Princess Diaries, Volume IV: Princess in Waiting', 'The Princess Diaries, Volume VI: Princess in Training', 'The Princess Diaries, Volume VII: Party Princess', 'The Princess Diaries, Volume VII and 3/4: Valentine Princess', 'The Princess Diaries, Volume VIII: Princess on the Brink', 'The Princess Diaries, Volume IX: Princess Mia', 'The Princess Diaries, Volume X: Forever Princess', 'The Vanished Man', 'Son of Rosemary', 'Dies the Fire', 'Slaves of Speigel', 'The Diamond of Drury Lane', 'The Graveyard Book', 'The Eternal Flame', 'Kiss the Dust', 'The People of the Mist', 'Skeleton Coast', 'The Terror', 'Love Story', 'The Dead Zone', 'Robbery Under Arms', 'Shadowland', 'Moo', 'Command & Conquer: Tiberium Wars', 'The Twelve Tasks of Flavia Gemina', 'Don Rodriguez: Chronicles of Shadow Valley', 'The History of Love', 'Hemlock and After', 'Close to Critical', 'Heyday', 'Making Good Again', \"Smith's Gazelle\", 'Under Plum Lake', 'More Tales of the City', 'Significant Others', 'Sure of You', 'Michael Tolliver Lives', \"The Sorcerer's Ship\", 'Beyond the Golden Stair', 'The Shaving of Shagpat', 'Star Light', 'Mind Game', 'Night Game', 'The Mysterious Disappearance of Leon', 'Modoc', \"Christie Malry's Own Double-Entry\", 'Loop', 'The Festival of San Joaquin', 'Time and the River', 'Le Docteur Pascal', 'Love and War in the Apennines', 'The Heaven Shop', 'Operation Typhoon Shore', 'My Idea of Fun', 'Rise the Euphrates', 'The Afghan Campaign', 'Five Are Together Again', 'No Telephone to Heaven', 'Havana Heat', 'Guess How Much I Love You', 'Steel Beach', 'Good King Harry', 'The Sleepwalker', 'Dreaming in Cuban', 'No Humans Involved', 'The Two Tigers', \"Sharpe's Enemy\", 'Exodus', 'Khaled: A Tale of Arabia', 'A Bad Spell in Yurt', 'Son of the Red Corsair', \"The Chameleon's Shadow\", \"The Dreamwalker's Child\", 'Dorian, an Imitation', 'The Lost Continent: The Story of Atlantis', 'Est: The Steersman Handbook', 'Gentlemen of the Road', 'Measle and the Wrathmonk', 'Idylls of the Queen', 'Anne Frank: The Biography', 'Let the Right One In', 'The Day the Leader was Killed', 'Dark Challenge', 'The £1,000,000 Bank Note and Other New Stories', 'What Mad Universe', 'Martians, Go Home', 'Come Rack! Come Rope!', 'The Problem of the Covered Bridge', 'On Chesil Beach', 'The Problem of the Old Gristmill', 'The Glory', 'In Limbo', 'Dougy', 'Skulduggery Pleasant', 'Venture to the Moon', 'The Golden Rendezvous', 'Midnighters 2: Touching Darkness', 'The Troika', 'The Blue Afternoon', 'The Summoner', 'Midnighters 3: Blue Noon', 'The Bookshop', 'The Beast House', 'No Way to Treat a First Lady', 'The Islamist', 'Crispin: At the Edge of the World', 'The Program', 'Somewhere in Time', 'Mister B. Gone', 'My Perfect Life', 'Halo: Contact Harvest', 'Little Green Men: A Novel', 'Winter of Fire', 'The White Lioness', 'The Man Who Smiled', 'The Fifth Woman', 'One Step Behind', 'End Games', 'Black Man', 'Not in the Flesh', 'Dark Fire', 'The Starship Trap', 'Blood Secret', 'The House of the Arrow', 'Little Brother', \"But'n'Ben A-Go-Go\", 'Florence of Arabia', 'Dark Demon', 'Dark Reflections', 'Dark Secret', 'Fools Crow', 'Forest of the Pygmies', 'Blast Off at Woomera', 'Death Star', 'The Domes of Pico', 'The Diamond as Big as the Ritz', 'Baby Is Three', 'The Free Lunch', 'Operation Columbus', \"The Monkey's Raincoat\", 'Moon Base One', 'Scales of the Serpent', 'Expedition Venus', 'Love and War', 'Exit Ghost', 'Diary of a Wimpy Kid', 'Destination Mars', 'The Excalibur Alternative', 'Cirie', 'Birthright', \"Doctor Dolittle's Circus\", \"Doctor Dolittle's Caravan\", 'Superstars', 'Terror by Satellite', 'Journey to Jupiter', 'The Debt Collector', 'The Three Robbers', 'The Last Summer', 'Mission to Mercury', 'Buddy', 'Spaceship to Saturn', 'Phoenix And Ashes', 'Bread Givers', 'The Mohole Mystery', 'Nearly Neptune', 'The Tenth City', 'Dayworld', 'The Cry Of The Icemark', 'First Contact?', 'Passage to Pluto', 'Gilda Joyce: The Ladies of the Lake', 'The Veiled Prophet', 'The Rainbow and the Rose', 'Beautiful Stranger', 'Bad Girls', 'Inshallah', 'Lion of Macedon', 'Tony Hale, Space Detective', 'Murder on Mars', 'The Caves of Drach', 'The Last Disaster', 'The Dark Triangle', 'Promised Land', 'Inez', 'The Judas Window', 'Cloud Boy', 'The Wood Beyond the World', 'The Water of the Wondrous Isles', 'The Sundering Flood', \"IBM and the Holocaust: The Strategic Alliance between Nazi Germany and America's Most Powerful Corporation\", 'Bloodline', 'Dawn', \"The King's Damosel\", 'Mandragora', 'The Last Sin Eater', 'The Atonement Child', 'The Prince', 'Moonshine', 'The Final Deduction', 'May Bird and the Ever After', 'Death in Silver', 'Valperga; or The Life and Adventures of Castruccio, Prince of Lucca', 'Twice Brightly', 'Second Glance', \"It's Kind of a Funny Story\", 'The Scarlet Thread', 'Invincible', 'Little Children', 'The Landscape of Love', 'The House That Berry Built', 'Promise Not to Tell', 'A Dedicated Man', 'Seeker', 'Snuff', 'Is Shakespeare Dead?', 'Oath of Swords', 'Silence', 'In the Belly of the Bloodhound', 'Maske: Thaery', 'Kindred Spirits', 'The Six Messiahs', 'Empress Orchid', 'Ciske de Rat', 'Dark River', 'Copper Canyon Conspiracy', 'The Solarians', 'The Lost Warrior', 'A Necessary End', 'The Hanging Valley', 'Past Reason Hated', \"Wednesday's Child\", 'Dry Bones that Dream', 'Innocent Graves', 'Dead Right', 'In a Dry Season', 'The Blind Man Of Seville', 'The Silent and the Damned', 'The Hidden Assassins', 'The Generals', 'Stone fox', 'Survival Of The Fittest', 'Cold is the Grave', 'Aftermath', 'The Summer That Never Was', 'Playing with Fire', 'Strange Affair', 'Piece of My Heart: A Novel of Suspense', 'Friend of the Devil', 'The Almost Moon', 'Playing for Pizza', \"The Bondwoman's Narrative\", 'Between Mom and Jo', '1945', 'The Savage Detectives', 'City Of The Dead', 'City of the Rats', 'Homo faber', 'The Bourne Ultimatum', 'Vous revoir', 'The Execution Channel', 'Tomorrow', 'The Proteus Operation', 'Mélusine', 'The Virtu', 'Just Listen', 'Evening Class', 'Quentins', 'The Wide, Wide World', 'Fear', 'Children of God', 'Swordbird', 'House of Suns', 'Paul of Dune', 'Death Masks', 'The Legend of Red Horse Cavern', \"Rodomonte's Revenge\", 'Escape from Fire Mountain', 'The Shape of Water', 'Magic Lessons', 'The Land', 'The Torment of Others', 'Scarlet Feather', 'Verdigris Deep', 'A Logic Named Joe', 'Soul Rush', 'Skin & Bones', 'The Shifting Sands', 'Den mörka sanningen', 'The Fox in The Attic', 'Sons of Destiny', 'The Candle in the Wind', 'The Scent of the Night', 'The Last Boleyn Book', 'Pity is Not Enough', 'The Story of Holly and Ivy', 'The Overlook', 'Sword Song', 'Pop. 1280', 'The Witch of Portobello', 'The Gingerbread Girl', 'Echo Park', \"Skinner's Rules\", 'The Daughters of the Late Colonel', 'Prelude', 'Something Childish But Very Natural', 'South By South East', 'Eva Luna', 'The Pirate Loop', \"It's Superman\", 'Skallagrigg', 'The Iron Ring', 'People of the Wolf', 'Lucky', 'Secret of The Sirens', 'Girl, Missing', 'Briar Rose', 'Death at La Fenice', 'The Testament', 'Birth of a Salesman', 'Sons from Afar', 'Fablehaven: Rise of the Evening Star', 'Disappearance', 'The House at Riverton', 'Sticky Wicket at Blandings', 'The Easter Parade', \"Ophelia's Revenge\", 'Holmes on the Range', 'Dogland', 'The Cat Who Wished to Be a Man', 'Anthills of the Savannah', 'The Gift', 'Travels in the Scriptorium', 'The Secret Battle', 'Frisk', 'A Wrinkle In The Skin', 'Carter Beats the Devil', 'House of Meetings', 'Emperor', 'When The Road Ends', 'Mirror Image', 'Yksisarvinen', 'The Wolves of Willoughby Chase', 'Twisted', 'The Last Mughal', 'Fablehaven: Grip of the Shadow Plague', 'The Plague Court Murders', \"A Bridge to Wiseman's Cove\", 'The Dare Game', 'Jurassic Adventures: Survivor', 'Jurassic Park Adventures: Prey', 'Jurassic Park Adventures: Flyers', 'Critique of Criminal Reason', 'Fire Star', 'The Fire Eternal', 'The Pig Scrolls', 'The Swords of Zinjaban', 'Double Cross', 'Pioneer, Go Home!', 'A March into Darkness', 'Promise Me', 'Igraine The Brave', 'The Hand in the Glove', 'The Land of the Silver Apples', 'The Alchemyst: The Secrets of the Immortal Nicholas Flamel', 'John Goldfarb, Please Come Home', 'Eggs', 'The Dragon Waiting: A Masque of History', 'The Mountain Cat Murders', 'The Far Shore of Time', 'Saraband of Lost Time', 'On the Run', 'The Lincoln Lawyer', 'Star Wars: Darth Bane: Rule of Two', \"Arthur's Teacher Trouble\", 'Odd Girl Out', 'I Am A Woman', 'Women in the Shadows', 'Holy Wood', 'The Empty Chair', 'Irish Gold', 'Irish Lace', 'Irish Whiskey', 'Irish Mist', 'Irish Eyes', 'Irish Love', 'Irish Stew!', 'Irish Cream', 'Irish Crystal', 'Irish Linen', 'Beggars and Choosers', 'One Good Knight', \"Kai Lung's Golden Hours\", 'Descent into Hell', 'The Last Empress', 'Journey to a Woman', 'Death of a Doxy', 'The Stone of Laughter', 'Reap the Whirlwind', 'Angel Light', 'Grania: She-King of the Irish Seas', 'Beebo Brinker', 'The Pacific Between', 'Fox on the Rhine', 'The Wounded Sky', 'Perfect Match', \"The Contortionist's Handbook\", 'Dermaphoria', 'Demon Theory', 'All The Beautiful Sinners', 'The Fast Red Road: A Plainsong', 'Kiss Me, Judas', 'Penny Dreadful', \"Hell's Half Acre\", 'Mary, called Magdalene', 'Summer Knight', 'The Mother Hunt', 'A Sea So Far', 'A Scourge of Screamers', \"In The House Of The Queen's Beasts\", 'Laura', 'Burndive', 'Cagebird', 'Platoon Leader', 'The Goose Girl', 'Enna Burning', 'Princess Academy', 'River Secrets', 'The Tangled Skein', 'Book of a Thousand Days', 'A Bride of the Plains', 'The Stone Monkey', 'Under the Jolly Roger', 'Skinnybones', 'Devil May Care', 'Blade of Fire', 'Fall of a Kingdom', 'The Last Children of Schewenborn', 'A Sheaf of Bluebells', 'Fire in Stubble', 'Homicide Trinity', 'Before I Wake', 'The Ministry of Fear', 'Rogue Ship', 'By the Gods Beloved', 'The Intruder', 'A True Woman', 'Rising Tide', 'The Sons of Heaven', 'The Spiraling Worm', 'Assemblers of Infinity', 'The Fire Pony', '48', 'Ecotopia Emerging', \"Fox's Feud\", 'Kingdom of Shadows', 'The Indestructible Man', 'Meadowsweet', 'Ghosts', 'Vengeance in Death', 'Mystery of the Spiteful Letters', 'Random Acts of Senseless Violence', 'Seventeen', 'Touching Spirit Bear', 'Dragons of the Highlord Skies', 'Mr. Monk and the Two Assistants', 'Wide Is the Gate', 'Compulsion', 'The Book of Dead Days', 'Insatiable', 'Terraplane', 'Elvissey', 'The Absolute', 'As For Me and My House', 'The Sacrifice', 'Ellimist Chronicles', 'The Circuit: Stories from the Life of a Migrant Child', 'Elfsorrow', 'When Heaven and Earth Changed Places', 'Critical', 'Crisis', 'Beatniks', 'Land of the Headless', 'Mainspring', 'Letters From Rifka', 'The Rock Jockeys', 'Danger on Midnight River', 'The Forger', \"Hook 'Em Snotty!\", 'The Gorgon Slayer', 'Captive!', 'The World Without Us', 'Touch Me', 'Disturbing the Peace', 'A Right to Die', 'Windhaven', 'Puppet on a Chain', 'Wolf of the Plains', 'Void Moon', 'The Venom Trees of Sunga', 'Travels with Herodotus', 'Sold', 'The Crystal Frontier', 'Prince of Fire', 'Project - A Perfect World', 'Penrod Jashber', 'Going to Ground', 'Oyster', 'The Other Ones', 'Children of Magic Moon', 'Singer', 'Eifelheim', \"A Hero Ain't Nothin' but a Sandwich\", 'The Hollow Man', 'Gorosthaney Sabdhan', 'The Illusion', 'Tersias', 'The Shadowmancer Returns: The Curse of Salamander Street', 'Sard Harker', 'Camp X', 'Bedelia', 'The Anybodies', 'Sam and the Firefly', 'The Sirens of Surrentum', 'Island', 'Blood Games', 'The Twelve Kingdoms: Sea of Shadow', 'Off Armageddon Reef', 'By Schism Rent Asunder', 'The Final Passage', 'Ingo', 'Relentless', 'The Burning Court', 'Sten Adventures Book 5: Revenge of the Damned', 'Sten Adventures Book 6: The Return of the Emperor', 'Sten Adventures Book 7: Vortex', \"Sten Adventures Book 8: Empire's End\", 'Doomed Queen Anne', 'Runcible Jones: The Gate to Nowhere', 'Runcible Jones: The Buried City', 'The Book of Lies', 'Master of the Books', 'Web of the City', 'The Dreaming Void', 'Spinneret', 'The Winter Prince', \"Great Kings' War\", 'Prophecy: Child of Earth', 'Tessa', 'The Ten Teacups', 'Cop This!', 'The Ogre Downstairs', 'Ball Four', 'Simple Genius', 'Ballet Shoes', 'Le Jour Des Fourmis', 'The Book of Renfield', 'Dark Fire', 'Axis', 'Bows Against the Barons', \"The Beekeeper's Apprentice\", 'Blindsight', 'The Proposal', 'An Antarctic Mystery', 'Queste', 'Voice of the Whirlwind', 'The Day After Judgment', 'The Prophecy', 'The Mutation', 'Gladiator at Law', 'Love, Stargirl', 'Dog Wizard', 'The Book of Everything', 'The Arrival', 'The Hidden', 'Innocent Traitor', 'The Treasure of El Patron', 'Skydive!', 'The Seventh Crystal', 'The Creature of Black Water Lake', 'Time Benders', 'Fire Bringer', 'The Sweet Dove Died', 'Extremes', \"The Emperor's Children\", 'The Unquiet Earth', 'Grizzly', 'Thunder Valley', 'Curse of the Ruins', 'Flight of the Hawk', 'The Bastard', 'I Was Dora Suarez', 'The Teahouse Fire', 'Deathstalker Rebellion', 'Deathstalker War', 'Deathstalker Honour', 'Deathstalker Destiny', \"Shakespeare's Memory\", 'The World Is Not Enough', 'The Two Kings and the Two Labyrinths', 'Rome Burning', 'With Folded Hands', 'The Familiar', 'The Journey', 'Exit Music', 'The Dogs of Babel', 'Shopgirl', 'Trek to Madworld', 'Nothing to Lose', 'The palace of laughter', 'The Test', 'The Unexpected', 'Sir Harold and the Gnome King', 'The Revelation', \"Vulcan's Glory\", 'Mistborn: The Well of Ascension', 'Ilium/Olympus', 'Precious Bane', 'Sarny', 'The Ungodly Farce', 'The Flames: A Fantasy', 'If You Could See Me Now', 'Little Town on the Prairie', 'Dragonhaven', 'Back Home', 'The Last Canadian', 'Jango', 'The Narrows', 'The Deception', \"Professor Martens' Departure\", 'The Seekers', 'Wanderlust', 'InterWorld', 'Josh', 'Ug', 'Spangle', 'Latawnya, the Naughty Horse, Learns to Say \\\\\\\\\"No\\\\\\\\\" to Drugs', 'Term Limits', 'A Gesture Life: A Novel', 'Illegal Aliens', 'The Closers', 'City of Bones', 'A Darkness More Than Night', 'Angels Flight: A Harry Bosch Novel', 'Trunk Music', 'The Last Coyote', 'The Concrete Blonde', 'The Black Echo', 'Dragonfire', 'Bao Gong An', \"Soldier's Heart\", 'Dawn Wind', 'El Príncipe de la Niebla', \"Midnight's Lair\", 'Bunny Tales: Behind Closed Doors at the Playboy Mansion', 'Chat Room', 'Deal Breaker', 'Pollen', 'A Blues for Shindig', 'The Angel Makers', \"Baber's Apple\", 'Cry of the Justice Bird', 'Witch World', 'Dear Enemy', 'All Passion Spent', 'The Father Hunt', 'White Boots', 'The Furies', 'Flinx Transcendent', 'Tree of Smoke', 'The Twenty-Second Day', 'What I Was', 'Death of a Dude', 'A Family Affair', 'Morality Play', 'Man Crazy', \"Blart: The Boy Who Didn't Want to Save the World\", 'Athabasca', 'The Wreck of the Zanzibar', 'The Butterfly Lion', 'Waiting for Anya', 'Pool of Twilight', 'The Last of the Jedi: Against the Empire', 'Bloodstained Oz', 'The Surgeon', 'The Man in Grey', 'The Host', 'The Shock Doctrine', 'The Reluctant Queen: The Story of Anne of York', 'Shroud for a Nightingale', 'Let Time Pass', 'The Bear Went Over the Mountain', 'Dreamer', 'The Wool-Pack', 'The Load of Unicorn', 'Lord John and the Succubus', 'Lord John and the Haunted Soldier', 'Lord John and the Hellfire Club', 'Maximum Ride: The Final Warning', 'Tear of the Gods', 'Mr. Monk in Outer Space', 'Native Tongue', 'Iron & Silk', 'Yankee in Oz', 'The Nobodies', 'A Mango-Shaped Space', 'Tomorrow and Tomorrow', 'SoMa', 'Hitman: Enemy Within', 'Scuppers', 'Lost Light', 'Blood Work', \"Tom Clancy's Splinter Cell: Fallout\", 'Salem Falls', 'Illegal Alien', 'The Marvelous Effect', 'Vampire of the Mists', 'Yonnondio: From the Thirties', 'Bridge of Rama', 'The Bowstring Murders', 'The White Priory Murders', 'The Red Widow Murders', 'The Unicorn Murders', 'The Mystery of Cloomber', 'Le Bossu', \"The Armourer's House\", 'The Runaway Skyscraper', 'The Problem of Cell 13', 'The Punch and Judy Murders', 'Death in Five Boxes', \"Life's Lottery\", 'Mississippi Jack', 'Drop to His Death', 'The Reader is Warned', 'And So to Murder', 'Murder in the Submarine Zone', 'Desert of the Heart', 'The Cat and the King', \"L'Ève future\", 'Seeing is Believing', 'The Gilded Man', 'She Died a Lady', 'Soul Circus', 'Nayanmani', \"He Wouldn't Kill Patience\", 'The Curse of the Bronze Lamp', 'My Late Wives', 'Mercury', 'The Hercules Text', 'The House of the Wolfings', 'Heaven Eyes', 'The Skeleton in the Clock', 'A Graveyard to Let', 'Night at the Mocking Widow', 'Behind the Crimson Blind', \"The Cavalier's Cup\", 'Jennifer, Hecate, Macbeth, William McKinley, and Me, Elizabeth', 'A Man of the People', 'In Milton Lumky Territory', 'The Man Whose Teeth Were All Exactly Alike', 'Humpty Dumpty in Oakland', 'Nick and the Glimmung', \"Wintle's Wonders\", 'Once Upon a Time in the North', 'Land of the Living', \"The Dragon's Teeth\", 'The Winter of Frankie Machine', 'Calamity Town', 'There Was an Old Woman', 'The Murderer is a Fox', \"Ten Days' Wonder\", 'Cat of Many Tails', 'Double, Double', 'The Origin of Evil', 'Right as Rain', 'A Drink Before the War', 'Child Christopher and Goldilind the Fair', 'The Uncommon Reader', 'Surf na crvenom talasu', 'The Firm of Girdlestone', 'China Sky', 'The Heroin Diaries: A Year in the Life of a Shattered Rock Star', 'Letter from Peking', 'The Tenth Circle', 'The Night Gardener', 'The Coffee Trader', 'A Secret Atlas', \"Babar's Museum of Art\", 'The Fall of Doctor Onslow', 'The Blacker the Berry', 'Boston', 'I was a Rat! or The Scarlet Slippers', 'The Return of Nathan Brazil', 'Defining Dulcie', 'Light a Penny Candle', 'A Bell for Adano', 'Dick Sand, A Captain at Fifteen', 'Lives of the Monster Dogs', 'The Physician', 'Red Midnight', \"Sundays at Tiffany's\", 'Sail', 'The Secret of the Third Watch', '2666', 'Luck in the Shadows', 'Falling', 'The Footprints on the Ceiling', 'The Headless Lady', 'No Coffin for the Corpse', 'Dragonsdale', \"Thursday's Child\", 'Surrender', 'Darkness, Tell Us', 'A Romance of the Halifax Disaster', 'Brendon Chase', 'When Santa Fell to Earth', 'Noman', 'Master of the Moon', 'Dark Melody', 'Fatal Revenant', 'Just One Look', 'Nightmare Academy', 'The Pea-Pickers', 'Revenge in the Silent Tomb', 'Daughter of Earth', 'My Lucky Star', 'The Sunrise Lands', 'The Woods Are Dark', 'CHERUB: Dark Sun', 'Putting on the Ritz', 'Blue Heaven', 'Tomoe Gozen', 'Chasing the Dime', \"Warrior's Refuge\", 'The World at Night', 'Dreamland', 'Blind Justice', 'The Fairy Gunmother', 'My Theodosia', \"Stormy, Misty's Foal\", 'The Ghost', 'Murder in Grub Street', 'Watery Grave', 'Freaks: Alive on the Inside', 'Lust, Caution', 'Colonization: Down to Earth', 'Colonization: Aftershocks', 'The Conch Bearer', 'The Family of Pascual Duarte', 'Omertà', 'The Good Companions', 'The Disinherited', 'Vampirates: Blood Captain', \"Red Orc's Rage\", 'The Monster Bed', 'Thirty-Three Teeth', \"The Coroner's Lunch\", 'Pool and its Role in Asian Communism', 'The Four-Gated City', 'Hero', 'The Tide Knot', 'The Deep', 'Polymorph', 'The Gladiator', \"The Gryphon's Skull\", 'Seize the Night', 'Solip:System', 'Single & Single', 'Homebody', 'Stone Tables', 'Saints', 'Invasive Procedures', 'The Brief Wondrous Life of Oscar Wao', 'Shadows Return', 'A War of Gifts: An Ender Story', 'Rebekah', 'Rachel and Leah', 'Rasputin', \"Mr. Magorium's Wonder Emporium\", 'Reincarnation', 'Dangerous Days of Daniel X', 'First Boy', 'Wolf', 'Tulku', \"Death's Shadow\", 'Beast', 'Clay', 'Framed', 'Turbulence', 'Bloodline', 'The Edge', 'Doomwyte', 'Troy', 'Little Soldier', 'Harlequin', 'Sleeping Freshmen Never Lie', 'The Boy and the Darkness', \"Emily's Quest\", 'Nebula Maker', 'Master Alvin', 'The Wives of Israel', 'Weep Not, Child', 'Mister Pip', 'Person or Persons Unknown', 'Moon of Mutiny', 'Venus', 'The Wheel of Darkness', 'The Careful Use of Compliments', 'Wartime Lies', 'Magic Mirror', 'Adolf Hitler: My Part in His Downfall', 'The Name of this Book is Secret', 'Paloma', 'Dragonsbane', 'Blasphemy', 'Brat Farrar', 'The Abyss', 'Falling Angel', 'Dave at Night', 'Gray Matters', 'Nevermore', 'Theodosia and the Serpents of Chaos', 'Martha in the Mirror', 'The Many Hands', 'Snowglobe 7', 'Deep Storm', 'The Ice Limit', 'Jennie', 'Mists of Dawn', 'A Far Country', 'Brotherhood of the Rose', 'Blink', 'Black', 'Red', 'White', 'New Found Land', 'Dragon Dance', 'Missing Men of Saturn', 'Rocket Jockey', 'Stadium Beyond the Stars', 'Rocket to Luna', 'Origin in Death', 'Memory in Death', \"The Raven's Knot\", 'The Fatal Strand', '1st to Die', 'The Unicorn Girl', 'Monster', 'The Blue Man', 'Warrior Scarlet', 'Danny Dunn and the Anti-Gravity Paint', 'Danny Dunn and the Homework Machine', 'Danny Dunn and the Weather Machine', 'Danny Dunn on the Ocean Floor', 'Danny Dunn and the Fossil Cave', 'Dark Universe', 'Danny Dunn, Time Traveler', 'Danny Dunn and the Automatic House', 'Danny Dunn and the Smallifying Machine', 'Danny Dunn and the Swamp Monster', 'Danny Dunn Scientific Detective', 'Danny Dunn and the Universal Glue', 'Lila Says', 'Our Twisted Hero', 'Danny Dunn and the Voice from Space', 'Flour Babies', 'The Adventures of Three Englishmen and Three Russians in South Africa', 'The Sky People', 'The Bush Soldiers', 'Little Man Little Man: A Story of Childhood', '62: A Model Kit', 'A Visitation of Spirits', 'Cecilia', 'Freehold', 'Jack, Knave and Fool', 'The Resistance', 'The Adventures of Danny Meadow Mouse', 'Our Story', 'The Disunited States of America', 'Pied Piper of Lovers', 'Star Wars Republic Commando: Order 66', 'Among the Missing', 'Bully and the Beast', 'A Small Place in Italy', 'English, August: An Indian Story', 'On My Honor', 'Floodgate', 'Nightwing', 'Raven Rise', 'Inheritance', 'The Great Elephant Chase', 'River of Death', 'Inventing Elliot', 'Adrift in Soho', 'Seawitch', 'The Bloody Red Baron', 'Anno Dracula', 'Judgement of Tears', 'A Wild Ride Through the Night', 'The Golden Gate', 'The Memory Game', 'Forbidden City', 'The Road to Omaha', 'Girl in Landscape', 'My Story', 'Conspiracy in Death', 'Deep Fathom', 'The Final Circle of Paradise', \"The Door in the Dragon's Throat\", 'Forrest Gump', 'Los Premios', 'The Way to Dusty Death', 'My Gun Is Quick', 'Vengeance Is Mine!', 'One Lonely Night', 'The Big Kill', 'The Body Lovers', 'Chocolate Fever', 'Caravan to Vaccarès', 'The Big Blowdown', 'The Dark Crusader', 'The Whaleboat House', 'Breath', 'The Last Frontier', 'Partisans', 'The Golden Road', 'Crime in the Kennel', 'Hilldiggers', 'Paprika', 'Sebastian Darke: Prince of Fools', 'Nightmare Abbey', 'Eternity in Death', 'Calculating God', 'The Full Cupboard of Life', 'Carnosaur', 'Escape from Raven Castle', 'Joker in the pack', 'The Sky Village', 'How Children Fail', 'Evil in Paradise', 'Cold Heaven', 'A Guide to the Perplexed', 'Odd Hours', 'In the Company of Cheerful Ladies', 'The Towers of Trebizond', \"The King's Daughter\", 'Der Nachsommer', 'The Eternal Lover', 'The Cave Girl', 'Jinx', 'Circle of Friends', 'Out of This World Watt-Evans', 'In the Empire of Shadow', 'The Reign of the Brown Magician', 'Blue Shoes and Happiness', 'Flood', 'Loyalty in Death', 'Nude Men', 'Look Me in the Eye', 'The Prince and the Pilgrim', 'Hard Love', 'Reserved for the Cat', 'The Girl in a Swing', 'Midnight in Death', 'Magic for Marigold', 'The Beginning Place', '101 Ways to Bug Your Teacher', 'My Legendary Girlfriend', 'The Clue in the Old Stagecoach', 'Helmet for My Pillow', 'Monsieur', 'Penny from Heaven', 'The Maytrees', 'Trapped in the USSR', 'Mara, Daughter of the Nile', 'Trullion: Alastor 2262', 'Journey to Atlantis', 'Boot Camp', 'The Cry of the Owl', 'Hope for the Flowers', 'The Appeal', 'Death of a Colonial', 'Heroes: Saving Charlie', 'I Know What You Did Last Summer', 'Mahars of Pellucidar', \"Blood's a Rover\", 'Peter Pan in Kensington Gardens', 'Saving Fish from Drowning', 'Who Wrote The Dead Sea Scrolls?', 'Old Masters', 'Under the Green Star', 'When the Green Star Calls', 'Traveller', 'Heart of Glass', 'By the Light of the Green Star', 'Patrimony: A True Story', 'The Angel of the Revolution', 'God is Dead', 'The Land Leviathan', 'The Steel Tsar', 'A Nomad of the Time Streams', \"The Virgin's Lover\", 'Troll Fell', 'Out to Canaan', 'The War of the End of the World', 'Troll Mill', 'The Dark Hills Divide', 'Into the Mist', 'The Wrong Side of the Sky', 'Chucaro: Wild Pony of the Pampa', 'Midnight Plus One', 'Shooting Script', 'Venus with Pistol', 'The Fall of the Templar', 'Antony and Cleopatra', 'The Moffats', 'The Good Master', 'Word of Honor', 'The Forgotten Beasts of Eld', 'Just Above My Head', \"Tell Me How Long the Train's Been Gone\", 'Light House: A Trifle', 'The Salt Roads', 'Farthing', 'Trumpet', 'Tango on intohimoni', 'Gloriana', 'As the Green Star Rises', 'Madol Doova', 'The Day Boy and the Night Girl', 'The Vor Game', 'Praisesong for the Widow', 'Jane and Prudence', \"In the Green Star's Glow\", 'Honoured Enemy', 'Special Delivery', 'Follow the Rabbit-Proof Fence', 'The World My Wilderness', 'Belinda', 'Portrait in Sepia', 'Friday Night Lights: A Town, a Team, and a Dream', 'True Talents', 'Fablehaven', 'Artemis Fowl: The Lost Colony', 'The Warriors of Spider', 'Love Creeps', 'Now, Now, Markus', 'The Blue Boy', 'My Booky Wook', 'Imperial Stars', 'Ports of Call', 'Gangster', 'Baltimore, or The Steadfast Tin Soldier and the Vampire', 'The Primrose Path', 'Treading Air', 'The Romance of the Forest', 'The Castles of Athlin and Dunbayne', 'Clermont', 'Le Calvaire', 'Goodbye California', 'The Christmas Mystery', 'A Special Providence', 'Good Morning Midnight', 'Dragon of the Lost Sea', 'Dragon Steel', 'The Castle of Wolfenbach', 'Duel for the Samurai Sword', 'The Necromancer; or, The Tale of the Black Forest', 'Dragonsword', 'The Dragon', 'Pursuit of the Deadly Diamonds', \"The Firework-Maker's Daughter\", 'So B. It', 'Now and Forever', 'The Sacred Land', \"Acorna's Search\", 'Darkside', 'Men of Stone', \"Ender's Game\", 'Evil Genius', 'The Delivery Man', 'The Ghost of Thomas Kempe', 'Shards of Honor', 'A Mysterious Affair of Style', 'Dragon Cauldron', 'Dragon War', 'The Legion of Space', 'Will', 'The Black Curtain', 'Necropolis: City of the Dead', 'Judas Country', 'Duel of Dragons', 'Dragon Death', 'The Code of Romulus', 'Dustbin Baby', 'The Wizard of London', 'The Waxworks Murder', 'The Problem of the Wire Cage', 'To Wake the Dead', 'The Nine Wrong Answers', 'Sepulchre', 'A Countess Below Stairs', 'Uncle Target', 'The Crocus List', 'Hexwood', 'Finding Violet Park', 'The Sleeping Sphinx', 'Patrick Butler for the Defense', \"The Dead Man's Knock\", 'Castle Skull', 'The Last Jew', 'A Company of Swans', 'The Man With the Iron Heart', 'The Man Who Could Not Shudder', 'The Black Spectacles', 'Till Death Do Us Part', \"The House at Satan's Elbow\", 'A Place Called Here', 'Burned', 'In a Lonely Place', 'The Secret Servant', 'The Conduct of Major Maxim', 'Jason and Marceline', 'Chosen', 'Written in Blood', 'Infidel', 'The Mad Hatter Mystery', 'The Devil in Velvet', 'Death Turns the Tables', 'The Testament Of Gideon Mack', 'Berserk', 'A Mercy', 'Tenderness', 'Lucy Gayheart', 'Fine Things', 'The Firebrand', 'Mixed Blessings', 'Out of Order', 'The Crimson Patch', 'The Tinkling Symbol', 'Deathblow Hill', 'Sandbar Sinister', 'The Mystery of the Cape Cod Tavern', \"The Killings at Badger's Drift\", 'Lód', 'The Jester', 'Brain Wave', 'Silent Honor', 'Parnassus on Wheels', 'Singularity', 'Poison In Jest', 'The Arabian Nights Murder', 'Ratha and Thistle-chaser', 'The Eight of Swords', 'Three Cups of Tea', 'The Farther Shore', 'The Color of Death: A Sir John Fielding Mystery', 'Assassin', 'Five Times Dizzy', \"Hag's Nook\", 'The Demoniacs', 'In Spite of Thunder', 'The Witch of the Low Tide', 'The Quantum Prophecy', '2nd Chance', 'The Creationists', 'Sakkara', \"Ha'penny\", 'Half a Crown', 'The Fifth Son of the Shoemaker', 'London Calling', 'Gemma Doyle Trilogy', 'Sword Quest', 'The Golden Keel', \"Wyatt's Hurricane\", 'Running Blind', 'Bahama Crisis', 'The Enemy', 'The Girl with the Dragon Tattoo', 'Socks', 'The City of Dreaming Books', \"The King's Peace\", \"Fortune's Fool\", 'Kowloon Tong: A Novel of Hong Kong', 'The Battle of the Labyrinth', 'The Crows of Pearblossom', 'The Seven Songs of Merlin', 'The Dream Merchant', 'Bagthorpes Abroad', 'The Gates of Sleep', 'First Contact', 'Impulse', 'Odalisque', 'The Aware', 'Born of Man and Woman', 'Nightwings', 'Sunset in St. Tropez', 'Memoirs of a Madman', \"Buffalo Gals, Won't You Come Out Tonight\", 'Thor Meets Captain America', 'A Lick of Frost', 'Alcatraz Versus the Evil Librarians', 'Gate of Ivory, Gate of Horn', 'Wish You Well', 'Speech Sounds', 'Le père de nos pères', 'Before Green Gables', 'Everything on a Waffle', 'To Live', 'Biting the Sun', 'Shutter Island', 'What Was Lost', \"Moscow 1812: Napoleon's Fatal March\", 'Master Georgie', 'Darkwalker on Moonshae', 'The Glass Palace: A Novel', 'Panic Spring', 'Rough Justice', 'Tough Love', '99 Coffins', 'Blood Rites', 'Dead Beat', 'Proven Guilty', 'White Night', 'Three Bags Full', 'The Shakespeare Stealer', 'A Meeting at Corvallis', 'Double Solitaire', 'Owen Glendower', \"The Liars' Club\", 'The Sight', 'A stranger came ashore', 'Man and Boy', 'Waiting for The Rain', 'The Blessing', 'Umrao Jaan Ada', 'The Magicians', 'Kiss', 'Whiteout', 'Nation', 'Waiting: A Novel', 'Flyaway', 'Avilion', 'The Chinaman', 'Epiphany', 'The Year the Yankees Lost the Pennant', 'To Each His Own', 'The Turquoise', 'Reflections in a Golden Eye', \"Le Chef-d'œuvre inconnu\", 'Murder in the Middle Pasture', 'Let Sleeping Dogs Lie', 'The Curse of the Incredible Priceless Corncob', 'Groosham Grange', 'Beguilement', 'Legacy', 'Cat among the Pigeons', 'The Cat Who Knew a Cardinal', 'The Cat Who Tailed a Thief', 'Night of Light', 'People of the Fire', 'The Master Key', 'The Eagle Has Flown', 'Medalon', 'The Chemistry of Death', 'Ace in the Hole', \"Dead Mountaineer's Hotel\", 'The Kid Who Only Hit Homers', 'Agent 13: The Invisible Empire', 'Bright Day', 'Native Speaker', 'Life As We Knew It', 'Heaven Has No Favorites', 'People of the Book', 'Monkey Hunting', 'Shell Shaker', 'I, the Supreme', 'Gents', 'Zeroville', 'The Kingdom and the Power: Behind the Scenes at The New York Times, The Institution That Influences the World', 'Agent 13: The Serpentine Assassin', 'Sovereign', 'A Live Coal in the Sea', 'Dreams of Trespass: Tales of a Harem Girlhood', 'Ashes to Ashes', '2 Girls', 'The Mystery of the Black Jungle', 'Thorn Ogres of Hagwood', 'California Dreaming', 'The Running Man', 'Reflex', 'Eyes of the Emperor', 'Something Upstairs', 'La Maravilla', 'Gather Together in My Name', 'The Case of the Gilded Fly', 'Mr. Monk Goes to Germany', 'Ironman', \"Pitcairn's Island\", 'Born of the Storm', 'The Hills of Varna', 'The Intergalactic Kitchen', 'L’Opoponax', 'Les Guérillères', 'Le Corps Lesbien', 'The Danish Girl', 'A Good and Happy Child', 'All That Glitters', 'T-Backs, T-Shirts, COAT, and Suit', 'The Root Cellar', 'Truancy', 'Hidden Jewel', 'Truesight', 'Genesis Alpha', 'Jack, the Giant Killer', 'The True Meaning of Smekday', 'Killing Time', 'Anathem', 'Kyle XY: Nowhere to Hide', 'Faith of My Fathers: A Family Memoir', 'The Return', 'John Dies at the End', 'The Land of Laughs', 'Tornado', 'Kyle XY: Under the Radar', 'Russka', 'The Forest', 'Ireland: Awakening', 'Witness', 'Leaving Fishers', 'The Absolutely True Diary of a Part-Time Indian', 'The 5th Horseman', 'City of the Sun', 'The Clone Republic', 'Between Two Seas', 'Plum Lucky', 'Backup: A Story of the Dresden Files', 'Poison Study', \"The Queen's Gambit\", 'Bone Dance', 'The Dragons of Babel', 'The Dead of Jericho', 'How I Paid For College: A Novel of Sex, Theft, Friendship, and Musical Theater', 'Fateless', 'The Whitby Witches', 'A Warlock in Whitby', 'Tom Swift in the Caves of Ice', 'Tom Swift and His Wireless Message', 'Tom Swift and His Electric Runabout', 'Tom Swift and His Submarine Boat', 'Tom Swift and His Airship', 'Tom Swift and His Motor Boat', 'Conflict of Interest', 'The Cancer Journals', 'My Mortal Enemy', 'The Twelve Kingdoms: Sea of Wind', 'Ways to Live Forever', 'Pattern for Conquest', 'Celia en el colegio', 'Minions of the Moon', 'The Chosen', 'Cosmic Engineers', 'Renaissance', 'The Starmen', 'Iceworld', 'Mel Oliver and Space Rover on Mars', 'The Forgotten Planet', 'Star Bridge', 'Noonshade', 'Address: Centauri', 'Kirinyaga', 'Sargasso of Space', 'This Fortress World', 'Play to the End', 'Donald Duk', 'The French Confection', 'Dogeaters', 'Reprieve from Paradise', 'Highways in Hiding', 'World Without End', 'Plague Ship', 'Cemetery Dance', 'Lilith: A Snake in the Grass', 'Stairway to Heaven: Led Zeppelin Uncensored', 'Queen of Demons', 'Path of Unreason', 'The White Gryphon', \"Starman's Quest\", 'Tros of Samothrace', 'The Survivors', 'Crossing the River', 'The Bird of Time', 'Purple Pirate', 'Grief: a Novel', 'Invaders from the Infinite', 'The Philosophical Corps', 'The General', 'Operation Storm City', 'The Ebb-Tide', \"The Gorgon's Gaze\", 'Doom 3: Worlds on Fire', 'Pursuit of the Screamer', 'Going, Going, Gone', 'Storm Thief', 'Cerberus: A Wolf in the Fold', 'Into the Out Of', 'G Is for Gumshoe', 'H Is for Homicide', 'The Will of an Eccentric', 'Foundling Mick', 'A Cage of Eagles', 'Dragons of Summer Flame', 'Midnight Robber', 'Enchantress from the Stars', 'Eager', '13 Little Blue Envelopes', 'B Is for Burglar', 'C is for Corpse', 'D Is for Deadbeat', 'Prince of the Blood', 'E Is for Evidence', 'F Is for Fugitive', 'I Is for Innocent', 'J Is for Judgment', 'K Is for Killer', 'L Is for Lawless', 'M Is for Malice', 'O Is for Outlaw', 'Twilight at the Well of Souls', 'T Is for Trespass', 'Blue Light', \"Don't Call Me Ishmael\", 'The Forbidden Garden', 'The Book of Ptath', 'Holiday', 'The Elected Member', 'Saville', 'Sinister Barrier', 'Dexter by Design', 'Skylark of Valeron', 'Seven Out of Time', 'Purple Hibiscus', 'The Coming of the King', 'Charon: A Dragon at the Gate', 'John Halifax, Gentleman', 'Lush Life: A Novel', 'Le Vingtième siècle. La vie électrique', 'The Ravenous', 'Ghosts of Eden', 'Apex Hides the Hurt', \"Jake's Tower\", 'The Garbage King', 'The Bridge of Light', 'The Cometeers', 'Traveling Scholarships', 'The Purchase of the North Pole', 'Subspace Explorers', 'Waking the Moon', 'Dreadful Sanctuary', 'Seeds of Life', 'Fat Chance', 'The Crystal Horde', 'The Berkut', 'Energy Victory: Winning the War on Terror by Breaking Free of Oil', 'Hundred-Dollar Baby', 'Pregnancy after a loss', \"A New Earth: Awakening to Your Life's Purpose\", 'A Matter of Profit', 'Man of Many Minds', 'Three Thousand Years', 'Operation: Outer Space', 'G.O.G. 666', 'Insoumise et dévoilée', 'The Macdermots of Ballycloran', 'Under the Triple Suns', 'Alien Minds', 'Islands of Space', \"The King's Buccaneer\", 'Rainbow Boys', 'Rainbow High', 'Song of the Sparrow', 'The Medici Seal', 'The Heads of Cerberus', 'The Abyss of Wonders', 'Airhead', 'Godfrey Morgan', 'Hero in the Shadows', 'Joseph and His Friend: A Story of Pennsylvania', 'A Thousand Country Roads', 'Dead Heat', 'Running Before the Wind', 'Star Wind', 'Surviving Antarctica: Reality TV 2083', 'Skulduggery Pleasant 2: Playing With Fire', 'Apocalypse', \"The Merchant and the Alchemist's Gate\", \"Firestar's Quest\", 'Still Walking', 'The Black Death', 'The Good Husband of Zebra Drive', 'The House of the Toad', 'The Miracle at Speedy Motors', 'Catcall', 'Ivan the Terrible', 'Armance', 'Stoneheart', 'Change of Heart', 'The Accidental', \"A Dog's Tale\", 'Daughter of the Forest', 'The Animal Family', 'Saving Faith', 'Son of the Shadows', 'Loitering with Intent', 'Love & Sleep', 'Flight of the Nighthawks', 'Wrath of a Mad God', 'The Saturdays', 'The Sand Dwellers', 'A Prisoner of Birth', 'Great Sky River', 'Dread Mountain', 'Kingsblood Royal', 'Merlin Effect', \"Klingsor's Last Summer\", 'Death of a Gossip', 'Tom Swift and His Sky Racer', 'Ally', 'Body Bags', 'Tom Swift in the City of Gold', 'Tom Swift and His Air Glider', 'The Well Dressed Explorer', 'She Came to Stay', 'Tom Swift in Captivity', 'Procession of the Dead', 'The Melting of Maggie Bean', 'Careful, He Might Hear You', 'Tom Swift and His Wizard Camera', 'The Slow Natives', 'Owls to Athens', 'Switchers', 'Banaag at Sikat', 'TIM Defender of the Earth', 'The Girls of Slender Means', 'Glamour Girl', 'The Janissary Tree', 'Blart III: The Boy Who Set Sail on a Questionable Quest', 'Last Bus to Woodstock', 'Revelation', 'How It Happened in Peach Hill', 'Tom Swift and His Great Searchlight', 'Bata, Bata… Pa’no Ka Ginawa?', 'Celia en el mundo', 'Tom Swift and His Giant Cannon', 'Tom Swift and His Photo Telephone', 'Shame the Devil', 'One L', 'The Laws of Our Fathers', 'Personal Injuries', 'Limitations', 'A Posse of Princesses', 'The Last Lecture', 'No Second Chance', 'The Republic of Wine', 'Hello Sailor', 'The Time Stream', 'The Mightiest Machine', 'Final Blackout', \"Smuggler's Moon\", 'The World Is Full of Married Men', 'Murder House', 'Sister of My Heart: A Novel', 'Julian: A Christmas Story', 'Blood Shot', \"Midnight's Choice\", 'The Mislaid Charm', 'Identical', 'The World Is Full Of Divorced Women', 'Wild Blood', 'Outcast', 'Faces in the Moon', 'The Babysitter', 'The Unexpected Guest', \"Daniel's Story\", \"Spider's Web\", 'Which Witch?', 'The Spare Room', 'Three Hundred Years Hence', 'The Finishing School', 'Remember Me', 'On', 'The Torch', 'I Heard That Song Before', 'The Oblivion Society', 'The Innocent Mage', 'Empress of Mijak', 'The Homunculus', 'Lords of Creation', 'Exiles of Time', 'The Big Wave', 'The Riven Kingdom', 'The Fairy-tale Detectives', 'Po-on', 'Mauprat', 'The Eternal Conflict', 'Nomad', 'The Lady Decides', 'The Unusual Suspects', 'The Problem Child', 'The Blind Spot', 'American Beauty', 'Where Are You Now?', 'Mass Effect: Ascension', 'Prayers for Rain', 'Leviathan', 'An Experiment In Treason', 'Lost Boy, Lost Girl', 'The Assassini', 'Belladonna', 'Slaves of Sleep', 'Floating Dragon', 'The World Below', 'Kinsmen of the Dragon', 'Miramar', 'Crooked Zebra', 'Brethren', 'Murder in Millennium VI', 'Space Platform', 'Space Tug', 'Empire of the Atom', 'The Cloning of Joanna May', 'The Fall of Colossus', 'Flower Net', 'Goddess of Yesterday', 'Black Notice', 'Song of the Saurials', 'The General of the Dead Army', 'My Bonny Light Horseman', 'Lock and Key', 'The Creator', 'Behind the Evidence', 'Centurion', 'Fearless Fourteen', 'The Interior', 'The Night People', 'Against All Things Ending', 'The Fermata', 'Keeping the Moon', 'A Fraction of the Whole', 'The Sunken World', \"Death's Deputy\", 'The Radio Man', 'Dragon Bones', 'An Expert in Murder', 'Wild Meat and the Bully Burgers', 'Murder Madness', 'Cereus Blooms at Night', 'Wolf Island', 'Gilda Joyce: Psychic Investigator', 'The Widows of Eastwick', 'Azincourt', 'The Rat Race', 'After 12,000 Years', 'Leven Thumps and the Wrath of Ezra', 'Tom Swift and His Aerial Warship', 'The Dark Other', 'The Iron Star', 'Drums, Girls, and Dangerous Pie', 'Run Before the Wind', 'Drome', 'Chiefs', 'Green Fire', 'The Planet of Youth', 'Blood Red, Snow White', 'Flowers for Algernon', \"The High King's Tomb\", 'Capital Crimes', 'Snow Flower and the Secret Fan', 'People of the Comet', 'The Moon Maiden', 'The Ash Garden', 'Odd and the Frost Giants', 'The Post-American World', 'Indignation', 'The Blood Knight', 'The Born Queen', 'The Diamond of Darkhold', 'La Rabouilleuse', 'Too Loud a Solitude', 'The Port of Peril', 'Dwellers in the Mirage', 'Chances', 'The Return of Tharn', 'The Shack: Where Tragedy Confronts Eternity', 'The Goddess of Ganymede', 'Tanar of Pellucidar', 'Brokedown Palace', 'Storm Rising', 'Lady Boss', 'Drop Dead Beautiful', 'Tom Swift and His Big Tunnel', 'Alfred Hitchcock and the Making of Psycho', 'Staring at the Sun', 'Friends in Low Places', 'Sasquatch', 'The Temple of the Ten', 'Almuric', 'Oreo', 'House of Many Ways', 'The Bowl of Baal', 'The Writing on the Hearth', 'Lords of the Bow', 'Worldbinder', 'Peony in Love', 'Daz 4 Zoe', 'School Days', 'Dating Hamlet', \"The Martian General's Daughter\", 'Cowboys for Christ', 'Equality', 'Return to Mars', 'The Three Palladins', 'Firebird', 'Genius Squad', 'Pagan Babies', 'The Revenge of Dracula', 'Act of Providence', 'The Black Wolf', 'Against the Tide of Years', 'The Other Place', 'Ghoul', 'Hugo Pepper', 'Fergus Crane', 'I, Coriander', 'The Whispering Road', 'Spilled Water', 'Cloud Busting', 'The Fire-Eaters', 'On Pointe', 'The Various', 'Fangland', 'Tom Swift in the Land of Wonders', 'The Earth House', 'Ombria in Shadow', 'Tempted', 'The Blurred Man', 'Fields of Sleep', 'Stop the Train', 'Operación Masacre', 'Songs of the Humpback Whale', 'Potshot', 'Durandal', 'Twenty-Six', 'Maurice', 'The Kill-Off', '8th Confession', 'Hallucinating Foucault', 'Child of the Northern Spring', 'As It Is Written', 'Fair Stood the Wind for France', 'Terminal Freeze', 'The Coffin Quilt', 'Pygmy', 'The Elfin Ship', 'The Man in the Moon', 'Nerve', 'My Sister Jodie', 'The 3 Mistakes of My Life', 'The Secret Order of the Gumm Street Girls', 'Understood Betsy', 'Secrets', 'Genius Wars', 'Spaceship Medic', 'The Glass Bees', 'War Before Civilization: The Myth of the Peaceful Savage', 'Kept in the Dark', 'Tom Swift and His War Tank', 'The Bourne Sanction', 'The Dark Fields', 'The Bell', 'Dead Cert', 'Dead Sea', 'Seventeen Against the Dealer', 'The Starless World', 'Blood Noir', 'Spy Story', 'Dear Mr. Henshaw', \"Dragon: the Old Potter's Tale\", 'Lee and Grant at Appomattox', 'The Disappearing Dwarf', 'The 47th Samurai', 'The Mysterious Benedict Society and the Perilous Journey', 'Echo Round His Bones', 'The Other Queen', 'Mistress of the Empire', 'Servant of the Empire', 'Daughter of the Empire', 'Murder at School', 'Waiting for the Galactic Bus', 'Stormchaser', 'Tom Swift and His Air Scout', 'Evil Always Ends', 'The Gypsy Morph', 'The Soft Whisper of the Dead', 'Threshold', 'The Snow Empress', \"Widow's Walk\", 'The Empress of Mars', 'To the Stars', 'The Hundred-Year Christmas', 'The Eyeless', 'The Story of Martha', \"General Winston's Daughter\", 'The Magician: The Secrets of the Immortal Nicholas Flamel', 'Foxfire: Confessions of a Girl Gang', 'The Scourge of God', 'The Dark Cry of the Moon', 'Virtually Normal: An Argument About Homosexuality', 'In the Courts of the Crimson Kings', \"Academ's Fury\", \"Captain's Fury\", 'The Princes of the Golden Cage', 'Marianne and Mark', 'Crusader', \"Kushiel's Mercy\", 'Tom Swift and His Undersea Search', 'The Long Night of the Grave', 'Yellow Fog', 'All Seated on the Ground', 'Swindle', 'The Sorceress: The Secrets Of The Immortal Nicholas Flamel', 'The Frog King', 'The Magician Out of Manchuria', 'The Red Necklace', 'Tom Swift Among the Fire Fighters', 'Tom Swift and His Electric Locomotive', 'Passage', 'When the Sacred Ginmill Closes', 'Shadowland', 'Métaphysique des tubes', 'Irish Tiger', 'Bridge of Sighs', 'Mrs. God', 'Back to the Stone Age', 'The Face in the Abyss', 'Sea Change', 'Khasakkinte Itihasam', 'Resident Evil: City of the Dead', 'The Twelve and the Genii', 'Street of Shadows', 'Harris and Me', 'Millennium Falcon', 'Bad Business', 'Under the Dome', 'The Weakness', 'Cats of the Clans', 'Windfall', 'Five Get into a Fix', 'Beauty: A Retelling of the Story of Beauty and the Beast', \"Peter the Great's Negro\", 'Doomsday Plus Twelve', 'Drakon', 'In Odd We Trust', 'Becoming Naomi León', 'Angel of Grozny: Inside Chechnya', 'Soul Mountain', 'La mécanique du cœur', 'Feast of Souls', 'Fire in the Mist', 'Thorns', 'Madam, Will You Talk?', 'Airs Above the Ground', \"Eat, Pray, Love: One Woman's Search for Everything Across Italy, India and Indonesia\", 'Geography Club', 'A Long Way Gone: Memoirs of a Boy Soldier', 'Something Else', 'Freedom Summer', 'Cold Skin', 'The Developers', 'The Greek Who Stole Christmas', 'Two to the Fifth', 'The She Spot', 'The Dolphins of Laurentum', 'Knot Gneiss', 'The Outlaws of Sherwood', 'Tree: A Life Story', 'Ah, But Your Land Is Beautiful', 'Harvesting the Heart', 'Blue Willow', 'The Wonderful Country', 'The Other Side', 'Escape from Hell', 'Land of Terror', 'Savage Pellucidar', 'The Remorseful Day', \"Logan's World\", 'Bones of the Hills', 'Synthetic Men of Mars', \"Jumper: Griffin's Story\", 'Bella at Midnight', 'The Beggar of Volubilis', 'Very Hard Choices', 'Brigands M.C.', 'The Forever King', 'The Mucker', 'The Blade Itself', \"A Gentleman's Guide to Graceful Living\", 'Diary of a Wimpy Kid: Rodrick Rules', 'City of Bones', 'Accident', 'The End of Oil', 'Gollum: How We Made Movie Magic', 'Cold in the Earth', 'Swords and Deviltry', 'Jhegaala', 'The Rose Rent', 'Paper Towns', 'The Great Kapok Tree', 'The Great Dinosaur Robbery', 'The Ox-Bow Incident', 'The Slave-girl from Jerusalem', 'The Unwilling Warlord', 'Beyond Thirty', 'Plague Ship', 'The Boy Next Door', 'The Sunne in Splendour', 'Under the Yoke', 'The Stone Dogs', 'Century', 'Foreigner', 'The Scrambled States of America Talent Show', 'Gears of War: Aspho Fields', 'Cross Country', 'Eva', 'The Silkie', 'Relic of Empire', 'The Lost Fleet: Valiant', 'Two Bad Ants', '3 Willows: The Sisterhood Grows', \"The Orphaned Anything's\", 'Marihuana', 'Sign of the Cross', 'The Lost Fleet: Dauntless', 'The Willow Tree', 'Half of a Yellow Sun', 'The Steel Mirror', 'The Klingon Gambit', 'The Covenant of the Crown', 'The Prometheus Design', 'The Abode of Life', 'Black Fire', 'Triangle', 'Highways to a War', 'Web of the Romulans', 'In Her Shoes', 'Mutiny on the Enterprise', 'The Trellisane Confrontation', 'Corona', 'My Enemy, My Ally', 'The Tears of the Singers', 'The Vulcan Academy Murders', \"Uhura's Song\", 'Shadow Lord', 'Killing Time', 'Dwellers in the Crucible', 'Pawns and Symbols', 'Prisoner of the Daleks', 'Mindshadow', 'Crisis on Centaurus', 'Dreadnought!', 'Demons', 'The Wizard in the Woods', 'Battlestations!', 'Chain of Attack', 'Deep Domain', 'Dreams of the Raven', 'The Romulan Way', 'The IDIC Epidemic', 'The Given Day', 'Timetrap', 'The Three-Minute Universe', 'Memory Prime', 'The Final Nexus', 'Double, Double', 'The Cry of the Onlies', 'Rules of Engagement', 'The Pandora Principle', \"Doctor's Orders\", 'Enemy Unseen', 'The Murder Book', 'The White Mary', 'Double Trouble', 'Home Is the Hunter', 'Assignment:Murder', 'The Valley-Westside War', \"My Grandfather's Son: A Memoir\", 'In High Places', 'Gunpowder Empire', 'Personal Demon', 'The Samurai’s Garden', 'A Panther in the Basement', 'Feuchtgebiete', 'The Associate', 'The Gospel According to the Son', 'Every Man Dies Alone', 'The Seven Hills', 'Das Königsprojekt', 'Eternal Curse on the Reader of These Pages', 'Keziah Dane', 'The Rebels', 'Rommel? \"Gunner Who?\"', 'Generation Dead', 'The Lost Fleet: Fearless', 'Diary of a Wimpy Kid: The Last Straw', 'Young Samurai: The Way of the Warrior', 'Resistance', 'Dark Mirror', 'Show Boat', 'Darkest Hour', 'Monty: His Part in My Victory', 'Madame Doubtfire', 'The Wizard in Wonderland', 'Missile Gap', 'The Little Walls', \"Nobody's Baby But Mine\", 'The Clone Wars', 'Soldier Boys', 'Ghost Walker', 'A Flag Full of Stars', 'Passionate Minds: The Great Love Affair of the Enlightenment, Featuring the Scientist Emilie du Chatelet, the Poet Voltaire, Sword Fights, Book Burnings, Assorted Kings, Seditious Verse, and the Birth of the Modern World', 'Supreme Courtship', 'Sacred', 'The False Inspector Dew', 'Gray Victory', 'Clash of Eagles', 'The Divine Worshipper', 'A Jolly Good Fellow', 'The Wench is Dead', 'Mussolini: His Part in My Downfall', 'Chhinnamastar Abhishap', 'The Four-Story Mistake', 'Then There Were Five', 'Spiderweb for Two: A Melendy Maze', 'Return to Gone-Away', 'Gone Tomorrow', 'The Colossus of Rhodes', 'Arctic Drift', 'The New Life', 'And Then There Were None', 'Atlas Shrugged', 'The Eagle in the Sand', 'Peter Pan', 'Death in the Andes', 'The Scribes from Alexandria', 'The Blue World', 'The Mona Intercept', 'The Soft Centre', 'The Five Gold Bands', 'MAX: A Maximum Ride Novel', 'The Riddle of the Third Mile', 'The Road of Bones', 'Last Seen Wearing', \"Icon of Evil: Hitler's Mufti and the Rise of Radical Islam\", 'The Silent World of Nicholas Quinn', 'Service of All the Dead', 'Ranks of Bronze', 'The Forlorn Hope', 'Democracy and Education', 'Death Is Now My Neighbour', 'The Daughters of Cain', 'The Way Through the Woods', 'Son of the Tree', 'The Howling II', 'The Steel Remains', 'Ramage', 'Lucinda Brayford', 'Incandescence', 'Disguise', \"The Chimera's Curse\", 'The Maze of Bones', 'The Broken Shore', 'The Gargoyle: A Novel', 'Fifteen', 'Magic Study', 'A Pinch of Snuff', 'Crusade', 'The Knife That Killed Me', 'The Knife of Never Letting Go', 'Chasing Darkness', 'Five Go To Mystery Moor', 'The Private Patient', 'The Faerie Path', \"Wycliffe's Wild Goose Chase\", 'Ladybug Girl', 'Colors Insulting to Nature', 'A Mind to Murder', 'Monkey Puzzle', 'The City & the City', 'Thank You, Mr. Moto', 'The Planet Savers', 'The Sword of Aldones', 'The Bloody Sun', 'Star of Danger', 'The White Tiger: A Novel', 'Flood', 'In the Days of the Comet', 'Three to See the King', 'Hot, Flat, and Crowded: Why We Need a Green Revolution - and How It Can Renew America', 'Falcons of Narabedla', 'White Dog', 'The Serpent Bride', 'A Different Flesh', 'The children of Niobe', 'Shanghai Girls', 'The Fugitive from Corinth', 'Princess of Gossip', 'The Crisis', 'The Cyborg from Earth', 'Sunnyside', 'Romanno Bridge', 'The Door Through Space', 'Resistance', 'Shadow of a Dark Queen', 'Equal Affections', \"I'll Take You There\", 'The Kiss of Death', 'The Crossing of Ingo', 'The Forbidden Tower', 'The Wind Boy', 'The Wrong Doyle', 'Belchamber', 'Random Acts of Heroic Love', 'Thendara House', 'The Forged Coupon', 'The Killing Star', 'Worlds of the Imperium', 'City of Sorcery', 'The Bourne Deception', 'Deep Dish', 'Vaporetto 13: A Novel', 'City at the End of Time', 'The Cat Who Had 60 Whiskers', 'The Story of Edgar Sawtelle', 'The Fern Tattoo', 'Other Bells for Us to Ring', 'Mistborn: The Hero of Ages', 'Kung Fu High School', 'Without Warning', 'Body Double', 'Gone to the Dogs', 'A Cool Head', 'Tomorrow, When the the War Began', 'Jennie Gerhardt', 'The Glitch in Sleep', 'The Apprentice', 'Dark Calling', 'The Tin Roof Blowdown: A Dave Robicheaux Novel', 'The Bottle Factory Outing', 'The Split Second', 'Cruel Zinc Melodies', 'The Lions of Lucerne', 'Master of Whitestorm', 'The Painted Man', \"Stranglers' Moon\", 'Degrees of Connection', 'The Sound of One Hand Clapping', 'The Gone-Away World', 'Corduroy Mansions', 'Kandide and the Secret of the Mists', 'The Dream Millennium', 'The Longest Memory', 'Whispers in the Graveyard', 'The Cat Who Talked Turkey', 'For Rent One Grammy One Gramps', 'Satan from the 7th grade', 'Kingdom Keepers II: Disney at Dawn', 'The Cat Who Brought Down the House', 'The Story of Egmo', \"The Ambassador's Mission\", 'Necessary Heartbreak', 'A Darker Domain', 'Expiration Date', 'Before I Die', 'Cecily G. and the Nine Monkeys', 'The Charioteer of Delphi', 'The Sky Is Falling', 'Fire Study', 'The Secrets of Harry Bright', 'Omega', 'Désert', 'The Whole Truth', 'A Life of Contrasts', 'Oceanic', 'Click, Clack, Quackity-Quack: An Alphabetical Adventure', 'Jewels from the Moon', 'The Line', 'Click, Clack, Splish, Splash: A Counting Adventure', 'Things That Are', 'Point of Origin', 'The Whiskey Rebels', 'The Slaves of Solitude', 'Those Who Walk Away', 'The Brass Verdict: A Novel', 'Terra Amata', \"Darwin's Children\", 'Weaver', 'Tim the Tiny Horse At Large', 'Flush!: The Scoop on Poop throughout the Ages', 'The Earth, My Butt, and Other Big Round Things', 'Winterdance: The Fine Madness of Running the Iditarod', 'Payback: Debt and the Shadow Side of Wealth', 'The Winds of Darkover', 'The World Wreckers', 'Apartment 255', \"The One O'Clock Chop\", 'The Two Faces of January', 'Tomorrow Wendy', 'Caine Black Knife', 'Sea of Poppies', 'The Lucky One', 'Escape to the Hills', 'A Purple Place for Dying', 'Their Dogs Came with Them', \"The Children's Bach\", 'A Walk to Remember', 'The Shadow Speaker', 'Nights in Rodanthe', 'The Great Ghost Rescue', 'Storm Catchers', 'Pale Gray for Guilt', 'The Elegance of the Hedgehog', 'Come Clean', 'The Turkey: An American Story', 'Feludar Goendagiri', 'Back', 'The Sable Quean', 'Icarus at the Edge of Time', 'Cathedral of the sea', 'The Unforgiving Wind', 'The Man-Eater', 'The Dreadful Lemon Sky', 'The Last Olympian', 'The Wicked Witch of Oz', 'The Rundelstone of Oz', \"Wittgenstein's Nephew\", 'Blood on the Forge', 'Frost', 'Correction', 'First Into Nagasaki: The Censored Eyewitness Dispatches on Post-Atomic Japan and Its Prisoners of War', 'Mōryō no Hako', \"Harriet's Halloween Candy\", 'Paradox in Oz', 'A Fish Out Of Water', 'Policeman Bluejay', 'Resistance: The Gathering Storm', 'The Loser', 'Shadow Wave', \"Couldn't Keep it to Myself: Testimonies from Our Imprisoned Sisters\", 'The Believers', 'A Case of Exploding Mangoes', 'Adored', 'The Giant Garden of Oz', 'Woodcutters', 'The Lime Works', 'The Duchess of Windsor', 'Castle Storm', 'Gargoyles', 'Extinction', \"Isaac Asimov's Robot City: Odyssey\", \"Isaac Asimov's Robot City: Suspicion\", \"Isaac Asimov's Robot City: Cyborg\", \"Isaac Asimov's Robot City: Prodigy\", \"Isaac Asimov's Robot City: Refuge\", \"Isaac Asimov's Robot City: Perihelion\", 'The Crimson Labyrinth', 'Yes', 'Five Go Off to Camp', 'Five on a Secret Trail', 'Five Go to Billycock Hill', 'Five on Finniston Farm', 'Fat Chance', 'The Hunger Games', 'Swallowing Darkness', 'Darkhouse', 'A House is Built', 'Return of the Brute', 'The Grey Lady and the Strawberry Snatcher', 'The Amityville Horror Part II', 'Krondor: The Betrayal', \"Autism's False Prophets: Bad Science, Risky Medicine, and the Search for a Cure\", 'Archform: Beauty', 'Death of a Cad', 'Agatha Raisin and the Quiche of Death', 'The Kings of Clonmel', 'Conquerors from the Darkness', 'Petals of Blood', 'The Frog Princess', 'Murder in Amityville', 'The Gown of Glory', 'Final Curtain', 'The Nursing Home Murder', 'The Phoenix Unchained', 'Field Notes from a Catastrophe', 'The Sword of the Lady', 'Death of an Outsider', 'Mr. Monk is Miserable', 'By Night In Chile', 'Kairo-kō', 'The Gladiators from Capua', 'The Blank Page', 'Nazi Literature in the Americas', 'Distant Star', 'Last Evenings on Earth', 'Multiculturalism without Culture', 'The Kingdom of Shadow', 'The Sign of the Chrysanthemum', 'Amityville: The Final Chapter', 'A Heart So White', 'Dark Back of Time', 'The Master Puppeteer', 'Your Face Tomorrow Volume 1: Fever and Spear', 'Blackthorn Winter', 'Regenesis', \"Park's Quest\", 'The Five Greatest Warriors', 'The Kill Artist', 'Amityville: The Horror Returns', 'Eyo', 'The Complex: How the Military Invades Our Everyday Lives', 'Amulet', 'The Last Holiday Concert', 'The Other Side of Truth', 'Up in the Air', 'Long Lost', \"Hell's Heroes\", 'The Amityville Curse', 'Tunes for a Small Harmonica', 'The Immigrants', 'Flying Solo', 'Spider Boy', 'Inherent Vice', 'Fig Pudding', 'The Hour of the Star', 'The World in Winter', 'Uncle Daddy', 'Came Back to Show You I Could Fly', 'The Missing Piece', 'Compass in the Blood', 'Moscow Rules', 'The Keep', 'Long Shadows', 'Tommy Trouble and the Magic Marble', 'Royal Exile', 'Cover Up', 'Queen Ann in Oz', 'Blood and Memory', 'Unveiling a Parallel', 'The Magic Dishpan of Oz', 'The Dragon Jousters series', 'There Goes the Neighborhood', 'Last Battle of the Icemark', 'Scarpetta', 'The English Assassin', 'The Road to Samarcand', 'Death of a Gentle Lady', 'Kate Remembered', 'The Book of Negroes', 'Cross-Country Crime', 'The Game', 'Annabel', 'The Christopher Killer', 'Portobello', 'The Birthday Present', 'The Girl Who Played with Fire', 'Attack of the Mutant Underwear', 'One False Note', 'Just Call Me Stupid', 'Monkey Grip', 'Tamsin', 'The Rozabal Line', 'The Diothas', 'The Soldiers of Halla', 'The Room', 'The Snow Queen', 'After the War', 'Riding for My Life', 'One Day of Life', 'The Great Romance', 'Alamat ng Gubat', 'Wildwood Dancing', 'No More Dead Dogs', \"Every Day is Mother's Day\", 'Moon of the Spider', \"Hunter's Run\", 'Earth Revisited', 'Suicide Hill', 'The Bulwark', 'Feathers', 'Bhuswargo Bhayankar', 'A Jest of God', 'The Mysterious Edge of the Heroic World', 'We Murder Stella', 'The Year of the Angry Rabbit', 'Found', \"Le Chercheur d'or\", 'Étoile errante', 'Ourania', 'Ritournelle de la faim', 'The Gray Cloth', 'Along for the Ride', 'Sent', 'Lullaby', 'The Redeemer', 'Things Could Be Worse', 'The Wings of Merlin', 'Pirate Freedom', \"Aunt Jane's Nieces Abroad\", 'Quofum', 'Curious George', 'Curious George Takes a Job', 'The Eye of the Forest', 'Curious George Rides a Bike', 'Syren', 'Bare Bones', 'Lost and Found', 'Curious George Goes to the Hospital', 'Storm from the Shadows', \"Aunt Jane's Nieces at Millville\", 'The White Road', 'Dragonwyck', 'A Crystal Age', 'Sunrise', 'The Island of Adventure', 'The Ethnic Cleansing of Palestine', 'The Confessor', 'Kinflicks', 'The Crossroads', 'King of the Rattling Spirits', 'Babylon Babies', 'Doom 3: Maelstrom', \"Aunt Jane's Nieces at Work\", 'The Legend of Sigurd and Gudrún', 'The Price of Murder', 'Rules of Engagement: A Sir John Fielding Mystery', \"Aunt Jane's Nieces in the Red Cross\", 'A Person of Interest', 'Seekers of the Sky', 'Zanesville', 'Autonomy', 'Triptych', 'Chroniques du Pays des Mères', 'Frozen Fire', 'The Krillitane Storm', 'Harriet Said...', \"The Siege of Trencher's Farm\", 'The Visitors', 'Colossus and the Crab', \"We Couldn't Leave Dinah\", 'Chronic City', 'Alexandria', 'Trading Faces', 'Visitors from London', 'One Corpse Too Many', 'Homunculus', 'An Episode in the Life of a Landscape Painter', 'The Worry Website', 'Ghosts', 'How I Became a Nun', 'The Secret Magdalene', 'River Boy', 'Karmabhoomi', 'The Hacker and the Ants', 'The Great Wheel', 'No One Thinks Of Greenland', \"Alcatraz Versus the Scrivener's Bones\", 'The White Tiger', 'O Presidente Negro', 'Paint It Black: A Novel', 'Fifth Planet', \"Ossian's Ride\", 'The War Between the Tates', 'The Lost World', 'Code to Zero', \"Dead Man's Ransom\", 'The Accidental Time Machine', 'Dark Fire', 'Poor Miss Finch', 'Galactic Odyssey', 'Paula Spencer', \"Tom Clancy's Ghost Recon\", 'The Quickie', 'Leaf In A Bitter Wind', \"The Officers' Ward\", 'Savvy', 'Tuvalu', 'Living Dead in Dallas', 'Club Dead', 'The Boy Who Dared', 'Dogzilla', 'The Secret Scripture', 'Moving the Mountain', 'Thirteenth City', 'The Way of Shadows', 'The Winds of Dune', 'Headlong', 'Yes Man', 'Horizon', 'March Upcountry', 'Crocodile Tears', 'Notes From the Midnight Driver', 'Deadly, Unna?', 'The Birthday Party', 'Alphabet of Dreams', 'To Venus in Five Seconds', 'Granny Was a Buffer Girl', 'Wings of Wrath', 'The New Paul and Virginia', 'The Mandelbaum Gate', 'Nordy Bank', 'Go With Me', 'Betrayal', 'EarthWeb', 'Winter', 'The Prophet Murders', 'Star Wars: Darth Bane: Dynasty of Evil', 'The River Why', 'Angelology', 'Someone Named Eva', 'Majya Jalmachi Chittarkatha', 'Bradley McGogg, the very fine frog', 'The Faithful Spy', '9 Dragons', 'Other People', 'Mr. Monk Goes to the Firehouse', 'Dead to the World', 'The Changeover: A Supernatural Romance', 'The Dead and the Gone', 'Millions', \"Germs: Biological Weapons and America's Secret War\", 'Luckypenny', 'Vespers in Vienna', 'The Fair Bride', 'Little Friend', 'The Stooping Venus', 'Terminal World', \"Father Malachy's Miracle\", 'A Foot in the Grave', 'Urban the Ninth', \"Father Hilary's Holiday\", 'The Divided Lady', 'Girl in May', 'Thoughts of My Cats', 'Children of This Earth', 'To Every Man a Penny', 'The Judas Goat', 'Times of Contempt', 'The Sport of the Gods', 'Foreign Land', 'Bold as Love', 'All the Colours of Darkness', 'The World, the Flesh, and Father Smith', 'Jeremy Fink and the Meaning of Life', 'The Eighth Scroll', 'The Humbling', 'The Stone Giant', 'The Running Man', 'Waking the Dead', 'The Missing Peace', 'Glass', 'With Her in Ourland: Sequel to Herland', 'The Little Fur Family', 'For Lust of Knowing', 'Crime', 'Beric the Briton, A Story of the Roman Invasion', 'City of Ashes', \"The Magician's Apprentice\", 'The Lost Train of Thought', 'The Universe Maker', 'Seiken no Blacksmith', 'Loved Ones', 'Wings', 'Tea Time for the Traditionally Built', 'Cross my heart and hope to spy', \"Gaia's Toys\", 'The Immortals', 'Catching Fire', 'Canyons', 'Irish Thoroughbred', 'Carazamba', 'M or F?', 'Just David', 'The Colour', 'A Fringe of Leaves', 'A Girl from Lübeck', 'The Slap', 'Shangri-La', 'Typewriter in the Sky', 'The Riding Club Crime', 'Inspector Ghote Hunts the Peacock', 'The Scarlet Empire', 'Falling from Grace', 'Glubbslyme', 'When Red Is Black', 'The Broken Anchor', 'The Car', \"Don't Judge A Girl By Her Cover\", 'The Victim of Prejudice', 'Amnesia', 'Lizzie Zipmouth', 'Lion of Senet', 'Eye of the Labyrinth', 'The Sword Thief', 'Four Steps to Death', 'The Iron Tree', 'Do Good Design', 'Superstitious', 'Torch of Freedom', 'The Cleft', \"Shadow's Edge\", 'Raising Atlantis', 'The Atlantis Prophecy', 'The Underneath', 'Generation A', 'Air and Angels', 'Little Eva: The Flower of the South', 'Daughter of Venice', 'The Grange at High Force', 'Beyond the Grave', 'The Fire Kimono', 'Sir Nobonk and the Terrible Dreadful Awful Naughty Nasty Dragon', 'Prayer for the Living', 'An Account of Capers', 'White Acre vs. Black Acre', 'Fablehaven: Secrets of the Dragon Sanctuary', 'Midnight', 'Monsieur Lecoq', 'City of Glass', 'Dear Nobody', 'Jack and Jill: A Village Story', 'The Haunted Woman', 'The Mum Minder', 'The Kite Fighters', 'The Prophet from Ephesus', 'When the Birds Fly South', 'Red Moon and Black Mountain', \"Killer's Payoff\", 'Heroes of Tobruk', 'Graceling', 'The Black Circle', 'Where the Streets Had a Name', 'Skulduggery Pleasant: The Faceless Ones', \"Merlin's Ring\", 'The London Eye Mystery', 'Are U 4 Real?', 'Bribery, Corruption Also', 'The Mugger', 'The Twelve Kingdoms: Skies of Dawn', 'Ordered to die: a history of the Ottoman army in the First World War', 'Dead as a Doornail', 'Definitely Dead', 'Bones', 'A Cold Heart', 'Therapy', 'Obsession', 'Wake', 'All Together Dead', 'From Dead to Worse', 'Dead and Gone', 'The Gathering Storm', 'Pirate Latitudes', 'The Saxon Shore', 'Blanca Olmedo', 'Young Samurai: The Way of the Sword', 'Yōgisha X no Kenshin', 'Hussein, An Entertainment', 'Amityville - The Nightmare Continues', 'River God', 'An Excellent Mystery', 'Prodigal Summer: A Novel', 'The Green Child', 'The Master: An Adventure Story', 'Two Lives', 'Dexter is Delicious', 'Click Here :', 'Fortunate Son', 'Sag Harbor: A Novel', 'Genesis', 'The Enemy', \"Don't Care High\", '1635: The Dreeson Incident', \"Monk's Hood\", 'A Push and a Shove: A Novel', 'Inspector Ghote Goes by Train', 'Creature of the Night', 'Orosa-Nakpil, Malate', \"Singin' and Swingin' and Gettin' Merry Like Christmas\", 'Vampirates:Black Heart', 'Windsor Castle', 'Give Me Back My Legions!', 'Haunted', 'Spellfire', 'Bloodhound', 'Koolaids: The Art of War', 'God Drug', 'Bad Faith', 'Marooned on Mars', 'Yellow Tapers for Paris', 'Sea Dragon Heir', 'The Howling III: Echoes', 'The Troubled Man', 'Thomas the Rhymer', 'The Last Dickens', 'The Lost Fleet: Relentless', 'The Scarecrow', 'Engaging the Muslim World', 'Envy: A Luxe Novel', 'Hearts Grown Brutal', 'Wanting', 'Soldiers and Slaves', 'The Exeter Blitz', 'Transformers: The Veiled Threat', 'The White Rabbit', 'A Thread of Scarlet', 'Computer One', 'Only Fade Away', 'The Bishop', 'The Death Guard', 'The Seer', 'The Kingdom Keepers: Disney After Dark', 'Looking for JJ', 'Changes', \"The Fort at River's Bend\", 'The Iciest Sin', 'Being Nikki', 'Push', 'The Stronghold', 'Space Demons', 'Child of the Wolves', 'The Fox Cub Bold', \"The Mysterious Benedict Society and the Prisoner's Dilemma\", 'The Siege of White Deer Park', 'In the Path of the Storm', 'Battle for the Park', 'Rise of a Merchant Prince', 'Werewolf versus Dragon', 'Simon', 'Fang: A Maximum Ride Novel', 'How We Decide', 'Journeys to the End of the World', 'The Inferior', 'Story of a Girl', 'Cavern of the Fear', 'Coco & Igor', 'Wagon Train to the Stars', 'Belle Terre', 'Rough Trails', 'The Flaming Arrow', 'Wait Till Helen Comes: A Ghost Story', 'The Snowman', 'Thin Air', 'Winter Rose', 'December 7, 1941: A Different Path', 'Ramage and the Drumbeat', 'Set in Stone', 'The Assignment', 'The Book of Atrix Wolfe', 'Windswept House: A Vatican Novel', 'Manhattan Is My Beat', \"The Demon's Lexicon\", '1Q84', 'The Ghost Drum', 'Devious', 'Death of a Blue Movie Star', 'I, Alex Cross', 'Pippi Longstocking', 'Final Draft', 'How the Grinch Stole Christmas!', 'Six Suspects', 'Cloak', 'Butterfly', 'The Physick Book of Deliverance Dane', 'Ninth Grade Slays', 'The Manny Files', 'The Death and Life of Charlie St. Cloud', 'Hunter in the Dark', 'Shadow', 'Abyss', 'Rogue', 'Fell', 'Ceremony', 'Man Gone Down', \"Who's Your City?\", 'The Ask and the Answer', 'Lunatic', 'Exposure', 'Dragon and Thief', 'Sir Harold of Zodanga', 'Heist Society', 'Stargazer', 'The Everafter War', 'After the Wreck, I Picked Myself Up, Spread My Wings, and Flew Away', 'Landslide', 'The Snow Tiger', 'High Citadel', 'The Tightrope Men', 'The Spoilers', 'The Freedom Trap', 'Juggernaut', 'Night of Error', 'The Honour of the Knights', 'In Vivo', \"The Eagle's Prey\", 'Odd Man Out: A Year on the Mound with a Minor League Misfit', 'Bog Child', 'The Girl from Hollywood', 'Mindplayers', 'Under a Monsoon Cloud', 'The Indigo King', 'The Shadow Dragons', 'Wild Geese', 'A Conspiracy of Kings', 'Breaking Point', 'Evermore', 'Skin Tight', 'The Little Grey Men', 'Fancy Nancy', 'Professor Shonku', \"The Girl Who Kicked the Hornets' Nest\", 'Palimpsest', 'Hush Little Baby', 'Henry and the Paper Route', 'Dragon Keeper', 'March to the Sea', 'March to the Stars', 'The Nose From Jupiter', 'Ransom My Heart', 'Land of Marvels', 'Warbreaker', 'Rogue', 'Julian Comstock: A Story of 22nd-Century America', 'The Accounting', 'Honor Thyself', 'A Good Woman', 'One Day at a Time', 'The Atlantia Talisman', 'Zeitoun', 'Pool of Radiance', 'A Step From Heaven', 'Secrets of the Clans', 'Code of the Clans', 'The Rise of Scourge', 'Escape from the Forest', 'Return to the Clans', 'STORM: The Infinity Code', 'By Heresies Distressed', 'The First Two Lives of Lukas-Kasha', \"Kit's Wilderness\", 'The White Darkness', 'On the Jellicoe Road', 'Hidden Empire', 'Not That Sort of Girl', 'Lowell Park', 'The Little Red Hen', 'Generation X: Tales for an Accelerated Culture', 'The Selected Works of T.S. Spivet', 'I Love You, Beth Cooper', 'Winter Hawk', 'The Declaration', 'The Resistance', 'Atala', 'One Second After', 'Harnessing Peacocks', 'The Heart of a Distant Forest', 'Collision', 'Black Butterfly', 'Looking for Rachel Wallace', 'The Looney: An Irish Fantasy', 'Chasing the Bear', 'Patsy of Paradise Place', 'Faithless', 'A Faint Cold Fear', \"Vulcan's Forge\", \"Charon's Landing\", 'The Medusa Stone', 'Rollback', \"Pandora's Curse\", 'The Knight', 'The Lollipop Shoes', 'Indiana Jones and the Peril at Delphi', 'The Greeks Have a Word For It', \"Brother Cadfael's Penance\", 'LaBrava', 'Divine Misdemeanors', 'The Last Song', 'Daniel X: Watch the Skies', 'Dangerous Girls', 'A Stranger to Command', \"On the Bright Side, I'm Now the Girlfriend of a Sex God\", \"Ratha's Courage\", 'Heroes of the Valley', 'The Last Valley', 'The Forest King', 'Indiana Jones and the Seven Veils', 'Kapitan Sino', 'Fight Club', 'Bazaar-e-Husn', 'Thirteen Reasons Why', 'Green', 'Servant of the Dragon', 'The Cater Street Hangman', 'Tricks', 'The Infinities', 'The Millionaire Mind', 'This River Awakens', 'A Dubious Legacy', 'The Rehearsal', 'Second Fiddle', 'Freddy Rides Again', 'Freddy and Mr Camphor', 'Freddy and the Men from Mars', 'The Virgin in the Ice', 'Freddy the Magician', \"Bluestar's Prophecy\", 'The Castle of Adventure', 'Matters of the Heart', 'Blue Moon', 'Dragons of the Hourglass Mage', 'Love, Aubrey', 'A Catskill Eagle', 'Death Troopers', 'A Wizard of Mars', 'Blood Ties', 'Freddy and the Baseball Team from Mars', 'The Man from Pomegranate Street', 'Southern Lights', 'Amazing Grace', 'Bungalow 2', 'Sisters', 'H.R.H.', 'Coming Out', 'The House', 'Toxic Bachelors', 'Adrian Mole: The Prostrate Years', 'Miracle', 'Impossible', 'Echoes', 'Ransom', 'Safe Harbour', \"The Romulan War: Beneath the Raptor's Wing\", 'Kobayashi Maru', 'The Good That Men Do', 'Broken Bow', 'Shockwave', 'What Price Honor?', \"Surak's Soul\", 'The Expanse', 'Daedalus', \"Daedalus's Children\", 'Rosetta', 'Ursule Mirouët', 'Hot Springs', 'Martian Time-Slip', 'The Magicians', 'A Sensible Life', 'César Birotteau', 'A Troubled Peace', 'The Guardian', 'Amber and Blood', 'The Quest of Kadji', 'Wyst: Alastor 1716', 'Competitors', 'The Depths of Time', 'What Dreams May Come', 'Crusade', 'My Heartbeat', 'An Imaginative Experience', 'Three Dollars', 'Knight Crusader', 'The Wizard of Linn', 'Part of the Furniture', 'Knulp', 'Farside Cannon', 'Dragon Age: The Stolen Throne', 'The Tomorrow People', 'Last Night In Twisted River', 'Freddy Goes Camping', 'A Princess of Landover', 'Untouchable', 'Freddy the Pilot', \"Child's Play\", 'Stark Naked: A Paranomastic Odyssey', 'Last Shot', 'How the Scots Invented the Modern World', 'The Primrose Ring', 'Juliet, Naked', 'The Stolen Lake', 'The Sanctuary Sparrow', '2 States: The Story of My Marriage', '61 Hours', 'Freddy the Pied Piper', 'Twelfth Grade Kills', 'Veracity', 'Runt', 'The Quest Begins', 'Child of All Nations', 'The Little Stranger', 'Monsters of Men', 'Freddy and the Ignormus', 'The Other Lands', 'A Grass Rope', 'The Anome', 'The Pyramid. The Soviet Mafia', 'Petrogypsies', 'Freddy and the Dragon', 'Dimiter', 'Les clefs de babel', 'The Red Wolf Conspiracy', 'Freddy and the Bean Home News', 'Fablehaven: Keys to the Demon Prison', 'Transition', 'Kangazang!', 'The Alabaster Staff', 'The Black Bouquet', 'The Crimson Gold', 'The Yellow Silk', 'Vampirates: Empire of Night', \"Alex Cross's Trial\", 'Ship of Destiny', 'Os Velhos Marinheiros ou o Capitão de Longo Curso', 'Project 17', 'Ordinary Thunderstorms', 'Oh. My. Gods.', 'Andromeda Klein', 'The German lesson', 'A Morbid Taste for Bones', 'High Vacuum', 'Freddy and Simon the Dictator', 'Septimus Heap: The Magykal Papers', 'Wolf: The Journey Home', \"Report to the Principal's Office\", 'Timeliner', 'Dead in the Family', 'Mach 1: A Story of Planet Ionus', 'Bats in the Air, Bats in My Hair', 'The Unincorporated Man', 'Total chaos', 'New York', 'Requiem for a Fish', 'In the Hand of Dante', 'Point Omega', 'The Quiet War', 'Dreams of My Russian Summers', 'Le Fait du prince', 'My Darling, My Hamburger', 'Aladore', 'Breaking and Entering', 'The Necromancer: The Secrets of the Immortal Nicholas Flamel', 'From Anna', 'The Help', 'The Infernal City', 'In Too Deep', 'The Bell at Sealey Head', 'In the Forests of Serre', 'Castle Dor', 'Finding H.F.', 'The Blue Star', 'Barbary', 'Od Magic', 'Lad, A Dog', 'The Virginians', 'Krondor: The Assassins', 'The Leper of Saint Giles', 'A Mind at Peace', 'I Will Survive', 'What the Dog Saw: And Other Adventures', 'A Fine and Private Place', 'Skulduggery Pleasant: Dark Days', 'Someday This Pain Will Be Useful To You', 'The Well of the Unicorn', 'Star Wars: Crosscurrent', 'Attica', 'The Indian Clerk', 'The Cat Who Went Bananas', 'Mohana Silai', 'Freddy the Politician', 'One in Three Hundred', 'How to Build a Robot Army', 'Anima', 'Songs My Mother Never Taught Me', 'Many and Many a Year Ago', 'The Mechanical Bride: Folklore of Industrial Man', 'The Way of Kings', 'Invisible', 'Rage: A Love Story', 'Death Note Another Note: The Los Angeles BB Murder Cases', 'This Misery of Boots', 'All You Need Is Kill', \"The Viper's Nest\", 'Fire World', '206 Bones', 'Fading Echoes', 'The Divide', 'Blood Price', 'That Old Ace in the Hole', 'Flirt', 'The Rifle', 'Face', 'Snow White and the Giants', 'The Monster Men', 'Spirit Walker', 'Probuditi!', 'Soul Eater', 'Burning Chrome', 'Flight of the Intruder', 'Robby Fights the World', 'City of Light', 'Grunts!', 'Night Whispers', 'The Miernik Dossier', 'The Tears of Autumn', 'Transit', 'The Unselfish Gene', 'The Secret Lovers', 'The Dark Goddess', 'The Last Supper', 'Stargonauts', 'Artemis Fowl: The Atlantis Complex', 'The Man in the Picture: A Ghost Story', 'Kay the Left-Handed', 'The Ghost Belonged to Me', \"The Devil's Novice\", 'All in the Mind', 'Devi Chaudhurani', 'The Heir of Redclyffe', 'Nudge', 'A Flight of Pigeons', 'The Road to Memphis', 'A Mighty Fortress', 'Confessions of a Teenage Baboon', 'The King of the Sea', 'Reef of Death', 'Tentacles', 'Mention My Name in Atlantis', 'Barbarian Princess', 'Fever Dream', 'How to Ditch Your Fairy', 'Montmorency', 'The Evolutionary Void', \"The Emperor's Games\", 'The Efficiency Expert', 'The Sunless City', 'The Life of Josiah Henson', 'Wolf Captured', 'Wolf Hunting', \"Wolf's Blood\", 'The Dead Father', \"The Magician's Elephant\", 'STAR Academy', \"Sidney Sheldon's Mistress of the Game\", 'Danger Along the Ohio', 'A Sport of Nature', 'The Maze Runner', 'Vision in White', 'Rides a Dread Legion', 'Star Wars Imperial Commando: 501st', 'The Cat of Bubastes', 'Fat Cat', 'The Shanghai Moon', 'China Marine', 'Run for Your Life', 'Further Adventures of Lad', 'The Memory Cathedral', \"Eve's Seed: Biology, the Sexes, and the Course of History\", 'Fallen', '\\\\\\\\\"U\\\\\\\\\" Is for Undertow', 'The Two Pearls of Wisdom', 'Search For Senna', 'Girl', 'The Last Wizard', 'Cedric the Forester', 'The Old Tobacco Shop: A True Account of What Befell a Little Boy in Search of Adventure', 'Queer Person', 'Calico Bush', \"Jane's Island\", 'Swords of Steel', 'The Singing Tree', 'Figure Away', 'The Cape Cod Mystery', 'Indian Captive: The Story of Mary Jemison', 'Fog Magic', 'Justin Morgan Had a Horse', 'Born Blue', 'Let the Great World Spin', 'Impact', 'Ballroom of the Skies', 'Poor Little Bitch Girl', 'Night Passage', 'Iorich', 'Brooklyn', 'Trouble in Paradise', 'Bed of Roses', 'The Burning Land', 'Love, A Rather Bad Idea', \"Le Voyage d'Hiver\", 'Metal Fatigue', 'Death in Paradise', 'The Star-Crowned Kings', 'Alice in Verse: The Lost Rhymes of Wonderland', 'The Postcard Killers', 'Mass Effect: Retribution', 'Vintage Season', 'Shattered Peace', 'Little Bird of Heaven', 'Good in Bed', 'Tokyo Fiancée', 'Of Course I Love You ..! Till I Find Someone Better', 'The Adventures of Philip', 'Keeping It Real', 'Zoobreak', 'Stone Cold', 'The Atlantis Revelation', '100 Cupboards', 'OtherSpace', 'Swords Against Death', 'Swords in the Mist', 'Swords Against Wizardry', 'The Swords of Lankhmar', 'Swords and Ice Magic', 'The Knight and Knave of Swords', 'Swords Against the Shadowland', 'Let My Babies Go! A Passover Story', 'Bones of the Dragon', 'The Other Face of Janus', 'The Mostly True Adventures of Homer P. Figg', 'Greylands', 'The Big Book', 'Singing the Dogstar Blues', 'High Profile', 'The American Senator', 'Bite Me: A Love Story', 'There Will Be Time', 'Bedlam', 'Wonders of a Godless World', 'Secret Army', \"Henderson's Boys: The Escape\", 'Finnikin of the Rock', 'Big Girl', 'Tree of Freedom', 'The Blue Cat of Castle Town', 'The Real Global Warming Disaster', 'The Language of Bees', 'Miracle in Seville', 'Salvation on Sand Mountain', 'The Reversal', 'Pastime', 'Blue Screen', 'Slow Chocolate Autopsy', 'Seedfolks', 'Mockingjay', 'All Alone', 'Hurry Home Candy', 'World of Warcraft: Arthas: Rise of the Lich King', 'Captain Underpants and the Terrifying Re-Turn of Tippy Tinkletrousers', 'Signal', \"Devil's Brood\", 'Evernight', 'The War I Always Wanted', 'The Heat of the Day', \"Stone's Fall\", 'Santa Olivia', 'Blackout', 'Abner & Me', 'Danny Dunn and the Heat Ray', 'Spare Change', 'Danny Dunn on a Desert Island', 'Fire', 'Stranger in Paradise', 'Song for the Basilisk', 'Bug Jack Barron', 'Virtual World', 'The Autobiography of Malcolm X', 'Becoming Julia', 'Real Murders', 'A Change of Climate', 'Letters from the Inside', 'Metro 2033', 'The Roar', 'A Beautiful Blue Death', 'Tara of the Twilight', 'Dominant Species', 'Perchance to Dream', 'Women of the apocalypse', 'La Croix du Sanguine Rouge', \"The Emperor's Code\", 'The Cruelest Month', 'Freddy Plays Football', 'The Running Man', 'Fox at the Front', 'The Right to Write', 'Ishmael and the Return of the Dugongs', 'Quarry', 'Sufferings in Africa: The Incredible True Story of a Shipwreck, Enslavement, and Survival on the Sahara', 'Solar', 'Palos of the Dog Star Pack', 'Freddy and the Perilous Adventure', 'State of War', 'Will Grayson, Will Grayson', 'The Monster in the Box', 'The Summer of the Danes', 'On My Walk', 'A Fatal Grace', 'The Mouthpiece of Zitu', 'Jason, Son of Jason', 'Night and Day', 'Sa mga Kuko ng Liwanag', 'Split Image', 'Shadrach in the Furnace', 'Listening for Lions', 'Hourglass', 'Moonlight Mile', 'Hush, Hush', 'Darkness, Take My Hand', 'The Art of Racing in the Rain', 'Play Dead', 'Miracle Cure', 'Gone for Good', 'Toby Alone', 'Dictation: A Quartet', 'Walking Shadow', 'Storm Warning', 'The Short Second Life of Bree Tanner', 'The Slave', 'Maza of the Moon', 'The Copper Elephant', 'The Cruise of the Breadwinner', 'The Monstrumologist', 'Inventing the AIDS Virus', 'Whitethorn Woods', 'The Twelfth Card', 'Skulduggery Pleasant: Mortal Coil', 'Into the Gauntlet', 'The Head of the House of Coombe', \"A Captain's Duty\", 'Freaky Green Eyes', 'The Seventh Scroll', 'Rapture of the Deep', 'The Beacon', 'The Strange Case of Origami Yoda', 'The Wonderful Visit', 'Ash', 'The Dark Abode', 'The Custom of the Army', 'Spells', 'After Ever After', 'Darkness Descends', 'Ashling', 'A New Athens', 'Matterhorn: A Novel of the Vietnam War', 'The Blind Barber', 'Directive 51', \"Cybele's Secret\", 'Little Darlings', 'The Island Beneath the Sea', 'Dragon Haven', 'The Desert Spear', '\\\\\\\\\"Uncle Tom\\'s Cabin\\\\\\\\\" Contrasted with Buckingham Hall, the Planter\\'s Home', \"Assassin's Creed: Renaissance\", 'Cryoburn', 'Necroscope', 'Necroscope II: Wamphyri', 'Necroscope III: The Source', 'Necroscope IV: Deadspeak', 'Necroscope V: Deadspawn', 'The Last Aerie', 'Tim Thompson in the Jungle', 'Blood Brothers', 'Lemonade Mouth', \"Spider's Voice\", \"Jan's story\", 'Lankar of Callisto', 'Renegade of Callisto', 'Thin Air', 'Ylana of Callisto', 'Mind Wizards of Callisto', 'Truman', 'The Creature in the Teacher', 'The Multiple Effects of Rainshadow', 'Tiger Moon', 'A Quiet Belief In Angels', 'The Lilac Bus', 'Mushroom in the Sand', 'Angel: A Maximum Ride Novel', 'A Pack of Lies', 'Mad Empress of Callisto', 'Outcast', 'Goggle-Eyes', 'Sky Pirates of Callisto', 'The 9th Judgment', 'King Matt the First', 'Black Legion of Callisto', 'The School for Atheists', 'The September Society', 'Jandar of Callisto', 'Gears of War: Anvil Gate', 'The Immortals of Meluha', 'The White Hart', 'Fasting, Feasting', 'The Twelve Kingdoms: The Vast Spread of the Seas', 'The Rogue', 'Ghost Story', 'The Interpreter', \"The Merman's Children\", 'Beer in the Snooker Club', 'So This Is How It Ends', 'Lies of Silence', 'The God of the Hive', 'The Lancashire Witches', 'Go', 'It’s a Battlefield', 'If Israel Lost the War', 'Gorgeous East', 'City of Fallen Angels', 'The Borrowers Afield', 'Pappa polis', \"Henderson's Boys: Eagle Day\", 'In the Labyrinth', 'The Case of Thomas N.', 'The Feast of Fools', 'Destiny, or The Attraction of Affinities', 'The Book of Opposites', 'Boneshaker', 'The Bronze Horseman', 'Death Cloud', 'Alice Next Door', 'Blood Oath', 'Chords of Strength: A Memoir of Soul, Song, and the Power of Perseverance', 'Worth Dying For', 'The New Confessions', 'The Double Comfort Safari Club', 'Purity in Death', 'Requiem', 'The Pilgrim of Hate', 'Promises in Death', 'The Overton Window', 'Abercrombie Station', 'Battles of the Clans', 'The Lost Hero', 'Final Theory', 'Children and Television: Lessons from Sesame Street', \"The Devil's Breath\", 'The Silmarillion', 'Mannan Magal', 'Lords of France: The Bankers Who Broke the World', 'After America', 'Witz', 'First Light', 'Snuff', 'The Burning Wire', 'The Confession of Brother Haluin', 'The Day After Tomorrow', 'The Red Pyramid', 'Portrait in Death', 'The Second Trip', 'A Clan in Need', 'Nowhere Man', 'The Mad Ship', 'The Amazing Vacation', 'Warlock', 'The Wild Soccer Bunch', 'A Gypsy Good Time', 'Bullet', 'The Naama War', 'Dossouye', 'Undead and Unfinished', 'Harry the Dirty Dog', 'House Rules', \"Rock & Roll Jihad: A Muslim Rock Star's Revolution\", 'The Heart of a Warrior', \"SkyClan's Destiny\", \"L'Épreuve\", 'La Fausse Suivante', 'Le Préjugé vaincu', 'Sticky Beak', 'The Ruby Dice', 'Keeper', 'Times Without Number', 'Empire of Lies', 'Moribito II: Guardian of Darkness', 'A Killing Frost', 'Back Story', 'Forsaken House', 'The Silver Ship and the Sea', 'Fall of Giants', 'World of Warcraft: Beyond the Dark Portal', 'Madonna: An Intimate Biography', 'Farthest Reach', 'Crown of Shadows', 'Dragonheart', \"The Dragonslayer's Apprentice\", 'The Dead of the Night', 'The Whisperer', 'Eternity Road', 'Piano Lessons', 'Rondo', 'A Journey', 'Hordubal', 'The Rose in Splendour: a Story of the Wars of Lancaster and York', 'If I Stay', 'Blood Feud', \"Phule's Company\", 'Stone Spring', 'The Long Loud Silence', 'The Month of the Falling Leaves', \"Phule's Paradise\", 'Fox Hunt', 'Patriot Act', 'Daniel X: Demons and Druids', 'The Black Prism', 'Nine Coaches Waiting', 'Wings of the Falcon', 'Enchanted Glass', 'A Strange Discovery', 'Vesper', 'Cognitive Surplus', 'O Chifrudo', \"The Devil's Company\", 'Querelles de famille', 'Poil de carotte', 'Pichilemu Blues', 'O Dinheiro', 'Purge', 'Red Inferno: 1945', 'A Casa', 'The End Of My Addiction', 'Westwind', 'The Embarrassment of Riches: An Interpretation of Dutch Culture in the Golden Age', 'The House of Arden', 'The Stranger Next Door', \"Cosmétique de l'ennemi\", 'As Comadres', 'Medusa: A Tiger by the Tail', 'Firmin: Adventures of a Metropolitan Lowlife', 'Embassytown', 'Hygiene and the Assassin', 'Sun Horse, Moon Horse', 'The Book of Proper Names', 'Loving Sabotage', 'Theodore Boone: Kid Lawyer', 'The Very Bad Book', 'Memoirs of an Invisible Man', 'Johnny Mackintosh and the Spirit of London', 'The Cobra', 'Zendegi', 'Monastery Among the Temple Trees', 'Outcast', 'Fifty Years a Hunter and Trapper', 'The Cambridge Quintet', 'The Sleeping Beauty', \"Crookedstar's Promise\", 'Facial Justice', 'Bayou St. John', 'Surface Detail', 'Rowan and the Travellers', 'Greybeard', 'Fable: The Balverine Order', 'The Scorch Trials', 'The Corrections', \"Philippa Fisher and the Dream-Maker's Daughter\", 'Mink Trapping', 'Sang Pemimpi', 'Framed', 'Vegan Virgin Valentine', 'Pandemia', 'Cargo of Eagles', \"L'Inondation\", 'The God Engines', 'A Point of Law', 'El delantero centro fue asesinado al atardecer', 'The Son of Neptune', 'Conjure Wife', \"The Dragon's Apprentice\", \"Help! I'm Trapped in my Teacher's Body\", 'Bør Børson', 'The Coming of the Terraphiles', 'Mary Ann in Autumn', \"Guardians of Ga'Hoole: The Capture\", \"Don't Forget the Bacon!\", 'Deadfalls and Snares', 'The Savage Girl', 'Lady in Waiting', \"Sidney Sheldon's After the Darkness\", 'Cetaganda', 'The Midnight Charter', \"People's Republic\", 'The Gates of Thorbardin', 'Perfect: A Novel', 'Reckless', 'Casablanca', 'Red Leech', 'City of Thieves', 'The Fall of the Pagoda', 'Dead Space: Martyr', 'Life', \"Guardians of Ga'Hoole: The Journey\", 'Sunset Park', 'The Clockwork Three', 'The Prague Cemetery', 'Hide My Eyes', 'Un destino ridicolo', 'The Dead', 'Frozen in Time', 'King of Kilba', 'Richard Yates', 'The Still Point', 'The Secret of Wilhelm Storitz', 'The Sly Old Cat', 'Vapor', 'The Rice Sprout Song', 'How to Live Safely in a Science Fictional Universe', 'Our Nig', 'Night Thoughts of a Classical Physicist', 'Bones to Ashes', 'Devil Bones', 'Mistborn: The Alloy of Law', 'The Haunting', 'The Warlock: The Secrets of the Immortal Nicholas Flamel', 'The China Governess', 'Deeper', 'Abduction', 'Buddy Holly is Alive and Well on Ganymede', 'Creepy Creatures', 'The Quantum Thief', 'Masterpiece', \"The Demon's Covenant\", 'Barrayar', \"Assassin's Creed: Brotherhood\", 'The Hollow Needle', 'Sabotaged', 'Gilded Latten Bones', 'Exodus', 'Hit and Run', 'Everlost', 'Daniel', 'Codex', 'Orion in the Dying Time', 'At Close Quarters', 'No Land! No House! No Vote!', 'The Second Mrs. Giaconda', 'Witch and Wizard: The Gift', 'The Man in the Moone', 'The Mind Readers', 'The Deadly Dungeon', 'Sapphique', 'Fire and Sword', 'Vengeance of Orion', 'The Fields of Death', 'The Carbon Diaries: 2015', 'Curious George Gets a Medal', 'No Boats on Bannermere', 'Antispin', 'Turning Thirty', 'Grass', 'The Apocalypse Troll', 'Now I Know', 'Player One', 'Sapphira and the Slave Girl', 'Moon Over Manifest', 'This Is All: The Pillow Book of Cordelia Kenn', 'In Chancery', 'Praetorian', 'The Winner Stands Alone', '.hack//Epitaph of Twilight', 'Hungry Hearts', 'Carte Blanche', 'The Sweetness at the Bottom of the Pie', 'Everwild', 'Charlie Johnson in the Flames', 'Sacred Country', 'Skippy Dies', 'Sweeping Up Glass', 'Lurulu', 'Night Lamp', 'Interlok', 'Viaţa ca o pradă', 'The Rising', 'The Privateer', 'The Independent Command', 'Casper the Commuting Cat', 'What Technology Wants', 'The Mystery of a Hansom Cab', 'Dandelion Fire', 'The Chestnut King', 'A Gate at the Stairs', 'Agatha Raisin and the Deadly Dance', \"Chanakya's Chant\", 'The Last Dragonslayer', 'Rosie Winter - Winter in June', 'Memory', 'A Civil Campaign', 'Lord of Souls', 'Le lieutenant de Kouta', 'The Lad and the Lion', 'Super Sad True Love Story', 'The Raven in the Foregate', 'The Hermit of Eyton Forest', 'I Am Number Four', 'The Boy in the Oak', 'Scorpia Rising', 'We Have Always Lived in the Castle', 'Red Dwarf: Infinity Welcomes Careful Drivers', 'Mystery of the Whale Tattoo', 'The Sea Came In At Midnight', 'The Brooklyn Follies', 'The Virgin and the Gypsy', 'The Dogs of Riga', 'Wyrms', \"We're Back! A Dinosaur's Story\", 'R-T, Margaret, and the Rats of NIMH', '...And Call Me Conrad', 'Drive: The Surprising Truth About What Motivates Us', 'The Meaning of It All', 'The European Union as a Small Power: After the Post-Cold War', 'The Family Arsenal', 'Plain Kate', 'The Leopard', 'Dark Places', 'Broken', 'Heroes of Princeton', 'Blue Remembered Earth', 'Below the Root', 'And All Between', 'Until the Celebration', 'Princess of the Midnight Ball', 'Daybreak Zero', 'Pir-e-Kamil', '11/22/63', 'The Porcupine', 'Captain from Castile', 'Pym', 'Rage of a Demon King', 'At the Gates of Darkness', 'A Girl Named Zippy: Growing Up Small in Mooreland, Indiana', 'Anatomy of a Disappearance', 'Shards of a Broken Crown', 'Love Sick', 'Crescendo', 'Ask Me No Questions', 'Let It Snow', 'How to Eat a Small Country', 'The Bushbabies', 'The Nanny', 'Privies of Wales', 'The Eternal Husband', 'Three Stations', 'Hellhole', 'Whizzard!', 'The Ring of Solomon', 'Goals in the Air', 'Soccer Comes First', 'Scarecrow and the Army of Thieves', 'Goal', 'United!', 'The Mark of the Horse Lord', 'The Cult', 'The Sun Saboteurs', 'Half Broke Horses', 'The Outlaws of Mars', 'Mirror Dance', 'Welcome to Higby', 'A for Anything', 'Empire State of Mind', 'We Who Are About To...', 'Passage to Nirvana', 'Transformers: Exodus – The Official History of the War for Cybertron', 'Masters of Evolution', 'The Space Between Us', 'Beautiful Darkness', \"All God's Children Need Traveling Shoes\", 'A Song Flung Up to Heaven', 'The Maintenance of Headway', 'The Vault', 'Talon of the Silver Hawk', 'King of Foxes', 'Lazarus Rising: A Personal and Political Autobiography', 'Sherlock Holmes and the Man from Hell', 'Wind from the Abyss', 'Curious George Learns the Alphabet', 'Le Loup blanc', \"Exile's Return\", '\\\\\\\\\"V\\\\\\\\\" Is for Vengeance', 'The Evolution of Calpurnia Tate', 'Mind Switch', 'Azemia', 'The Drop', 'Alcatraz Versus the Shattered Lens', 'The Land of Painted Caves', 'Madonna', 'The Maker of Universes', 'Song of Scarabaeus', 'Children of Scarabaeus', 'Maisie Dobbs', 'Sign of the Moon', 'The Red Queen', 'Banned for Life', 'Salah Asuhan', 'Upsurge', 'Richard Carvel', 'The November Criminals', 'Ash: A Secret History', 'Johnny Gone Down', 'Vampireology: The True History of the Fallen', 'Stones into Schools', 'Beyond the Frontier: Dreadnaught', '1635: The Tangled Web', 'Who Will Run the Frog Hospital?', 'Jackals', 'The Wind on the Moon', '1636: The Saxon Uprising', 'Verukal', 'A Taste of Blackberries', 'The Roots of the Mountains', 'The Rithian Terror', 'Wither', 'Pawprints of Katrina', 'When China Rules the World: The End of the Western World and the Birth of a New Global Order', 'Dead Reckoning', 'Z213: Exit', '2030', 'Bossypants', 'Tiassa', 'Skulduggery Pleasant: Death Bringer', 'Ponni', 'Timeless', 'Move Under Ground', 'Young Sherlock Holmes: Black Ice', 'The Sweetheart of the Templar From the Valley of Rephaim', 'Illusions', 'Trusted Like the Fox', 'Troll Blood', 'Transformers: Dark of the Moon: The Junior Novel', 'Berge Meere und Giganten', 'Clockwork Angel', 'My Laugh Comes Last', 'The Second Corps of Discovery: 1811 Journal of the Jackson and Clark Expeditionary Force', 'The Vespertine', 'Against All Enemies', '1635: The Eastern Front', 'Dreams of Joy', 'The Fold', 'The Steerswoman', 'The Broken Kingdoms', \"May Pagsinta'y Walang Puso\", 'Sampagitang Walang Bango', 'The Wake of the Lorelei Lee', 'Robopocalypse', 'Natani', 'The Adventures of Ook and Gluk: Kung-Fu Cavemen from the Future', 'Rage', 'Seesaw', 'The House of Silk', 'Pinaglahuan', 'Busabos ng Palad', 'Pertemuan Jodoh', 'Afterlife', 'Sa Ngalan ng Diyos', 'White Cat', 'Always Hiding', 'The Blood Book', 'The Whole Beast: Nose to Tail Eating', 'River of Smoke', 'Luha ng Babae', 'Feed', 'Ang Tala sa Panghulo', 'Half a Life', 'Little Brown Bushrat', 'Zulu Hart', 'Canal de la Reina', 'Princess of Glass', 'Anino ng Kahapon', 'Ang mga Anak Dalita', 'Maganda pa ang Daigdig', 'Daluyong', 'Angel Angel', 'The Sweetest Dream', 'Labor Day', 'The Paperboy', 'As Cool As I Am', 'The Girl Who Circumnavigated Fairyland in a Ship of Her Own Making', 'Silence', 'The Fault in Our Stars', 'An Embarrassment of Riches', 'Double Dexter', 'Pools of Darkness', 'Solstice Wood', 'Harimau! Harimau!', 'Jalan Tak Ada Ujung', 'Senja di Jakarta', 'The Tower at Stony Wood', 'Desperate Characters', 'A Beautiful Friendship', 'Asylum', 'An Evening of Long Goodbyes', 'Vertical', 'The Bourne Dominion', 'The Marriage Plot', 'The Russian Concubine', 'The Power of Six', 'The Texas-Israeli War: 1999', 'The Fourth Apprentice', 'The Magician King', 'Rumours of Rain', 'Imaginings of Sand', 'Baby-Sitting Is a Dangerous Job', 'The History of Orkney Literature', 'Stands a Shadow', 'Machine Man', 'Strange Son', 'The Ship of Ishtar', 'O Terceiro Travesseiro', 'Before I Go to Sleep', 'Flowers in the Sand', 'Maggie Goes on a Diet', 'Freedom', 'Ready Player One', 'The Last Space Viking', 'Revolution is Not a Dinner Party', 'How Firm a Foundation', 'Absolutely American', 'The Wizard and the Witch', 'A Manhã do Mundo', 'Reamde', 'The Third Reich', 'The Dark Wheel', 'The Night of Wishes', 'Fat Kid Rules the World', 'When the Moon Forgot', 'The Fear', 'Unfamiliar Fishes', 'Moonwalking with Einstein', 'The Habitation of the Blessed', 'Prince Serebrenni', 'Where were you last Pluterday?', 'Conqueror', 'Navigator', 'Revolution 2020', 'The Mountain Is Young', 'A Casa', 'Infinity Blade: Awakening', 'The Night Circus', 'Transformers: Exiles', 'The Enchantress: The Secrets of the Immortal Nicholas Flamel', 'In the Plex', \"Dragon's Time\", 'Dragongirl', 'Postsingular', 'Blanche on the Lam', 'The Fatwa Girl', 'The Grounding of Group 6', 'Modelland', 'Wake', 'Acacia: The Sacred Band', 'The Dead River', 'Neverwinter', 'Anxious Nation', 'Matadana', 'The Heart of a Sunburned Land', 'River of Fortune', 'The Moth', 'You Have To Stop This', 'The Lady With the X-Ray Eyes', 'Outlaw', 'Wonderstruck', 'Children of Paranoia', 'Holy Warrior', \"King's Man\", 'Darke', 'The Luck of Ginger Coffey', 'Insurrection', 'The Whale Road', 'The Wolf Sea', 'The White Raven', 'The Prow Beast', 'The Lion Wakes', 'Bro', 'The Death Cure', 'Between Shades of Gray', 'The Queue', \"The End: Hitler's Germany 1944–45\", 'Queen Of The Falls', 'Death of Kings', 'The Accident Man', 'Half a Team', 'At First Sight', 'The Survivor', 'Kapalkundala', 'Assassin', 'Conqueror', 'An Answer from Limbo', 'Dictator', 'Carver', 'Dinosaur Planet Survivors', 'The Rise of Nine', 'Destiny Times Three', 'Brothers in Arms', 'The Stories of Ibis', 'The End of Liberalism', 'Preincarnate', 'A Stranger in Mayfair', 'Durgeshnandini', 'The Future of Us', 'Rabies', 'Leaving the Atocha Station', 'Soldier of Sidon', 'Earth Unaware', 'Wadzeks Kampf mit der Dampfturbine', 'Islay', 'Dr. America: The Lives of Thomas Dooley, 1927-1961', 'Humsafar', 'Spirit of the Wind', \"Dezra's Quest\", 'Quest for Lost Heroes', 'The Good Muslim', 'Blitzcat', 'Emma in Winter', 'Supplement to the Journey to the West', 'Mr. Monk in Trouble', \"Miss Peregrine's Home for Peculiar Children\", \"You Can't Live Forever\", 'Child of a Dream', 'Mr. Monk is Cleaned Out', 'Mr. Monk on the Road', 'Mr. Monk on the Couch', 'Mr. Monk on Patrol', 'The Sands of Ammon', 'The Ends of the Earth', 'Spartan', 'The Fiery Trial: Abraham Lincoln and American Slavery', 'The Shield Ring', 'Turpentine Jake', 'She Lover of Death', 'The Summer Birds', 'The Black Rose', 'Big Nate: Strikes Again', 'Arrhythmia', 'The Life', 'The Wanderers', 'Madonna: Like an Icon', 'City of God', 'The Demigod Diaries', \"Wisdom's Daughter\", 'The Twilight of Briareus', 'The Black Box', 'Der Wehrwolf', 'Who Killed Zebedee?', 'The Last Girl', 'From This Wicked Patch of Dust', 'Beautiful Creatures', 'Beautiful Chaos', 'The Family Corleone', \"Guardians of Ga'Hoole Book 4: The Siege\", 'Lone Survivor: The Eyewitness Account of Operation Redwing and the Lost Heroes of SEAL Team 10', 'A Conspiracy of Friends', 'Nevermore: The Final Maximum Ride Adventure', 'The Bourne Imperative', 'Heaven', 'Dark Angel', 'Gates of Paradise', 'The Third Lynx', 'Remote Control', 'Transfer of Power', 'Decoded']\n"
     ]
    }
   ],
   "source": [
    "print(title_list)"
   ]
  },
  {
   "cell_type": "code",
   "execution_count": 83,
   "metadata": {},
   "outputs": [
    {
     "data": {
      "text/plain": [
       "11053"
      ]
     },
     "execution_count": 83,
     "metadata": {},
     "output_type": "execute_result"
    }
   ],
   "source": [
    "title_list.index('Clockwork Angel')"
   ]
  },
  {
   "cell_type": "code",
   "execution_count": 84,
   "metadata": {},
   "outputs": [
    {
     "data": {
      "text/plain": [
       "['Fantasy', 'Young adult literature', 'Romance novel']"
      ]
     },
     "execution_count": 84,
     "metadata": {},
     "output_type": "execute_result"
    }
   ],
   "source": [
    "df.Genres[11053]"
   ]
  },
  {
   "cell_type": "code",
   "execution_count": 85,
   "metadata": {},
   "outputs": [],
   "source": [
    "# output list of titles for use\n",
    "with open('titles.txt', 'w') as f:\n",
    "    for title in title_list:\n",
    "        f.write(\"%s\\n\" % title)"
   ]
  },
  {
   "cell_type": "code",
   "execution_count": 86,
   "metadata": {},
   "outputs": [],
   "source": [
    "def inference_predict(title):\n",
    "    if title not in title_list:\n",
    "        print('Title not found.')\n",
    "        return\n",
    "    index = title_list.index(title)\n",
    "    actual_genre = df.Genres[index]\n",
    "    p_summary = [df.Summary[index]]\n",
    "    #print(type(p_summary))\n",
    "    #print(p_summary.shape)\n",
    "    \n",
    "    convert = tk.texts_to_sequences(p_summary)\n",
    "    convert = sequence.pad_sequences(convert, maxlen= 500, padding='pre')\n",
    "    #print(convert[0])\n",
    "    \n",
    "    output = model.predict(convert)\n",
    "    output = np.array(output)\n",
    "    #print(output.shape)\n",
    "    prediction = np.zeros(output.shape)\n",
    "    prediction[output>0.2]=1\n",
    "    prediction = np.array(prediction)\n",
    "    \n",
    "    print('Title: ', title)\n",
    "    print('Predicted Genres: ', multilabel_binarizer.inverse_transform(prediction)[0])\n",
    "    print('Actual Genres: ', actual_genre)"
   ]
  },
  {
   "cell_type": "code",
   "execution_count": 87,
   "metadata": {},
   "outputs": [
    {
     "name": "stdout",
     "output_type": "stream",
     "text": [
      "Title:  Ender's Game\n",
      "Predicted Genres:  ('Fantasy', 'Fiction', 'Science Fiction')\n",
      "Actual Genres:  ['Science Fiction', 'Fiction', 'Fantasy']\n"
     ]
    }
   ],
   "source": [
    "inference_predict(\"Ender's Game\")"
   ]
  },
  {
   "cell_type": "code",
   "execution_count": 88,
   "metadata": {},
   "outputs": [
    {
     "name": "stdout",
     "output_type": "stream",
     "text": [
      "Title:  Clockwork Angel\n",
      "Predicted Genres:  ('Fantasy', 'Romance novel', 'Young adult literature')\n",
      "Actual Genres:  ['Fantasy', 'Young adult literature', 'Romance novel']\n"
     ]
    }
   ],
   "source": [
    "inference_predict(\"Clockwork Angel\")"
   ]
  },
  {
   "cell_type": "code",
   "execution_count": 89,
   "metadata": {},
   "outputs": [
    {
     "name": "stdout",
     "output_type": "stream",
     "text": [
      "Title:  Dead Air\n",
      "Predicted Genres:  ('Fiction', 'Novel')\n",
      "Actual Genres:  ['Fiction', 'Novel']\n"
     ]
    }
   ],
   "source": [
    "inference_predict(\"Dead Air\")"
   ]
  },
  {
   "cell_type": "code",
   "execution_count": 90,
   "metadata": {},
   "outputs": [
    {
     "name": "stdout",
     "output_type": "stream",
     "text": [
      "Title:  Spartan\n",
      "Predicted Genres:  ('Historical novel',)\n",
      "Actual Genres:  ['Historical novel']\n"
     ]
    }
   ],
   "source": [
    "inference_predict(\"Spartan\")"
   ]
  },
  {
   "cell_type": "code",
   "execution_count": 91,
   "metadata": {},
   "outputs": [],
   "source": [
    "word_index = [word for word in tk.word_index]"
   ]
  },
  {
   "cell_type": "code",
   "execution_count": 92,
   "metadata": {},
   "outputs": [],
   "source": [
    "def analyse(text):\n",
    "    text = clean_text(text)\n",
    "    text = remove_stopwords(text)  \n",
    "    text = text.split()\n",
    "\n",
    "    text = [word for word in text if word in word_index]\n",
    "    text = [' '.join(text)]\n",
    "    convert = tk.texts_to_sequences(text)\n",
    "    convert = sequence.pad_sequences(convert, maxlen= 500, padding='pre')\n",
    "\n",
    "    output = model.predict(convert)\n",
    "    output = np.array(output)\n",
    "    prediction = np.zeros(output.shape)\n",
    "    prediction[output>0.2]=1\n",
    "    prediction = np.array(prediction)\n",
    "    \n",
    "    #print('Clean input: ', text)\n",
    "    print('Predicted Genres: ', multilabel_binarizer.inverse_transform(prediction)[0]) "
   ]
  },
  {
   "cell_type": "code",
   "execution_count": 93,
   "metadata": {},
   "outputs": [
    {
     "name": "stdout",
     "output_type": "stream",
     "text": [
      "Woman in white in data?  False\n",
      "Predicted Genres:  ('Fantasy', 'Fiction', 'Mystery', 'Novel')\n"
     ]
    }
   ],
   "source": [
    "print('Woman in white in data? ', 'The Woman in White' in title_list)\n",
    "with open('data/WIM_plot.txt', 'r') as file:\n",
    "    summary1 = file.read().replace('\\n', '')\n",
    "    analyse(summary1)"
   ]
  },
  {
   "cell_type": "code",
   "execution_count": null,
   "metadata": {},
   "outputs": [],
   "source": []
  }
 ],
 "metadata": {
  "kernelspec": {
   "display_name": "Python 3",
   "language": "python",
   "name": "python3"
  },
  "language_info": {
   "codemirror_mode": {
    "name": "ipython",
    "version": 3
   },
   "file_extension": ".py",
   "mimetype": "text/x-python",
   "name": "python",
   "nbconvert_exporter": "python",
   "pygments_lexer": "ipython3",
   "version": "3.8.2"
  }
 },
 "nbformat": 4,
 "nbformat_minor": 4
}
