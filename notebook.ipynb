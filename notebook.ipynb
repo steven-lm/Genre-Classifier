{
 "cells": [
  {
   "cell_type": "code",
   "execution_count": 1,
   "metadata": {},
   "outputs": [],
   "source": [
    "import pandas as pd\n",
    "import re as re\n",
    "import numpy as np\n",
    "\n",
    "df = pd.read_csv('data/booksummaries.txt',sep='\\t', names = [\"Wiki ID\", \"Freebase ID\", \"Title\", \"Author\", \"Publication Date\", \"Genres\", \"Summary\" ])"
   ]
  },
  {
   "cell_type": "code",
   "execution_count": 2,
   "metadata": {},
   "outputs": [
    {
     "data": {
      "text/html": [
       "<div>\n",
       "<style scoped>\n",
       "    .dataframe tbody tr th:only-of-type {\n",
       "        vertical-align: middle;\n",
       "    }\n",
       "\n",
       "    .dataframe tbody tr th {\n",
       "        vertical-align: top;\n",
       "    }\n",
       "\n",
       "    .dataframe thead th {\n",
       "        text-align: right;\n",
       "    }\n",
       "</style>\n",
       "<table border=\"1\" class=\"dataframe\">\n",
       "  <thead>\n",
       "    <tr style=\"text-align: right;\">\n",
       "      <th></th>\n",
       "      <th>Wiki ID</th>\n",
       "      <th>Freebase ID</th>\n",
       "      <th>Title</th>\n",
       "      <th>Author</th>\n",
       "      <th>Publication Date</th>\n",
       "      <th>Genres</th>\n",
       "      <th>Summary</th>\n",
       "    </tr>\n",
       "  </thead>\n",
       "  <tbody>\n",
       "    <tr>\n",
       "      <th>0</th>\n",
       "      <td>620</td>\n",
       "      <td>/m/0hhy</td>\n",
       "      <td>Animal Farm</td>\n",
       "      <td>George Orwell</td>\n",
       "      <td>1945-08-17</td>\n",
       "      <td>{\"/m/016lj8\": \"Roman \\u00e0 clef\", \"/m/06nbt\":...</td>\n",
       "      <td>Old Major, the old boar on the Manor Farm, ca...</td>\n",
       "    </tr>\n",
       "    <tr>\n",
       "      <th>1</th>\n",
       "      <td>843</td>\n",
       "      <td>/m/0k36</td>\n",
       "      <td>A Clockwork Orange</td>\n",
       "      <td>Anthony Burgess</td>\n",
       "      <td>1962</td>\n",
       "      <td>{\"/m/06n90\": \"Science Fiction\", \"/m/0l67h\": \"N...</td>\n",
       "      <td>Alex, a teenager living in near-future Englan...</td>\n",
       "    </tr>\n",
       "    <tr>\n",
       "      <th>2</th>\n",
       "      <td>986</td>\n",
       "      <td>/m/0ldx</td>\n",
       "      <td>The Plague</td>\n",
       "      <td>Albert Camus</td>\n",
       "      <td>1947</td>\n",
       "      <td>{\"/m/02m4t\": \"Existentialism\", \"/m/02xlf\": \"Fi...</td>\n",
       "      <td>The text of The Plague is divided into five p...</td>\n",
       "    </tr>\n",
       "    <tr>\n",
       "      <th>3</th>\n",
       "      <td>1756</td>\n",
       "      <td>/m/0sww</td>\n",
       "      <td>An Enquiry Concerning Human Understanding</td>\n",
       "      <td>David Hume</td>\n",
       "      <td>NaN</td>\n",
       "      <td>NaN</td>\n",
       "      <td>The argument of the Enquiry proceeds by a ser...</td>\n",
       "    </tr>\n",
       "    <tr>\n",
       "      <th>4</th>\n",
       "      <td>2080</td>\n",
       "      <td>/m/0wkt</td>\n",
       "      <td>A Fire Upon the Deep</td>\n",
       "      <td>Vernor Vinge</td>\n",
       "      <td>NaN</td>\n",
       "      <td>{\"/m/03lrw\": \"Hard science fiction\", \"/m/06n90...</td>\n",
       "      <td>The novel posits that space around the Milky ...</td>\n",
       "    </tr>\n",
       "  </tbody>\n",
       "</table>\n",
       "</div>"
      ],
      "text/plain": [
       "   Wiki ID Freebase ID                                      Title  \\\n",
       "0      620     /m/0hhy                                Animal Farm   \n",
       "1      843     /m/0k36                         A Clockwork Orange   \n",
       "2      986     /m/0ldx                                 The Plague   \n",
       "3     1756     /m/0sww  An Enquiry Concerning Human Understanding   \n",
       "4     2080     /m/0wkt                       A Fire Upon the Deep   \n",
       "\n",
       "            Author Publication Date  \\\n",
       "0    George Orwell       1945-08-17   \n",
       "1  Anthony Burgess             1962   \n",
       "2     Albert Camus             1947   \n",
       "3       David Hume              NaN   \n",
       "4     Vernor Vinge              NaN   \n",
       "\n",
       "                                              Genres  \\\n",
       "0  {\"/m/016lj8\": \"Roman \\u00e0 clef\", \"/m/06nbt\":...   \n",
       "1  {\"/m/06n90\": \"Science Fiction\", \"/m/0l67h\": \"N...   \n",
       "2  {\"/m/02m4t\": \"Existentialism\", \"/m/02xlf\": \"Fi...   \n",
       "3                                                NaN   \n",
       "4  {\"/m/03lrw\": \"Hard science fiction\", \"/m/06n90...   \n",
       "\n",
       "                                             Summary  \n",
       "0   Old Major, the old boar on the Manor Farm, ca...  \n",
       "1   Alex, a teenager living in near-future Englan...  \n",
       "2   The text of The Plague is divided into five p...  \n",
       "3   The argument of the Enquiry proceeds by a ser...  \n",
       "4   The novel posits that space around the Milky ...  "
      ]
     },
     "execution_count": 2,
     "metadata": {},
     "output_type": "execute_result"
    }
   ],
   "source": [
    "df.head()"
   ]
  },
  {
   "cell_type": "code",
   "execution_count": 3,
   "metadata": {},
   "outputs": [],
   "source": [
    "df = df[['Title', 'Genres', 'Summary']]"
   ]
  },
  {
   "cell_type": "code",
   "execution_count": 4,
   "metadata": {
    "scrolled": true
   },
   "outputs": [
    {
     "data": {
      "text/plain": [
       "Title         0\n",
       "Genres     3718\n",
       "Summary       0\n",
       "dtype: int64"
      ]
     },
     "execution_count": 4,
     "metadata": {},
     "output_type": "execute_result"
    }
   ],
   "source": [
    "df.isnull().sum()"
   ]
  },
  {
   "cell_type": "code",
   "execution_count": 5,
   "metadata": {},
   "outputs": [],
   "source": [
    "df.dropna(subset=['Genres'], inplace=True)"
   ]
  },
  {
   "cell_type": "code",
   "execution_count": 6,
   "metadata": {},
   "outputs": [
    {
     "data": {
      "text/plain": [
       "Title      0\n",
       "Genres     0\n",
       "Summary    0\n",
       "dtype: int64"
      ]
     },
     "execution_count": 6,
     "metadata": {},
     "output_type": "execute_result"
    }
   ],
   "source": [
    "df.isnull().sum()"
   ]
  },
  {
   "cell_type": "code",
   "execution_count": 7,
   "metadata": {},
   "outputs": [
    {
     "data": {
      "text/plain": [
       "(12841, 3)"
      ]
     },
     "execution_count": 7,
     "metadata": {},
     "output_type": "execute_result"
    }
   ],
   "source": [
    "df.shape"
   ]
  },
  {
   "cell_type": "code",
   "execution_count": 8,
   "metadata": {},
   "outputs": [
    {
     "name": "stdout",
     "output_type": "stream",
     "text": [
      "         Title                                             Genres  \\\n",
      "0  Animal Farm  {\"/m/016lj8\": \"Roman \\u00e0 clef\", \"/m/06nbt\":...   \n",
      "\n",
      "                                             Summary  \n",
      "0   Old Major, the old boar on the Manor Farm, ca...  \n"
     ]
    }
   ],
   "source": [
    "print(df.loc[[0]])"
   ]
  },
  {
   "cell_type": "code",
   "execution_count": 9,
   "metadata": {},
   "outputs": [
    {
     "data": {
      "text/plain": [
       "'{\"/m/016lj8\": \"Roman \\\\u00e0 clef\", \"/m/06nbt\": \"Satire\", \"/m/0dwly\": \"Children\\'s literature\", \"/m/014dfn\": \"Speculative fiction\", \"/m/02xlf\": \"Fiction\"}'"
      ]
     },
     "execution_count": 9,
     "metadata": {},
     "output_type": "execute_result"
    }
   ],
   "source": [
    "df.Genres[0]"
   ]
  },
  {
   "cell_type": "code",
   "execution_count": 10,
   "metadata": {},
   "outputs": [
    {
     "data": {
      "text/plain": [
       "str"
      ]
     },
     "execution_count": 10,
     "metadata": {},
     "output_type": "execute_result"
    }
   ],
   "source": [
    "type(df.Genres[0])"
   ]
  },
  {
   "cell_type": "code",
   "execution_count": 11,
   "metadata": {},
   "outputs": [
    {
     "data": {
      "text/plain": [
       "dict"
      ]
     },
     "execution_count": 11,
     "metadata": {},
     "output_type": "execute_result"
    }
   ],
   "source": [
    "import json\n",
    "type(json.loads(df['Genres'][0]))"
   ]
  },
  {
   "cell_type": "code",
   "execution_count": 12,
   "metadata": {},
   "outputs": [
    {
     "data": {
      "text/plain": [
       "dict_values(['Roman à clef', 'Satire', \"Children's literature\", 'Speculative fiction', 'Fiction'])"
      ]
     },
     "execution_count": 12,
     "metadata": {},
     "output_type": "execute_result"
    }
   ],
   "source": [
    "json.loads(df['Genres'][0]).values()"
   ]
  },
  {
   "cell_type": "code",
   "execution_count": 13,
   "metadata": {},
   "outputs": [],
   "source": [
    "# Create new list for genres\n",
    "genres = []\n",
    "\n",
    "# extract genres\n",
    "for i in df['Genres']: \n",
    "  genres.append(list(json.loads(i).values())) \n",
    "\n",
    "# add to 'genres' dataframe  \n",
    "df['Genres'] = genres"
   ]
  },
  {
   "cell_type": "code",
   "execution_count": 14,
   "metadata": {},
   "outputs": [
    {
     "data": {
      "text/plain": [
       "227"
      ]
     },
     "execution_count": 14,
     "metadata": {},
     "output_type": "execute_result"
    }
   ],
   "source": [
    "# get all genre tags in a list\n",
    "\n",
    "all_genres = sum(genres,[])\n",
    "len(set(all_genres))"
   ]
  },
  {
   "cell_type": "code",
   "execution_count": 15,
   "metadata": {},
   "outputs": [],
   "source": [
    "import nltk\n",
    "all_genres = nltk.FreqDist(all_genres) \n",
    "\n",
    "# create dataframe\n",
    "all_genres_df = pd.DataFrame({'Genre': list(all_genres.keys()), \n",
    "                              'Count': list(all_genres.values())})"
   ]
  },
  {
   "cell_type": "code",
   "execution_count": 16,
   "metadata": {},
   "outputs": [
    {
     "data": {
      "text/html": [
       "<div>\n",
       "<style scoped>\n",
       "    .dataframe tbody tr th:only-of-type {\n",
       "        vertical-align: middle;\n",
       "    }\n",
       "\n",
       "    .dataframe tbody tr th {\n",
       "        vertical-align: top;\n",
       "    }\n",
       "\n",
       "    .dataframe thead th {\n",
       "        text-align: right;\n",
       "    }\n",
       "</style>\n",
       "<table border=\"1\" class=\"dataframe\">\n",
       "  <thead>\n",
       "    <tr style=\"text-align: right;\">\n",
       "      <th></th>\n",
       "      <th>Genre</th>\n",
       "      <th>Count</th>\n",
       "    </tr>\n",
       "  </thead>\n",
       "  <tbody>\n",
       "    <tr>\n",
       "      <th>0</th>\n",
       "      <td>Roman à clef</td>\n",
       "      <td>29</td>\n",
       "    </tr>\n",
       "    <tr>\n",
       "      <th>1</th>\n",
       "      <td>Satire</td>\n",
       "      <td>123</td>\n",
       "    </tr>\n",
       "    <tr>\n",
       "      <th>2</th>\n",
       "      <td>Children's literature</td>\n",
       "      <td>2122</td>\n",
       "    </tr>\n",
       "    <tr>\n",
       "      <th>3</th>\n",
       "      <td>Speculative fiction</td>\n",
       "      <td>4314</td>\n",
       "    </tr>\n",
       "    <tr>\n",
       "      <th>4</th>\n",
       "      <td>Fiction</td>\n",
       "      <td>4747</td>\n",
       "    </tr>\n",
       "  </tbody>\n",
       "</table>\n",
       "</div>"
      ],
      "text/plain": [
       "                   Genre  Count\n",
       "0           Roman à clef     29\n",
       "1                 Satire    123\n",
       "2  Children's literature   2122\n",
       "3    Speculative fiction   4314\n",
       "4                Fiction   4747"
      ]
     },
     "execution_count": 16,
     "metadata": {},
     "output_type": "execute_result"
    }
   ],
   "source": [
    "all_genres_df.head()"
   ]
  },
  {
   "cell_type": "code",
   "execution_count": 17,
   "metadata": {
    "scrolled": true
   },
   "outputs": [
    {
     "data": {
      "text/html": [
       "<div>\n",
       "<style scoped>\n",
       "    .dataframe tbody tr th:only-of-type {\n",
       "        vertical-align: middle;\n",
       "    }\n",
       "\n",
       "    .dataframe tbody tr th {\n",
       "        vertical-align: top;\n",
       "    }\n",
       "\n",
       "    .dataframe thead th {\n",
       "        text-align: right;\n",
       "    }\n",
       "</style>\n",
       "<table border=\"1\" class=\"dataframe\">\n",
       "  <thead>\n",
       "    <tr style=\"text-align: right;\">\n",
       "      <th></th>\n",
       "      <th>Genre</th>\n",
       "      <th>Count</th>\n",
       "    </tr>\n",
       "  </thead>\n",
       "  <tbody>\n",
       "    <tr>\n",
       "      <th>4</th>\n",
       "      <td>Fiction</td>\n",
       "      <td>4747</td>\n",
       "    </tr>\n",
       "    <tr>\n",
       "      <th>3</th>\n",
       "      <td>Speculative fiction</td>\n",
       "      <td>4314</td>\n",
       "    </tr>\n",
       "    <tr>\n",
       "      <th>5</th>\n",
       "      <td>Science Fiction</td>\n",
       "      <td>2870</td>\n",
       "    </tr>\n",
       "    <tr>\n",
       "      <th>10</th>\n",
       "      <td>Novel</td>\n",
       "      <td>2463</td>\n",
       "    </tr>\n",
       "    <tr>\n",
       "      <th>12</th>\n",
       "      <td>Fantasy</td>\n",
       "      <td>2413</td>\n",
       "    </tr>\n",
       "    <tr>\n",
       "      <th>...</th>\n",
       "      <td>...</td>\n",
       "      <td>...</td>\n",
       "    </tr>\n",
       "    <tr>\n",
       "      <th>187</th>\n",
       "      <td>Fable</td>\n",
       "      <td>1</td>\n",
       "    </tr>\n",
       "    <tr>\n",
       "      <th>188</th>\n",
       "      <td>Bangsian fantasy</td>\n",
       "      <td>1</td>\n",
       "    </tr>\n",
       "    <tr>\n",
       "      <th>189</th>\n",
       "      <td>Space western</td>\n",
       "      <td>1</td>\n",
       "    </tr>\n",
       "    <tr>\n",
       "      <th>194</th>\n",
       "      <td>Fantastique</td>\n",
       "      <td>1</td>\n",
       "    </tr>\n",
       "    <tr>\n",
       "      <th>226</th>\n",
       "      <td>Pastiche</td>\n",
       "      <td>1</td>\n",
       "    </tr>\n",
       "  </tbody>\n",
       "</table>\n",
       "<p>227 rows × 2 columns</p>\n",
       "</div>"
      ],
      "text/plain": [
       "                   Genre  Count\n",
       "4                Fiction   4747\n",
       "3    Speculative fiction   4314\n",
       "5        Science Fiction   2870\n",
       "10                 Novel   2463\n",
       "12               Fantasy   2413\n",
       "..                   ...    ...\n",
       "187                Fable      1\n",
       "188     Bangsian fantasy      1\n",
       "189        Space western      1\n",
       "194          Fantastique      1\n",
       "226             Pastiche      1\n",
       "\n",
       "[227 rows x 2 columns]"
      ]
     },
     "execution_count": 17,
     "metadata": {},
     "output_type": "execute_result"
    }
   ],
   "source": [
    "all_genres_df.sort_values(by='Count', ascending = False)"
   ]
  },
  {
   "cell_type": "code",
   "execution_count": 18,
   "metadata": {},
   "outputs": [
    {
     "name": "stdout",
     "output_type": "stream",
     "text": [
      "Roman à clef\n"
     ]
    }
   ],
   "source": [
    "print(all_genres_df['Genre'][0])"
   ]
  },
  {
   "cell_type": "code",
   "execution_count": 19,
   "metadata": {
    "scrolled": true
   },
   "outputs": [
    {
     "data": {
      "image/png": "[encoded data removed]",
      "text/plain": [
       "<Figure size 432x288 with 1 Axes>"
      ]
     },
     "metadata": {
      "needs_background": "light"
     },
     "output_type": "display_data"
    }
   ],
   "source": [
    "import matplotlib.pyplot as plt \n",
    "import seaborn as sns\n",
    "\n",
    "g = all_genres_df.nlargest(columns=\"Count\", n = 15) \n",
    "plt.figure() \n",
    "ax = sns.barplot(data=g, x= \"Count\", y = \"Genre\") \n",
    "ax.set(ylabel = 'Genre') \n",
    "plt.show()"
   ]
  },
  {
   "cell_type": "code",
   "execution_count": 20,
   "metadata": {},
   "outputs": [],
   "source": [
    "all_genres_df = all_genres_df.to_dict()"
   ]
  },
  {
   "cell_type": "code",
   "execution_count": 21,
   "metadata": {},
   "outputs": [],
   "source": [
    "low_freq = []\n",
    "for i in range(len(all_genres_df['Count'])):\n",
    "    if all_genres_df['Count'][i] <= 50:\n",
    "        low_freq.append(all_genres_df['Genre'][i])\n"
   ]
  },
  {
   "cell_type": "code",
   "execution_count": 22,
   "metadata": {},
   "outputs": [
    {
     "data": {
      "text/plain": [
       "189"
      ]
     },
     "execution_count": 22,
     "metadata": {},
     "output_type": "execute_result"
    }
   ],
   "source": [
    "len(low_freq)"
   ]
  },
  {
   "cell_type": "code",
   "execution_count": 23,
   "metadata": {},
   "outputs": [],
   "source": [
    "df = df.reset_index(drop=True)"
   ]
  },
  {
   "cell_type": "code",
   "execution_count": 24,
   "metadata": {
    "scrolled": true
   },
   "outputs": [
    {
     "data": {
      "text/html": [
       "<div>\n",
       "<style scoped>\n",
       "    .dataframe tbody tr th:only-of-type {\n",
       "        vertical-align: middle;\n",
       "    }\n",
       "\n",
       "    .dataframe tbody tr th {\n",
       "        vertical-align: top;\n",
       "    }\n",
       "\n",
       "    .dataframe thead th {\n",
       "        text-align: right;\n",
       "    }\n",
       "</style>\n",
       "<table border=\"1\" class=\"dataframe\">\n",
       "  <thead>\n",
       "    <tr style=\"text-align: right;\">\n",
       "      <th></th>\n",
       "      <th>Title</th>\n",
       "      <th>Genres</th>\n",
       "      <th>Summary</th>\n",
       "    </tr>\n",
       "  </thead>\n",
       "  <tbody>\n",
       "    <tr>\n",
       "      <th>0</th>\n",
       "      <td>Animal Farm</td>\n",
       "      <td>[Roman à clef, Satire, Children's literature, ...</td>\n",
       "      <td>Old Major, the old boar on the Manor Farm, ca...</td>\n",
       "    </tr>\n",
       "    <tr>\n",
       "      <th>1</th>\n",
       "      <td>A Clockwork Orange</td>\n",
       "      <td>[Science Fiction, Novella, Speculative fiction...</td>\n",
       "      <td>Alex, a teenager living in near-future Englan...</td>\n",
       "    </tr>\n",
       "    <tr>\n",
       "      <th>2</th>\n",
       "      <td>The Plague</td>\n",
       "      <td>[Existentialism, Fiction, Absurdist fiction, N...</td>\n",
       "      <td>The text of The Plague is divided into five p...</td>\n",
       "    </tr>\n",
       "    <tr>\n",
       "      <th>3</th>\n",
       "      <td>A Fire Upon the Deep</td>\n",
       "      <td>[Hard science fiction, Science Fiction, Specul...</td>\n",
       "      <td>The novel posits that space around the Milky ...</td>\n",
       "    </tr>\n",
       "    <tr>\n",
       "      <th>4</th>\n",
       "      <td>All Quiet on the Western Front</td>\n",
       "      <td>[War novel, Roman à clef]</td>\n",
       "      <td>The book tells the story of Paul Bäumer, a Ge...</td>\n",
       "    </tr>\n",
       "  </tbody>\n",
       "</table>\n",
       "</div>"
      ],
      "text/plain": [
       "                            Title  \\\n",
       "0                     Animal Farm   \n",
       "1              A Clockwork Orange   \n",
       "2                      The Plague   \n",
       "3            A Fire Upon the Deep   \n",
       "4  All Quiet on the Western Front   \n",
       "\n",
       "                                              Genres  \\\n",
       "0  [Roman à clef, Satire, Children's literature, ...   \n",
       "1  [Science Fiction, Novella, Speculative fiction...   \n",
       "2  [Existentialism, Fiction, Absurdist fiction, N...   \n",
       "3  [Hard science fiction, Science Fiction, Specul...   \n",
       "4                          [War novel, Roman à clef]   \n",
       "\n",
       "                                             Summary  \n",
       "0   Old Major, the old boar on the Manor Farm, ca...  \n",
       "1   Alex, a teenager living in near-future Englan...  \n",
       "2   The text of The Plague is divided into five p...  \n",
       "3   The novel posits that space around the Milky ...  \n",
       "4   The book tells the story of Paul Bäumer, a Ge...  "
      ]
     },
     "execution_count": 24,
     "metadata": {},
     "output_type": "execute_result"
    }
   ],
   "source": [
    "df.head()"
   ]
  },
  {
   "cell_type": "code",
   "execution_count": 25,
   "metadata": {},
   "outputs": [],
   "source": [
    "index_delete = []\n",
    "for word in low_freq:\n",
    "    for i in range(len(df.Genres)):\n",
    "        if word in df.Genres[i]:\n",
    "            if i not in index_delete:\n",
    "                index_delete.append(i)        "
   ]
  },
  {
   "cell_type": "code",
   "execution_count": 26,
   "metadata": {},
   "outputs": [],
   "source": [
    "df.drop(index_delete , inplace=True)"
   ]
  },
  {
   "cell_type": "code",
   "execution_count": 27,
   "metadata": {},
   "outputs": [
    {
     "data": {
      "text/plain": [
       "(11283, 3)"
      ]
     },
     "execution_count": 27,
     "metadata": {},
     "output_type": "execute_result"
    }
   ],
   "source": [
    "df.shape"
   ]
  },
  {
   "cell_type": "code",
   "execution_count": 28,
   "metadata": {
    "scrolled": false
   },
   "outputs": [
    {
     "data": {
      "text/html": [
       "<div>\n",
       "<style scoped>\n",
       "    .dataframe tbody tr th:only-of-type {\n",
       "        vertical-align: middle;\n",
       "    }\n",
       "\n",
       "    .dataframe tbody tr th {\n",
       "        vertical-align: top;\n",
       "    }\n",
       "\n",
       "    .dataframe thead th {\n",
       "        text-align: right;\n",
       "    }\n",
       "</style>\n",
       "<table border=\"1\" class=\"dataframe\">\n",
       "  <thead>\n",
       "    <tr style=\"text-align: right;\">\n",
       "      <th></th>\n",
       "      <th>Title</th>\n",
       "      <th>Genres</th>\n",
       "      <th>Summary</th>\n",
       "    </tr>\n",
       "  </thead>\n",
       "  <tbody>\n",
       "    <tr>\n",
       "      <th>1</th>\n",
       "      <td>A Clockwork Orange</td>\n",
       "      <td>[Science Fiction, Novella, Speculative fiction...</td>\n",
       "      <td>Alex, a teenager living in near-future Englan...</td>\n",
       "    </tr>\n",
       "    <tr>\n",
       "      <th>6</th>\n",
       "      <td>Blade Runner 3: Replicant Night</td>\n",
       "      <td>[Science Fiction, Speculative fiction]</td>\n",
       "      <td>Living on Mars, Deckard is acting as a consul...</td>\n",
       "    </tr>\n",
       "    <tr>\n",
       "      <th>7</th>\n",
       "      <td>Blade Runner 2: The Edge of Human</td>\n",
       "      <td>[Science Fiction, Speculative fiction]</td>\n",
       "      <td>Beginning several months after the events in ...</td>\n",
       "    </tr>\n",
       "    <tr>\n",
       "      <th>9</th>\n",
       "      <td>Crash</td>\n",
       "      <td>[Speculative fiction, Fiction, Novel]</td>\n",
       "      <td>The story is told through the eyes of narrato...</td>\n",
       "    </tr>\n",
       "    <tr>\n",
       "      <th>10</th>\n",
       "      <td>Children of Dune</td>\n",
       "      <td>[Science Fiction, Speculative fiction, Childre...</td>\n",
       "      <td>Nine years after Emperor Paul Muad'dib walked...</td>\n",
       "    </tr>\n",
       "  </tbody>\n",
       "</table>\n",
       "</div>"
      ],
      "text/plain": [
       "                                Title  \\\n",
       "1                  A Clockwork Orange   \n",
       "6     Blade Runner 3: Replicant Night   \n",
       "7   Blade Runner 2: The Edge of Human   \n",
       "9                               Crash   \n",
       "10                   Children of Dune   \n",
       "\n",
       "                                               Genres  \\\n",
       "1   [Science Fiction, Novella, Speculative fiction...   \n",
       "6              [Science Fiction, Speculative fiction]   \n",
       "7              [Science Fiction, Speculative fiction]   \n",
       "9               [Speculative fiction, Fiction, Novel]   \n",
       "10  [Science Fiction, Speculative fiction, Childre...   \n",
       "\n",
       "                                              Summary  \n",
       "1    Alex, a teenager living in near-future Englan...  \n",
       "6    Living on Mars, Deckard is acting as a consul...  \n",
       "7    Beginning several months after the events in ...  \n",
       "9    The story is told through the eyes of narrato...  \n",
       "10   Nine years after Emperor Paul Muad'dib walked...  "
      ]
     },
     "execution_count": 28,
     "metadata": {},
     "output_type": "execute_result"
    }
   ],
   "source": [
    "df.head()"
   ]
  },
  {
   "cell_type": "code",
   "execution_count": 29,
   "metadata": {},
   "outputs": [],
   "source": [
    "df = df.reset_index(drop=True)"
   ]
  },
  {
   "cell_type": "code",
   "execution_count": 30,
   "metadata": {},
   "outputs": [],
   "source": [
    "# Create new list for genres\n",
    "genres = []\n",
    "\n",
    "# extract genres\n",
    "for i in range(len(df['Genres'])): \n",
    "  genres.append(df['Genres'][i]) "
   ]
  },
  {
   "cell_type": "code",
   "execution_count": 31,
   "metadata": {},
   "outputs": [
    {
     "data": {
      "text/plain": [
       "38"
      ]
     },
     "execution_count": 31,
     "metadata": {},
     "output_type": "execute_result"
    }
   ],
   "source": [
    "# get all genre tags in a list\n",
    "\n",
    "all_genres = sum(genres,[])\n",
    "len(set(all_genres))"
   ]
  },
  {
   "cell_type": "code",
   "execution_count": 32,
   "metadata": {},
   "outputs": [],
   "source": [
    "import nltk\n",
    "all_genres = nltk.FreqDist(all_genres) \n",
    "\n",
    "# create dataframe\n",
    "all_genres_df = pd.DataFrame({'Genre': list(all_genres.keys()), \n",
    "                              'Count': list(all_genres.values())})"
   ]
  },
  {
   "cell_type": "code",
   "execution_count": 33,
   "metadata": {},
   "outputs": [
    {
     "data": {
      "text/html": [
       "<div>\n",
       "<style scoped>\n",
       "    .dataframe tbody tr th:only-of-type {\n",
       "        vertical-align: middle;\n",
       "    }\n",
       "\n",
       "    .dataframe tbody tr th {\n",
       "        vertical-align: top;\n",
       "    }\n",
       "\n",
       "    .dataframe thead th {\n",
       "        text-align: right;\n",
       "    }\n",
       "</style>\n",
       "<table border=\"1\" class=\"dataframe\">\n",
       "  <thead>\n",
       "    <tr style=\"text-align: right;\">\n",
       "      <th></th>\n",
       "      <th>Genre</th>\n",
       "      <th>Count</th>\n",
       "    </tr>\n",
       "  </thead>\n",
       "  <tbody>\n",
       "    <tr>\n",
       "      <th>0</th>\n",
       "      <td>Science Fiction</td>\n",
       "      <td>2615</td>\n",
       "    </tr>\n",
       "    <tr>\n",
       "      <th>1</th>\n",
       "      <td>Novella</td>\n",
       "      <td>73</td>\n",
       "    </tr>\n",
       "    <tr>\n",
       "      <th>2</th>\n",
       "      <td>Speculative fiction</td>\n",
       "      <td>3893</td>\n",
       "    </tr>\n",
       "    <tr>\n",
       "      <th>3</th>\n",
       "      <td>Utopian and dystopian fiction</td>\n",
       "      <td>52</td>\n",
       "    </tr>\n",
       "    <tr>\n",
       "      <th>4</th>\n",
       "      <td>Satire</td>\n",
       "      <td>82</td>\n",
       "    </tr>\n",
       "  </tbody>\n",
       "</table>\n",
       "</div>"
      ],
      "text/plain": [
       "                           Genre  Count\n",
       "0                Science Fiction   2615\n",
       "1                        Novella     73\n",
       "2            Speculative fiction   3893\n",
       "3  Utopian and dystopian fiction     52\n",
       "4                         Satire     82"
      ]
     },
     "execution_count": 33,
     "metadata": {},
     "output_type": "execute_result"
    }
   ],
   "source": [
    "all_genres_df.head()"
   ]
  },
  {
   "cell_type": "code",
   "execution_count": 34,
   "metadata": {
    "scrolled": true
   },
   "outputs": [],
   "source": [
    "all_genres_df = all_genres_df.sort_values(by='Count', ascending = False)\n",
    "all_genres_df = all_genres_df.reset_index(drop=True)"
   ]
  },
  {
   "cell_type": "code",
   "execution_count": 35,
   "metadata": {},
   "outputs": [
    {
     "data": {
      "text/plain": [
       "' Alex, a teenager living in near-future England, leads his gang on nightly orgies of opportunistic, random \"ultra-violence.\" Alex\\'s friends (\"droogs\" in the novel\\'s Anglo-Russian slang, Nadsat) are: Dim, a slow-witted bruiser who is the gang\\'s muscle; Georgie, an ambitious second-in-command; and Pet'"
      ]
     },
     "execution_count": 35,
     "metadata": {},
     "output_type": "execute_result"
    }
   ],
   "source": [
    "df.Summary[0][:300]"
   ]
  },
  {
   "cell_type": "code",
   "execution_count": 36,
   "metadata": {},
   "outputs": [],
   "source": [
    "from nltk.corpus import stopwords\n",
    "def clean_text(text):\n",
    "    \n",
    "    # change all letters to lower case\n",
    "    text = text.lower()\n",
    "    \n",
    "    # remove all numbers from text\n",
    "    text = re.sub(r'\\d+', '', text)\n",
    "    \n",
    "    # remove all white spaces from text\n",
    "    text = text.strip()\n",
    "    \n",
    "    # remove all punctuation from text\n",
    "    text = text.translate(str.maketrans('', '', string.punctuation))\n",
    "    \n",
    "    return text"
   ]
  },
  {
   "cell_type": "code",
   "execution_count": 37,
   "metadata": {
    "scrolled": true
   },
   "outputs": [],
   "source": [
    "import string\n",
    "df['Summary'] = df['Summary'].apply(lambda x: clean_text(x))"
   ]
  },
  {
   "cell_type": "code",
   "execution_count": 38,
   "metadata": {},
   "outputs": [
    {
     "data": {
      "text/plain": [
       "'alex a teenager living in nearfuture england leads his gang on nightly orgies of opportunistic random ultraviolence alexs friends droogs in the novels anglorussian slang nadsat are dim a slowwitted bruiser who is the gangs muscle georgie an ambitious secondincommand and pete who mostly plays along a'"
      ]
     },
     "execution_count": 38,
     "metadata": {},
     "output_type": "execute_result"
    }
   ],
   "source": [
    "df.Summary[0][:300]"
   ]
  },
  {
   "cell_type": "code",
   "execution_count": 39,
   "metadata": {
    "scrolled": true
   },
   "outputs": [],
   "source": [
    "word_freq = df.Summary.str.split(expand=True).stack().value_counts().rename_axis('Word').reset_index(name='Frequency')"
   ]
  },
  {
   "cell_type": "code",
   "execution_count": 40,
   "metadata": {},
   "outputs": [
    {
     "data": {
      "text/html": [
       "<div>\n",
       "<style scoped>\n",
       "    .dataframe tbody tr th:only-of-type {\n",
       "        vertical-align: middle;\n",
       "    }\n",
       "\n",
       "    .dataframe tbody tr th {\n",
       "        vertical-align: top;\n",
       "    }\n",
       "\n",
       "    .dataframe thead th {\n",
       "        text-align: right;\n",
       "    }\n",
       "</style>\n",
       "<table border=\"1\" class=\"dataframe\">\n",
       "  <thead>\n",
       "    <tr style=\"text-align: right;\">\n",
       "      <th></th>\n",
       "      <th>Word</th>\n",
       "      <th>Frequency</th>\n",
       "    </tr>\n",
       "  </thead>\n",
       "  <tbody>\n",
       "    <tr>\n",
       "      <th>0</th>\n",
       "      <td>the</td>\n",
       "      <td>341480</td>\n",
       "    </tr>\n",
       "    <tr>\n",
       "      <th>1</th>\n",
       "      <td>to</td>\n",
       "      <td>173240</td>\n",
       "    </tr>\n",
       "    <tr>\n",
       "      <th>2</th>\n",
       "      <td>and</td>\n",
       "      <td>165964</td>\n",
       "    </tr>\n",
       "    <tr>\n",
       "      <th>3</th>\n",
       "      <td>of</td>\n",
       "      <td>133069</td>\n",
       "    </tr>\n",
       "    <tr>\n",
       "      <th>4</th>\n",
       "      <td>a</td>\n",
       "      <td>127906</td>\n",
       "    </tr>\n",
       "  </tbody>\n",
       "</table>\n",
       "</div>"
      ],
      "text/plain": [
       "  Word  Frequency\n",
       "0  the     341480\n",
       "1   to     173240\n",
       "2  and     165964\n",
       "3   of     133069\n",
       "4    a     127906"
      ]
     },
     "execution_count": 40,
     "metadata": {},
     "output_type": "execute_result"
    }
   ],
   "source": [
    "word_freq.head()"
   ]
  },
  {
   "cell_type": "code",
   "execution_count": 41,
   "metadata": {},
   "outputs": [
    {
     "data": {
      "image/png": "[encoded data removed]",
      "text/plain": [
       "<Figure size 432x288 with 1 Axes>"
      ]
     },
     "metadata": {
      "needs_background": "light"
     },
     "output_type": "display_data"
    }
   ],
   "source": [
    "g = word_freq.nlargest(columns=\"Frequency\", n = 15) \n",
    "plt.figure() \n",
    "ax = sns.barplot(data=g, x= \"Frequency\", y = \"Word\") \n",
    "ax.set(ylabel = 'Word') \n",
    "plt.show()"
   ]
  },
  {
   "cell_type": "code",
   "execution_count": 42,
   "metadata": {},
   "outputs": [],
   "source": [
    "from nltk.tokenize import word_tokenize\n",
    "\n",
    "def remove_stopwords(text):\n",
    "    # cache stopwords to run faster\n",
    "    cachedStopWords = stopwords.words(\"english\")   \n",
    "    \n",
    "    text_tokens = word_tokenize(text)\n",
    "    \n",
    "    # remove all stopwords\n",
    "    text = [word for word in text_tokens if word not in cachedStopWords]\n",
    "    text = ' '.join(text)\n",
    "    \n",
    "    return text\n",
    "\n",
    "df['Summary'] = df['Summary'].apply(lambda x: remove_stopwords(x))"
   ]
  },
  {
   "cell_type": "code",
   "execution_count": 43,
   "metadata": {},
   "outputs": [
    {
     "data": {
      "text/plain": [
       "'alex teenager living nearfuture england leads gang nightly orgies opportunistic random ultraviolence alexs friends droogs novels anglorussian slang nadsat dim slowwitted bruiser gangs muscle georgie ambitious secondincommand pete mostly plays along droogs indulge taste ultraviolence characterized so'"
      ]
     },
     "execution_count": 43,
     "metadata": {},
     "output_type": "execute_result"
    }
   ],
   "source": [
    "df.Summary[0][:300]"
   ]
  },
  {
   "cell_type": "code",
   "execution_count": 44,
   "metadata": {
    "scrolled": true
   },
   "outputs": [],
   "source": [
    "new_word_freq = df.Summary.str.split(expand=True).stack().value_counts().rename_axis('Word').reset_index(name='Frequency')"
   ]
  },
  {
   "cell_type": "code",
   "execution_count": 45,
   "metadata": {},
   "outputs": [
    {
     "data": {
      "image/png": "[encoded data removed]",
      "text/plain": [
       "<Figure size 432x288 with 1 Axes>"
      ]
     },
     "metadata": {
      "needs_background": "light"
     },
     "output_type": "display_data"
    }
   ],
   "source": [
    "g = new_word_freq.nlargest(columns=\"Frequency\", n = 15) \n",
    "plt.figure() \n",
    "ax = sns.barplot(data=g, x= \"Frequency\", y = \"Word\") \n",
    "ax.set(ylabel = 'Word') \n",
    "plt.show()"
   ]
  },
  {
   "cell_type": "code",
   "execution_count": 46,
   "metadata": {},
   "outputs": [],
   "source": [
    "df.to_csv('data/clean_data.csv', index = False)"
   ]
  },
  {
   "cell_type": "code",
   "execution_count": 47,
   "metadata": {},
   "outputs": [
    {
     "data": {
      "text/plain": [
       "(120376, 2)"
      ]
     },
     "execution_count": 47,
     "metadata": {},
     "output_type": "execute_result"
    }
   ],
   "source": [
    "new_word_freq.shape"
   ]
  },
  {
   "cell_type": "code",
   "execution_count": 48,
   "metadata": {},
   "outputs": [],
   "source": [
    "from sklearn.preprocessing import MultiLabelBinarizer\n",
    "\n",
    "multilabel_binarizer = MultiLabelBinarizer()\n",
    "multilabel_binarizer.fit(df['Genres'])\n",
    "\n",
    "# transform target variable\n",
    "y = multilabel_binarizer.transform(df['Genres'])"
   ]
  },
  {
   "cell_type": "code",
   "execution_count": 49,
   "metadata": {},
   "outputs": [
    {
     "data": {
      "text/plain": [
       "array([0, 0, 0, 0, 0, 0, 0, 0, 0, 0, 0, 0, 0, 1, 0, 0, 0, 0, 0, 0, 0, 0,\n",
       "       0, 0, 0, 1, 0, 1, 1, 0, 1, 0, 0, 0, 0, 1, 0, 0])"
      ]
     },
     "execution_count": 49,
     "metadata": {},
     "output_type": "execute_result"
    }
   ],
   "source": [
    "y[0]"
   ]
  },
  {
   "cell_type": "code",
   "execution_count": 50,
   "metadata": {},
   "outputs": [
    {
     "data": {
      "text/plain": [
       "0.3714437649561287"
      ]
     },
     "execution_count": 50,
     "metadata": {},
     "output_type": "execute_result"
    }
   ],
   "source": [
    "all_genres_df['Count'][0]/len(df.Genres) # No. Fiction books / All books"
   ]
  },
  {
   "cell_type": "code",
   "execution_count": 51,
   "metadata": {},
   "outputs": [],
   "source": [
    "from sklearn.model_selection import train_test_split\n",
    "\n",
    "# split data in train and test set:\n",
    "x_train, x_test, y_train, y_test = train_test_split(df['Summary'], y, test_size=0.2, random_state=1)"
   ]
  },
  {
   "cell_type": "code",
   "execution_count": 52,
   "metadata": {},
   "outputs": [],
   "source": [
    "from sklearn.feature_extraction.text import TfidfVectorizer\n",
    "tfidf_vectorizer = TfidfVectorizer(max_df=0.8, max_features=8000)\n",
    "\n",
    "# create TF-IDF features\n",
    "\n",
    "x_train_vec = tfidf_vectorizer.fit_transform(x_train).astype('float32')\n",
    "x_test_vec = tfidf_vectorizer.transform(x_test).astype('float32')"
   ]
  },
  {
   "cell_type": "code",
   "execution_count": 53,
   "metadata": {},
   "outputs": [
    {
     "name": "stdout",
     "output_type": "stream",
     "text": [
      "f1 score (RD):  0.31562401760452685\n"
     ]
    }
   ],
   "source": [
    "from sklearn.multiclass import OneVsRestClassifier\n",
    "from sklearn.metrics import f1_score\n",
    "\n",
    "from sklearn.ensemble import RandomForestClassifier\n",
    "rd = RandomForestClassifier()\n",
    "clf = OneVsRestClassifier(rd)\n",
    "\n",
    "# fit model on train data\n",
    "\n",
    "clf.fit(x_train_vec, y_train)\n",
    "\n",
    "# make predictions for validation set\n",
    "y_pred = clf.predict(x_test_vec)\n",
    "\n",
    "print('f1 score (RD): ', f1_score(y_test, y_pred, average=\"micro\"))"
   ]
  },
  {
   "cell_type": "code",
   "execution_count": 73,
   "metadata": {},
   "outputs": [
    {
     "name": "stdout",
     "output_type": "stream",
     "text": [
      "f1 score (LR):  0.3845584972637183\n"
     ]
    }
   ],
   "source": [
    "from sklearn.linear_model import LogisticRegression\n",
    "\n",
    "lr = LogisticRegression()\n",
    "clf = OneVsRestClassifier(lr)\n",
    "\n",
    "# fit model on train data\n",
    "\n",
    "clf.fit(x_train_vec, y_train)\n",
    "\n",
    "# make predictions for validation set\n",
    "y_pred = clf.predict(x_test_vec)\n",
    "\n",
    "print('f1 score (LR): ',f1_score(y_test, y_pred, average = 'micro'))"
   ]
  },
  {
   "cell_type": "code",
   "execution_count": 57,
   "metadata": {},
   "outputs": [
    {
     "name": "stdout",
     "output_type": "stream",
     "text": [
      "f1 score (LR with 0.3 threshold) 0.5607050285121825\n"
     ]
    }
   ],
   "source": [
    "y_pred_prob = clf.predict_proba(x_test_vec)\n",
    "y_pred_new = (y_pred_prob >= 0.3).astype(int)\n",
    "print('f1 score (LR with 0.3 threshold)', f1_score(y_test, y_pred_new, average=\"micro\"))"
   ]
  },
  {
   "cell_type": "code",
   "execution_count": 58,
   "metadata": {},
   "outputs": [
    {
     "data": {
      "text/plain": [
       "('Fiction', 'Science Fiction', 'Speculative fiction')"
      ]
     },
     "execution_count": 58,
     "metadata": {},
     "output_type": "execute_result"
    }
   ],
   "source": [
    "multilabel_binarizer.inverse_transform(y_pred_new)[0]"
   ]
  },
  {
   "cell_type": "code",
   "execution_count": 59,
   "metadata": {},
   "outputs": [
    {
     "data": {
      "text/plain": [
       "('Fiction',\n",
       " 'Novella',\n",
       " 'Satire',\n",
       " 'Science Fiction',\n",
       " 'Speculative fiction',\n",
       " 'Utopian and dystopian fiction')"
      ]
     },
     "execution_count": 59,
     "metadata": {},
     "output_type": "execute_result"
    }
   ],
   "source": [
    "multilabel_binarizer.inverse_transform(y)[0]"
   ]
  },
  {
   "cell_type": "code",
   "execution_count": 61,
   "metadata": {},
   "outputs": [],
   "source": [
    "from keras.utils import to_categorical\n",
    "\n",
    "y_train_enc = to_categorical(y_train)\n",
    "y_test_enc = to_categorical(y_test)"
   ]
  },
  {
   "cell_type": "code",
   "execution_count": 62,
   "metadata": {},
   "outputs": [],
   "source": [
    "from keras.preprocessing.text import Tokenizer\n",
    "\n",
    "tk = Tokenizer(num_words=None, filters='!\"#$%&()*+,-./:;<=>?@[\\\\]^_`{|}~\\t\\n', lower=True, split=\" \")\n",
    "tk.fit_on_texts(x_train)\n",
    "\n",
    "x_train_new = tk.texts_to_sequences(x_train)\n",
    "tk.fit_on_texts(x_test)\n",
    "\n",
    "x_test_new = tk.texts_to_sequences(x_test)"
   ]
  },
  {
   "cell_type": "code",
   "execution_count": 63,
   "metadata": {},
   "outputs": [],
   "source": [
    "from keras.preprocessing import sequence\n",
    "x_train_new = sequence.pad_sequences(x_train_new, maxlen= 500, padding='pre')\n",
    "x_test_new = sequence.pad_sequences(x_test_new, maxlen= 500, padding='pre')"
   ]
  },
  {
   "cell_type": "code",
   "execution_count": 64,
   "metadata": {},
   "outputs": [],
   "source": [
    "max_features = len(tk.word_index) + 1"
   ]
  },
  {
   "cell_type": "code",
   "execution_count": 65,
   "metadata": {},
   "outputs": [],
   "source": [
    "def build_model():\n",
    "    embedding_vector_length = 32\n",
    "    model = Sequential()\n",
    "    model.add(Embedding(max_features, embedding_vector_length, input_length=500))\n",
    "    model.add(Flatten())\n",
    "    model.add(Dense(38, activation='relu'))\n",
    "    model.add(Dense(38, activation='relu'))\n",
    "    model.compile(loss='binary_crossentropy',optimizer='adam', metrics=['accuracy'])\n",
    "    print(model.summary())\n",
    "    return model"
   ]
  },
  {
   "cell_type": "code",
   "execution_count": 66,
   "metadata": {},
   "outputs": [],
   "source": [
    "from sklearn.model_selection import GridSearchCV\n",
    "from keras.wrappers.scikit_learn import KerasClassifier\n",
    "from keras.models import Sequential\n",
    "from keras.layers import Dense\n",
    "from keras.layers.embeddings import Embedding\n",
    "from keras.layers import Flatten"
   ]
  },
  {
   "cell_type": "code",
   "execution_count": 101,
   "metadata": {},
   "outputs": [
    {
     "name": "stdout",
     "output_type": "stream",
     "text": [
      "Model: \"sequential_7\"\n",
      "_________________________________________________________________\n",
      "Layer (type)                 Output Shape              Param #   \n",
      "=================================================================\n",
      "embedding_7 (Embedding)      (None, 500, 32)           3852064   \n",
      "_________________________________________________________________\n",
      "flatten_7 (Flatten)          (None, 16000)             0         \n",
      "_________________________________________________________________\n",
      "dense_13 (Dense)             (None, 38)                608038    \n",
      "_________________________________________________________________\n",
      "dense_14 (Dense)             (None, 38)                1482      \n",
      "=================================================================\n",
      "Total params: 4,461,584\n",
      "Trainable params: 4,461,584\n",
      "Non-trainable params: 0\n",
      "_________________________________________________________________\n",
      "None\n"
     ]
    }
   ],
   "source": [
    "model = build_model()"
   ]
  },
  {
   "cell_type": "code",
   "execution_count": 93,
   "metadata": {},
   "outputs": [
    {
     "name": "stdout",
     "output_type": "stream",
     "text": [
      "Model: \"sequential_6\"\n",
      "_________________________________________________________________\n",
      "Layer (type)                 Output Shape              Param #   \n",
      "=================================================================\n",
      "embedding_6 (Embedding)      (None, 500, 32)           3852064   \n",
      "_________________________________________________________________\n",
      "flatten_6 (Flatten)          (None, 16000)             0         \n",
      "_________________________________________________________________\n",
      "dense_11 (Dense)             (None, 38)                608038    \n",
      "_________________________________________________________________\n",
      "dense_12 (Dense)             (None, 38)                1482      \n",
      "=================================================================\n",
      "Total params: 4,461,584\n",
      "Trainable params: 4,461,584\n",
      "Non-trainable params: 0\n",
      "_________________________________________________________________\n",
      "None\n",
      "Best: 0.940724 using {'batch_size': 25, 'epochs': 2}\n",
      "0.940724 (0.001053) with: {'batch_size': 25, 'epochs': 2}\n",
      "0.936349 (0.003322) with: {'batch_size': 25, 'epochs': 4}\n",
      "0.940724 (0.001053) with: {'batch_size': 25, 'epochs': 6}\n",
      "0.940724 (0.001053) with: {'batch_size': 30, 'epochs': 2}\n",
      "0.940724 (0.001053) with: {'batch_size': 30, 'epochs': 4}\n",
      "0.940724 (0.001053) with: {'batch_size': 30, 'epochs': 6}\n",
      "0.940724 (0.001053) with: {'batch_size': 50, 'epochs': 2}\n",
      "0.940724 (0.001053) with: {'batch_size': 50, 'epochs': 4}\n",
      "0.940724 (0.001053) with: {'batch_size': 50, 'epochs': 6}\n"
     ]
    }
   ],
   "source": [
    "x_train_g = x_train_new[:1000]\n",
    "y_train_g = y_train[:1000]\n",
    "\n",
    "model2 = KerasClassifier(build_fn=build_model, verbose=0)\n",
    "batch_size = [25, 30, 50]\n",
    "epochs = [2, 4, 6]\n",
    "param_grid = dict(batch_size=batch_size, epochs=epochs)\n",
    "grid = GridSearchCV(estimator=model2, param_grid=param_grid, n_jobs=-1, cv=2)\n",
    "grid_result = grid.fit(x_train_g[:800], y_train_g[:800], validation_data=(x_train_g[800:], y_train_g[800:]))\n",
    "\n",
    "# summarize results\n",
    "print(\"Best: %f using %s\" % (grid_result.best_score_, grid_result.best_params_))\n",
    "\n",
    "means = grid_result.cv_results_['mean_test_score']\n",
    "stds = grid_result.cv_results_['std_test_score']\n",
    "params = grid_result.cv_results_['params']\n",
    "for mean, stdev, param in zip(means, stds, params):\n",
    "    print(\"%f (%f) with: %r\" % (mean, stdev, param))"
   ]
  },
  {
   "cell_type": "code",
   "execution_count": 102,
   "metadata": {},
   "outputs": [
    {
     "name": "stdout",
     "output_type": "stream",
     "text": [
      "Train on 9026 samples, validate on 2257 samples\n",
      "Epoch 1/2\n",
      "9026/9026 [==============================] - 12s 1ms/step - loss: 0.3027 - accuracy: 0.9400 - val_loss: 0.2666 - val_accuracy: 0.9417\n",
      "Epoch 2/2\n",
      "9026/9026 [==============================] - 12s 1ms/step - loss: 0.2396 - accuracy: 0.9414 - val_loss: 0.2337 - val_accuracy: 0.9417\n"
     ]
    }
   ],
   "source": [
    "final_model = model.fit(x_train_new, y_train, validation_data=(x_test_new, y_test), epochs=2, batch_size=25)"
   ]
  },
  {
   "cell_type": "code",
   "execution_count": 98,
   "metadata": {
    "scrolled": true
   },
   "outputs": [
    {
     "data": {
      "text/plain": [
       "[]"
      ]
     },
     "execution_count": 98,
     "metadata": {},
     "output_type": "execute_result"
    },
    {
     "data": {
      "image/png": "[encoded data removed]",
      "text/plain": [
       "<Figure size 432x288 with 1 Axes>"
      ]
     },
     "metadata": {},
     "output_type": "display_data"
    }
   ],
   "source": [
    "import seaborn as sns\n",
    "import matplotlib.pyplot as plt\n",
    "%matplotlib inline\n",
    "\n",
    "sns.set()\n",
    "acc = hist.history['accuracy']\n",
    "val = hist.history['val_accuracy']\n",
    "epochs = range(1, len(acc) + 1)\n",
    "\n",
    "plt.plot(epochs, acc, '-', label='Training accuracy')\n",
    "plt.plot(epochs, val, ':', label='Validation accuracy')\n",
    "plt.title('Training and Validation Accuracy')\n",
    "plt.xlabel('Epoch')\n",
    "plt.ylabel('Accuracy')\n",
    "plt.legend(loc='upper left')\n",
    "plt.plot()"
   ]
  },
  {
   "cell_type": "code",
   "execution_count": 107,
   "metadata": {},
   "outputs": [],
   "source": [
    "y_pred = model.predict(x_test_new)\n",
    "y_class = model.predict_classes(x_test_new)\n"
   ]
  },
  {
   "cell_type": "code",
   "execution_count": 106,
   "metadata": {},
   "outputs": [
    {
     "data": {
      "text/plain": [
       "array([0.        , 0.        , 0.        , 0.        , 0.        ,\n",
       "       0.        , 0.11375162, 0.        , 0.        , 0.07025838,\n",
       "       0.        , 0.01002889, 0.09487514, 0.24738148, 0.        ,\n",
       "       0.        , 0.04012751, 0.05536854, 0.        , 0.03939748,\n",
       "       0.        , 0.        , 0.08135166, 0.        , 0.17428659,\n",
       "       0.        , 0.        , 0.        , 0.17214702, 0.        ,\n",
       "       0.22657114, 0.        , 0.0358769 , 0.        , 0.07299057,\n",
       "       0.        , 0.        , 0.13347296], dtype=float32)"
      ]
     },
     "execution_count": 106,
     "metadata": {},
     "output_type": "execute_result"
    }
   ],
   "source": [
    "y_pred[0]"
   ]
  },
  {
   "cell_type": "code",
   "execution_count": 112,
   "metadata": {},
   "outputs": [
    {
     "name": "stdout",
     "output_type": "stream",
     "text": [
      "Validation accuracy: 0.9416900873184204, loss: 0.23374808819673207\n"
     ]
    }
   ],
   "source": [
    "# Print results.\n",
    "print('Validation accuracy: {acc}, loss: {loss}'.format(\n",
    "    acc=final_model.history['val_accuracy'][-1], loss=final_model.history['val_loss'][-1]))"
   ]
  },
  {
   "cell_type": "code",
   "execution_count": 131,
   "metadata": {},
   "outputs": [
    {
     "ename": "AttributeError",
     "evalue": "'list' object has no attribute 'shape'",
     "output_type": "error",
     "traceback": [
      "\u001b[0;31m---------------------------------------------------------------------------\u001b[0m",
      "\u001b[0;31mAttributeError\u001b[0m                            Traceback (most recent call last)",
      "\u001b[0;32m<ipython-input-131-51aa596cb079>\u001b[0m in \u001b[0;36m<module>\u001b[0;34m\u001b[0m\n\u001b[0;32m----> 1\u001b[0;31m \u001b[0mpredictions\u001b[0m \u001b[0;34m=\u001b[0m \u001b[0mmultilabel_binarizer\u001b[0m\u001b[0;34m.\u001b[0m\u001b[0minverse_transform\u001b[0m\u001b[0;34m(\u001b[0m\u001b[0;34m[\u001b[0m\u001b[0mnp\u001b[0m\u001b[0;34m.\u001b[0m\u001b[0margmax\u001b[0m\u001b[0;34m(\u001b[0m\u001b[0mpred\u001b[0m\u001b[0;34m)\u001b[0m \u001b[0;32mfor\u001b[0m \u001b[0mpred\u001b[0m \u001b[0;32min\u001b[0m \u001b[0my_pred\u001b[0m\u001b[0;34m]\u001b[0m\u001b[0;34m)\u001b[0m\u001b[0;34m\u001b[0m\u001b[0;34m\u001b[0m\u001b[0m\n\u001b[0m",
      "\u001b[0;32m~/.local/lib/python3.8/site-packages/sklearn/preprocessing/_label.py\u001b[0m in \u001b[0;36minverse_transform\u001b[0;34m(self, yt)\u001b[0m\n\u001b[1;32m   1015\u001b[0m         \u001b[0mcheck_is_fitted\u001b[0m\u001b[0;34m(\u001b[0m\u001b[0mself\u001b[0m\u001b[0;34m)\u001b[0m\u001b[0;34m\u001b[0m\u001b[0;34m\u001b[0m\u001b[0m\n\u001b[1;32m   1016\u001b[0m \u001b[0;34m\u001b[0m\u001b[0m\n\u001b[0;32m-> 1017\u001b[0;31m         \u001b[0;32mif\u001b[0m \u001b[0myt\u001b[0m\u001b[0;34m.\u001b[0m\u001b[0mshape\u001b[0m\u001b[0;34m[\u001b[0m\u001b[0;36m1\u001b[0m\u001b[0;34m]\u001b[0m \u001b[0;34m!=\u001b[0m \u001b[0mlen\u001b[0m\u001b[0;34m(\u001b[0m\u001b[0mself\u001b[0m\u001b[0;34m.\u001b[0m\u001b[0mclasses_\u001b[0m\u001b[0;34m)\u001b[0m\u001b[0;34m:\u001b[0m\u001b[0;34m\u001b[0m\u001b[0;34m\u001b[0m\u001b[0m\n\u001b[0m\u001b[1;32m   1018\u001b[0m             raise ValueError('Expected indicator for {0} classes, but got {1}'\n\u001b[1;32m   1019\u001b[0m                              .format(len(self.classes_), yt.shape[1]))\n",
      "\u001b[0;31mAttributeError\u001b[0m: 'list' object has no attribute 'shape'"
     ]
    }
   ],
   "source": [
    "predictions = multilabel_binarizer.inverse_transform([np.argmax(pred) for pred in y_pred])"
   ]
  },
  {
   "cell_type": "code",
   "execution_count": 132,
   "metadata": {},
   "outputs": [
    {
     "data": {
      "text/plain": [
       "array([0, 0, 0, 0, 0, 0, 0, 0, 0, 0, 0, 0, 0, 1, 0, 0, 0, 0, 0, 0, 0, 0,\n",
       "       0, 0, 0, 1, 0, 1, 1, 0, 1, 0, 0, 0, 0, 1, 0, 0])"
      ]
     },
     "execution_count": 132,
     "metadata": {},
     "output_type": "execute_result"
    }
   ],
   "source": [
    "y[0]"
   ]
  },
  {
   "cell_type": "code",
   "execution_count": 134,
   "metadata": {},
   "outputs": [
    {
     "ename": "AttributeError",
     "evalue": "'numpy.ndarray' object has no attribute 'inverse_transform'",
     "output_type": "error",
     "traceback": [
      "\u001b[0;31m---------------------------------------------------------------------------\u001b[0m",
      "\u001b[0;31mAttributeError\u001b[0m                            Traceback (most recent call last)",
      "\u001b[0;32m<ipython-input-134-6af8687a07e4>\u001b[0m in \u001b[0;36m<module>\u001b[0;34m\u001b[0m\n\u001b[0;32m----> 1\u001b[0;31m \u001b[0my\u001b[0m\u001b[0;34m.\u001b[0m\u001b[0minverse_transform\u001b[0m\u001b[0;34m(\u001b[0m\u001b[0my\u001b[0m\u001b[0;34m[\u001b[0m\u001b[0;36m0\u001b[0m\u001b[0;34m]\u001b[0m\u001b[0;34m)\u001b[0m\u001b[0;34m\u001b[0m\u001b[0;34m\u001b[0m\u001b[0m\n\u001b[0m",
      "\u001b[0;31mAttributeError\u001b[0m: 'numpy.ndarray' object has no attribute 'inverse_transform'"
     ]
    }
   ],
   "source": [
    "y.inverse_transform(y[0])"
   ]
  },
  {
   "cell_type": "code",
   "execution_count": 138,
   "metadata": {},
   "outputs": [
    {
     "data": {
      "text/plain": [
       "('Fiction',\n",
       " 'Novella',\n",
       " 'Satire',\n",
       " 'Science Fiction',\n",
       " 'Speculative fiction',\n",
       " 'Utopian and dystopian fiction')"
      ]
     },
     "execution_count": 138,
     "metadata": {},
     "output_type": "execute_result"
    }
   ],
   "source": [
    "multilabel_binarizer.inverse_transform(y)[0]"
   ]
  },
  {
   "cell_type": "code",
   "execution_count": 129,
   "metadata": {},
   "outputs": [
    {
     "data": {
      "text/plain": [
       "array([0.        , 0.        , 0.        , 0.        , 0.        ,\n",
       "       0.        , 0.11375162, 0.        , 0.        , 0.07025838,\n",
       "       0.        , 0.01002889, 0.09487514, 0.24738148, 0.        ,\n",
       "       0.        , 0.04012751, 0.05536854, 0.        , 0.03939748,\n",
       "       0.        , 0.        , 0.08135166, 0.        , 0.17428659,\n",
       "       0.        , 0.        , 0.        , 0.17214702, 0.        ,\n",
       "       0.22657114, 0.        , 0.0358769 , 0.        , 0.07299057,\n",
       "       0.        , 0.        , 0.13347296], dtype=float32)"
      ]
     },
     "execution_count": 129,
     "metadata": {},
     "output_type": "execute_result"
    }
   ],
   "source": [
    "y_pred[0]"
   ]
  },
  {
   "cell_type": "code",
   "execution_count": 171,
   "metadata": {},
   "outputs": [
    {
     "data": {
      "text/plain": [
       "13"
      ]
     },
     "execution_count": 171,
     "metadata": {},
     "output_type": "execute_result"
    }
   ],
   "source": [
    "np.argmax(y_pred[0])"
   ]
  },
  {
   "cell_type": "code",
   "execution_count": 139,
   "metadata": {},
   "outputs": [
    {
     "data": {
      "text/plain": [
       "0.24738148"
      ]
     },
     "execution_count": 139,
     "metadata": {},
     "output_type": "execute_result"
    }
   ],
   "source": [
    "y_pred[0][13]"
   ]
  },
  {
   "cell_type": "code",
   "execution_count": 164,
   "metadata": {},
   "outputs": [],
   "source": [
    "array = [0] * 38\n",
    "array[int(np.argmax(y_pred[0]))] = 1\n",
    "array = np.array(array, dtype = 'float32')"
   ]
  },
  {
   "cell_type": "code",
   "execution_count": 167,
   "metadata": {},
   "outputs": [
    {
     "ename": "IndexError",
     "evalue": "tuple index out of range",
     "output_type": "error",
     "traceback": [
      "\u001b[0;31m---------------------------------------------------------------------------\u001b[0m",
      "\u001b[0;31mIndexError\u001b[0m                                Traceback (most recent call last)",
      "\u001b[0;32m<ipython-input-167-642d090e7de7>\u001b[0m in \u001b[0;36m<module>\u001b[0;34m\u001b[0m\n\u001b[0;32m----> 1\u001b[0;31m \u001b[0mmultilabel_binarizer\u001b[0m\u001b[0;34m.\u001b[0m\u001b[0minverse_transform\u001b[0m\u001b[0;34m(\u001b[0m\u001b[0marray\u001b[0m\u001b[0;34m)\u001b[0m\u001b[0;34m\u001b[0m\u001b[0;34m\u001b[0m\u001b[0m\n\u001b[0m",
      "\u001b[0;32m~/.local/lib/python3.8/site-packages/sklearn/preprocessing/_label.py\u001b[0m in \u001b[0;36minverse_transform\u001b[0;34m(self, yt)\u001b[0m\n\u001b[1;32m   1015\u001b[0m         \u001b[0mcheck_is_fitted\u001b[0m\u001b[0;34m(\u001b[0m\u001b[0mself\u001b[0m\u001b[0;34m)\u001b[0m\u001b[0;34m\u001b[0m\u001b[0;34m\u001b[0m\u001b[0m\n\u001b[1;32m   1016\u001b[0m \u001b[0;34m\u001b[0m\u001b[0m\n\u001b[0;32m-> 1017\u001b[0;31m         \u001b[0;32mif\u001b[0m \u001b[0myt\u001b[0m\u001b[0;34m.\u001b[0m\u001b[0mshape\u001b[0m\u001b[0;34m[\u001b[0m\u001b[0;36m1\u001b[0m\u001b[0;34m]\u001b[0m \u001b[0;34m!=\u001b[0m \u001b[0mlen\u001b[0m\u001b[0;34m(\u001b[0m\u001b[0mself\u001b[0m\u001b[0;34m.\u001b[0m\u001b[0mclasses_\u001b[0m\u001b[0;34m)\u001b[0m\u001b[0;34m:\u001b[0m\u001b[0;34m\u001b[0m\u001b[0;34m\u001b[0m\u001b[0m\n\u001b[0m\u001b[1;32m   1018\u001b[0m             raise ValueError('Expected indicator for {0} classes, but got {1}'\n\u001b[1;32m   1019\u001b[0m                              .format(len(self.classes_), yt.shape[1]))\n",
      "\u001b[0;31mIndexError\u001b[0m: tuple index out of range"
     ]
    }
   ],
   "source": [
    "multilabel_binarizer.inverse_transform(array)"
   ]
  },
  {
   "cell_type": "code",
   "execution_count": 166,
   "metadata": {},
   "outputs": [
    {
     "data": {
      "text/plain": [
       "array([0., 0., 0., 0., 0., 0., 0., 0., 0., 0., 0., 0., 0., 1., 0., 0., 0.,\n",
       "       0., 0., 0., 0., 0., 0., 0., 0., 0., 0., 0., 0., 0., 0., 0., 0., 0.,\n",
       "       0., 0., 0., 0.], dtype=float32)"
      ]
     },
     "execution_count": 166,
     "metadata": {},
     "output_type": "execute_result"
    }
   ],
   "source": [
    "array"
   ]
  },
  {
   "cell_type": "code",
   "execution_count": 169,
   "metadata": {},
   "outputs": [
    {
     "data": {
      "text/plain": [
       "[('Fiction',\n",
       "  'Novella',\n",
       "  'Satire',\n",
       "  'Science Fiction',\n",
       "  'Speculative fiction',\n",
       "  'Utopian and dystopian fiction'),\n",
       " ('Science Fiction', 'Speculative fiction'),\n",
       " ('Science Fiction', 'Speculative fiction'),\n",
       " ('Fiction', 'Novel', 'Speculative fiction'),\n",
       " (\"Children's literature\",\n",
       "  'Fiction',\n",
       "  'Science Fiction',\n",
       "  'Speculative fiction'),\n",
       " (\"Children's literature\",\n",
       "  'Fiction',\n",
       "  'Science Fiction',\n",
       "  'Speculative fiction'),\n",
       " ('Gothic fiction',),\n",
       " ('Fiction',),\n",
       " (\"Children's literature\",\n",
       "  'Fiction',\n",
       "  'Novel',\n",
       "  'Science Fiction',\n",
       "  'Speculative fiction'),\n",
       " ('Fiction',),\n",
       " (\"Children's literature\",\n",
       "  'Dystopia',\n",
       "  'Fiction',\n",
       "  'Science Fiction',\n",
       "  'Speculative fiction',\n",
       "  'Utopian and dystopian fiction'),\n",
       " ('Fantasy', 'Fiction'),\n",
       " ('Detective fiction', 'Fiction', 'Mystery', 'Novel', 'Suspense'),\n",
       " (\"Children's literature\",\n",
       "  'Fiction',\n",
       "  'Science Fiction',\n",
       "  'Speculative fiction'),\n",
       " ('Fiction', 'Historical fiction', 'Novel'),\n",
       " ('Fiction', 'Science Fiction', 'Speculative fiction'),\n",
       " ('Adventure novel', \"Children's literature\", 'Fiction', 'Humour', 'Satire'),\n",
       " ('Fiction', 'Historical fiction', 'Historical novel'),\n",
       " ('Fiction', 'Novel'),\n",
       " ('Science Fiction', 'Speculative fiction'),\n",
       " ('Adventure novel',),\n",
       " ('Fiction', 'Novel'),\n",
       " ('Dystopia', 'Fiction', 'Science Fiction', 'Speculative fiction'),\n",
       " ('Dystopia', 'Fiction', 'Science Fiction', 'Speculative fiction'),\n",
       " ('Dystopia', 'Science Fiction', 'Speculative fiction'),\n",
       " ('Fiction', 'Novel', 'Romance novel', 'Satire'),\n",
       " ('Fiction',),\n",
       " ('Fiction', 'Novel', 'Science Fiction', 'Speculative fiction'),\n",
       " (\"Children's literature\", 'Fiction', 'Novel', 'Romance novel'),\n",
       " ('Fantasy', 'Fiction', 'Science Fiction', 'Speculative fiction'),\n",
       " ('Fiction', 'Science Fiction', 'Speculative fiction'),\n",
       " (\"Children's literature\", 'Fiction', 'Speculative fiction'),\n",
       " ('Novel', 'Science Fiction', 'Speculative fiction'),\n",
       " (\"Children's literature\",\n",
       "  'Fiction',\n",
       "  'Gothic fiction',\n",
       "  'Horror',\n",
       "  'Speculative fiction'),\n",
       " ('Fantasy', 'Fiction', 'Science Fiction', 'Speculative fiction'),\n",
       " ('Crime Fiction', 'Detective fiction', 'Mystery', 'Novel'),\n",
       " ('Horror', 'Short story', 'Speculative fiction'),\n",
       " (\"Children's literature\", 'Fiction', 'Novel', 'Suspense', 'Techno-thriller'),\n",
       " ('Fiction', 'Novel', 'Thriller'),\n",
       " ('Fiction', 'Novel', 'Thriller'),\n",
       " (\"Children's literature\",\n",
       "  'Fiction',\n",
       "  'Science Fiction',\n",
       "  'Speculative fiction'),\n",
       " ('Fiction', 'Gothic fiction', 'Horror', 'Speculative fiction'),\n",
       " ('Speculative fiction',),\n",
       " ('Science Fiction', 'Speculative fiction'),\n",
       " ('Fiction', 'Novel', 'Speculative fiction', 'Young adult literature'),\n",
       " (\"Children's literature\",),\n",
       " ('Fantasy', 'Fiction', 'Novel', 'Science Fiction', 'Speculative fiction'),\n",
       " ('Science Fiction', 'Speculative fiction'),\n",
       " (\"Children's literature\",\n",
       "  'Dystopia',\n",
       "  'Fiction',\n",
       "  'Science Fiction',\n",
       "  'Speculative fiction',\n",
       "  'Utopian and dystopian fiction'),\n",
       " ('Novel',),\n",
       " ('Fantasy', 'High fantasy', 'Speculative fiction'),\n",
       " ('Fantasy', 'Speculative fiction'),\n",
       " ('Fantasy', 'Speculative fiction'),\n",
       " ('Fantasy', 'Speculative fiction'),\n",
       " ('Adventure novel', \"Children's literature\", 'Fiction'),\n",
       " ('Novel',),\n",
       " ('Fantasy', 'Satire', 'Science Fiction', 'Speculative fiction'),\n",
       " ('Comedy', 'Fantasy'),\n",
       " ('Fiction', 'Novel'),\n",
       " ('Fiction', 'Novel', 'Science Fiction', 'Speculative fiction'),\n",
       " ('Fantasy', 'Fiction', 'Science Fiction', 'Speculative fiction'),\n",
       " ('History', 'Novel'),\n",
       " ('Fiction', 'Science Fiction', 'Speculative fiction'),\n",
       " ('Fantasy', 'Fiction', 'Science Fiction'),\n",
       " ('Fiction', 'Science Fiction', 'Speculative fiction'),\n",
       " (\"Children's literature\", 'Fiction', 'Novel'),\n",
       " ('Speculative fiction',),\n",
       " ('Alternate history',\n",
       "  'Dystopia',\n",
       "  'Fantasy',\n",
       "  'Science Fiction',\n",
       "  'Speculative fiction'),\n",
       " (\"Children's literature\",\n",
       "  'Fiction',\n",
       "  'Science Fiction',\n",
       "  'Speculative fiction'),\n",
       " ('Fantasy', 'Fiction', 'Science Fiction', 'Speculative fiction'),\n",
       " (\"Children's literature\",\n",
       "  'Fiction',\n",
       "  'Novel',\n",
       "  'Science Fiction',\n",
       "  'Speculative fiction'),\n",
       " ('Fiction', 'Novel', 'Science Fiction', 'Speculative fiction'),\n",
       " ('Fiction', 'Science Fiction', 'Speculative fiction'),\n",
       " ('Fiction', 'Science Fiction', 'Speculative fiction'),\n",
       " ('Spy fiction',),\n",
       " ('Fiction',\n",
       "  'Mystery',\n",
       "  'Science Fiction',\n",
       "  'Speculative fiction',\n",
       "  'Suspense',\n",
       "  'Techno-thriller'),\n",
       " (\"Children's literature\", 'Fantasy', 'Fiction', 'Speculative fiction'),\n",
       " ('Autobiographical novel',\n",
       "  'Autobiography',\n",
       "  'Fiction',\n",
       "  'Memoir',\n",
       "  'Non-fiction'),\n",
       " ('Novel', 'Speculative fiction'),\n",
       " ('Comedy', 'Fantasy', 'Science Fiction', 'Speculative fiction'),\n",
       " (\"Children's literature\", 'Fantasy', 'Fiction', 'Science Fiction'),\n",
       " (\"Children's literature\", 'Fiction'),\n",
       " ('Fantasy', 'Science Fiction', 'Speculative fiction'),\n",
       " (\"Children's literature\", 'Fantasy', 'Speculative fiction'),\n",
       " (\"Children's literature\", 'Fantasy', 'Speculative fiction'),\n",
       " ('Science Fiction', 'Speculative fiction'),\n",
       " ('Fantasy', 'Fiction', 'Science Fiction', 'Speculative fiction'),\n",
       " (\"Children's literature\",\n",
       "  'Fiction',\n",
       "  'Science Fiction',\n",
       "  'Speculative fiction'),\n",
       " ('Fiction', 'Science Fiction', 'Speculative fiction'),\n",
       " ('Fiction', 'Science Fiction'),\n",
       " ('Fantasy', 'Fiction', 'Novel', 'Science Fiction', 'Speculative fiction'),\n",
       " ('Fantasy', 'Fiction', 'Science Fiction'),\n",
       " ('Fiction', 'Science Fiction', 'Speculative fiction'),\n",
       " ('Science Fiction', 'Speculative fiction'),\n",
       " ('Science Fiction', 'Speculative fiction'),\n",
       " (\"Children's literature\", 'Fantasy', 'Speculative fiction'),\n",
       " ('Fiction', 'Gothic fiction', 'Novel'),\n",
       " ('Adventure novel',\n",
       "  \"Children's literature\",\n",
       "  'Fiction',\n",
       "  'Novel',\n",
       "  'Speculative fiction'),\n",
       " (\"Children's literature\", 'Fiction', 'Mystery', 'Suspense', 'Thriller'),\n",
       " ('Fiction', 'Historical novel'),\n",
       " (\"Children's literature\", 'Fantasy', 'Fiction', 'Speculative fiction'),\n",
       " (\"Children's literature\", 'Novel'),\n",
       " ('Fiction', 'Novel'),\n",
       " ('Fiction', 'Novel'),\n",
       " ('Fiction', 'Mystery', 'Novel', 'Suspense'),\n",
       " ('Science Fiction', 'Speculative fiction'),\n",
       " ('Science Fiction', 'Speculative fiction'),\n",
       " ('Fiction', 'Science Fiction', 'Speculative fiction'),\n",
       " ('Fiction',),\n",
       " ('Dystopia', 'Fiction', 'Novel', 'Science Fiction', 'Speculative fiction'),\n",
       " ('Novel', 'Science Fiction', 'Speculative fiction'),\n",
       " ('Fiction', 'Novel', 'Science Fiction', 'Speculative fiction'),\n",
       " ('Fiction', 'Novel', 'Science Fiction', 'Speculative fiction'),\n",
       " ('Science Fiction', 'Speculative fiction'),\n",
       " ('Fantasy', 'Fiction', 'Novel', 'Science Fiction'),\n",
       " ('Science Fiction',),\n",
       " ('Novel', 'Science Fiction', 'Speculative fiction'),\n",
       " (\"Children's literature\",\n",
       "  'Fantasy',\n",
       "  'Fiction',\n",
       "  'Mystery',\n",
       "  'Science Fiction',\n",
       "  'Speculative fiction'),\n",
       " (\"Children's literature\",\n",
       "  'Fiction',\n",
       "  'Science Fiction',\n",
       "  'Speculative fiction'),\n",
       " ('Fiction', 'Novel', 'Science Fiction', 'Speculative fiction'),\n",
       " ('Fiction', 'Science Fiction', 'Speculative fiction'),\n",
       " (\"Children's literature\",\n",
       "  'Fiction',\n",
       "  'Science Fiction',\n",
       "  'Speculative fiction'),\n",
       " ('Fiction', 'Science Fiction', 'Speculative fiction'),\n",
       " ('Science Fiction',),\n",
       " ('Fiction', 'Spy fiction'),\n",
       " ('Fiction', 'Science Fiction', 'Spy fiction'),\n",
       " ('Fantasy', 'Fiction', 'Novel', 'Science Fiction'),\n",
       " ('Fiction', 'Novel'),\n",
       " ('Fiction', 'Novel'),\n",
       " ('Novel',),\n",
       " (\"Children's literature\",\n",
       "  'Fantasy',\n",
       "  'Fiction',\n",
       "  'Science Fiction',\n",
       "  'Speculative fiction'),\n",
       " ('Autobiographical novel',),\n",
       " ('Fantasy', 'Fiction', 'Novel', 'Romance novel'),\n",
       " ('Fiction', 'Novel'),\n",
       " ('Novel',),\n",
       " ('Fiction',),\n",
       " ('Novella',),\n",
       " ('Fantasy', 'Fiction', 'Novel', 'Speculative fiction'),\n",
       " (\"Children's literature\",\n",
       "  'Fantasy',\n",
       "  'Fiction',\n",
       "  'Science Fiction',\n",
       "  'Speculative fiction'),\n",
       " ('Autobiography',\n",
       "  'Biography',\n",
       "  'Fantasy',\n",
       "  'Fiction',\n",
       "  'Science Fiction',\n",
       "  'Speculative fiction'),\n",
       " ('Autobiography',),\n",
       " ('Novella',),\n",
       " (\"Children's literature\",\n",
       "  'Fantasy',\n",
       "  'Fiction',\n",
       "  'Horror',\n",
       "  'Science Fiction',\n",
       "  'Speculative fiction'),\n",
       " ('Fantasy', 'Fiction', 'Horror', 'Science Fiction', 'Speculative fiction'),\n",
       " (\"Children's literature\", 'Fantasy', 'Fiction', 'Speculative fiction'),\n",
       " (\"Children's literature\",\n",
       "  'Fiction',\n",
       "  'Horror',\n",
       "  'Speculative fiction',\n",
       "  'Thriller'),\n",
       " ('Horror', 'Speculative fiction', 'Thriller'),\n",
       " ('Fiction',),\n",
       " ('Fantasy', 'Horror', 'Speculative fiction'),\n",
       " ('Dystopia', 'Horror', 'Science Fiction', 'Speculative fiction'),\n",
       " ('Fiction',),\n",
       " ('Fiction', 'Novel', 'Science Fiction', 'Speculative fiction'),\n",
       " ('Science Fiction',),\n",
       " ('Fantasy', 'Fiction', 'Speculative fiction'),\n",
       " (\"Children's literature\", 'Fiction', 'Spy fiction'),\n",
       " ('Science Fiction', 'Speculative fiction'),\n",
       " ('Science Fiction', 'Speculative fiction'),\n",
       " ('Science Fiction', 'Speculative fiction'),\n",
       " ('Science Fiction', 'Speculative fiction'),\n",
       " ('Science Fiction', 'Speculative fiction'),\n",
       " ('Dystopia', 'Speculative fiction'),\n",
       " ('Autobiographical novel', 'Fiction'),\n",
       " ('Fiction', 'Speculative fiction'),\n",
       " (\"Children's literature\", 'Fantasy', 'Speculative fiction'),\n",
       " ('Fiction', 'Novel'),\n",
       " ('Historical novel', 'Mystery'),\n",
       " ('Crime Fiction', 'Fiction', 'Mystery', 'Suspense'),\n",
       " ('Fiction', 'Romance novel'),\n",
       " (\"Children's literature\",\n",
       "  'Fantasy',\n",
       "  'Fiction',\n",
       "  'Humour',\n",
       "  'Speculative fiction'),\n",
       " ('Fantasy', 'Fiction', 'Novella'),\n",
       " ('Fiction', 'Speculative fiction'),\n",
       " ('Science Fiction', 'Speculative fiction'),\n",
       " ('Fiction', 'Science Fiction', 'Speculative fiction'),\n",
       " ('Autobiographical novel',),\n",
       " ('Novel',),\n",
       " ('Fiction',),\n",
       " ('Fiction', 'Mystery', 'Suspense'),\n",
       " ('Fiction',),\n",
       " ('Fiction', 'Novel'),\n",
       " ('Fiction', 'Novel'),\n",
       " ('Novel',),\n",
       " (\"Children's literature\", 'Fiction', 'History', 'Novel', 'Romance novel'),\n",
       " ('Fiction', 'Novel'),\n",
       " ('Fiction', 'War novel'),\n",
       " ('Spy fiction',),\n",
       " ('Comedy',\n",
       "  'Comic novel',\n",
       "  'Fantasy',\n",
       "  'Fiction',\n",
       "  'Science Fiction',\n",
       "  'Speculative fiction'),\n",
       " (\"Children's literature\", 'Fantasy', 'Horror', 'Speculative fiction'),\n",
       " (\"Children's literature\", 'Fiction', 'Novel'),\n",
       " ('Alternate history', 'Speculative fiction'),\n",
       " ('Novel',),\n",
       " ('Fiction', 'Novel'),\n",
       " ('Fiction', 'Novel', 'Satire'),\n",
       " ('Novel',),\n",
       " ('Science Fiction', 'Speculative fiction'),\n",
       " ('Fiction', 'Science Fiction', 'Speculative fiction'),\n",
       " ('Adventure novel', 'Fiction', 'Historical novel', 'Romance novel'),\n",
       " ('Satire', 'Science Fiction', 'Speculative fiction'),\n",
       " ('Fiction', 'Novel'),\n",
       " ('Adventure novel', 'Historical novel'),\n",
       " ('Fiction', 'Speculative fiction'),\n",
       " ('Speculative fiction',),\n",
       " ('Novel', 'Thriller'),\n",
       " ('Fiction', 'Novel'),\n",
       " ('Fiction', 'Horror', 'Science Fiction', 'Speculative fiction'),\n",
       " ('Fiction', 'Novel'),\n",
       " ('Fiction',),\n",
       " ('Fantasy', 'Fiction', 'Science Fiction', 'Speculative fiction'),\n",
       " ('Comedy', 'Fiction', 'Science Fiction', 'Speculative fiction'),\n",
       " ('Fiction', 'War novel'),\n",
       " ('Fantasy', 'Fiction', 'Novel', 'Science Fiction', 'Speculative fiction'),\n",
       " ('War novel',),\n",
       " ('Fiction', 'Novel'),\n",
       " ('Dystopia', 'Science Fiction', 'Speculative fiction'),\n",
       " (\"Children's literature\",),\n",
       " (\"Children's literature\",\n",
       "  'Fiction',\n",
       "  'Science Fiction',\n",
       "  'Speculative fiction'),\n",
       " ('Comedy', 'Romance novel', 'Speculative fiction'),\n",
       " ('Fiction', 'Novel'),\n",
       " ('Comedy', 'Fiction'),\n",
       " ('History',),\n",
       " ('Fiction', 'Novel', 'Romance novel'),\n",
       " ('Fiction', 'Novel', 'Romance novel'),\n",
       " ('Fiction',),\n",
       " ('Fiction', 'Historical novel'),\n",
       " ('Crime Fiction', 'Fiction', 'Novel', 'Suspense'),\n",
       " (\"Children's literature\", 'Fiction'),\n",
       " ('Science Fiction', 'Speculative fiction'),\n",
       " ('Gothic fiction', 'Horror', 'Short story'),\n",
       " ('Fiction', 'War novel'),\n",
       " ('Horror', 'Speculative fiction'),\n",
       " ('Dystopia', 'Fiction', 'Horror', 'Science Fiction', 'Speculative fiction'),\n",
       " ('Fiction', 'Speculative fiction', 'Thriller'),\n",
       " ('Science Fiction',),\n",
       " ('Fiction', 'Mystery', 'Suspense'),\n",
       " ('Detective fiction', 'Short story'),\n",
       " ('Fiction',),\n",
       " ('Fiction', 'Historical fiction', 'Historical novel'),\n",
       " ('Fantasy', 'Short story'),\n",
       " ('Fiction',),\n",
       " ('Fiction',),\n",
       " ('Short story',),\n",
       " ('Fiction', 'Novel', 'Romance novel'),\n",
       " ('Fiction', 'Novel', 'Speculative fiction'),\n",
       " ('Detective fiction', 'Mystery'),\n",
       " ('Historical novel',),\n",
       " (\"Children's literature\",\n",
       "  'Fantasy',\n",
       "  'Fiction',\n",
       "  'Gothic fiction',\n",
       "  'Horror',\n",
       "  'Speculative fiction'),\n",
       " ('Fantasy', 'Fiction', 'Gothic fiction', 'Horror', 'Speculative fiction'),\n",
       " ('Adventure novel', 'Fiction', 'Novel'),\n",
       " ('Historical novel', 'Romance novel', 'War novel'),\n",
       " ('Apocalyptic and post-apocalyptic fiction',\n",
       "  'Fiction',\n",
       "  'Novel',\n",
       "  'Science Fiction',\n",
       "  'Speculative fiction',\n",
       "  'Suspense'),\n",
       " ('Novel',),\n",
       " ('Novel',),\n",
       " ('Novel',),\n",
       " ('Fiction', 'Novel', 'Speculative fiction'),\n",
       " ('Fantasy', 'Novel', 'Science Fiction', 'Speculative fiction'),\n",
       " ('Mystery',),\n",
       " ('Fiction', 'Mystery', 'Suspense'),\n",
       " ('Fiction', 'Mystery', 'Suspense'),\n",
       " ('Fiction', 'Mystery', 'Suspense'),\n",
       " ('Fiction', 'Mystery', 'Suspense'),\n",
       " ('Fiction', 'Mystery', 'Suspense'),\n",
       " ('Fiction', 'Mystery', 'Suspense'),\n",
       " ('Detective fiction', 'Mystery'),\n",
       " ('Fiction', 'Mystery', 'Suspense'),\n",
       " ('Fiction',),\n",
       " ('Fantasy', 'Fiction', 'Young adult literature'),\n",
       " ('Historical novel', 'War novel'),\n",
       " ('Fiction', 'Science Fiction', 'Thriller'),\n",
       " ('Science Fiction', 'Speculative fiction'),\n",
       " ('Fiction', 'Science Fiction', 'Speculative fiction'),\n",
       " ('Fiction', 'Science Fiction', 'Speculative fiction'),\n",
       " ('Detective fiction', 'Mystery'),\n",
       " ('Fantasy', 'Fiction', 'Science Fiction', 'Speculative fiction'),\n",
       " ('Non-fiction',),\n",
       " ('Fiction', 'Novel'),\n",
       " ('Novel',),\n",
       " ('Novel',),\n",
       " ('Comedy', 'Comic novel', 'Speculative fiction'),\n",
       " ('Fiction', 'Novel'),\n",
       " ('Fiction', 'Mystery', 'Suspense'),\n",
       " (\"Children's literature\", 'Fiction'),\n",
       " ('Fiction', 'Horror', 'Speculative fiction', 'Suspense'),\n",
       " ('Science Fiction',),\n",
       " ('Speculative fiction',),\n",
       " (\"Children's literature\", 'Fantasy', 'Speculative fiction'),\n",
       " ('Novel',),\n",
       " ('Dystopia', 'Speculative fiction', 'Utopian and dystopian fiction'),\n",
       " ('Spy fiction',),\n",
       " ('Fiction',),\n",
       " ('Apocalyptic and post-apocalyptic fiction',\n",
       "  \"Children's literature\",\n",
       "  'Fiction',\n",
       "  'Science Fiction',\n",
       "  'Speculative fiction'),\n",
       " (\"Children's literature\",\n",
       "  'Fiction',\n",
       "  'Gothic fiction',\n",
       "  'Horror',\n",
       "  'Novel',\n",
       "  'Romance novel',\n",
       "  'Speculative fiction'),\n",
       " ('Crime Fiction',),\n",
       " ('Fantasy', 'Fiction', 'Speculative fiction'),\n",
       " ('Fiction', 'Horror', 'Satire', 'Speculative fiction', 'Suspense'),\n",
       " ('Novel', 'Speculative fiction'),\n",
       " ('Science Fiction', 'Speculative fiction'),\n",
       " ('Autobiography',),\n",
       " ('Fiction', 'Novella'),\n",
       " ('Fiction', 'Historical fiction'),\n",
       " ('Fiction', 'Novel', 'Speculative fiction'),\n",
       " ('Novel',),\n",
       " ('Autobiography', 'Biography', 'Fiction'),\n",
       " ('Spy fiction',),\n",
       " ('Fiction', 'Mystery'),\n",
       " ('Memoir',),\n",
       " ('Fantasy', 'Fiction', 'Science Fiction', 'Speculative fiction'),\n",
       " ('Fantasy', 'Fiction', 'Science Fiction', 'Speculative fiction'),\n",
       " ('Autobiography', 'Fiction'),\n",
       " ('Spy fiction',),\n",
       " ('Novel',),\n",
       " ('Novel',),\n",
       " ('Fiction', 'Science Fiction', 'Speculative fiction'),\n",
       " ('Speculative fiction',),\n",
       " ('Fiction', 'Science Fiction', 'Speculative fiction'),\n",
       " ('Fiction', 'Novel', 'Techno-thriller'),\n",
       " ('Fiction', 'Novel'),\n",
       " ('Science Fiction', 'Speculative fiction'),\n",
       " (\"Children's literature\", 'Fantasy', 'Fiction', 'Speculative fiction'),\n",
       " (\"Children's literature\", 'Fiction'),\n",
       " ('Speculative fiction', 'Techno-thriller', 'Thriller'),\n",
       " ('Fiction', 'Novel'),\n",
       " ('Fiction',),\n",
       " ('Fiction',),\n",
       " ('Fantasy', 'Fiction', 'Science Fiction', 'Speculative fiction'),\n",
       " ('Fiction', 'Historical novel'),\n",
       " (\"Children's literature\",\n",
       "  'Fiction',\n",
       "  'Science Fiction',\n",
       "  'Speculative fiction'),\n",
       " (\"Children's literature\",\n",
       "  'Fantasy',\n",
       "  'Fiction',\n",
       "  'Horror',\n",
       "  'Novel',\n",
       "  'Science Fiction',\n",
       "  'Speculative fiction'),\n",
       " ('Fantasy', 'Fiction', 'Novel', 'Science Fiction', 'Speculative fiction'),\n",
       " ('Non-fiction',),\n",
       " (\"Children's literature\", 'Fantasy', 'Fiction', 'Speculative fiction'),\n",
       " ('Fantasy', 'Fiction', 'Science Fiction', 'Speculative fiction'),\n",
       " ('Historical novel',),\n",
       " (\"Children's literature\", 'Fiction', 'Novel'),\n",
       " ('Fiction', 'Novel', 'Romance novel'),\n",
       " ('Fiction', 'Novel', 'Speculative fiction'),\n",
       " ('Fiction', 'Historical fiction'),\n",
       " (\"Children's literature\", 'Fiction'),\n",
       " (\"Children's literature\", 'Humour'),\n",
       " ('Fantasy', 'Fiction', 'Science Fiction', 'Speculative fiction'),\n",
       " ('Science Fiction',),\n",
       " ('Science Fiction',),\n",
       " ('Fiction',\n",
       "  'Romance novel',\n",
       "  'Science Fiction',\n",
       "  'Speculative fiction',\n",
       "  'Utopian and dystopian fiction'),\n",
       " ('Horror', 'Novel'),\n",
       " ('Fiction', 'Science Fiction', 'Speculative fiction'),\n",
       " ('Novel',),\n",
       " ('Fiction',),\n",
       " ('Science Fiction', 'Speculative fiction'),\n",
       " (\"Children's literature\", 'Crime Fiction', 'Fiction', 'Mystery', 'Suspense'),\n",
       " ('Novel',),\n",
       " ('Non-fiction',),\n",
       " ('Fiction',),\n",
       " ('Fantasy', 'Fiction', 'Science Fiction', 'Speculative fiction'),\n",
       " ('Fantasy', 'Fiction', 'Science Fiction', 'Speculative fiction'),\n",
       " ('Dystopia', 'Science Fiction'),\n",
       " ('Fiction',),\n",
       " ('Fiction', 'Novel', 'Speculative fiction'),\n",
       " ('Science Fiction', 'Speculative fiction'),\n",
       " (\"Children's literature\",),\n",
       " ('Dystopia', 'Fantasy', 'Fiction', 'Science Fiction', 'Speculative fiction'),\n",
       " ('Fiction', 'Speculative fiction'),\n",
       " ('Fantasy', 'Fiction', 'Science Fiction', 'Speculative fiction'),\n",
       " ('Fantasy', 'Fiction', 'Science Fiction', 'Speculative fiction'),\n",
       " ('Science Fiction',),\n",
       " ('Science Fiction',),\n",
       " (\"Children's literature\", 'Fiction', 'Speculative fiction'),\n",
       " ('Fiction', 'Novel', 'Suspense', 'Thriller'),\n",
       " ('Fiction',),\n",
       " ('Fiction', 'Romance novel'),\n",
       " ('Novel',),\n",
       " ('Fiction',),\n",
       " ('Horror', 'Thriller'),\n",
       " ('Crime Fiction', 'Mystery'),\n",
       " (\"Children's literature\", 'Speculative fiction'),\n",
       " ('Dystopia', 'Fantasy', 'Fiction', 'Science Fiction', 'Speculative fiction'),\n",
       " ('Fiction', 'Historical fiction', 'Romance novel'),\n",
       " ('Fiction', 'Historical fiction', 'Romance novel'),\n",
       " ('Fiction', 'Historical novel', 'Speculative fiction'),\n",
       " (\"Children's literature\",\n",
       "  'Fantasy',\n",
       "  'Fiction',\n",
       "  'Horror',\n",
       "  'Science Fiction',\n",
       "  'Speculative fiction'),\n",
       " ('Fiction',),\n",
       " ('Crime Fiction', 'Fiction', 'Mystery', 'Suspense'),\n",
       " ('Fantasy', 'Fiction', 'Young adult literature'),\n",
       " ('Science Fiction', 'Speculative fiction'),\n",
       " ('Fiction', 'Novel'),\n",
       " ('Alternate history',\n",
       "  'Dystopia',\n",
       "  'Speculative fiction',\n",
       "  'Thriller',\n",
       "  'Utopian and dystopian fiction'),\n",
       " (\"Children's literature\", 'Crime Fiction', 'Fiction', 'Mystery', 'Suspense'),\n",
       " ('Crime Fiction', 'Detective fiction', 'Mystery', 'Novel'),\n",
       " ('Fiction',),\n",
       " ('Fiction', 'Novel', 'Speculative fiction'),\n",
       " ('Fiction', 'Novel', 'Science Fiction'),\n",
       " (\"Children's literature\", 'Fiction', 'Historical fiction'),\n",
       " ('Autobiographical novel',),\n",
       " (\"Children's literature\", 'Fiction', 'Romance novel'),\n",
       " (\"Children's literature\", 'Fiction', 'Gothic fiction'),\n",
       " ('Fiction', 'Novel'),\n",
       " ('Fantasy', 'Speculative fiction'),\n",
       " ('Fantasy', 'Speculative fiction'),\n",
       " ('Fantasy', 'Speculative fiction'),\n",
       " ('Fantasy', 'Speculative fiction'),\n",
       " ('Fantasy', 'Speculative fiction'),\n",
       " ('Science Fiction', 'Speculative fiction'),\n",
       " ('Fantasy', 'Novel', 'Science Fiction', 'Speculative fiction'),\n",
       " (\"Children's literature\", 'Fantasy', 'Fiction', 'Speculative fiction'),\n",
       " (\"Children's literature\",\n",
       "  'Fiction',\n",
       "  'Horror',\n",
       "  'Science Fiction',\n",
       "  'Speculative fiction'),\n",
       " ('Fiction',),\n",
       " ('Fiction', 'Science Fiction', 'Speculative fiction'),\n",
       " ('Fiction',),\n",
       " ('Fiction', 'Historical fiction', 'Novel', 'Romance novel'),\n",
       " ('Comic novel', 'Fiction'),\n",
       " ('Dystopia',\n",
       "  'Science Fiction',\n",
       "  'Speculative fiction',\n",
       "  'Utopian and dystopian fiction'),\n",
       " ('Fiction', 'Mystery', 'Novel', 'Suspense', 'Thriller'),\n",
       " (\"Children's literature\",\n",
       "  'Fiction',\n",
       "  'Horror',\n",
       "  'Speculative fiction',\n",
       "  'Suspense'),\n",
       " ('Fiction', 'Novel'),\n",
       " ('Fiction', 'Novel'),\n",
       " ('Science Fiction', 'Speculative fiction'),\n",
       " ('Speculative fiction',),\n",
       " ('Comic novel', 'Fiction'),\n",
       " ('Fiction', 'Novel'),\n",
       " ('Fiction', 'Horror', 'Novella'),\n",
       " ('Historical fiction', 'Romance novel'),\n",
       " ('Fiction', 'Science Fiction', 'Speculative fiction'),\n",
       " ('Speculative fiction',),\n",
       " (\"Children's literature\", 'Fantasy', 'Speculative fiction'),\n",
       " (\"Children's literature\", 'Fantasy', 'Speculative fiction'),\n",
       " ('Fiction',),\n",
       " (\"Children's literature\", 'Crime Fiction', 'Fiction', 'Mystery', 'Suspense'),\n",
       " (\"Children's literature\", 'Crime Fiction', 'Fiction', 'Mystery'),\n",
       " ('Science Fiction',),\n",
       " ('Biography', 'Memoir'),\n",
       " ('Fiction', 'Historical fiction', 'Novel'),\n",
       " ('Fiction', 'Novel'),\n",
       " ('Fiction', 'Science Fiction', 'Speculative fiction'),\n",
       " ('Fiction',),\n",
       " ('Detective fiction', 'Fiction', 'Mystery', 'Suspense'),\n",
       " ('Fiction',),\n",
       " (\"Children's literature\", 'Crime Fiction', 'Fiction', 'Mystery', 'Suspense'),\n",
       " ('Historical novel', 'Romance novel', 'War novel'),\n",
       " ('Romance novel',),\n",
       " ('Novel',),\n",
       " ('Fiction', 'Science Fiction', 'Speculative fiction'),\n",
       " ('Fantasy', 'Fiction', 'Speculative fiction', 'Young adult literature'),\n",
       " ('Comedy', 'Fiction', 'Novel', 'Satire', 'Science Fiction'),\n",
       " ('Novel',),\n",
       " ('Fiction', 'Novel'),\n",
       " ('Fiction', 'Novel', 'Science Fiction', 'Speculative fiction'),\n",
       " ('Fiction', 'Historical novel', 'Spy fiction', 'Suspense', 'Thriller'),\n",
       " ('Speculative fiction',),\n",
       " ('Crime Fiction', 'Fiction', 'Mystery', 'Suspense'),\n",
       " ('Satire',),\n",
       " ('Fantasy', 'Speculative fiction'),\n",
       " ('Novel',),\n",
       " ('Non-fiction',),\n",
       " (\"Children's literature\", 'Fiction', 'Horror', 'Speculative fiction'),\n",
       " ('Novel', 'Speculative fiction'),\n",
       " ('Science Fiction', 'Speculative fiction'),\n",
       " ('Horror', 'Speculative fiction'),\n",
       " ('Novel', 'Speculative fiction'),\n",
       " ('Fiction', 'Science Fiction', 'Speculative fiction'),\n",
       " ('Science Fiction', 'Speculative fiction'),\n",
       " ('Fantasy', 'Speculative fiction'),\n",
       " ('Fantasy', 'Speculative fiction'),\n",
       " ('Fiction', 'Novel'),\n",
       " ('Fantasy', 'Speculative fiction'),\n",
       " ('Fiction', 'Novel'),\n",
       " ('Fiction', 'Novel'),\n",
       " ('Horror', 'Speculative fiction'),\n",
       " (\"Children's literature\", 'Fantasy', 'Speculative fiction'),\n",
       " ('Speculative fiction',),\n",
       " (\"Children's literature\", 'Fiction', 'Speculative fiction'),\n",
       " ('Comedy', 'Fantasy', 'Fiction', 'Science Fiction', 'Speculative fiction'),\n",
       " ('Fantasy', 'Fiction', 'Science Fiction', 'Speculative fiction'),\n",
       " ('Fiction', 'Novel', 'Speculative fiction'),\n",
       " ('Spy fiction', 'Thriller'),\n",
       " ('Detective fiction', 'Fiction', 'Mystery'),\n",
       " ('Fiction', 'Novel', 'Romance novel'),\n",
       " ('Autobiography', 'Fiction', 'Novel'),\n",
       " ('Novel', 'Satire'),\n",
       " ('Fiction',),\n",
       " ('Novel',),\n",
       " ('Spy fiction',),\n",
       " ('Apocalyptic and post-apocalyptic fiction',\n",
       "  \"Children's literature\",\n",
       "  'Fiction',\n",
       "  'Horror',\n",
       "  'Novel',\n",
       "  'Science Fiction',\n",
       "  'Speculative fiction'),\n",
       " ('Spy fiction',),\n",
       " ('Mystery', 'Speculative fiction'),\n",
       " (\"Children's literature\", 'Speculative fiction'),\n",
       " (\"Children's literature\", 'Fiction'),\n",
       " ('Novel',),\n",
       " ('Fiction', 'Humour'),\n",
       " ('Science Fiction', 'Speculative fiction'),\n",
       " ('Fiction',),\n",
       " ('Science Fiction', 'Speculative fiction'),\n",
       " (\"Children's literature\", 'Crime Fiction', 'Fiction', 'Mystery', 'Suspense'),\n",
       " ('Alternate history', 'Novel', 'Science Fiction', 'Speculative fiction'),\n",
       " ('Fiction', 'Novel', 'Thriller'),\n",
       " (\"Children's literature\", 'Fantasy'),\n",
       " ('Fantasy', 'Fiction', 'Novel', 'Science Fiction', 'Speculative fiction'),\n",
       " (\"Children's literature\", 'Speculative fiction'),\n",
       " ('Fantasy', 'Speculative fiction', 'Young adult literature'),\n",
       " ('Novel',),\n",
       " ('Fiction', 'Novel', 'Science Fiction', 'Speculative fiction'),\n",
       " ('Fiction', 'Novel', 'Science Fiction', 'Speculative fiction'),\n",
       " ('Non-fiction',),\n",
       " ('Fiction', 'Novel', 'Thriller'),\n",
       " ('Fiction', 'Novel'),\n",
       " ('Novel',),\n",
       " ('Fiction', 'Novel', 'Speculative fiction'),\n",
       " ('Crime Fiction',),\n",
       " ('Autobiographical novel', 'Fiction', 'Historical fiction', 'War novel'),\n",
       " ('Fiction', 'Humour'),\n",
       " ('Novel', 'War novel'),\n",
       " ('Science Fiction', 'Speculative fiction'),\n",
       " (\"Children's literature\", 'Fiction'),\n",
       " ('Fiction', 'Science Fiction', 'Speculative fiction'),\n",
       " (\"Children's literature\",\n",
       "  'Fiction',\n",
       "  'Novel',\n",
       "  'Science Fiction',\n",
       "  'Speculative fiction'),\n",
       " (\"Children's literature\",\n",
       "  'Fiction',\n",
       "  'Science Fiction',\n",
       "  'Speculative fiction'),\n",
       " ('History',),\n",
       " ('Historical novel',),\n",
       " ('Dystopia', 'Science Fiction', 'Speculative fiction'),\n",
       " ('Fiction', 'Novel'),\n",
       " ('Fiction', 'Science Fiction', 'Speculative fiction'),\n",
       " ('Fiction', 'Suspense', 'Thriller'),\n",
       " ('Fiction', 'Novel'),\n",
       " ('Novel',),\n",
       " ('Fiction', 'Novel', 'Satire'),\n",
       " ('Fiction', 'Novel', 'Speculative fiction'),\n",
       " ('Fiction', 'Speculative fiction', 'War novel'),\n",
       " ('Novel', 'Satire'),\n",
       " ('Fantasy', 'Fiction', 'Science Fiction', 'Speculative fiction'),\n",
       " ('Horror', 'Short story'),\n",
       " ('Fantasy', 'Speculative fiction'),\n",
       " ('Crime Fiction', 'Mystery'),\n",
       " ('Crime Fiction', 'Fiction'),\n",
       " ('Horror', 'Speculative fiction'),\n",
       " ('Science Fiction', 'Speculative fiction'),\n",
       " ('Science Fiction', 'Speculative fiction'),\n",
       " ('Science Fiction', 'Speculative fiction'),\n",
       " ('Fiction', 'Novel'),\n",
       " ('Fiction', 'Historical novel', 'Science Fiction', 'Speculative fiction'),\n",
       " (\"Children's literature\",\n",
       "  'Fantasy',\n",
       "  'Fiction',\n",
       "  'Horror',\n",
       "  'Science Fiction',\n",
       "  'Speculative fiction'),\n",
       " ('Fantasy', 'Fiction', 'Science Fiction', 'Speculative fiction'),\n",
       " ('Fantasy', 'Fiction', 'Science Fiction', 'Speculative fiction', 'Suspense'),\n",
       " ('Science Fiction',),\n",
       " ('Fantasy', 'Fiction', 'Science Fiction'),\n",
       " ('Crime Fiction', 'Fiction', 'Mystery', 'Suspense'),\n",
       " ('Fiction', 'Speculative fiction'),\n",
       " ('Fiction', 'Novel', 'Science Fiction', 'Speculative fiction'),\n",
       " ('Fantasy', 'Fiction', 'Science Fiction', 'Speculative fiction'),\n",
       " ('Comedy', 'Fantasy', 'Fiction', 'Science Fiction', 'Speculative fiction'),\n",
       " ('Fantasy', 'Fiction', 'Science Fiction', 'Speculative fiction'),\n",
       " ('Speculative fiction',),\n",
       " ('Novel',),\n",
       " ('Fiction', 'Science Fiction', 'Speculative fiction'),\n",
       " (\"Children's literature\",\n",
       "  'Fantasy',\n",
       "  'Fiction',\n",
       "  'Science Fiction',\n",
       "  'Speculative fiction'),\n",
       " ('Fantasy', 'Fiction', 'Science Fiction'),\n",
       " (\"Children's literature\",\n",
       "  'Comedy',\n",
       "  'Fiction',\n",
       "  'Speculative fiction',\n",
       "  'Young adult literature'),\n",
       " ('Alternate history', 'Science Fiction', 'Speculative fiction'),\n",
       " ('Fiction', 'Science Fiction', 'Speculative fiction'),\n",
       " ('Fiction', 'Science Fiction', 'Speculative fiction'),\n",
       " ('Fiction',),\n",
       " ('Fantasy', 'Fiction', 'Science Fiction', 'Speculative fiction'),\n",
       " ('Fiction', 'Novel'),\n",
       " ('Fantasy', 'Speculative fiction'),\n",
       " ('Alternate history',\n",
       "  'Fiction',\n",
       "  'Historical fiction',\n",
       "  'Science Fiction',\n",
       "  'Speculative fiction'),\n",
       " (\"Children's literature\", 'Fantasy', 'Speculative fiction'),\n",
       " ('Fiction', 'Science Fiction', 'Speculative fiction'),\n",
       " ('Fiction', 'Novel', 'Speculative fiction'),\n",
       " ('Fiction', 'Novel'),\n",
       " ('Spy fiction',),\n",
       " ('Novel', 'Science Fiction', 'Speculative fiction'),\n",
       " (\"Children's literature\", 'Fiction', 'Novel', 'Romance novel', 'Suspense'),\n",
       " ('Dystopia', 'Novel', 'Science Fiction', 'Speculative fiction'),\n",
       " ('Fiction', 'Novel'),\n",
       " ('Science Fiction', 'Speculative fiction'),\n",
       " ('Autobiography', 'Biography'),\n",
       " ('Adventure novel', \"Children's literature\", 'Fiction', 'Suspense'),\n",
       " (\"Children's literature\",\n",
       "  'Fantasy',\n",
       "  'Fiction',\n",
       "  'Science Fiction',\n",
       "  'Speculative fiction'),\n",
       " ('Biography',),\n",
       " ('Fantasy', 'Fiction', 'Speculative fiction'),\n",
       " ('Fantasy', 'Fiction', 'Novel', 'Suspense'),\n",
       " ('Novel',),\n",
       " (\"Children's literature\", 'Fantasy', 'Speculative fiction'),\n",
       " (\"Children's literature\", 'Fantasy', 'Speculative fiction'),\n",
       " (\"Children's literature\", 'Crime Fiction', 'Fiction', 'Mystery', 'Suspense'),\n",
       " ('Fiction', 'Novel'),\n",
       " ('Novel',),\n",
       " ('Dystopia', 'Science Fiction', 'Speculative fiction'),\n",
       " ('Fiction', 'Novel', 'Satire'),\n",
       " ('Fiction',),\n",
       " ('Autobiographical novel', 'Fiction', 'Historical fiction'),\n",
       " ('Fiction', 'Science Fiction', 'Speculative fiction'),\n",
       " ('Novel', 'Speculative fiction'),\n",
       " (\"Children's literature\", 'Fiction'),\n",
       " ('Novel',),\n",
       " ('Fiction', 'Novel'),\n",
       " ('Memoir', 'Non-fiction'),\n",
       " ('Novel', 'Science Fiction', 'Speculative fiction'),\n",
       " (\"Children's literature\", 'Speculative fiction'),\n",
       " (\"Children's literature\", 'Fantasy', 'Speculative fiction'),\n",
       " ('Fiction',\n",
       "  'Mystery',\n",
       "  'Science Fiction',\n",
       "  'Speculative fiction',\n",
       "  'Suspense',\n",
       "  'Techno-thriller'),\n",
       " (\"Children's literature\", 'Fantasy', 'Speculative fiction'),\n",
       " ('Science Fiction', 'Speculative fiction'),\n",
       " ('Fantasy', 'Fiction', 'Science Fiction', 'Speculative fiction'),\n",
       " ('Historical novel',),\n",
       " (\"Children's literature\", 'Fantasy', 'Speculative fiction'),\n",
       " ('Fiction', 'Science Fiction', 'Speculative fiction'),\n",
       " (\"Children's literature\", 'Fiction', 'Novel'),\n",
       " (\"Children's literature\", 'Fantasy', 'Speculative fiction'),\n",
       " ('Fiction', 'Science Fiction', 'Speculative fiction'),\n",
       " (\"Children's literature\", 'Fantasy', 'Speculative fiction'),\n",
       " ('Romance novel',),\n",
       " ('Fantasy', 'Science Fiction', 'Speculative fiction'),\n",
       " ('Novel',),\n",
       " ('Science Fiction', 'Speculative fiction'),\n",
       " (\"Children's literature\",\n",
       "  'Fantasy',\n",
       "  'Fiction',\n",
       "  'Science Fiction',\n",
       "  'Speculative fiction'),\n",
       " (\"Children's literature\", 'Fiction', 'Novel', 'Speculative fiction'),\n",
       " ('Detective fiction', 'Mystery'),\n",
       " (\"Children's literature\", 'Fantasy', 'Speculative fiction'),\n",
       " ('Fiction', 'Novel'),\n",
       " (\"Children's literature\", 'Fantasy', 'Speculative fiction'),\n",
       " ('Fantasy', 'Science Fiction', 'Speculative fiction'),\n",
       " (\"Children's literature\", 'Fiction', 'Novel'),\n",
       " (\"Children's literature\",),\n",
       " ('Science Fiction', 'Speculative fiction'),\n",
       " (\"Children's literature\", 'Fiction', 'Novel', 'Romance novel'),\n",
       " (\"Children's literature\", 'Fantasy', 'Speculative fiction'),\n",
       " (\"Children's literature\",\n",
       "  'Fantasy',\n",
       "  'Fiction',\n",
       "  'Science Fiction',\n",
       "  'Speculative fiction'),\n",
       " ('Fantasy', 'Fiction', 'Science Fiction', 'Speculative fiction'),\n",
       " (\"Children's literature\", 'Fantasy', 'Speculative fiction'),\n",
       " (\"Children's literature\", 'Fiction', 'Young adult literature'),\n",
       " ('Fiction', 'Novel', 'Speculative fiction'),\n",
       " ('War novel',),\n",
       " ('Autobiography', 'Biography', \"Children's literature\", 'Fiction', 'Novel'),\n",
       " (\"Children's literature\", 'Fiction', 'Horror', 'Speculative fiction'),\n",
       " ('Gothic fiction',),\n",
       " ('Fantasy', 'Fiction', 'Science Fiction', 'Speculative fiction'),\n",
       " ('Crime Fiction', 'Fiction', 'Mystery', 'Speculative fiction', 'Suspense'),\n",
       " (\"Children's literature\", 'Speculative fiction'),\n",
       " ('Crime Fiction', 'Mystery', 'Novel', 'Suspense'),\n",
       " ('Fiction', 'Speculative fiction'),\n",
       " ('Novel',),\n",
       " ('Fiction', 'Historical fiction', 'Novel'),\n",
       " (\"Children's literature\",),\n",
       " ('Gothic fiction', 'Horror', 'Speculative fiction'),\n",
       " ('Fiction',),\n",
       " ('Crime Fiction', 'Fiction', 'Mystery', 'Novel', 'Suspense'),\n",
       " ('Fiction', 'Mystery', 'Spy fiction', 'Suspense', 'Thriller'),\n",
       " ('Novel', 'Science Fiction', 'Speculative fiction'),\n",
       " (\"Children's literature\", 'Fantasy', 'Fiction', 'Speculative fiction'),\n",
       " ('Novel', 'Science Fiction', 'Speculative fiction'),\n",
       " ('Fiction', 'Historical novel', 'History'),\n",
       " (\"Children's literature\",\n",
       "  'Fiction',\n",
       "  'Mystery',\n",
       "  'Novel',\n",
       "  'Romance novel',\n",
       "  'Suspense'),\n",
       " ('Fiction', 'Horror', 'Satire', 'Speculative fiction'),\n",
       " ('Comic novel', 'Fiction', 'Novel'),\n",
       " ('Science Fiction', 'Speculative fiction'),\n",
       " ('Science Fiction', 'Speculative fiction'),\n",
       " ('History', 'Mystery', 'Novel'),\n",
       " (\"Children's literature\", 'Fiction', 'Historical fiction'),\n",
       " (\"Children's literature\",\n",
       "  'Fiction',\n",
       "  'Science Fiction',\n",
       "  'Speculative fiction'),\n",
       " ('Fiction',),\n",
       " ('Fiction', 'Historical fiction'),\n",
       " ('Fiction', 'Novel'),\n",
       " ('Novel',),\n",
       " ('Crime Fiction', 'Fiction', 'Mystery'),\n",
       " ('Autobiography', 'Novel'),\n",
       " (\"Children's literature\",\n",
       "  'Fiction',\n",
       "  'Mystery',\n",
       "  'Science Fiction',\n",
       "  'Speculative fiction'),\n",
       " ('Fiction', 'Mystery', 'Novel', 'Speculative fiction', 'Thriller'),\n",
       " ('Fiction', 'Mystery', 'Suspense', 'Thriller'),\n",
       " ('Fantasy', 'Speculative fiction'),\n",
       " ('Fiction',\n",
       "  'Horror',\n",
       "  'Science Fiction',\n",
       "  'Speculative fiction',\n",
       "  'Techno-thriller',\n",
       "  'Thriller'),\n",
       " ('Novel',),\n",
       " ('Fiction', 'Novel'),\n",
       " (\"Children's literature\",\n",
       "  'Fiction',\n",
       "  'Mystery',\n",
       "  'Science Fiction',\n",
       "  'Speculative fiction'),\n",
       " (\"Children's literature\", 'Crime Fiction', 'Fiction', 'Mystery', 'Suspense'),\n",
       " (\"Children's literature\", 'Fantasy', 'Fiction', 'Speculative fiction'),\n",
       " (\"Children's literature\", 'Fantasy', 'Speculative fiction'),\n",
       " ('Fantasy', 'Speculative fiction'),\n",
       " ('Fantasy', 'Fiction', 'Speculative fiction'),\n",
       " ('Fantasy', 'Fiction', 'Speculative fiction'),\n",
       " ('Dystopia',\n",
       "  'Fantasy',\n",
       "  'Fiction',\n",
       "  'Science Fiction',\n",
       "  'Speculative fiction',\n",
       "  'Utopian and dystopian fiction'),\n",
       " (\"Children's literature\", 'Fiction'),\n",
       " ('Novel',),\n",
       " (\"Children's literature\",\n",
       "  'Fiction',\n",
       "  'Novel',\n",
       "  'Science Fiction',\n",
       "  'Speculative fiction'),\n",
       " (\"Children's literature\",),\n",
       " ('Fiction', 'Novel'),\n",
       " ('Fiction', 'Science Fiction', 'Speculative fiction'),\n",
       " ('Fiction', 'Novel', 'Science Fiction', 'Speculative fiction'),\n",
       " ('Fiction', 'Novel'),\n",
       " (\"Children's literature\", 'Fantasy', 'Speculative fiction'),\n",
       " (\"Children's literature\", 'Fantasy', 'Speculative fiction'),\n",
       " ('Fiction', 'Novel', 'Speculative fiction'),\n",
       " ('Fantasy', 'Fiction', 'Science Fiction', 'Speculative fiction'),\n",
       " ('Alternate history', 'Fantasy', 'Science Fiction', 'Speculative fiction'),\n",
       " ('Fiction',),\n",
       " ('Non-fiction',),\n",
       " (\"Children's literature\", 'Fiction', 'Novella'),\n",
       " ('Novel',),\n",
       " (\"Children's literature\",\n",
       "  'Fiction',\n",
       "  'Speculative fiction',\n",
       "  'Young adult literature'),\n",
       " ('Fiction',),\n",
       " ('Crime Fiction', 'Mystery', 'Suspense'),\n",
       " ('Fantasy', 'Fiction', 'Science Fiction', 'Speculative fiction'),\n",
       " ('Fiction', 'Novel'),\n",
       " ('Fiction',),\n",
       " ('Fiction', 'Science Fiction', 'Speculative fiction'),\n",
       " ('Non-fiction',),\n",
       " ('Horror', 'Satire', 'Speculative fiction', 'Thriller'),\n",
       " ('Fiction', 'Novel'),\n",
       " ('Alternate history', 'Fiction', 'Science Fiction', 'Speculative fiction'),\n",
       " ('Fiction', 'Science Fiction', 'Speculative fiction'),\n",
       " ('Fiction', 'Science Fiction', 'Speculative fiction'),\n",
       " ('War novel',),\n",
       " ('Adventure novel', \"Children's literature\", 'Fiction'),\n",
       " ('Fiction', 'Short story', 'Speculative fiction'),\n",
       " ('Fantasy', 'Fiction', 'Science Fiction', 'Speculative fiction'),\n",
       " ('Historical novel',),\n",
       " (\"Children's literature\", 'Fantasy', 'Fiction', 'Speculative fiction'),\n",
       " ('Novel',),\n",
       " ('Fiction', 'Mystery', 'Novel', 'Suspense'),\n",
       " ('Fiction', 'Novel', 'Speculative fiction'),\n",
       " ('Detective fiction', 'Mystery'),\n",
       " ('Novel',),\n",
       " ('Alternate history', 'Fiction', 'Novel'),\n",
       " ('Comedy', 'Comic novel'),\n",
       " ('Fiction', 'Mystery', 'Suspense'),\n",
       " ('Mystery', 'Suspense'),\n",
       " ('Dystopia', 'Fiction', 'Science Fiction', 'Speculative fiction'),\n",
       " ('Science Fiction', 'Speculative fiction'),\n",
       " ('Science Fiction', 'Speculative fiction'),\n",
       " ('Fantasy', 'Fiction', 'Speculative fiction'),\n",
       " (\"Children's literature\",\n",
       "  'Fantasy',\n",
       "  'Fiction',\n",
       "  'Humour',\n",
       "  'Speculative fiction'),\n",
       " ('Fiction', 'Science Fiction'),\n",
       " ('Fiction', 'Mystery', 'Speculative fiction', 'Suspense'),\n",
       " ('Non-fiction',),\n",
       " ('Fiction', 'Science Fiction', 'Speculative fiction'),\n",
       " ('Science Fiction', 'Speculative fiction'),\n",
       " ('Fiction', 'Science Fiction', 'Speculative fiction'),\n",
       " ('Science Fiction', 'Speculative fiction'),\n",
       " ('Science Fiction', 'Speculative fiction'),\n",
       " ('Science Fiction', 'Speculative fiction'),\n",
       " ('Science Fiction',),\n",
       " ('Fiction', 'Historical novel', 'Novel'),\n",
       " ('Alternate history',\n",
       "  'Fantasy',\n",
       "  'Fiction',\n",
       "  'Mystery',\n",
       "  'Speculative fiction',\n",
       "  'Suspense'),\n",
       " ('Fiction',),\n",
       " ('Fantasy', 'Speculative fiction'),\n",
       " ('Fiction', 'Novel', 'Science Fiction', 'Speculative fiction'),\n",
       " ('Fiction', 'Science Fiction', 'Speculative fiction'),\n",
       " ('Fiction', 'Science Fiction', 'Speculative fiction'),\n",
       " ('Dystopia',\n",
       "  'Satire',\n",
       "  'Speculative fiction',\n",
       "  'Utopian and dystopian fiction'),\n",
       " ('Fiction', 'Novel'),\n",
       " ('Novel', 'Science Fiction', 'Speculative fiction'),\n",
       " ('Fantasy', 'Fiction', 'Mystery', 'Suspense'),\n",
       " ('Speculative fiction',),\n",
       " ('Spy fiction',),\n",
       " ('Novel',),\n",
       " ('Horror',),\n",
       " ('Science Fiction', 'Speculative fiction'),\n",
       " ('Horror', 'Speculative fiction'),\n",
       " (\"Children's literature\", 'Fantasy', 'Fiction', 'Speculative fiction'),\n",
       " ('Romance novel',),\n",
       " ('Historical novel',),\n",
       " ('Fantasy', 'Fiction', 'Science Fiction', 'Speculative fiction'),\n",
       " ('Fiction', 'Novel', 'Speculative fiction'),\n",
       " ('Science Fiction', 'Speculative fiction'),\n",
       " ('Science Fiction', 'Speculative fiction'),\n",
       " ('Science Fiction', 'Speculative fiction'),\n",
       " ('Fantasy', 'Fiction', 'Science Fiction', 'Speculative fiction', 'Suspense'),\n",
       " ('Fiction', 'Science Fiction', 'Speculative fiction'),\n",
       " ('Dystopia', 'Fantasy', 'Science Fiction', 'Speculative fiction'),\n",
       " ('Fiction', 'Novel'),\n",
       " ('Science Fiction',),\n",
       " ('Novel', 'Thriller'),\n",
       " ('Fiction', 'Novel', 'Science Fiction', 'Speculative fiction'),\n",
       " ('Fiction', 'Novel', 'Novella'),\n",
       " ('Fantasy', 'Speculative fiction', 'Young adult literature'),\n",
       " (\"Children's literature\",),\n",
       " ('Fantasy',\n",
       "  'Fiction',\n",
       "  'Historical fiction',\n",
       "  'Historical novel',\n",
       "  'Romance novel',\n",
       "  'Speculative fiction'),\n",
       " ('Novel', 'Science Fiction'),\n",
       " ('Non-fiction',),\n",
       " ('Historical novel', 'Novel', 'Romance novel', 'Spy fiction', 'Thriller'),\n",
       " ('Non-fiction',),\n",
       " ('Dystopia', 'Speculative fiction', 'Utopian and dystopian fiction'),\n",
       " ('Fiction', 'Science Fiction'),\n",
       " ('Science Fiction', 'Speculative fiction'),\n",
       " (\"Children's literature\", 'Fiction'),\n",
       " ('Autobiographical novel', \"Children's literature\", 'Fiction'),\n",
       " ('Fiction', 'Speculative fiction', 'Thriller'),\n",
       " ('Fiction', 'Science Fiction', 'Speculative fiction'),\n",
       " ('Comedy', 'Comic novel', 'Fiction'),\n",
       " ('Fiction', 'Novel', 'Science Fiction', 'Speculative fiction'),\n",
       " ('Fiction', 'Novel', 'Romance novel'),\n",
       " ('Historical novel',),\n",
       " (\"Children's literature\",\n",
       "  'Fantasy',\n",
       "  'Fiction',\n",
       "  'Science Fiction',\n",
       "  'Speculative fiction'),\n",
       " (\"Children's literature\",\n",
       "  'Fantasy',\n",
       "  'Fiction',\n",
       "  'Science Fiction',\n",
       "  'Speculative fiction'),\n",
       " ('Comedy', 'Comic novel', 'Fiction', 'Speculative fiction'),\n",
       " ('Fiction',\n",
       "  'Science Fiction',\n",
       "  'Speculative fiction',\n",
       "  'Utopian and dystopian fiction'),\n",
       " ('Speculative fiction',),\n",
       " ('Dystopia',\n",
       "  'Fiction',\n",
       "  'Science Fiction',\n",
       "  'Speculative fiction',\n",
       "  'Utopian and dystopian fiction'),\n",
       " ('Crime Fiction', 'Mystery'),\n",
       " ('Novella',),\n",
       " ('Crime Fiction', 'Fiction', 'Mystery', 'Suspense'),\n",
       " (\"Children's literature\",),\n",
       " ('Fiction', 'Horror', 'Speculative fiction', 'Suspense'),\n",
       " (\"Children's literature\",\n",
       "  'Fiction',\n",
       "  'Horror',\n",
       "  'Mystery',\n",
       "  'Science Fiction',\n",
       "  'Speculative fiction',\n",
       "  'Thriller'),\n",
       " ('Horror', 'Speculative fiction'),\n",
       " ('Horror', 'Science Fiction', 'Speculative fiction'),\n",
       " ('Alternate history', 'Fiction', 'Science Fiction', 'Speculative fiction'),\n",
       " ('Dystopia',\n",
       "  'Novel',\n",
       "  'Science Fiction',\n",
       "  'Speculative fiction',\n",
       "  'Utopian and dystopian fiction'),\n",
       " ('Fiction', 'Novel', 'Speculative fiction', 'Techno-thriller', 'Thriller'),\n",
       " ('Adventure novel',),\n",
       " ('Fiction', 'Speculative fiction', 'Techno-thriller'),\n",
       " ('Novel',),\n",
       " ('Dystopia', 'Fiction', 'Utopian and dystopian fiction'),\n",
       " ('Fiction', 'Novel', 'Speculative fiction'),\n",
       " (\"Children's literature\", 'Fiction', 'Novel'),\n",
       " ('Crime Fiction', 'Mystery'),\n",
       " ('Crime Fiction', 'Fiction', 'Mystery', 'Suspense'),\n",
       " (\"Children's literature\", 'Fiction', 'Novel'),\n",
       " ('Horror',),\n",
       " ('Non-fiction',),\n",
       " ('Fiction',),\n",
       " ('Novel', 'Science Fiction', 'Speculative fiction'),\n",
       " ('Adventure novel',\n",
       "  \"Children's literature\",\n",
       "  'Fiction',\n",
       "  'Historical fiction',\n",
       "  'Historical novel',\n",
       "  'Romance novel',\n",
       "  'Speculative fiction'),\n",
       " (\"Children's literature\",\n",
       "  'Fantasy',\n",
       "  'Fiction',\n",
       "  'Science Fiction',\n",
       "  'Speculative fiction',\n",
       "  'Suspense'),\n",
       " ('Fiction',),\n",
       " ('Fantasy', 'Speculative fiction'),\n",
       " ('Fantasy', 'Speculative fiction'),\n",
       " ('Fantasy', 'Speculative fiction'),\n",
       " ('History', 'Novel'),\n",
       " ('Fiction', 'Novel'),\n",
       " ('Fantasy', 'Fiction', 'Science Fiction', 'Speculative fiction'),\n",
       " ('Fantasy', 'Fiction', 'Science Fiction', 'Speculative fiction'),\n",
       " ('Fantasy', 'Fiction', 'Speculative fiction'),\n",
       " ('Fantasy', 'Fiction', 'Science Fiction', 'Speculative fiction'),\n",
       " ('Fiction', 'Science Fiction', 'Speculative fiction'),\n",
       " ('Non-fiction',),\n",
       " (\"Children's literature\", 'Fiction', 'Suspense', 'Young adult literature'),\n",
       " (\"Children's literature\",\n",
       "  'Fantasy',\n",
       "  'Science Fiction',\n",
       "  'Speculative fiction',\n",
       "  'Young adult literature'),\n",
       " ('Fantasy', 'Speculative fiction'),\n",
       " (\"Children's literature\",\n",
       "  'Fiction',\n",
       "  'Speculative fiction',\n",
       "  'Young adult literature'),\n",
       " (\"Children's literature\", 'Fiction', 'Novel', 'Speculative fiction'),\n",
       " ('Fiction', 'Novel', 'Speculative fiction'),\n",
       " ('Novel',),\n",
       " ('Fiction', 'Science Fiction', 'Speculative fiction'),\n",
       " ('Thriller',),\n",
       " ('Fiction', 'Novel', 'Thriller'),\n",
       " ('Crime Fiction', 'Fiction', 'Mystery', 'Suspense'),\n",
       " (\"Children's literature\",),\n",
       " ('Detective fiction', 'Fiction'),\n",
       " (\"Children's literature\", 'Fantasy', 'Speculative fiction'),\n",
       " ('Novel',),\n",
       " ('Fiction', 'Novel'),\n",
       " ('Science Fiction', 'Short story'),\n",
       " ('Fantasy', 'Fiction', 'Speculative fiction'),\n",
       " ('Fiction', 'Historical fiction', 'Historical novel', 'Speculative fiction'),\n",
       " ('Alternate history',),\n",
       " ('Novel',),\n",
       " ('Fantasy', 'Fiction', 'Science Fiction', 'Speculative fiction'),\n",
       " ('Biography', \"Children's literature\"),\n",
       " ('Young adult literature',),\n",
       " ('Alternate history',),\n",
       " ('Speculative fiction',),\n",
       " (\"Children's literature\", 'Fiction'),\n",
       " ('Fiction', 'Thriller'),\n",
       " (\"Children's literature\",),\n",
       " ('Thriller',),\n",
       " ('Speculative fiction',),\n",
       " ('Fantasy', 'Fiction', 'Science Fiction', 'Speculative fiction'),\n",
       " ('Science Fiction',),\n",
       " ('Science Fiction', 'Speculative fiction'),\n",
       " ('Comedy', 'Fiction', 'Novel', 'Satire'),\n",
       " (\"Children's literature\", 'Fantasy', 'Fiction', 'Horror', 'Romance novel'),\n",
       " ('Fantasy', 'Fiction', 'Science Fiction', 'Speculative fiction'),\n",
       " ('Speculative fiction',),\n",
       " ('Dystopia', 'Fantasy', 'Fiction', 'Novel', 'Science Fiction'),\n",
       " ('Novel', 'Speculative fiction'),\n",
       " ('Fiction', 'Science Fiction', 'Speculative fiction'),\n",
       " ('Novel', 'Science Fiction', 'Speculative fiction'),\n",
       " ('Novel', 'Science Fiction', 'Speculative fiction'),\n",
       " ('Novel',),\n",
       " ('Novel',),\n",
       " ('Young adult literature',),\n",
       " ('Novella',),\n",
       " (\"Children's literature\",\n",
       "  'Fantasy',\n",
       "  'Fiction',\n",
       "  'High fantasy',\n",
       "  'Science Fiction',\n",
       "  'Speculative fiction',\n",
       "  'Young adult literature'),\n",
       " ('Science Fiction',),\n",
       " ('Science Fiction', 'Speculative fiction'),\n",
       " ('Fiction', 'Novel', 'Speculative fiction'),\n",
       " ('Fiction', 'Novel', 'Suspense'),\n",
       " ('Science Fiction', 'Speculative fiction'),\n",
       " ('Science Fiction', 'Speculative fiction'),\n",
       " ('Science Fiction', 'Speculative fiction', 'Utopian and dystopian fiction'),\n",
       " ('Fantasy', 'Fiction', 'Science Fiction', 'Speculative fiction'),\n",
       " ('Fantasy', 'Fiction', 'Science Fiction', 'Speculative fiction'),\n",
       " ('Fiction', 'Novel'),\n",
       " ('Alternate history', 'Fantasy', 'Fiction', 'Speculative fiction'),\n",
       " ('Science Fiction',),\n",
       " ('Science Fiction',),\n",
       " ('Science Fiction',),\n",
       " (\"Children's literature\", 'Fiction'),\n",
       " ('Science Fiction', 'Speculative fiction'),\n",
       " ('Fantasy', 'Speculative fiction'),\n",
       " ('Science Fiction', 'Speculative fiction'),\n",
       " ('Novel', 'Science Fiction', 'Speculative fiction'),\n",
       " ('Adventure novel',),\n",
       " ('Fantasy', 'Fiction', 'Science Fiction', 'Speculative fiction'),\n",
       " ('Novel',),\n",
       " ('Science Fiction',),\n",
       " ('Fantasy', 'Fiction', 'Science Fiction', 'Speculative fiction'),\n",
       " ('Speculative fiction',),\n",
       " (\"Children's literature\", 'Fantasy', 'Speculative fiction'),\n",
       " (\"Children's literature\", 'Young adult literature'),\n",
       " ('Fiction', 'Novel'),\n",
       " ('Fiction', 'Novel', 'Speculative fiction'),\n",
       " ('Fiction', 'Mystery', 'Speculative fiction', 'Suspense'),\n",
       " ('Fiction', 'Novel'),\n",
       " ('Fiction', 'Historical fiction', 'Historical novel'),\n",
       " ('Non-fiction',),\n",
       " (\"Children's literature\", 'Speculative fiction'),\n",
       " ('Fiction', 'Novel'),\n",
       " (\"Children's literature\",\n",
       "  'Fantasy',\n",
       "  'Fiction',\n",
       "  'Horror',\n",
       "  'Speculative fiction'),\n",
       " ('Crime Fiction', 'Novel', 'Speculative fiction'),\n",
       " (\"Children's literature\",\n",
       "  'Fantasy',\n",
       "  'Fiction',\n",
       "  'Science Fiction',\n",
       "  'Speculative fiction'),\n",
       " ('Fiction',),\n",
       " ('Science Fiction', 'Speculative fiction'),\n",
       " ('Dystopia', 'Fantasy', 'Fiction', 'Science Fiction', 'Speculative fiction'),\n",
       " ('Fiction', 'Mystery'),\n",
       " (\"Children's literature\",\n",
       "  'Fiction',\n",
       "  'Science Fiction',\n",
       "  'Speculative fiction'),\n",
       " ('Fantasy', 'Fiction', 'Science Fiction', 'Speculative fiction'),\n",
       " ('Fiction', 'Mystery'),\n",
       " ('Short story',),\n",
       " ('Science Fiction', 'Speculative fiction'),\n",
       " (\"Children's literature\", 'Fiction', 'Speculative fiction'),\n",
       " ('Novel', 'Science Fiction', 'Speculative fiction'),\n",
       " ('Fiction', 'Novel'),\n",
       " ('Spy fiction',),\n",
       " ('Fiction', 'Historical fiction', 'Historical novel'),\n",
       " (\"Children's literature\", 'Fantasy', 'Fiction', 'Speculative fiction'),\n",
       " ('Novel', 'Speculative fiction'),\n",
       " ('Fantasy', 'Speculative fiction'),\n",
       " ('Alternate history', 'Science Fiction', 'Speculative fiction'),\n",
       " ('Non-fiction',),\n",
       " (\"Children's literature\", 'Fantasy', 'Fiction', 'Speculative fiction'),\n",
       " ('Novel', 'Spy fiction', 'Thriller'),\n",
       " (\"Children's literature\",\n",
       "  'Fantasy',\n",
       "  'Fiction',\n",
       "  'Science Fiction',\n",
       "  'Speculative fiction',\n",
       "  'Young adult literature'),\n",
       " ('Novel',),\n",
       " ('Historical novel', 'Speculative fiction'),\n",
       " ('Fiction',),\n",
       " (\"Children's literature\", 'Novel', 'Speculative fiction'),\n",
       " ('Fiction', 'Novel'),\n",
       " ('Historical novel', 'Novel'),\n",
       " ('Alternate history', 'Fantasy', 'Science Fiction', 'Speculative fiction'),\n",
       " ('Science Fiction', 'Speculative fiction'),\n",
       " ('Fantasy', 'Speculative fiction'),\n",
       " ('Fiction', 'Novel', 'Novella', 'Short story'),\n",
       " ('Novel', 'Speculative fiction'),\n",
       " ('Dystopia', 'Speculative fiction', 'Utopian and dystopian fiction'),\n",
       " ('Fiction', 'Historical fiction', 'Historical novel'),\n",
       " ('Fiction', 'Historical fiction', 'Historical novel'),\n",
       " ('Fiction', 'Historical fiction', 'Historical novel'),\n",
       " ('Fiction', 'Historical fiction', 'Historical novel'),\n",
       " ('Fiction', 'Historical fiction', 'Historical novel'),\n",
       " ('Historical novel',),\n",
       " ('Fiction', 'Historical fiction', 'Historical novel'),\n",
       " ('Fiction', 'Historical fiction', 'Historical novel'),\n",
       " ('Fiction', 'Historical novel'),\n",
       " ('Fiction', 'Historical fiction', 'Historical novel'),\n",
       " ('Fiction', 'Historical novel'),\n",
       " ('Fiction', 'Historical fiction', 'Historical novel'),\n",
       " ('Fiction', 'Historical fiction', 'Historical novel'),\n",
       " ('Fiction', 'Historical fiction', 'Historical novel', 'Mystery', 'Suspense'),\n",
       " ('Fantasy', 'Fiction', 'Horror', 'Science Fiction', 'Speculative fiction'),\n",
       " ('Fiction', 'Novel'),\n",
       " ('Fiction', 'Science Fiction', 'Speculative fiction'),\n",
       " ('Science Fiction',),\n",
       " ('Fiction', 'Novel', 'Speculative fiction'),\n",
       " ('Crime Fiction',),\n",
       " ('Fiction', 'Science Fiction', 'Speculative fiction'),\n",
       " (\"Children's literature\", 'Fantasy'),\n",
       " ('Fiction', 'Novel'),\n",
       " ('Novel',),\n",
       " ('Satire',),\n",
       " ('Satire',),\n",
       " ('Novel',),\n",
       " ('Novel',),\n",
       " ('Science Fiction', 'Speculative fiction'),\n",
       " ('Science Fiction',),\n",
       " ('Fiction', 'Mystery', 'Thriller', 'War novel'),\n",
       " ('Science Fiction', 'Speculative fiction'),\n",
       " ('Satire', 'Science Fiction', 'Speculative fiction'),\n",
       " ('Fantasy', 'Fiction', 'Science Fiction', 'Speculative fiction'),\n",
       " ('Fiction', 'Science Fiction', 'Speculative fiction'),\n",
       " ('Fiction',),\n",
       " (\"Children's literature\",\n",
       "  'Fiction',\n",
       "  'Speculative fiction',\n",
       "  'Young adult literature'),\n",
       " ('Fantasy', 'Fiction', 'Horror', 'Science Fiction', 'Speculative fiction'),\n",
       " (\"Children's literature\", 'Fiction'),\n",
       " ('Novel', 'Speculative fiction'),\n",
       " ('Science Fiction', 'Speculative fiction'),\n",
       " ('War novel',),\n",
       " ('Autobiography', 'Non-fiction'),\n",
       " ('Fiction', 'Science Fiction'),\n",
       " ('Fantasy', 'High fantasy', 'Speculative fiction'),\n",
       " ('Fiction', 'Novel'),\n",
       " (\"Children's literature\", 'Fiction', 'Novel'),\n",
       " ('Romance novel',),\n",
       " ('Science Fiction', 'Speculative fiction'),\n",
       " ...]"
      ]
     },
     "execution_count": 169,
     "metadata": {},
     "output_type": "execute_result"
    }
   ],
   "source": [
    "multilabel_binarizer.inverse_transform(y)"
   ]
  },
  {
   "cell_type": "code",
   "execution_count": 172,
   "metadata": {},
   "outputs": [],
   "source": [
    "y_pred2 = model.predict_proba(x_test_new)"
   ]
  },
  {
   "cell_type": "code",
   "execution_count": 173,
   "metadata": {},
   "outputs": [
    {
     "data": {
      "text/plain": [
       "array([0.        , 0.        , 0.        , 0.        , 0.        ,\n",
       "       0.        , 0.11375162, 0.        , 0.        , 0.07025838,\n",
       "       0.        , 0.01002889, 0.09487514, 0.24738148, 0.        ,\n",
       "       0.        , 0.04012751, 0.05536854, 0.        , 0.03939748,\n",
       "       0.        , 0.        , 0.08135166, 0.        , 0.17428659,\n",
       "       0.        , 0.        , 0.        , 0.17214702, 0.        ,\n",
       "       0.22657114, 0.        , 0.0358769 , 0.        , 0.07299057,\n",
       "       0.        , 0.        , 0.13347296], dtype=float32)"
      ]
     },
     "execution_count": 173,
     "metadata": {},
     "output_type": "execute_result"
    }
   ],
   "source": [
    "y_pred2[0]"
   ]
  },
  {
   "cell_type": "code",
   "execution_count": 174,
   "metadata": {},
   "outputs": [
    {
     "ename": "AttributeError",
     "evalue": "'list' object has no attribute 'shape'",
     "output_type": "error",
     "traceback": [
      "\u001b[0;31m---------------------------------------------------------------------------\u001b[0m",
      "\u001b[0;31mAttributeError\u001b[0m                            Traceback (most recent call last)",
      "\u001b[0;32m<ipython-input-174-9e9d0759c204>\u001b[0m in \u001b[0;36m<module>\u001b[0;34m\u001b[0m\n\u001b[0;32m----> 1\u001b[0;31m \u001b[0mpredictions\u001b[0m \u001b[0;34m=\u001b[0m \u001b[0mmultilabel_binarizer\u001b[0m\u001b[0;34m.\u001b[0m\u001b[0minverse_transform\u001b[0m\u001b[0;34m(\u001b[0m\u001b[0;34m[\u001b[0m\u001b[0mnp\u001b[0m\u001b[0;34m.\u001b[0m\u001b[0margmax\u001b[0m\u001b[0;34m(\u001b[0m\u001b[0mpred\u001b[0m\u001b[0;34m)\u001b[0m \u001b[0;32mfor\u001b[0m \u001b[0mpred\u001b[0m \u001b[0;32min\u001b[0m \u001b[0my_pred2\u001b[0m\u001b[0;34m]\u001b[0m\u001b[0;34m)\u001b[0m\u001b[0;34m\u001b[0m\u001b[0;34m\u001b[0m\u001b[0m\n\u001b[0m\u001b[1;32m      2\u001b[0m \u001b[0mpredictions\u001b[0m\u001b[0;34m\u001b[0m\u001b[0;34m\u001b[0m\u001b[0m\n",
      "\u001b[0;32m~/.local/lib/python3.8/site-packages/sklearn/preprocessing/_label.py\u001b[0m in \u001b[0;36minverse_transform\u001b[0;34m(self, yt)\u001b[0m\n\u001b[1;32m   1015\u001b[0m         \u001b[0mcheck_is_fitted\u001b[0m\u001b[0;34m(\u001b[0m\u001b[0mself\u001b[0m\u001b[0;34m)\u001b[0m\u001b[0;34m\u001b[0m\u001b[0;34m\u001b[0m\u001b[0m\n\u001b[1;32m   1016\u001b[0m \u001b[0;34m\u001b[0m\u001b[0m\n\u001b[0;32m-> 1017\u001b[0;31m         \u001b[0;32mif\u001b[0m \u001b[0myt\u001b[0m\u001b[0;34m.\u001b[0m\u001b[0mshape\u001b[0m\u001b[0;34m[\u001b[0m\u001b[0;36m1\u001b[0m\u001b[0;34m]\u001b[0m \u001b[0;34m!=\u001b[0m \u001b[0mlen\u001b[0m\u001b[0;34m(\u001b[0m\u001b[0mself\u001b[0m\u001b[0;34m.\u001b[0m\u001b[0mclasses_\u001b[0m\u001b[0;34m)\u001b[0m\u001b[0;34m:\u001b[0m\u001b[0;34m\u001b[0m\u001b[0;34m\u001b[0m\u001b[0m\n\u001b[0m\u001b[1;32m   1018\u001b[0m             raise ValueError('Expected indicator for {0} classes, but got {1}'\n\u001b[1;32m   1019\u001b[0m                              .format(len(self.classes_), yt.shape[1]))\n",
      "\u001b[0;31mAttributeError\u001b[0m: 'list' object has no attribute 'shape'"
     ]
    }
   ],
   "source": [
    "predictions = multilabel_binarizer.inverse_transform([np.argmax(pred) for pred in y_pred2])\n",
    "predictions"
   ]
  },
  {
   "cell_type": "code",
   "execution_count": null,
   "metadata": {},
   "outputs": [],
   "source": []
  }
 ],
 "metadata": {
  "kernelspec": {
   "display_name": "Python 3",
   "language": "python",
   "name": "python3"
  },
  "language_info": {
   "codemirror_mode": {
    "name": "ipython",
    "version": 3
   },
   "file_extension": ".py",
   "mimetype": "text/x-python",
   "name": "python",
   "nbconvert_exporter": "python",
   "pygments_lexer": "ipython3",
   "version": "3.8.2"
  }
 },
 "nbformat": 4,
 "nbformat_minor": 4
}
