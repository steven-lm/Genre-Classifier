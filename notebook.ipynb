{
 "cells": [
  {
   "cell_type": "code",
   "execution_count": 1,
   "metadata": {},
   "outputs": [
    {
     "name": "stderr",
     "output_type": "stream",
     "text": [
      "Using TensorFlow backend.\n"
     ]
    }
   ],
   "source": [
    "# Utility imports\n",
    "import pandas as pd\n",
    "import re as re\n",
    "import numpy as np\n",
    "import json\n",
    "\n",
    "# Plotting data\n",
    "import matplotlib.pyplot as plt \n",
    "import seaborn as sns\n",
    "\n",
    "# Preprocessing / Text cleaning\n",
    "import nltk\n",
    "from nltk.corpus import stopwords\n",
    "import string\n",
    "from nltk.tokenize import word_tokenize\n",
    "from sklearn.preprocessing import MultiLabelBinarizer\n",
    "from keras.preprocessing.text import Tokenizer\n",
    "from sklearn.feature_extraction.text import TfidfVectorizer\n",
    "from sklearn.model_selection import train_test_split\n",
    "\n",
    "# Models for comparison\n",
    "from sklearn.ensemble import RandomForestClassifier\n",
    "from sklearn.linear_model import LogisticRegression\n",
    "from sklearn.multiclass import OneVsRestClassifier\n",
    "\n",
    "# Keras\n",
    "from keras.preprocessing import sequence\n",
    "from keras.wrappers.scikit_learn import KerasClassifier\n",
    "from keras.models import Sequential\n",
    "from keras.layers import Dense\n",
    "from keras.layers.embeddings import Embedding\n",
    "from keras.layers import Flatten\n",
    "from keras.layers import Dropout\n",
    "\n",
    "# Gridsearch / metrics\n",
    "from sklearn.model_selection import GridSearchCV\n",
    "from sklearn.metrics import f1_score\n"
   ]
  },
  {
   "cell_type": "code",
   "execution_count": 2,
   "metadata": {},
   "outputs": [],
   "source": [
    "# Import data\n",
    "df = pd.read_csv('data/booksummaries.txt',sep='\\t', names = [\"Wiki ID\", \"Freebase ID\", \"Title\", \"Author\", \"Publication Date\", \"Genres\", \"Summary\" ])"
   ]
  },
  {
   "cell_type": "code",
   "execution_count": 3,
   "metadata": {
    "scrolled": true
   },
   "outputs": [
    {
     "data": {
      "text/html": [
       "<div>\n",
       "<style scoped>\n",
       "    .dataframe tbody tr th:only-of-type {\n",
       "        vertical-align: middle;\n",
       "    }\n",
       "\n",
       "    .dataframe tbody tr th {\n",
       "        vertical-align: top;\n",
       "    }\n",
       "\n",
       "    .dataframe thead th {\n",
       "        text-align: right;\n",
       "    }\n",
       "</style>\n",
       "<table border=\"1\" class=\"dataframe\">\n",
       "  <thead>\n",
       "    <tr style=\"text-align: right;\">\n",
       "      <th></th>\n",
       "      <th>Wiki ID</th>\n",
       "      <th>Freebase ID</th>\n",
       "      <th>Title</th>\n",
       "      <th>Author</th>\n",
       "      <th>Publication Date</th>\n",
       "      <th>Genres</th>\n",
       "      <th>Summary</th>\n",
       "    </tr>\n",
       "  </thead>\n",
       "  <tbody>\n",
       "    <tr>\n",
       "      <th>0</th>\n",
       "      <td>620</td>\n",
       "      <td>/m/0hhy</td>\n",
       "      <td>Animal Farm</td>\n",
       "      <td>George Orwell</td>\n",
       "      <td>1945-08-17</td>\n",
       "      <td>{\"/m/016lj8\": \"Roman \\u00e0 clef\", \"/m/06nbt\":...</td>\n",
       "      <td>Old Major, the old boar on the Manor Farm, ca...</td>\n",
       "    </tr>\n",
       "    <tr>\n",
       "      <th>1</th>\n",
       "      <td>843</td>\n",
       "      <td>/m/0k36</td>\n",
       "      <td>A Clockwork Orange</td>\n",
       "      <td>Anthony Burgess</td>\n",
       "      <td>1962</td>\n",
       "      <td>{\"/m/06n90\": \"Science Fiction\", \"/m/0l67h\": \"N...</td>\n",
       "      <td>Alex, a teenager living in near-future Englan...</td>\n",
       "    </tr>\n",
       "    <tr>\n",
       "      <th>2</th>\n",
       "      <td>986</td>\n",
       "      <td>/m/0ldx</td>\n",
       "      <td>The Plague</td>\n",
       "      <td>Albert Camus</td>\n",
       "      <td>1947</td>\n",
       "      <td>{\"/m/02m4t\": \"Existentialism\", \"/m/02xlf\": \"Fi...</td>\n",
       "      <td>The text of The Plague is divided into five p...</td>\n",
       "    </tr>\n",
       "    <tr>\n",
       "      <th>3</th>\n",
       "      <td>1756</td>\n",
       "      <td>/m/0sww</td>\n",
       "      <td>An Enquiry Concerning Human Understanding</td>\n",
       "      <td>David Hume</td>\n",
       "      <td>NaN</td>\n",
       "      <td>NaN</td>\n",
       "      <td>The argument of the Enquiry proceeds by a ser...</td>\n",
       "    </tr>\n",
       "    <tr>\n",
       "      <th>4</th>\n",
       "      <td>2080</td>\n",
       "      <td>/m/0wkt</td>\n",
       "      <td>A Fire Upon the Deep</td>\n",
       "      <td>Vernor Vinge</td>\n",
       "      <td>NaN</td>\n",
       "      <td>{\"/m/03lrw\": \"Hard science fiction\", \"/m/06n90...</td>\n",
       "      <td>The novel posits that space around the Milky ...</td>\n",
       "    </tr>\n",
       "  </tbody>\n",
       "</table>\n",
       "</div>"
      ],
      "text/plain": [
       "   Wiki ID Freebase ID                                      Title  \\\n",
       "0      620     /m/0hhy                                Animal Farm   \n",
       "1      843     /m/0k36                         A Clockwork Orange   \n",
       "2      986     /m/0ldx                                 The Plague   \n",
       "3     1756     /m/0sww  An Enquiry Concerning Human Understanding   \n",
       "4     2080     /m/0wkt                       A Fire Upon the Deep   \n",
       "\n",
       "            Author Publication Date  \\\n",
       "0    George Orwell       1945-08-17   \n",
       "1  Anthony Burgess             1962   \n",
       "2     Albert Camus             1947   \n",
       "3       David Hume              NaN   \n",
       "4     Vernor Vinge              NaN   \n",
       "\n",
       "                                              Genres  \\\n",
       "0  {\"/m/016lj8\": \"Roman \\u00e0 clef\", \"/m/06nbt\":...   \n",
       "1  {\"/m/06n90\": \"Science Fiction\", \"/m/0l67h\": \"N...   \n",
       "2  {\"/m/02m4t\": \"Existentialism\", \"/m/02xlf\": \"Fi...   \n",
       "3                                                NaN   \n",
       "4  {\"/m/03lrw\": \"Hard science fiction\", \"/m/06n90...   \n",
       "\n",
       "                                             Summary  \n",
       "0   Old Major, the old boar on the Manor Farm, ca...  \n",
       "1   Alex, a teenager living in near-future Englan...  \n",
       "2   The text of The Plague is divided into five p...  \n",
       "3   The argument of the Enquiry proceeds by a ser...  \n",
       "4   The novel posits that space around the Milky ...  "
      ]
     },
     "execution_count": 3,
     "metadata": {},
     "output_type": "execute_result"
    }
   ],
   "source": [
    "df.head()"
   ]
  },
  {
   "cell_type": "code",
   "execution_count": 4,
   "metadata": {},
   "outputs": [],
   "source": [
    "df = df[['Title', 'Genres', 'Summary']]"
   ]
  },
  {
   "cell_type": "markdown",
   "metadata": {},
   "source": [
    "Extract useful columns in the data into a dataframe "
   ]
  },
  {
   "cell_type": "code",
   "execution_count": 5,
   "metadata": {
    "scrolled": false
   },
   "outputs": [
    {
     "data": {
      "text/plain": [
       "Title         0\n",
       "Genres     3718\n",
       "Summary       0\n",
       "dtype: int64"
      ]
     },
     "execution_count": 5,
     "metadata": {},
     "output_type": "execute_result"
    }
   ],
   "source": [
    "df.isnull().sum()"
   ]
  },
  {
   "cell_type": "markdown",
   "metadata": {},
   "source": [
    "Check for any missing values, we see that there are 3718 in the Genres category"
   ]
  },
  {
   "cell_type": "code",
   "execution_count": 6,
   "metadata": {},
   "outputs": [],
   "source": [
    "df.dropna(subset=['Genres'], inplace=True)"
   ]
  },
  {
   "cell_type": "markdown",
   "metadata": {},
   "source": [
    "Drop these rows and check to ensure there are no more missing values"
   ]
  },
  {
   "cell_type": "code",
   "execution_count": 7,
   "metadata": {},
   "outputs": [
    {
     "data": {
      "text/plain": [
       "Title      0\n",
       "Genres     0\n",
       "Summary    0\n",
       "dtype: int64"
      ]
     },
     "execution_count": 7,
     "metadata": {},
     "output_type": "execute_result"
    }
   ],
   "source": [
    "df.isnull().sum()"
   ]
  },
  {
   "cell_type": "code",
   "execution_count": 8,
   "metadata": {
    "scrolled": true
   },
   "outputs": [
    {
     "data": {
      "text/plain": [
       "(12841, 3)"
      ]
     },
     "execution_count": 8,
     "metadata": {},
     "output_type": "execute_result"
    }
   ],
   "source": [
    "df.shape"
   ]
  },
  {
   "cell_type": "code",
   "execution_count": 9,
   "metadata": {},
   "outputs": [
    {
     "data": {
      "text/plain": [
       "'{\"/m/016lj8\": \"Roman \\\\u00e0 clef\", \"/m/06nbt\": \"Satire\", \"/m/0dwly\": \"Children\\'s literature\", \"/m/014dfn\": \"Speculative fiction\", \"/m/02xlf\": \"Fiction\"}'"
      ]
     },
     "execution_count": 9,
     "metadata": {},
     "output_type": "execute_result"
    }
   ],
   "source": [
    "df.Genres[0]"
   ]
  },
  {
   "cell_type": "markdown",
   "metadata": {},
   "source": [
    "There are Freebase ID tags at the beginning of each genre tag, to remove we will use json loads."
   ]
  },
  {
   "cell_type": "code",
   "execution_count": 10,
   "metadata": {},
   "outputs": [
    {
     "data": {
      "text/plain": [
       "str"
      ]
     },
     "execution_count": 10,
     "metadata": {},
     "output_type": "execute_result"
    }
   ],
   "source": [
    "type(df.Genres[0])"
   ]
  },
  {
   "cell_type": "code",
   "execution_count": 11,
   "metadata": {},
   "outputs": [
    {
     "data": {
      "text/plain": [
       "dict"
      ]
     },
     "execution_count": 11,
     "metadata": {},
     "output_type": "execute_result"
    }
   ],
   "source": [
    "type(json.loads(df['Genres'][0]))"
   ]
  },
  {
   "cell_type": "code",
   "execution_count": 12,
   "metadata": {},
   "outputs": [
    {
     "data": {
      "text/plain": [
       "dict_values(['Roman à clef', 'Satire', \"Children's literature\", 'Speculative fiction', 'Fiction'])"
      ]
     },
     "execution_count": 12,
     "metadata": {},
     "output_type": "execute_result"
    }
   ],
   "source": [
    "json.loads(df['Genres'][0]).values()"
   ]
  },
  {
   "cell_type": "code",
   "execution_count": 13,
   "metadata": {},
   "outputs": [],
   "source": [
    "genres = []\n",
    "\n",
    "for i in df['Genres']: \n",
    "  genres.append(list(json.loads(i).values())) \n",
    "\n",
    "# Add to 'genres' dataframe  \n",
    "df['Genres'] = genres"
   ]
  },
  {
   "cell_type": "code",
   "execution_count": 14,
   "metadata": {},
   "outputs": [
    {
     "data": {
      "text/plain": [
       "227"
      ]
     },
     "execution_count": 14,
     "metadata": {},
     "output_type": "execute_result"
    }
   ],
   "source": [
    "# get all genre tags in a list\n",
    "all_genres = sum(genres,[])\n",
    "len(set(all_genres))"
   ]
  },
  {
   "cell_type": "markdown",
   "metadata": {},
   "source": [
    "Count the number of different genres that exist in our dataframe"
   ]
  },
  {
   "cell_type": "code",
   "execution_count": 15,
   "metadata": {},
   "outputs": [],
   "source": [
    "all_genres = nltk.FreqDist(all_genres) \n",
    "\n",
    "# Create a new dataframe with Unique genres and their counts\n",
    "all_genres_df = pd.DataFrame({'Genre': list(all_genres.keys()), \n",
    "                              'Count': list(all_genres.values())})"
   ]
  },
  {
   "cell_type": "code",
   "execution_count": 16,
   "metadata": {},
   "outputs": [
    {
     "data": {
      "text/html": [
       "<div>\n",
       "<style scoped>\n",
       "    .dataframe tbody tr th:only-of-type {\n",
       "        vertical-align: middle;\n",
       "    }\n",
       "\n",
       "    .dataframe tbody tr th {\n",
       "        vertical-align: top;\n",
       "    }\n",
       "\n",
       "    .dataframe thead th {\n",
       "        text-align: right;\n",
       "    }\n",
       "</style>\n",
       "<table border=\"1\" class=\"dataframe\">\n",
       "  <thead>\n",
       "    <tr style=\"text-align: right;\">\n",
       "      <th></th>\n",
       "      <th>Genre</th>\n",
       "      <th>Count</th>\n",
       "    </tr>\n",
       "  </thead>\n",
       "  <tbody>\n",
       "    <tr>\n",
       "      <th>0</th>\n",
       "      <td>Roman à clef</td>\n",
       "      <td>29</td>\n",
       "    </tr>\n",
       "    <tr>\n",
       "      <th>1</th>\n",
       "      <td>Satire</td>\n",
       "      <td>123</td>\n",
       "    </tr>\n",
       "    <tr>\n",
       "      <th>2</th>\n",
       "      <td>Children's literature</td>\n",
       "      <td>2122</td>\n",
       "    </tr>\n",
       "    <tr>\n",
       "      <th>3</th>\n",
       "      <td>Speculative fiction</td>\n",
       "      <td>4314</td>\n",
       "    </tr>\n",
       "    <tr>\n",
       "      <th>4</th>\n",
       "      <td>Fiction</td>\n",
       "      <td>4747</td>\n",
       "    </tr>\n",
       "  </tbody>\n",
       "</table>\n",
       "</div>"
      ],
      "text/plain": [
       "                   Genre  Count\n",
       "0           Roman à clef     29\n",
       "1                 Satire    123\n",
       "2  Children's literature   2122\n",
       "3    Speculative fiction   4314\n",
       "4                Fiction   4747"
      ]
     },
     "execution_count": 16,
     "metadata": {},
     "output_type": "execute_result"
    }
   ],
   "source": [
    "all_genres_df.head()"
   ]
  },
  {
   "cell_type": "code",
   "execution_count": 17,
   "metadata": {
    "scrolled": false
   },
   "outputs": [
    {
     "data": {
      "text/html": [
       "<div>\n",
       "<style scoped>\n",
       "    .dataframe tbody tr th:only-of-type {\n",
       "        vertical-align: middle;\n",
       "    }\n",
       "\n",
       "    .dataframe tbody tr th {\n",
       "        vertical-align: top;\n",
       "    }\n",
       "\n",
       "    .dataframe thead th {\n",
       "        text-align: right;\n",
       "    }\n",
       "</style>\n",
       "<table border=\"1\" class=\"dataframe\">\n",
       "  <thead>\n",
       "    <tr style=\"text-align: right;\">\n",
       "      <th></th>\n",
       "      <th>Genre</th>\n",
       "      <th>Count</th>\n",
       "    </tr>\n",
       "  </thead>\n",
       "  <tbody>\n",
       "    <tr>\n",
       "      <th>4</th>\n",
       "      <td>Fiction</td>\n",
       "      <td>4747</td>\n",
       "    </tr>\n",
       "    <tr>\n",
       "      <th>3</th>\n",
       "      <td>Speculative fiction</td>\n",
       "      <td>4314</td>\n",
       "    </tr>\n",
       "    <tr>\n",
       "      <th>5</th>\n",
       "      <td>Science Fiction</td>\n",
       "      <td>2870</td>\n",
       "    </tr>\n",
       "    <tr>\n",
       "      <th>10</th>\n",
       "      <td>Novel</td>\n",
       "      <td>2463</td>\n",
       "    </tr>\n",
       "    <tr>\n",
       "      <th>12</th>\n",
       "      <td>Fantasy</td>\n",
       "      <td>2413</td>\n",
       "    </tr>\n",
       "    <tr>\n",
       "      <th>...</th>\n",
       "      <td>...</td>\n",
       "      <td>...</td>\n",
       "    </tr>\n",
       "    <tr>\n",
       "      <th>187</th>\n",
       "      <td>Fable</td>\n",
       "      <td>1</td>\n",
       "    </tr>\n",
       "    <tr>\n",
       "      <th>188</th>\n",
       "      <td>Bangsian fantasy</td>\n",
       "      <td>1</td>\n",
       "    </tr>\n",
       "    <tr>\n",
       "      <th>189</th>\n",
       "      <td>Space western</td>\n",
       "      <td>1</td>\n",
       "    </tr>\n",
       "    <tr>\n",
       "      <th>194</th>\n",
       "      <td>Fantastique</td>\n",
       "      <td>1</td>\n",
       "    </tr>\n",
       "    <tr>\n",
       "      <th>226</th>\n",
       "      <td>Pastiche</td>\n",
       "      <td>1</td>\n",
       "    </tr>\n",
       "  </tbody>\n",
       "</table>\n",
       "<p>227 rows × 2 columns</p>\n",
       "</div>"
      ],
      "text/plain": [
       "                   Genre  Count\n",
       "4                Fiction   4747\n",
       "3    Speculative fiction   4314\n",
       "5        Science Fiction   2870\n",
       "10                 Novel   2463\n",
       "12               Fantasy   2413\n",
       "..                   ...    ...\n",
       "187                Fable      1\n",
       "188     Bangsian fantasy      1\n",
       "189        Space western      1\n",
       "194          Fantastique      1\n",
       "226             Pastiche      1\n",
       "\n",
       "[227 rows x 2 columns]"
      ]
     },
     "execution_count": 17,
     "metadata": {},
     "output_type": "execute_result"
    }
   ],
   "source": [
    "all_genres_df.sort_values(by='Count', ascending = False)"
   ]
  },
  {
   "cell_type": "code",
   "execution_count": 18,
   "metadata": {
    "scrolled": false
   },
   "outputs": [
    {
     "data": {
      "image/png": "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\n",
      "text/plain": [
       "<Figure size 432x288 with 1 Axes>"
      ]
     },
     "metadata": {
      "needs_background": "light"
     },
     "output_type": "display_data"
    }
   ],
   "source": [
    "g = all_genres_df.nlargest(columns=\"Count\", n = 15) \n",
    "plt.figure() \n",
    "ax = sns.barplot(data=g, x= \"Count\", y = \"Genre\") \n",
    "ax.set(ylabel = 'Genre') \n",
    "plt.show()"
   ]
  },
  {
   "cell_type": "markdown",
   "metadata": {},
   "source": [
    "Plot the frequency distribution of every genre"
   ]
  },
  {
   "cell_type": "code",
   "execution_count": 19,
   "metadata": {},
   "outputs": [],
   "source": [
    "all_genres_df = all_genres_df.to_dict()"
   ]
  },
  {
   "cell_type": "code",
   "execution_count": 20,
   "metadata": {},
   "outputs": [],
   "source": [
    "low_freq = []\n",
    "for i in range(len(all_genres_df['Count'])):\n",
    "    if all_genres_df['Count'][i] <= 50:\n",
    "        low_freq.append(all_genres_df['Genre'][i])"
   ]
  },
  {
   "cell_type": "code",
   "execution_count": 21,
   "metadata": {},
   "outputs": [
    {
     "data": {
      "text/plain": [
       "189"
      ]
     },
     "execution_count": 21,
     "metadata": {},
     "output_type": "execute_result"
    }
   ],
   "source": [
    "len(low_freq)"
   ]
  },
  {
   "cell_type": "code",
   "execution_count": 22,
   "metadata": {},
   "outputs": [],
   "source": [
    "df = df.reset_index(drop=True)"
   ]
  },
  {
   "cell_type": "code",
   "execution_count": 23,
   "metadata": {
    "scrolled": true
   },
   "outputs": [
    {
     "data": {
      "text/html": [
       "<div>\n",
       "<style scoped>\n",
       "    .dataframe tbody tr th:only-of-type {\n",
       "        vertical-align: middle;\n",
       "    }\n",
       "\n",
       "    .dataframe tbody tr th {\n",
       "        vertical-align: top;\n",
       "    }\n",
       "\n",
       "    .dataframe thead th {\n",
       "        text-align: right;\n",
       "    }\n",
       "</style>\n",
       "<table border=\"1\" class=\"dataframe\">\n",
       "  <thead>\n",
       "    <tr style=\"text-align: right;\">\n",
       "      <th></th>\n",
       "      <th>Title</th>\n",
       "      <th>Genres</th>\n",
       "      <th>Summary</th>\n",
       "    </tr>\n",
       "  </thead>\n",
       "  <tbody>\n",
       "    <tr>\n",
       "      <th>0</th>\n",
       "      <td>Animal Farm</td>\n",
       "      <td>[Roman à clef, Satire, Children's literature, ...</td>\n",
       "      <td>Old Major, the old boar on the Manor Farm, ca...</td>\n",
       "    </tr>\n",
       "    <tr>\n",
       "      <th>1</th>\n",
       "      <td>A Clockwork Orange</td>\n",
       "      <td>[Science Fiction, Novella, Speculative fiction...</td>\n",
       "      <td>Alex, a teenager living in near-future Englan...</td>\n",
       "    </tr>\n",
       "    <tr>\n",
       "      <th>2</th>\n",
       "      <td>The Plague</td>\n",
       "      <td>[Existentialism, Fiction, Absurdist fiction, N...</td>\n",
       "      <td>The text of The Plague is divided into five p...</td>\n",
       "    </tr>\n",
       "    <tr>\n",
       "      <th>3</th>\n",
       "      <td>A Fire Upon the Deep</td>\n",
       "      <td>[Hard science fiction, Science Fiction, Specul...</td>\n",
       "      <td>The novel posits that space around the Milky ...</td>\n",
       "    </tr>\n",
       "    <tr>\n",
       "      <th>4</th>\n",
       "      <td>All Quiet on the Western Front</td>\n",
       "      <td>[War novel, Roman à clef]</td>\n",
       "      <td>The book tells the story of Paul Bäumer, a Ge...</td>\n",
       "    </tr>\n",
       "  </tbody>\n",
       "</table>\n",
       "</div>"
      ],
      "text/plain": [
       "                            Title  \\\n",
       "0                     Animal Farm   \n",
       "1              A Clockwork Orange   \n",
       "2                      The Plague   \n",
       "3            A Fire Upon the Deep   \n",
       "4  All Quiet on the Western Front   \n",
       "\n",
       "                                              Genres  \\\n",
       "0  [Roman à clef, Satire, Children's literature, ...   \n",
       "1  [Science Fiction, Novella, Speculative fiction...   \n",
       "2  [Existentialism, Fiction, Absurdist fiction, N...   \n",
       "3  [Hard science fiction, Science Fiction, Specul...   \n",
       "4                          [War novel, Roman à clef]   \n",
       "\n",
       "                                             Summary  \n",
       "0   Old Major, the old boar on the Manor Farm, ca...  \n",
       "1   Alex, a teenager living in near-future Englan...  \n",
       "2   The text of The Plague is divided into five p...  \n",
       "3   The novel posits that space around the Milky ...  \n",
       "4   The book tells the story of Paul Bäumer, a Ge...  "
      ]
     },
     "execution_count": 23,
     "metadata": {},
     "output_type": "execute_result"
    }
   ],
   "source": [
    "df.head()"
   ]
  },
  {
   "cell_type": "code",
   "execution_count": 24,
   "metadata": {},
   "outputs": [],
   "source": [
    "index_delete = []\n",
    "for word in low_freq:\n",
    "    for i in range(len(df.Genres)):\n",
    "        if word in df.Genres[i]:\n",
    "            if i not in index_delete:\n",
    "                index_delete.append(i)        "
   ]
  },
  {
   "cell_type": "code",
   "execution_count": 25,
   "metadata": {},
   "outputs": [],
   "source": [
    "df.drop(index_delete , inplace=True)"
   ]
  },
  {
   "cell_type": "code",
   "execution_count": 26,
   "metadata": {},
   "outputs": [
    {
     "data": {
      "text/plain": [
       "(11283, 3)"
      ]
     },
     "execution_count": 26,
     "metadata": {},
     "output_type": "execute_result"
    }
   ],
   "source": [
    "df.shape"
   ]
  },
  {
   "cell_type": "markdown",
   "metadata": {},
   "source": [
    "Remove genres that contain less than 50 books"
   ]
  },
  {
   "cell_type": "code",
   "execution_count": 27,
   "metadata": {
    "scrolled": false
   },
   "outputs": [
    {
     "data": {
      "text/html": [
       "<div>\n",
       "<style scoped>\n",
       "    .dataframe tbody tr th:only-of-type {\n",
       "        vertical-align: middle;\n",
       "    }\n",
       "\n",
       "    .dataframe tbody tr th {\n",
       "        vertical-align: top;\n",
       "    }\n",
       "\n",
       "    .dataframe thead th {\n",
       "        text-align: right;\n",
       "    }\n",
       "</style>\n",
       "<table border=\"1\" class=\"dataframe\">\n",
       "  <thead>\n",
       "    <tr style=\"text-align: right;\">\n",
       "      <th></th>\n",
       "      <th>Title</th>\n",
       "      <th>Genres</th>\n",
       "      <th>Summary</th>\n",
       "    </tr>\n",
       "  </thead>\n",
       "  <tbody>\n",
       "    <tr>\n",
       "      <th>1</th>\n",
       "      <td>A Clockwork Orange</td>\n",
       "      <td>[Science Fiction, Novella, Speculative fiction...</td>\n",
       "      <td>Alex, a teenager living in near-future Englan...</td>\n",
       "    </tr>\n",
       "    <tr>\n",
       "      <th>6</th>\n",
       "      <td>Blade Runner 3: Replicant Night</td>\n",
       "      <td>[Science Fiction, Speculative fiction]</td>\n",
       "      <td>Living on Mars, Deckard is acting as a consul...</td>\n",
       "    </tr>\n",
       "    <tr>\n",
       "      <th>7</th>\n",
       "      <td>Blade Runner 2: The Edge of Human</td>\n",
       "      <td>[Science Fiction, Speculative fiction]</td>\n",
       "      <td>Beginning several months after the events in ...</td>\n",
       "    </tr>\n",
       "    <tr>\n",
       "      <th>9</th>\n",
       "      <td>Crash</td>\n",
       "      <td>[Speculative fiction, Fiction, Novel]</td>\n",
       "      <td>The story is told through the eyes of narrato...</td>\n",
       "    </tr>\n",
       "    <tr>\n",
       "      <th>10</th>\n",
       "      <td>Children of Dune</td>\n",
       "      <td>[Science Fiction, Speculative fiction, Childre...</td>\n",
       "      <td>Nine years after Emperor Paul Muad'dib walked...</td>\n",
       "    </tr>\n",
       "  </tbody>\n",
       "</table>\n",
       "</div>"
      ],
      "text/plain": [
       "                                Title  \\\n",
       "1                  A Clockwork Orange   \n",
       "6     Blade Runner 3: Replicant Night   \n",
       "7   Blade Runner 2: The Edge of Human   \n",
       "9                               Crash   \n",
       "10                   Children of Dune   \n",
       "\n",
       "                                               Genres  \\\n",
       "1   [Science Fiction, Novella, Speculative fiction...   \n",
       "6              [Science Fiction, Speculative fiction]   \n",
       "7              [Science Fiction, Speculative fiction]   \n",
       "9               [Speculative fiction, Fiction, Novel]   \n",
       "10  [Science Fiction, Speculative fiction, Childre...   \n",
       "\n",
       "                                              Summary  \n",
       "1    Alex, a teenager living in near-future Englan...  \n",
       "6    Living on Mars, Deckard is acting as a consul...  \n",
       "7    Beginning several months after the events in ...  \n",
       "9    The story is told through the eyes of narrato...  \n",
       "10   Nine years after Emperor Paul Muad'dib walked...  "
      ]
     },
     "execution_count": 27,
     "metadata": {},
     "output_type": "execute_result"
    }
   ],
   "source": [
    "df.head()"
   ]
  },
  {
   "cell_type": "code",
   "execution_count": 28,
   "metadata": {},
   "outputs": [],
   "source": [
    "df = df.reset_index(drop=True)"
   ]
  },
  {
   "cell_type": "code",
   "execution_count": 29,
   "metadata": {},
   "outputs": [],
   "source": [
    "# Create new list for genres\n",
    "genres = []\n",
    "\n",
    "# Extract genres\n",
    "for i in range(len(df['Genres'])): \n",
    "  genres.append(df['Genres'][i]) "
   ]
  },
  {
   "cell_type": "code",
   "execution_count": 30,
   "metadata": {},
   "outputs": [
    {
     "data": {
      "text/plain": [
       "38"
      ]
     },
     "execution_count": 30,
     "metadata": {},
     "output_type": "execute_result"
    }
   ],
   "source": [
    "# Get all genre tags in a list\n",
    "\n",
    "all_genres = sum(genres,[])\n",
    "len(set(all_genres))"
   ]
  },
  {
   "cell_type": "markdown",
   "metadata": {},
   "source": [
    "New number of unique genres"
   ]
  },
  {
   "cell_type": "code",
   "execution_count": 31,
   "metadata": {
    "scrolled": true
   },
   "outputs": [
    {
     "name": "stdout",
     "output_type": "stream",
     "text": [
      "{'War novel', 'Non-fiction', 'Humour', 'Techno-thriller', 'High fantasy', \"Children's literature\", 'Suspense', 'Alternate history', 'Fantasy', 'Historical novel', 'Horror', 'Crime Fiction', 'Speculative fiction', 'Novella', 'Fiction', 'Spy fiction', 'Detective fiction', 'Romance novel', 'Memoir', 'Young adult literature', 'Comedy', 'Apocalyptic and post-apocalyptic fiction', 'Science Fiction', 'Biography', 'Dystopia', 'Thriller', 'History', 'Novel', 'Autobiographical novel', 'Mystery', 'Satire', 'Historical fiction', 'Short story', 'Gothic fiction', 'Autobiography', 'Utopian and dystopian fiction', 'Adventure novel', 'Comic novel'}\n"
     ]
    }
   ],
   "source": [
    "print(set(all_genres))"
   ]
  },
  {
   "cell_type": "code",
   "execution_count": 32,
   "metadata": {},
   "outputs": [
    {
     "data": {
      "text/plain": [
       "6"
      ]
     },
     "execution_count": 32,
     "metadata": {},
     "output_type": "execute_result"
    }
   ],
   "source": [
    "fiction_sub = ['Spy fiction', 'Gothic fiction', 'Historical fiction', 'Detective fiction', 'Utopian and dystopian fiction', 'Speculative fiction']\n",
    "len(fiction_sub)"
   ]
  },
  {
   "cell_type": "code",
   "execution_count": 33,
   "metadata": {},
   "outputs": [],
   "source": [
    "def clean_fiction(Genres):\n",
    "    for i in Genres:\n",
    "        if i in fiction_sub:\n",
    "            if 'Fantasy' not in Genres:\n",
    "                Genres.append('Fantasy')\n",
    "                Genres.remove(i)\n",
    "            else:\n",
    "                Genres.remove(i)\n",
    "    return Genres\n",
    "    "
   ]
  },
  {
   "cell_type": "code",
   "execution_count": 34,
   "metadata": {},
   "outputs": [],
   "source": [
    "df['Genres'] = df['Genres'].apply(lambda x: clean_fiction(x))\n",
    "df['Genres'] = df['Genres'].apply(lambda x: clean_fiction(x))"
   ]
  },
  {
   "cell_type": "markdown",
   "metadata": {},
   "source": [
    "Combine some fiction subgenres with 'Fiction' (Except some large sub genres such as Science Fiction)."
   ]
  },
  {
   "cell_type": "code",
   "execution_count": 35,
   "metadata": {},
   "outputs": [
    {
     "data": {
      "text/plain": [
       "0        [Science Fiction, Novella, Satire, Fiction, Fa...\n",
       "1                               [Science Fiction, Fantasy]\n",
       "2                               [Science Fiction, Fantasy]\n",
       "3                                [Fiction, Novel, Fantasy]\n",
       "4        [Science Fiction, Children's literature, Ficti...\n",
       "                               ...                        \n",
       "11278                    [Young adult literature, Fantasy]\n",
       "11279                                    [Science Fiction]\n",
       "11280                        [Thriller, Fiction, Suspense]\n",
       "11281                                  [Thriller, Fiction]\n",
       "11282                                      [Autobiography]\n",
       "Name: Genres, Length: 11283, dtype: object"
      ]
     },
     "execution_count": 35,
     "metadata": {},
     "output_type": "execute_result"
    }
   ],
   "source": [
    "df.Genres"
   ]
  },
  {
   "cell_type": "code",
   "execution_count": 36,
   "metadata": {},
   "outputs": [],
   "source": [
    "all_genres = nltk.FreqDist(all_genres) \n",
    "\n",
    "# create dataframe\n",
    "all_genres_df = pd.DataFrame({'Genre': list(all_genres.keys()), \n",
    "                              'Count': list(all_genres.values())})"
   ]
  },
  {
   "cell_type": "code",
   "execution_count": 37,
   "metadata": {},
   "outputs": [
    {
     "data": {
      "text/html": [
       "<div>\n",
       "<style scoped>\n",
       "    .dataframe tbody tr th:only-of-type {\n",
       "        vertical-align: middle;\n",
       "    }\n",
       "\n",
       "    .dataframe tbody tr th {\n",
       "        vertical-align: top;\n",
       "    }\n",
       "\n",
       "    .dataframe thead th {\n",
       "        text-align: right;\n",
       "    }\n",
       "</style>\n",
       "<table border=\"1\" class=\"dataframe\">\n",
       "  <thead>\n",
       "    <tr style=\"text-align: right;\">\n",
       "      <th></th>\n",
       "      <th>Genre</th>\n",
       "      <th>Count</th>\n",
       "    </tr>\n",
       "  </thead>\n",
       "  <tbody>\n",
       "    <tr>\n",
       "      <th>0</th>\n",
       "      <td>Science Fiction</td>\n",
       "      <td>2615</td>\n",
       "    </tr>\n",
       "    <tr>\n",
       "      <th>1</th>\n",
       "      <td>Novella</td>\n",
       "      <td>73</td>\n",
       "    </tr>\n",
       "    <tr>\n",
       "      <th>2</th>\n",
       "      <td>Speculative fiction</td>\n",
       "      <td>3893</td>\n",
       "    </tr>\n",
       "    <tr>\n",
       "      <th>3</th>\n",
       "      <td>Utopian and dystopian fiction</td>\n",
       "      <td>52</td>\n",
       "    </tr>\n",
       "    <tr>\n",
       "      <th>4</th>\n",
       "      <td>Satire</td>\n",
       "      <td>82</td>\n",
       "    </tr>\n",
       "  </tbody>\n",
       "</table>\n",
       "</div>"
      ],
      "text/plain": [
       "                           Genre  Count\n",
       "0                Science Fiction   2615\n",
       "1                        Novella     73\n",
       "2            Speculative fiction   3893\n",
       "3  Utopian and dystopian fiction     52\n",
       "4                         Satire     82"
      ]
     },
     "execution_count": 37,
     "metadata": {},
     "output_type": "execute_result"
    }
   ],
   "source": [
    "all_genres_df.head()"
   ]
  },
  {
   "cell_type": "code",
   "execution_count": 38,
   "metadata": {
    "scrolled": true
   },
   "outputs": [
    {
     "data": {
      "text/html": [
       "<div>\n",
       "<style scoped>\n",
       "    .dataframe tbody tr th:only-of-type {\n",
       "        vertical-align: middle;\n",
       "    }\n",
       "\n",
       "    .dataframe tbody tr th {\n",
       "        vertical-align: top;\n",
       "    }\n",
       "\n",
       "    .dataframe thead th {\n",
       "        text-align: right;\n",
       "    }\n",
       "</style>\n",
       "<table border=\"1\" class=\"dataframe\">\n",
       "  <thead>\n",
       "    <tr style=\"text-align: right;\">\n",
       "      <th></th>\n",
       "      <th>Genre</th>\n",
       "      <th>Count</th>\n",
       "    </tr>\n",
       "  </thead>\n",
       "  <tbody>\n",
       "    <tr>\n",
       "      <th>0</th>\n",
       "      <td>Fiction</td>\n",
       "      <td>4191</td>\n",
       "    </tr>\n",
       "    <tr>\n",
       "      <th>1</th>\n",
       "      <td>Speculative fiction</td>\n",
       "      <td>3893</td>\n",
       "    </tr>\n",
       "    <tr>\n",
       "      <th>2</th>\n",
       "      <td>Science Fiction</td>\n",
       "      <td>2615</td>\n",
       "    </tr>\n",
       "    <tr>\n",
       "      <th>3</th>\n",
       "      <td>Novel</td>\n",
       "      <td>2263</td>\n",
       "    </tr>\n",
       "    <tr>\n",
       "      <th>4</th>\n",
       "      <td>Fantasy</td>\n",
       "      <td>2176</td>\n",
       "    </tr>\n",
       "  </tbody>\n",
       "</table>\n",
       "</div>"
      ],
      "text/plain": [
       "                 Genre  Count\n",
       "0              Fiction   4191\n",
       "1  Speculative fiction   3893\n",
       "2      Science Fiction   2615\n",
       "3                Novel   2263\n",
       "4              Fantasy   2176"
      ]
     },
     "execution_count": 38,
     "metadata": {},
     "output_type": "execute_result"
    }
   ],
   "source": [
    "all_genres_df = all_genres_df.sort_values(by='Count', ascending = False)\n",
    "all_genres_df = all_genres_df.reset_index(drop=True)\n",
    "all_genres_df.head()"
   ]
  },
  {
   "cell_type": "markdown",
   "metadata": {},
   "source": [
    "New frequency distribution of genres"
   ]
  },
  {
   "cell_type": "code",
   "execution_count": 39,
   "metadata": {},
   "outputs": [
    {
     "data": {
      "text/plain": [
       "' Alex, a teenager living in near-future England, leads his gang on nightly orgies of opportunistic, random \"ultra-violence.\" Alex\\'s friends (\"droogs\" in the novel\\'s Anglo-Russian slang, Nadsat) are: Dim, a slow-witted bruiser who is the gang\\'s muscle; Georgie, an ambitious second-in-command; and Pet'"
      ]
     },
     "execution_count": 39,
     "metadata": {},
     "output_type": "execute_result"
    }
   ],
   "source": [
    "df.Summary[0][:300]"
   ]
  },
  {
   "cell_type": "code",
   "execution_count": 40,
   "metadata": {},
   "outputs": [],
   "source": [
    "def clean_text(text):\n",
    "    \n",
    "    # change all letters to lower case\n",
    "    text = text.lower()\n",
    "    \n",
    "    # remove all numbers from text\n",
    "    text = re.sub(r'\\d+', '', text)\n",
    "    \n",
    "    # remove all white spaces from text\n",
    "    text = text.strip()\n",
    "    \n",
    "    # remove all punctuation from text\n",
    "    text = text.translate(str.maketrans('', '', string.punctuation))\n",
    "    \n",
    "    return text"
   ]
  },
  {
   "cell_type": "code",
   "execution_count": 41,
   "metadata": {
    "scrolled": true
   },
   "outputs": [],
   "source": [
    "df['Summary'] = df['Summary'].apply(lambda x: clean_text(x))"
   ]
  },
  {
   "cell_type": "code",
   "execution_count": 42,
   "metadata": {},
   "outputs": [
    {
     "data": {
      "text/plain": [
       "'alex a teenager living in nearfuture england leads his gang on nightly orgies of opportunistic random ultraviolence alexs friends droogs in the novels anglorussian slang nadsat are dim a slowwitted bruiser who is the gangs muscle georgie an ambitious secondincommand and pete who mostly plays along a'"
      ]
     },
     "execution_count": 42,
     "metadata": {},
     "output_type": "execute_result"
    }
   ],
   "source": [
    "df.Summary[0][:300]"
   ]
  },
  {
   "cell_type": "markdown",
   "metadata": {},
   "source": [
    "Begin cleaning text"
   ]
  },
  {
   "cell_type": "code",
   "execution_count": 43,
   "metadata": {
    "scrolled": true
   },
   "outputs": [],
   "source": [
    "word_freq = df.Summary.str.split(expand=True).stack().value_counts().rename_axis('Word').reset_index(name='Frequency')"
   ]
  },
  {
   "cell_type": "code",
   "execution_count": 44,
   "metadata": {},
   "outputs": [
    {
     "data": {
      "text/html": [
       "<div>\n",
       "<style scoped>\n",
       "    .dataframe tbody tr th:only-of-type {\n",
       "        vertical-align: middle;\n",
       "    }\n",
       "\n",
       "    .dataframe tbody tr th {\n",
       "        vertical-align: top;\n",
       "    }\n",
       "\n",
       "    .dataframe thead th {\n",
       "        text-align: right;\n",
       "    }\n",
       "</style>\n",
       "<table border=\"1\" class=\"dataframe\">\n",
       "  <thead>\n",
       "    <tr style=\"text-align: right;\">\n",
       "      <th></th>\n",
       "      <th>Word</th>\n",
       "      <th>Frequency</th>\n",
       "    </tr>\n",
       "  </thead>\n",
       "  <tbody>\n",
       "    <tr>\n",
       "      <th>0</th>\n",
       "      <td>the</td>\n",
       "      <td>341480</td>\n",
       "    </tr>\n",
       "    <tr>\n",
       "      <th>1</th>\n",
       "      <td>to</td>\n",
       "      <td>173240</td>\n",
       "    </tr>\n",
       "    <tr>\n",
       "      <th>2</th>\n",
       "      <td>and</td>\n",
       "      <td>165964</td>\n",
       "    </tr>\n",
       "    <tr>\n",
       "      <th>3</th>\n",
       "      <td>of</td>\n",
       "      <td>133069</td>\n",
       "    </tr>\n",
       "    <tr>\n",
       "      <th>4</th>\n",
       "      <td>a</td>\n",
       "      <td>127906</td>\n",
       "    </tr>\n",
       "  </tbody>\n",
       "</table>\n",
       "</div>"
      ],
      "text/plain": [
       "  Word  Frequency\n",
       "0  the     341480\n",
       "1   to     173240\n",
       "2  and     165964\n",
       "3   of     133069\n",
       "4    a     127906"
      ]
     },
     "execution_count": 44,
     "metadata": {},
     "output_type": "execute_result"
    }
   ],
   "source": [
    "word_freq.head()"
   ]
  },
  {
   "cell_type": "code",
   "execution_count": 45,
   "metadata": {},
   "outputs": [
    {
     "data": {
      "image/png": "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\n",
      "text/plain": [
       "<Figure size 432x288 with 1 Axes>"
      ]
     },
     "metadata": {
      "needs_background": "light"
     },
     "output_type": "display_data"
    }
   ],
   "source": [
    "g = word_freq.nlargest(columns=\"Frequency\", n = 15) \n",
    "plt.figure() \n",
    "ax = sns.barplot(data=g, x= \"Frequency\", y = \"Word\") \n",
    "ax.set(ylabel = 'Word') \n",
    "plt.show()"
   ]
  },
  {
   "cell_type": "markdown",
   "metadata": {},
   "source": [
    "By plotting the most frequent words, we observe that many of them are not useful for classifying genres"
   ]
  },
  {
   "cell_type": "code",
   "execution_count": 46,
   "metadata": {},
   "outputs": [],
   "source": [
    "def remove_stopwords(text):\n",
    "    # cache stopwords to run faster\n",
    "    cachedStopWords = stopwords.words(\"english\")   \n",
    "    \n",
    "    text_tokens = word_tokenize(text)\n",
    "    \n",
    "    # remove all stopwords\n",
    "    text = [word for word in text_tokens if word not in cachedStopWords]\n",
    "    \n",
    "    # remove words with less than 3 characters\n",
    "    text = [word for word in text if len(word) >= 3]\n",
    "    text = ' '.join(text)\n",
    "    \n",
    "    return text\n",
    "\n",
    "df['Summary'] = df['Summary'].apply(lambda x: remove_stopwords(x))"
   ]
  },
  {
   "cell_type": "markdown",
   "metadata": {},
   "source": [
    "To resolve this, we will remove stopwords using nltk's library and also remove any words with less than 3 characters"
   ]
  },
  {
   "cell_type": "code",
   "execution_count": 47,
   "metadata": {},
   "outputs": [
    {
     "data": {
      "text/plain": [
       "'alex teenager living nearfuture england leads gang nightly orgies opportunistic random ultraviolence alexs friends droogs novels anglorussian slang nadsat dim slowwitted bruiser gangs muscle georgie ambitious secondincommand pete mostly plays along droogs indulge taste ultraviolence characterized so'"
      ]
     },
     "execution_count": 47,
     "metadata": {},
     "output_type": "execute_result"
    }
   ],
   "source": [
    "df.Summary[0][:300]"
   ]
  },
  {
   "cell_type": "code",
   "execution_count": 48,
   "metadata": {
    "scrolled": true
   },
   "outputs": [],
   "source": [
    "new_word_freq = df.Summary.str.split(expand=True).stack().value_counts().rename_axis('Word').reset_index(name='Frequency')"
   ]
  },
  {
   "cell_type": "code",
   "execution_count": 49,
   "metadata": {},
   "outputs": [
    {
     "data": {
      "image/png": "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\n",
      "text/plain": [
       "<Figure size 432x288 with 1 Axes>"
      ]
     },
     "metadata": {
      "needs_background": "light"
     },
     "output_type": "display_data"
    }
   ],
   "source": [
    "g = new_word_freq.nlargest(columns=\"Frequency\", n = 15) \n",
    "plt.figure() \n",
    "ax = sns.barplot(data=g, x= \"Frequency\", y = \"Word\") \n",
    "ax.set(ylabel = 'Word') \n",
    "plt.show()"
   ]
  },
  {
   "cell_type": "markdown",
   "metadata": {},
   "source": [
    "After doing so, the new word frequency distribution looks much better"
   ]
  },
  {
   "cell_type": "code",
   "execution_count": 50,
   "metadata": {},
   "outputs": [],
   "source": [
    "df.to_csv('data/clean_data.csv', index = False)"
   ]
  },
  {
   "cell_type": "code",
   "execution_count": 51,
   "metadata": {},
   "outputs": [
    {
     "data": {
      "text/plain": [
       "(119882, 2)"
      ]
     },
     "execution_count": 51,
     "metadata": {},
     "output_type": "execute_result"
    }
   ],
   "source": [
    "new_word_freq.shape"
   ]
  },
  {
   "cell_type": "code",
   "execution_count": 52,
   "metadata": {},
   "outputs": [],
   "source": [
    "multilabel_binarizer = MultiLabelBinarizer()\n",
    "multilabel_binarizer.fit(df['Genres'])\n",
    "y = multilabel_binarizer.transform(df['Genres'])"
   ]
  },
  {
   "cell_type": "markdown",
   "metadata": {},
   "source": [
    "To prepare our genres for classification, we must encode them using a multilabel binarizer"
   ]
  },
  {
   "cell_type": "code",
   "execution_count": 53,
   "metadata": {},
   "outputs": [
    {
     "data": {
      "text/plain": [
       "array([0, 0, 0, 0, 0, 0, 0, 0, 0, 0, 0, 1, 1, 0, 0, 0, 0, 0, 0, 0, 0, 0,\n",
       "       1, 0, 1, 1, 0, 0, 0, 0, 0, 0])"
      ]
     },
     "execution_count": 53,
     "metadata": {},
     "output_type": "execute_result"
    }
   ],
   "source": [
    "y[0]"
   ]
  },
  {
   "cell_type": "code",
   "execution_count": 54,
   "metadata": {},
   "outputs": [
    {
     "data": {
      "text/plain": [
       "0.3714437649561287"
      ]
     },
     "execution_count": 54,
     "metadata": {},
     "output_type": "execute_result"
    }
   ],
   "source": [
    "all_genres_df['Count'][0]/len(df.Genres) # No. Fiction books / All books"
   ]
  },
  {
   "cell_type": "markdown",
   "metadata": {},
   "source": [
    "For a baseline comparison, I will compare our models to simply guessing the most frequent genre which is Fiction. If we were to predict fiction for every book, it would achieve a 37% success rate."
   ]
  },
  {
   "cell_type": "code",
   "execution_count": 55,
   "metadata": {},
   "outputs": [],
   "source": [
    "x_train, x_test, y_train, y_test = train_test_split(df['Summary'], y, test_size=0.2, random_state=1)"
   ]
  },
  {
   "cell_type": "markdown",
   "metadata": {},
   "source": [
    "Split the data into training/test data. I have used a 80-20 test/train split."
   ]
  },
  {
   "cell_type": "code",
   "execution_count": 56,
   "metadata": {},
   "outputs": [],
   "source": [
    "tfidf_vectorizer = TfidfVectorizer(max_df=0.8, max_features=10000)\n",
    "x_train_vec = tfidf_vectorizer.fit_transform(x_train).astype('float32')\n",
    "x_test_vec = tfidf_vectorizer.transform(x_test).astype('float32')"
   ]
  },
  {
   "cell_type": "markdown",
   "metadata": {},
   "source": [
    "To use our summaries as features, We must encode them into vectors. We will use use sklearn's tfidf vectorizer with a max threshhold of 0.8 and using only 10000 max features."
   ]
  },
  {
   "cell_type": "code",
   "execution_count": 57,
   "metadata": {
    "scrolled": true
   },
   "outputs": [
    {
     "name": "stdout",
     "output_type": "stream",
     "text": [
      "f1 score (RD):  0.38312718046305105\n"
     ]
    }
   ],
   "source": [
    "rd = RandomForestClassifier()\n",
    "clf = OneVsRestClassifier(rd)\n",
    "\n",
    "clf.fit(x_train_vec, y_train)\n",
    "y_pred = clf.predict(x_test_vec)\n",
    "\n",
    "print('f1 score (RD): ', f1_score(y_test, y_pred, average=\"micro\"))"
   ]
  },
  {
   "cell_type": "markdown",
   "metadata": {},
   "source": [
    "For the first comparison, We will use a OneVsRest Random forest classifier. For these model comparisons, accuracy is not an optimal metric since we have multiple labels so we will be using their f1 scores instead."
   ]
  },
  {
   "cell_type": "code",
   "execution_count": 58,
   "metadata": {},
   "outputs": [
    {
     "name": "stdout",
     "output_type": "stream",
     "text": [
      "f1 score (LR):  0.4353906962602615\n"
     ]
    }
   ],
   "source": [
    "lr = LogisticRegression()\n",
    "clf = OneVsRestClassifier(lr)\n",
    "\n",
    "# Fit model on train data\n",
    "clf.fit(x_train_vec, y_train)\n",
    "\n",
    "# make predictions for test set\n",
    "y_pred = clf.predict(x_test_vec)\n",
    "\n",
    "print('f1 score (LR): ',f1_score(y_test, y_pred, average = 'micro'))"
   ]
  },
  {
   "cell_type": "markdown",
   "metadata": {},
   "source": [
    "The OneVsRest Logic regression classifier is slightly better"
   ]
  },
  {
   "cell_type": "code",
   "execution_count": 59,
   "metadata": {},
   "outputs": [],
   "source": [
    "tk = Tokenizer(num_words=None, filters='!\"#$%&()*+,-./:;<=>?@[\\\\]^_`{|}~\\t\\n', lower=True, split=\" \")\n",
    "tk.fit_on_texts(x_train)\n",
    "\n",
    "x_train_new = tk.texts_to_sequences(x_train)\n",
    "x_test_new = tk.texts_to_sequences(x_test)"
   ]
  },
  {
   "cell_type": "markdown",
   "metadata": {},
   "source": [
    "To prepare our text data for the neural network, we must tokenize the words and create a word index using keras's tokenizer."
   ]
  },
  {
   "cell_type": "code",
   "execution_count": 60,
   "metadata": {},
   "outputs": [
    {
     "name": "stdout",
     "output_type": "stream",
     "text": [
      "one, 1 \n",
      "time, 2 \n",
      "also, 3 \n",
      "two, 4 \n",
      "new, 5 \n"
     ]
    }
   ],
   "source": [
    "for x in list(tk.word_index)[0:5]:\n",
    "    print (\"{}, {} \".format(x,  tk.word_index[x]))"
   ]
  },
  {
   "cell_type": "markdown",
   "metadata": {},
   "source": [
    "First 5 words of the index, the most frequent words appear first"
   ]
  },
  {
   "cell_type": "code",
   "execution_count": 61,
   "metadata": {},
   "outputs": [],
   "source": [
    "x_train_new = sequence.pad_sequences(x_train_new, maxlen= 500, padding='pre')\n",
    "x_test_new = sequence.pad_sequences(x_test_new, maxlen= 500, padding='pre')"
   ]
  },
  {
   "cell_type": "markdown",
   "metadata": {},
   "source": [
    "Pad the inputs to a maximum length of 500 characters"
   ]
  },
  {
   "cell_type": "code",
   "execution_count": 62,
   "metadata": {},
   "outputs": [],
   "source": [
    "max_features = len(tk.word_index) + 1"
   ]
  },
  {
   "cell_type": "code",
   "execution_count": 63,
   "metadata": {},
   "outputs": [],
   "source": [
    "def build_model():\n",
    "    model = Sequential()\n",
    "    model.add(Embedding(max_features, 32, input_length=500))\n",
    "    model.add(Flatten())\n",
    "    model.add(Dense(60, activation='relu'))\n",
    "    model.add(Dense(32, activation='sigmoid'))\n",
    "    model.compile(loss='binary_crossentropy',optimizer='adam', metrics=['accuracy'])\n",
    "    print(model.summary())\n",
    "    return model"
   ]
  },
  {
   "cell_type": "code",
   "execution_count": 64,
   "metadata": {},
   "outputs": [
    {
     "name": "stdout",
     "output_type": "stream",
     "text": [
      "Model: \"sequential_1\"\n",
      "_________________________________________________________________\n",
      "Layer (type)                 Output Shape              Param #   \n",
      "=================================================================\n",
      "embedding_1 (Embedding)      (None, 500, 32)           3374624   \n",
      "_________________________________________________________________\n",
      "flatten_1 (Flatten)          (None, 16000)             0         \n",
      "_________________________________________________________________\n",
      "dense_1 (Dense)              (None, 60)                960060    \n",
      "_________________________________________________________________\n",
      "dense_2 (Dense)              (None, 32)                1952      \n",
      "=================================================================\n",
      "Total params: 4,336,636\n",
      "Trainable params: 4,336,636\n",
      "Non-trainable params: 0\n",
      "_________________________________________________________________\n",
      "None\n"
     ]
    }
   ],
   "source": [
    "model = build_model()"
   ]
  },
  {
   "cell_type": "markdown",
   "metadata": {},
   "source": [
    "/// GRIDSEARCH for tuning neural network (specifically for finding optimal batch size and epoch count). I only used 4000 samples for this with 2 cross validation folds because my computer is unable to process more. ///"
   ]
  },
  {
   "cell_type": "code",
   "execution_count": null,
   "metadata": {},
   "outputs": [],
   "source": [
    "x_train_g = x_train_new[:4000]\n",
    "y_train_g = y_train[:4000]\n",
    "\n",
    "model2 = KerasClassifier(build_fn=build_model, verbose=0)\n",
    "batch_size = [25, 30, 50]\n",
    "epochs = [2, 3, 4, 6, 8]\n",
    "param_grid = dict(batch_size=batch_size, epochs=epochs)\n",
    "grid = GridSearchCV(estimator=model2, param_grid=param_grid, n_jobs=-1, cv=2)\n",
    "grid_result = grid.fit(x_train_g[:3200], y_train_g[:3200], validation_data=(x_train_g[3200:], y_train_g[3200:]))\n",
    "\n",
    "# summarize results\n",
    "print(\"Best: %f using %s\" % (grid_result.best_score_, grid_result.best_params_))\n",
    "\n",
    "means = grid_result.cv_results_['mean_test_score']\n",
    "stds = grid_result.cv_results_['std_test_score']\n",
    "params = grid_result.cv_results_['params']\n",
    "for mean, stdev, param in zip(means, stds, params):\n",
    "    print(\"%f (%f) with: %r\" % (mean, stdev, param))"
   ]
  },
  {
   "cell_type": "code",
   "execution_count": 66,
   "metadata": {
    "scrolled": true
   },
   "outputs": [
    {
     "name": "stderr",
     "output_type": "stream",
     "text": [
      "/home/steven/.local/lib/python3.8/site-packages/tensorflow/python/framework/indexed_slices.py:433: UserWarning: Converting sparse IndexedSlices to a dense Tensor of unknown shape. This may consume a large amount of memory.\n",
      "  warnings.warn(\n"
     ]
    },
    {
     "name": "stdout",
     "output_type": "stream",
     "text": [
      "Train on 9026 samples, validate on 2257 samples\n",
      "Epoch 1/2\n",
      "9026/9026 [==============================] - 12s 1ms/step - loss: 0.1868 - accuracy: 0.9327 - val_loss: 0.1637 - val_accuracy: 0.9405\n",
      "Epoch 2/2\n",
      "9026/9026 [==============================] - 11s 1ms/step - loss: 0.1375 - accuracy: 0.9502 - val_loss: 0.1488 - val_accuracy: 0.9454\n"
     ]
    }
   ],
   "source": [
    "final_model = model.fit(x_train_new, y_train, validation_data=(x_test_new, y_test), epochs=2, batch_size= 25)"
   ]
  },
  {
   "cell_type": "markdown",
   "metadata": {},
   "source": [
    "Build and fit model"
   ]
  },
  {
   "cell_type": "code",
   "execution_count": 67,
   "metadata": {
    "scrolled": true
   },
   "outputs": [
    {
     "data": {
      "text/plain": [
       "[]"
      ]
     },
     "execution_count": 67,
     "metadata": {},
     "output_type": "execute_result"
    },
    {
     "data": {
      "image/png": "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\n",
      "text/plain": [
       "<Figure size 432x288 with 1 Axes>"
      ]
     },
     "metadata": {},
     "output_type": "display_data"
    }
   ],
   "source": [
    "sns.set()\n",
    "acc = final_model.history['accuracy']\n",
    "val = final_model.history['val_accuracy']\n",
    "epochs = range(1, len(acc) + 1)\n",
    "\n",
    "plt.plot(epochs, acc, '-', label='Training accuracy')\n",
    "plt.plot(epochs, val, ':', label='Validation accuracy')\n",
    "plt.title('Training and Validation Accuracy')\n",
    "plt.xlabel('Epoch')\n",
    "plt.ylabel('Accuracy')\n",
    "plt.legend(loc='upper left')\n",
    "plt.plot()"
   ]
  },
  {
   "cell_type": "markdown",
   "metadata": {},
   "source": [
    "Visualize the training/validation accuracy over epochs "
   ]
  },
  {
   "cell_type": "code",
   "execution_count": 68,
   "metadata": {},
   "outputs": [],
   "source": [
    "out = model.predict(x_test_new)"
   ]
  },
  {
   "cell_type": "code",
   "execution_count": 69,
   "metadata": {},
   "outputs": [
    {
     "data": {
      "text/plain": [
       "(2257, 32)"
      ]
     },
     "execution_count": 69,
     "metadata": {},
     "output_type": "execute_result"
    }
   ],
   "source": [
    "out.shape"
   ]
  },
  {
   "cell_type": "code",
   "execution_count": 70,
   "metadata": {},
   "outputs": [
    {
     "data": {
      "text/plain": [
       "array([2.0839274e-02, 4.6777993e-02, 4.3803453e-03, 1.6391277e-03,\n",
       "       2.0693541e-03, 4.5275688e-03, 1.3450527e-01, 1.0968149e-03,\n",
       "       1.9004047e-03, 9.6082687e-04, 9.3995333e-03, 8.6551344e-01,\n",
       "       1.9676927e-01, 3.0808747e-03, 1.7971367e-02, 1.4607906e-03,\n",
       "       3.4056485e-02, 8.4721381e-05, 5.1498413e-04, 3.9186180e-03,\n",
       "       1.6483068e-03, 1.3986689e-01, 1.5055031e-02, 1.0227233e-02,\n",
       "       3.5238564e-03, 8.2845259e-01, 5.0540864e-03, 1.2927055e-03,\n",
       "       2.5069118e-03, 2.6707560e-02, 1.3350248e-03, 3.5312235e-02],\n",
       "      dtype=float32)"
      ]
     },
     "execution_count": 70,
     "metadata": {},
     "output_type": "execute_result"
    }
   ],
   "source": [
    "out[0]"
   ]
  },
  {
   "cell_type": "code",
   "execution_count": 71,
   "metadata": {},
   "outputs": [],
   "source": [
    "out = np.array(out)\n",
    "y_pred = np.zeros(out.shape)\n",
    "y_pred[out>0.2]=1\n",
    "y_pred = np.array(y_pred)"
   ]
  },
  {
   "cell_type": "code",
   "execution_count": 72,
   "metadata": {
    "scrolled": true
   },
   "outputs": [
    {
     "name": "stdout",
     "output_type": "stream",
     "text": [
      "f1 score (NN):  0.507624429135382\n"
     ]
    }
   ],
   "source": [
    "print(\"f1 score (NN): \", f1_score(y_pred,y_test, average = 'micro'))"
   ]
  },
  {
   "cell_type": "markdown",
   "metadata": {},
   "source": [
    "Using a neural network results in a higher f1 score than the previous two models"
   ]
  },
  {
   "cell_type": "code",
   "execution_count": 73,
   "metadata": {},
   "outputs": [
    {
     "name": "stdout",
     "output_type": "stream",
     "text": [
      "Accuracy (NN): 94.54%\n"
     ]
    }
   ],
   "source": [
    "scores = model.evaluate(x_test_new, y_test, verbose=0)\n",
    "print(\"Accuracy (NN): %.2f%%\" % (scores[1] * 100))"
   ]
  },
  {
   "cell_type": "markdown",
   "metadata": {},
   "source": [
    "Accuracy score"
   ]
  },
  {
   "cell_type": "code",
   "execution_count": 74,
   "metadata": {},
   "outputs": [
    {
     "data": {
      "text/plain": [
       "(\"Children's literature\",\n",
       " 'Crime Fiction',\n",
       " 'Fantasy',\n",
       " 'Fiction',\n",
       " 'Mystery',\n",
       " 'Novel',\n",
       " 'Suspense')"
      ]
     },
     "execution_count": 74,
     "metadata": {},
     "output_type": "execute_result"
    }
   ],
   "source": [
    "multilabel_binarizer.inverse_transform(y_pred)[10]"
   ]
  },
  {
   "cell_type": "code",
   "execution_count": 75,
   "metadata": {},
   "outputs": [
    {
     "data": {
      "text/plain": [
       "('Crime Fiction', 'Fantasy', 'Mystery', 'Suspense')"
      ]
     },
     "execution_count": 75,
     "metadata": {},
     "output_type": "execute_result"
    }
   ],
   "source": [
    "multilabel_binarizer.inverse_transform(y_test)[10]"
   ]
  },
  {
   "cell_type": "markdown",
   "metadata": {},
   "source": [
    "Output prediction/actual genre for a random test"
   ]
  },
  {
   "cell_type": "code",
   "execution_count": 76,
   "metadata": {},
   "outputs": [],
   "source": [
    "title_list = df.Title.to_list()"
   ]
  },
  {
   "cell_type": "markdown",
   "metadata": {},
   "source": [
    "Prepare a list of all titles in our dataset for use in our inference function"
   ]
  },
  {
   "cell_type": "code",
   "execution_count": 78,
   "metadata": {},
   "outputs": [],
   "source": [
    "with open('data/titles.txt', 'w') as f:\n",
    "    for title in title_list:\n",
    "        f.write(\"%s\\n\" % title)"
   ]
  },
  {
   "cell_type": "code",
   "execution_count": 79,
   "metadata": {},
   "outputs": [],
   "source": [
    "def inference_predict(title):\n",
    "    # If title is not in dataframe\n",
    "    if title not in title_list:\n",
    "        print('Title not found.')\n",
    "        return\n",
    "    index = title_list.index(title)\n",
    "    actual_genre = df.Genres[index]\n",
    "    p_summary = [df.Summary[index]]\n",
    "    \n",
    "    convert = tk.texts_to_sequences(p_summary)\n",
    "    convert = sequence.pad_sequences(convert, maxlen= 500, padding='pre')\n",
    "    #print(convert[0])\n",
    "    \n",
    "    output = model.predict(convert)\n",
    "    output = np.array(output)\n",
    "    #print(output.shape)\n",
    "    prediction = np.zeros(output.shape)\n",
    "    prediction[output>0.2]=1\n",
    "    prediction = np.array(prediction)\n",
    "    \n",
    "    print('Title: ', title)\n",
    "    print('Predicted Genres: ', multilabel_binarizer.inverse_transform(prediction)[0])\n",
    "    print('Actual Genres: ', actual_genre)"
   ]
  },
  {
   "cell_type": "markdown",
   "metadata": {},
   "source": [
    "The inference function takes a book title name as an input and searches our title list to see if it exists in the dataframe. If it exists, it will extract the already cleaned summary and make a prediciton out of it which we can then compare to the actual genres."
   ]
  },
  {
   "cell_type": "code",
   "execution_count": 80,
   "metadata": {},
   "outputs": [
    {
     "name": "stdout",
     "output_type": "stream",
     "text": [
      "Title:  Ender's Game\n",
      "Predicted Genres:  ('Fantasy', 'Fiction', 'Science Fiction')\n",
      "Actual Genres:  ['Science Fiction', 'Fiction', 'Fantasy']\n"
     ]
    }
   ],
   "source": [
    "inference_predict(\"Ender's Game\")"
   ]
  },
  {
   "cell_type": "code",
   "execution_count": 81,
   "metadata": {},
   "outputs": [
    {
     "name": "stdout",
     "output_type": "stream",
     "text": [
      "Title:  Clockwork Angel\n",
      "Predicted Genres:  (\"Children's literature\", 'Fantasy', 'Historical novel', 'Novel', 'Romance novel', 'Young adult literature')\n",
      "Actual Genres:  ['Fantasy', 'Young adult literature', 'Romance novel']\n"
     ]
    }
   ],
   "source": [
    "inference_predict(\"Clockwork Angel\")"
   ]
  },
  {
   "cell_type": "code",
   "execution_count": 82,
   "metadata": {},
   "outputs": [
    {
     "name": "stdout",
     "output_type": "stream",
     "text": [
      "Title:  Dead Air\n",
      "Predicted Genres:  ('Fiction', 'Mystery', 'Novel')\n",
      "Actual Genres:  ['Fiction', 'Novel']\n"
     ]
    }
   ],
   "source": [
    "inference_predict(\"Dead Air\")"
   ]
  },
  {
   "cell_type": "code",
   "execution_count": 83,
   "metadata": {},
   "outputs": [
    {
     "name": "stdout",
     "output_type": "stream",
     "text": [
      "Title:  Spartan\n",
      "Predicted Genres:  ('Fantasy', 'Novel')\n",
      "Actual Genres:  ['Historical novel']\n"
     ]
    }
   ],
   "source": [
    "inference_predict(\"Spartan\")"
   ]
  },
  {
   "cell_type": "code",
   "execution_count": 84,
   "metadata": {},
   "outputs": [],
   "source": [
    "word_index = [word for word in tk.word_index]"
   ]
  },
  {
   "cell_type": "code",
   "execution_count": 85,
   "metadata": {},
   "outputs": [],
   "source": [
    "def analyse(text):\n",
    "    # Clean input text\n",
    "    text = clean_text(text)\n",
    "    text = remove_stopwords(text)  \n",
    "    text = text.split()\n",
    "\n",
    "    # Convert text for Neural network\n",
    "    text = [word for word in text if word in word_index]\n",
    "    text = [' '.join(text)]\n",
    "    convert = tk.texts_to_sequences(text)\n",
    "    convert = sequence.pad_sequences(convert, maxlen= 500, padding='pre')\n",
    "\n",
    "    # Make prediction\n",
    "    output = model.predict(convert)\n",
    "    output = np.array(output)\n",
    "    prediction = np.zeros(output.shape)\n",
    "    prediction[output>0.2]=1\n",
    "    prediction = np.array(prediction)\n",
    "    \n",
    "    #print('Clean input: ', text)\n",
    "    print('Predicted Genres: ', multilabel_binarizer.inverse_transform(prediction)[0]) "
   ]
  },
  {
   "cell_type": "markdown",
   "metadata": {},
   "source": [
    "This function takes in our own summary input to predict genres. To test this I have copied a plot summary of 'Woman in White' from Wikipedia and saved it to a file for input. "
   ]
  },
  {
   "cell_type": "code",
   "execution_count": 86,
   "metadata": {},
   "outputs": [
    {
     "name": "stdout",
     "output_type": "stream",
     "text": [
      "Woman in white in data?  False\n",
      "Predicted Genres:  ('Fiction', 'Mystery', 'Novel')\n"
     ]
    }
   ],
   "source": [
    "print('Woman in white in data? ', 'The Woman in White' in title_list)\n",
    "with open('data/WIM_plot.txt', 'r') as file:\n",
    "    summary1 = file.read().replace('\\n', '')\n",
    "    analyse(summary1)"
   ]
  },
  {
   "cell_type": "markdown",
   "metadata": {},
   "source": [
    "First we check if our custom input book does not exist in the dataframe, then we will predict It's genres. The actual genres for this book are Novel, Fiction, Gothic and Mystery so we can say this prediction is considerably accurate."
   ]
  },
 ],
 "metadata": {
  "kernelspec": {
   "display_name": "Python 3",
   "language": "python",
   "name": "python3"
  },
  "language_info": {
   "codemirror_mode": {
    "name": "ipython",
    "version": 3
   },
   "file_extension": ".py",
   "mimetype": "text/x-python",
   "name": "python",
   "nbconvert_exporter": "python",
   "pygments_lexer": "ipython3",
   "version": "3.8.2"
  }
 },
 "nbformat": 4,
 "nbformat_minor": 4
}
